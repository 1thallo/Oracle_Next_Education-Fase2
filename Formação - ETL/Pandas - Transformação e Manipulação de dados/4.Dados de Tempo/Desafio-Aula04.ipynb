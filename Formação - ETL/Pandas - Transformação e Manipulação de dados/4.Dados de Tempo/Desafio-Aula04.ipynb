{
 "cells": [
  {
   "cell_type": "markdown",
   "id": "b8b728b8",
   "metadata": {},
   "source": [
    "Nessa aula, aprendemos a manipular os dados temporais através do tipo datetime. Entendemos como transformar uma coluna para datetime e, depois, manipulamos esses dados. Mesmo assim, nem todos os dados do conjunto moveis_disponiveis.json foram tratados.\n",
    "\n",
    "Durante as aulas desse curso, descobrimos como transformar e trabalhar com valores numéricos, por exemplo, removendo valores numéricos dentro de um texto e transformando-os em um tipo numérico, como int64 ou float64.\n",
    "\n",
    "Sabendo disso, nessa atividade, proponho que você faça a transformação dos dados na coluna preco do conjunto de dados moveis_disponiveis.json para o tipo numérico float64. Lembrando que, antes de fazer isso, você precisa preencher os valores vazios na coluna por um valor. Uma sugestão: substitua pela string '0.0'.\n"
   ]
  },
  {
   "cell_type": "code",
   "execution_count": 1,
   "id": "f409ff9f",
   "metadata": {},
   "outputs": [],
   "source": [
    "import numpy as np\n",
    "import pandas as pd\n",
    "\n",
    "dt_data = pd.read_json('https://cdn3.gnarususercontent.com.br/2928-transformacao-manipulacao-dados/moveis_disponiveis.json')"
   ]
  },
  {
   "cell_type": "code",
   "execution_count": 2,
   "id": "841909e5",
   "metadata": {},
   "outputs": [
    {
     "name": "stderr",
     "output_type": "stream",
     "text": [
      "C:\\Users\\ithal\\AppData\\Local\\Temp\\ipykernel_15156\\249873284.py:1: FutureWarning: A value is trying to be set on a copy of a DataFrame or Series through chained assignment using an inplace method.\n",
      "The behavior will change in pandas 3.0. This inplace method will never work because the intermediate object on which we are setting values always behaves as a copy.\n",
      "\n",
      "For example, when doing 'df[col].method(value, inplace=True)', try using 'df.method({col: value}, inplace=True)' or df[col] = df[col].method(value) instead, to perform the operation inplace on the original object.\n",
      "\n",
      "\n",
      "  dt_data['preco'].fillna('0.0', inplace = True)\n"
     ]
    }
   ],
   "source": [
    "dt_data['preco'].fillna('0.0', inplace = True)"
   ]
  },
  {
   "cell_type": "code",
   "execution_count": 3,
   "id": "aa1cafb8",
   "metadata": {},
   "outputs": [],
   "source": [
    "dt_data['preco'] = dt_data['preco'].apply(lambda x: x.replace('$', '').replace(',',''))"
   ]
  },
  {
   "cell_type": "code",
   "execution_count": 4,
   "id": "f5ea9036",
   "metadata": {},
   "outputs": [
    {
     "data": {
      "application/vnd.microsoft.datawrangler.viewer.v0+json": {
       "columns": [
        {
         "name": "index",
         "rawType": "int64",
         "type": "integer"
        },
        {
         "name": "id",
         "rawType": "int64",
         "type": "integer"
        },
        {
         "name": "data",
         "rawType": "object",
         "type": "string"
        },
        {
         "name": "vaga_disponivel",
         "rawType": "bool",
         "type": "boolean"
        },
        {
         "name": "preco",
         "rawType": "float64",
         "type": "float"
        }
       ],
       "ref": "2b840166-d7bd-4577-a0d9-427eb2c497e2",
       "rows": [
        [
         "0",
         "857",
         "2016-01-04",
         "False",
         "0.0"
        ],
        [
         "1",
         "857",
         "2016-01-05",
         "False",
         "0.0"
        ],
        [
         "2",
         "857",
         "2016-01-06",
         "False",
         "0.0"
        ],
        [
         "3",
         "857",
         "2016-01-07",
         "False",
         "0.0"
        ],
        [
         "4",
         "857",
         "2016-01-08",
         "False",
         "0.0"
        ],
        [
         "5",
         "857",
         "2016-01-09",
         "False",
         "0.0"
        ],
        [
         "6",
         "857",
         "2016-01-10",
         "False",
         "0.0"
        ],
        [
         "7",
         "857",
         "2016-01-11",
         "False",
         "0.0"
        ],
        [
         "8",
         "857",
         "2016-01-12",
         "False",
         "0.0"
        ],
        [
         "9",
         "857",
         "2016-01-13",
         "False",
         "0.0"
        ],
        [
         "10",
         "857",
         "2016-01-14",
         "False",
         "0.0"
        ],
        [
         "11",
         "857",
         "2016-01-15",
         "False",
         "0.0"
        ],
        [
         "12",
         "857",
         "2016-01-16",
         "False",
         "0.0"
        ],
        [
         "13",
         "857",
         "2016-01-17",
         "False",
         "0.0"
        ],
        [
         "14",
         "857",
         "2016-01-18",
         "False",
         "0.0"
        ],
        [
         "15",
         "857",
         "2016-01-19",
         "False",
         "0.0"
        ],
        [
         "16",
         "857",
         "2016-01-20",
         "False",
         "0.0"
        ],
        [
         "17",
         "857",
         "2016-01-21",
         "False",
         "0.0"
        ],
        [
         "18",
         "857",
         "2016-01-22",
         "False",
         "0.0"
        ],
        [
         "19",
         "857",
         "2016-01-23",
         "False",
         "0.0"
        ],
        [
         "20",
         "857",
         "2016-01-24",
         "False",
         "0.0"
        ],
        [
         "21",
         "857",
         "2016-01-25",
         "False",
         "0.0"
        ],
        [
         "22",
         "857",
         "2016-01-26",
         "False",
         "0.0"
        ],
        [
         "23",
         "857",
         "2016-01-27",
         "False",
         "0.0"
        ],
        [
         "24",
         "857",
         "2016-01-28",
         "False",
         "0.0"
        ],
        [
         "25",
         "857",
         "2016-01-29",
         "False",
         "0.0"
        ],
        [
         "26",
         "857",
         "2016-01-30",
         "False",
         "0.0"
        ],
        [
         "27",
         "857",
         "2016-01-31",
         "False",
         "0.0"
        ],
        [
         "28",
         "857",
         "2016-02-01",
         "False",
         "0.0"
        ],
        [
         "29",
         "857",
         "2016-02-02",
         "False",
         "0.0"
        ],
        [
         "30",
         "857",
         "2016-02-03",
         "False",
         "0.0"
        ],
        [
         "31",
         "857",
         "2016-02-04",
         "False",
         "0.0"
        ],
        [
         "32",
         "857",
         "2016-02-05",
         "False",
         "0.0"
        ],
        [
         "33",
         "857",
         "2016-02-06",
         "False",
         "0.0"
        ],
        [
         "34",
         "857",
         "2016-02-07",
         "False",
         "0.0"
        ],
        [
         "35",
         "857",
         "2016-02-08",
         "False",
         "0.0"
        ],
        [
         "36",
         "857",
         "2016-02-09",
         "False",
         "0.0"
        ],
        [
         "37",
         "857",
         "2016-02-10",
         "False",
         "0.0"
        ],
        [
         "38",
         "857",
         "2016-02-11",
         "False",
         "0.0"
        ],
        [
         "39",
         "857",
         "2016-02-12",
         "False",
         "0.0"
        ],
        [
         "40",
         "857",
         "2016-02-13",
         "False",
         "0.0"
        ],
        [
         "41",
         "857",
         "2016-02-14",
         "False",
         "0.0"
        ],
        [
         "42",
         "857",
         "2016-02-15",
         "False",
         "0.0"
        ],
        [
         "43",
         "857",
         "2016-02-16",
         "False",
         "0.0"
        ],
        [
         "44",
         "857",
         "2016-02-17",
         "False",
         "0.0"
        ],
        [
         "45",
         "857",
         "2016-02-18",
         "False",
         "0.0"
        ],
        [
         "46",
         "857",
         "2016-02-19",
         "False",
         "0.0"
        ],
        [
         "47",
         "857",
         "2016-02-20",
         "False",
         "0.0"
        ],
        [
         "48",
         "857",
         "2016-02-21",
         "False",
         "0.0"
        ],
        [
         "49",
         "857",
         "2016-02-22",
         "False",
         "0.0"
        ]
       ],
       "shape": {
        "columns": 4,
        "rows": 365000
       }
      },
      "text/html": [
       "<div>\n",
       "<style scoped>\n",
       "    .dataframe tbody tr th:only-of-type {\n",
       "        vertical-align: middle;\n",
       "    }\n",
       "\n",
       "    .dataframe tbody tr th {\n",
       "        vertical-align: top;\n",
       "    }\n",
       "\n",
       "    .dataframe thead th {\n",
       "        text-align: right;\n",
       "    }\n",
       "</style>\n",
       "<table border=\"1\" class=\"dataframe\">\n",
       "  <thead>\n",
       "    <tr style=\"text-align: right;\">\n",
       "      <th></th>\n",
       "      <th>id</th>\n",
       "      <th>data</th>\n",
       "      <th>vaga_disponivel</th>\n",
       "      <th>preco</th>\n",
       "    </tr>\n",
       "  </thead>\n",
       "  <tbody>\n",
       "    <tr>\n",
       "      <th>0</th>\n",
       "      <td>857</td>\n",
       "      <td>2016-01-04</td>\n",
       "      <td>False</td>\n",
       "      <td>0.0</td>\n",
       "    </tr>\n",
       "    <tr>\n",
       "      <th>1</th>\n",
       "      <td>857</td>\n",
       "      <td>2016-01-05</td>\n",
       "      <td>False</td>\n",
       "      <td>0.0</td>\n",
       "    </tr>\n",
       "    <tr>\n",
       "      <th>2</th>\n",
       "      <td>857</td>\n",
       "      <td>2016-01-06</td>\n",
       "      <td>False</td>\n",
       "      <td>0.0</td>\n",
       "    </tr>\n",
       "    <tr>\n",
       "      <th>3</th>\n",
       "      <td>857</td>\n",
       "      <td>2016-01-07</td>\n",
       "      <td>False</td>\n",
       "      <td>0.0</td>\n",
       "    </tr>\n",
       "    <tr>\n",
       "      <th>4</th>\n",
       "      <td>857</td>\n",
       "      <td>2016-01-08</td>\n",
       "      <td>False</td>\n",
       "      <td>0.0</td>\n",
       "    </tr>\n",
       "    <tr>\n",
       "      <th>...</th>\n",
       "      <td>...</td>\n",
       "      <td>...</td>\n",
       "      <td>...</td>\n",
       "      <td>...</td>\n",
       "    </tr>\n",
       "    <tr>\n",
       "      <th>364995</th>\n",
       "      <td>3279</td>\n",
       "      <td>2016-12-29</td>\n",
       "      <td>True</td>\n",
       "      <td>140.0</td>\n",
       "    </tr>\n",
       "    <tr>\n",
       "      <th>364996</th>\n",
       "      <td>3279</td>\n",
       "      <td>2016-12-30</td>\n",
       "      <td>True</td>\n",
       "      <td>140.0</td>\n",
       "    </tr>\n",
       "    <tr>\n",
       "      <th>364997</th>\n",
       "      <td>3279</td>\n",
       "      <td>2016-12-31</td>\n",
       "      <td>True</td>\n",
       "      <td>140.0</td>\n",
       "    </tr>\n",
       "    <tr>\n",
       "      <th>364998</th>\n",
       "      <td>3279</td>\n",
       "      <td>2017-01-01</td>\n",
       "      <td>True</td>\n",
       "      <td>140.0</td>\n",
       "    </tr>\n",
       "    <tr>\n",
       "      <th>364999</th>\n",
       "      <td>3279</td>\n",
       "      <td>2017-01-02</td>\n",
       "      <td>False</td>\n",
       "      <td>0.0</td>\n",
       "    </tr>\n",
       "  </tbody>\n",
       "</table>\n",
       "<p>365000 rows × 4 columns</p>\n",
       "</div>"
      ],
      "text/plain": [
       "          id        data  vaga_disponivel  preco\n",
       "0        857  2016-01-04            False    0.0\n",
       "1        857  2016-01-05            False    0.0\n",
       "2        857  2016-01-06            False    0.0\n",
       "3        857  2016-01-07            False    0.0\n",
       "4        857  2016-01-08            False    0.0\n",
       "...      ...         ...              ...    ...\n",
       "364995  3279  2016-12-29             True  140.0\n",
       "364996  3279  2016-12-30             True  140.0\n",
       "364997  3279  2016-12-31             True  140.0\n",
       "364998  3279  2017-01-01             True  140.0\n",
       "364999  3279  2017-01-02            False    0.0\n",
       "\n",
       "[365000 rows x 4 columns]"
      ]
     },
     "execution_count": 4,
     "metadata": {},
     "output_type": "execute_result"
    }
   ],
   "source": [
    "dt_data['preco'] = dt_data['preco'].astype(np.float64)\n",
    "dt_data"
   ]
  }
 ],
 "metadata": {
  "kernelspec": {
   "display_name": ".venv",
   "language": "python",
   "name": "python3"
  },
  "language_info": {
   "codemirror_mode": {
    "name": "ipython",
    "version": 3
   },
   "file_extension": ".py",
   "mimetype": "text/x-python",
   "name": "python",
   "nbconvert_exporter": "python",
   "pygments_lexer": "ipython3",
   "version": "3.13.2"
  }
 },
 "nbformat": 4,
 "nbformat_minor": 5
}
