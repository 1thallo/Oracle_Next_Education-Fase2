{
 "cells": [
  {
   "cell_type": "code",
   "execution_count": 1,
   "id": "542152ef",
   "metadata": {},
   "outputs": [
    {
     "data": {
      "application/vnd.microsoft.datawrangler.viewer.v0+json": {
       "columns": [
        {
         "name": "index",
         "rawType": "int64",
         "type": "integer"
        },
        {
         "name": "id",
         "rawType": "int64",
         "type": "integer"
        },
        {
         "name": "data",
         "rawType": "object",
         "type": "string"
        },
        {
         "name": "vaga_disponivel",
         "rawType": "bool",
         "type": "boolean"
        },
        {
         "name": "preco",
         "rawType": "object",
         "type": "unknown"
        }
       ],
       "ref": "b1681655-429a-48b5-9bed-96840b9d08de",
       "rows": [
        [
         "0",
         "857",
         "2016-01-04",
         "False",
         null
        ],
        [
         "1",
         "857",
         "2016-01-05",
         "False",
         null
        ],
        [
         "2",
         "857",
         "2016-01-06",
         "False",
         null
        ],
        [
         "3",
         "857",
         "2016-01-07",
         "False",
         null
        ],
        [
         "4",
         "857",
         "2016-01-08",
         "False",
         null
        ]
       ],
       "shape": {
        "columns": 4,
        "rows": 5
       }
      },
      "text/html": [
       "<div>\n",
       "<style scoped>\n",
       "    .dataframe tbody tr th:only-of-type {\n",
       "        vertical-align: middle;\n",
       "    }\n",
       "\n",
       "    .dataframe tbody tr th {\n",
       "        vertical-align: top;\n",
       "    }\n",
       "\n",
       "    .dataframe thead th {\n",
       "        text-align: right;\n",
       "    }\n",
       "</style>\n",
       "<table border=\"1\" class=\"dataframe\">\n",
       "  <thead>\n",
       "    <tr style=\"text-align: right;\">\n",
       "      <th></th>\n",
       "      <th>id</th>\n",
       "      <th>data</th>\n",
       "      <th>vaga_disponivel</th>\n",
       "      <th>preco</th>\n",
       "    </tr>\n",
       "  </thead>\n",
       "  <tbody>\n",
       "    <tr>\n",
       "      <th>0</th>\n",
       "      <td>857</td>\n",
       "      <td>2016-01-04</td>\n",
       "      <td>False</td>\n",
       "      <td>None</td>\n",
       "    </tr>\n",
       "    <tr>\n",
       "      <th>1</th>\n",
       "      <td>857</td>\n",
       "      <td>2016-01-05</td>\n",
       "      <td>False</td>\n",
       "      <td>None</td>\n",
       "    </tr>\n",
       "    <tr>\n",
       "      <th>2</th>\n",
       "      <td>857</td>\n",
       "      <td>2016-01-06</td>\n",
       "      <td>False</td>\n",
       "      <td>None</td>\n",
       "    </tr>\n",
       "    <tr>\n",
       "      <th>3</th>\n",
       "      <td>857</td>\n",
       "      <td>2016-01-07</td>\n",
       "      <td>False</td>\n",
       "      <td>None</td>\n",
       "    </tr>\n",
       "    <tr>\n",
       "      <th>4</th>\n",
       "      <td>857</td>\n",
       "      <td>2016-01-08</td>\n",
       "      <td>False</td>\n",
       "      <td>None</td>\n",
       "    </tr>\n",
       "  </tbody>\n",
       "</table>\n",
       "</div>"
      ],
      "text/plain": [
       "    id        data  vaga_disponivel preco\n",
       "0  857  2016-01-04            False  None\n",
       "1  857  2016-01-05            False  None\n",
       "2  857  2016-01-06            False  None\n",
       "3  857  2016-01-07            False  None\n",
       "4  857  2016-01-08            False  None"
      ]
     },
     "execution_count": 1,
     "metadata": {},
     "output_type": "execute_result"
    }
   ],
   "source": [
    "import pandas as pd\n",
    "\n",
    "dt_data = pd.read_json('https://cdn3.gnarususercontent.com.br/2928-transformacao-manipulacao-dados/moveis_disponiveis.json')\n",
    "\n",
    "dt_data.head()"
   ]
  },
  {
   "cell_type": "code",
   "execution_count": 2,
   "id": "299f1fbc",
   "metadata": {},
   "outputs": [
    {
     "name": "stdout",
     "output_type": "stream",
     "text": [
      "<class 'pandas.core.frame.DataFrame'>\n",
      "Index: 365000 entries, 0 to 364999\n",
      "Data columns (total 4 columns):\n",
      " #   Column           Non-Null Count   Dtype \n",
      "---  ------           --------------   ----- \n",
      " 0   id               365000 non-null  int64 \n",
      " 1   data             365000 non-null  object\n",
      " 2   vaga_disponivel  365000 non-null  bool  \n",
      " 3   preco            270547 non-null  object\n",
      "dtypes: bool(1), int64(1), object(2)\n",
      "memory usage: 11.5+ MB\n"
     ]
    }
   ],
   "source": [
    "dt_data.info()"
   ]
  },
  {
   "cell_type": "code",
   "execution_count": 3,
   "id": "1d72d9c9",
   "metadata": {},
   "outputs": [
    {
     "name": "stdout",
     "output_type": "stream",
     "text": [
      "<class 'pandas.core.frame.DataFrame'>\n",
      "Index: 365000 entries, 0 to 364999\n",
      "Data columns (total 4 columns):\n",
      " #   Column           Non-Null Count   Dtype         \n",
      "---  ------           --------------   -----         \n",
      " 0   id               365000 non-null  int64         \n",
      " 1   data             365000 non-null  datetime64[ns]\n",
      " 2   vaga_disponivel  365000 non-null  bool          \n",
      " 3   preco            270547 non-null  object        \n",
      "dtypes: bool(1), datetime64[ns](1), int64(1), object(1)\n",
      "memory usage: 11.5+ MB\n"
     ]
    }
   ],
   "source": [
    "dt_data['data'] = pd.to_datetime(dt_data['data'])\n",
    "dt_data.info()"
   ]
  },
  {
   "cell_type": "code",
   "execution_count": 4,
   "id": "ac29c1c9",
   "metadata": {},
   "outputs": [
    {
     "data": {
      "application/vnd.microsoft.datawrangler.viewer.v0+json": {
       "columns": [
        {
         "name": "index",
         "rawType": "int64",
         "type": "integer"
        },
        {
         "name": "data",
         "rawType": "object",
         "type": "string"
        }
       ],
       "ref": "912137ed-7744-40f7-bb37-2ebb4f952cc5",
       "rows": [
        [
         "0",
         "2016-01"
        ],
        [
         "1",
         "2016-01"
        ],
        [
         "2",
         "2016-01"
        ],
        [
         "3",
         "2016-01"
        ],
        [
         "4",
         "2016-01"
        ],
        [
         "5",
         "2016-01"
        ],
        [
         "6",
         "2016-01"
        ],
        [
         "7",
         "2016-01"
        ],
        [
         "8",
         "2016-01"
        ],
        [
         "9",
         "2016-01"
        ],
        [
         "10",
         "2016-01"
        ],
        [
         "11",
         "2016-01"
        ],
        [
         "12",
         "2016-01"
        ],
        [
         "13",
         "2016-01"
        ],
        [
         "14",
         "2016-01"
        ],
        [
         "15",
         "2016-01"
        ],
        [
         "16",
         "2016-01"
        ],
        [
         "17",
         "2016-01"
        ],
        [
         "18",
         "2016-01"
        ],
        [
         "19",
         "2016-01"
        ],
        [
         "20",
         "2016-01"
        ],
        [
         "21",
         "2016-01"
        ],
        [
         "22",
         "2016-01"
        ],
        [
         "23",
         "2016-01"
        ],
        [
         "24",
         "2016-01"
        ],
        [
         "25",
         "2016-01"
        ],
        [
         "26",
         "2016-01"
        ],
        [
         "27",
         "2016-01"
        ],
        [
         "28",
         "2016-02"
        ],
        [
         "29",
         "2016-02"
        ],
        [
         "30",
         "2016-02"
        ],
        [
         "31",
         "2016-02"
        ],
        [
         "32",
         "2016-02"
        ],
        [
         "33",
         "2016-02"
        ],
        [
         "34",
         "2016-02"
        ],
        [
         "35",
         "2016-02"
        ],
        [
         "36",
         "2016-02"
        ],
        [
         "37",
         "2016-02"
        ],
        [
         "38",
         "2016-02"
        ],
        [
         "39",
         "2016-02"
        ],
        [
         "40",
         "2016-02"
        ],
        [
         "41",
         "2016-02"
        ],
        [
         "42",
         "2016-02"
        ],
        [
         "43",
         "2016-02"
        ],
        [
         "44",
         "2016-02"
        ],
        [
         "45",
         "2016-02"
        ],
        [
         "46",
         "2016-02"
        ],
        [
         "47",
         "2016-02"
        ],
        [
         "48",
         "2016-02"
        ],
        [
         "49",
         "2016-02"
        ]
       ],
       "shape": {
        "columns": 1,
        "rows": 365000
       }
      },
      "text/plain": [
       "0         2016-01\n",
       "1         2016-01\n",
       "2         2016-01\n",
       "3         2016-01\n",
       "4         2016-01\n",
       "           ...   \n",
       "364995    2016-12\n",
       "364996    2016-12\n",
       "364997    2016-12\n",
       "364998    2017-01\n",
       "364999    2017-01\n",
       "Name: data, Length: 365000, dtype: object"
      ]
     },
     "execution_count": 4,
     "metadata": {},
     "output_type": "execute_result"
    }
   ],
   "source": [
    "#strftime\n",
    "dt_data['data'].dt.strftime('%Y-%m')"
   ]
  },
  {
   "cell_type": "code",
   "execution_count": 6,
   "id": "f5eb9b98",
   "metadata": {},
   "outputs": [
    {
     "data": {
      "application/vnd.microsoft.datawrangler.viewer.v0+json": {
       "columns": [
        {
         "name": "data",
         "rawType": "object",
         "type": "string"
        },
        {
         "name": "vaga_disponivel",
         "rawType": "int64",
         "type": "integer"
        }
       ],
       "ref": "8f5c84b0-6757-4b9d-9be0-904626447eb2",
       "rows": [
        [
         "2016-01",
         "16543"
        ],
        [
         "2016-02",
         "20128"
        ],
        [
         "2016-03",
         "23357"
        ],
        [
         "2016-04",
         "22597"
        ],
        [
         "2016-05",
         "23842"
        ],
        [
         "2016-06",
         "23651"
        ],
        [
         "2016-07",
         "22329"
        ],
        [
         "2016-08",
         "22529"
        ],
        [
         "2016-09",
         "22471"
        ],
        [
         "2016-10",
         "23765"
        ],
        [
         "2016-11",
         "23352"
        ],
        [
         "2016-12",
         "24409"
        ],
        [
         "2017-01",
         "1574"
        ]
       ],
       "shape": {
        "columns": 1,
        "rows": 13
       }
      },
      "text/plain": [
       "data\n",
       "2016-01    16543\n",
       "2016-02    20128\n",
       "2016-03    23357\n",
       "2016-04    22597\n",
       "2016-05    23842\n",
       "2016-06    23651\n",
       "2016-07    22329\n",
       "2016-08    22529\n",
       "2016-09    22471\n",
       "2016-10    23765\n",
       "2016-11    23352\n",
       "2016-12    24409\n",
       "2017-01     1574\n",
       "Name: vaga_disponivel, dtype: int64"
      ]
     },
     "execution_count": 6,
     "metadata": {},
     "output_type": "execute_result"
    }
   ],
   "source": [
    "subset = dt_data.groupby(dt_data['data'].dt.strftime('%Y-%m'))['vaga_disponivel'].sum()\n",
    "subset"
   ]
  }
 ],
 "metadata": {
  "kernelspec": {
   "display_name": ".venv",
   "language": "python",
   "name": "python3"
  },
  "language_info": {
   "codemirror_mode": {
    "name": "ipython",
    "version": 3
   },
   "file_extension": ".py",
   "mimetype": "text/x-python",
   "name": "python",
   "nbconvert_exporter": "python",
   "pygments_lexer": "ipython3",
   "version": "3.13.2"
  }
 },
 "nbformat": 4,
 "nbformat_minor": 5
}
