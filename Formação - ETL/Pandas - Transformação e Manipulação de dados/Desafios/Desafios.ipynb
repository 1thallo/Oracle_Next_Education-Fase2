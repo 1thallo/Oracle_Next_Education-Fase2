{
 "cells": [
  {
   "cell_type": "markdown",
   "id": "61e4c7fe",
   "metadata": {},
   "source": [
    "# Desafios Práticos - Pandas\n",
    "\n",
    "Chegou a hora de pôr em prática tudo o que aprendemos durante as aulas. Preparei dois projetos extras para desenvolvermos durante o curso, para garantir que possamos praticar bastante! Para isso, vamos trabalhar com 2 novos conjuntos de dados, mas que dessa vez serão bem menores.\n",
    "\n",
    "## Bases de Dados Disponíveis\n",
    "- **Projeto desafio 1**: vendas online - `dados_vendas_clientes.json`\n",
    "- **Projeto desafio 2**: administração de condomínios - `dados_locacao_imoveis.json`\n",
    "\n",
    "Em cada aula, desenvolveremos uma etapa dos projetos. Portanto, salve seu código de construção em cada desafio para que possa aplicá-lo nos desafios posteriores.\n",
    "\n",
    "## Etapa 1\n",
    "\n",
    "### Projeto desafio 1: Vendas Online\n",
    "O objetivo desse projeto é realizar uma análise dos resultados de um evento com os clientes de uma empresa de vendas online. Foi coletado um conjunto de dados que contém os clientes que mais gastaram com produtos dentro de 5 dias de vendas, que é o período de duração do evento. Essa análise vai identificar o cliente com a maior compra na semana, que irá receber um prêmio da loja, e posteriormente, ela pode ajudar a empresa a criar novas estratégias para atrair mais clientes.\n",
    "\n",
    "A base de dados utilizada nessa análise é a `dados_vendas_clientes.json` e contém informações importantes sobre os clientes como:\n",
    "\n",
    "- O nome de cadastro do cliente\n",
    "- O valor total pago na compra\n",
    "- O dia da compra\n",
    "\n",
    "**Desafio**: Abrir a base de dados com Pandas e aplicar o `json_normalize`.\n",
    "\n",
    "### Projeto desafio 2: Administração de Condomínios\n",
    "A administração de condomínios é uma tarefa que requer muita atenção e organização. Entre as diversas responsabilidades da gestão está o recebimento dos aluguéis dos locatários. Para garantir uma boa saúde financeira do empreendimento, é fundamental que esses pagamentos sejam feitos de forma regular e pontual. No entanto, sabemos que nem sempre isso acontece.\n",
    "\n",
    "Pensando nisso, proponho um desafio de tratamento de dados com o objetivo de analisar o atraso no pagamento de aluguéis no condomínio de alguns moradores. Disponibilizo a base de dados `dados_locacao_imoveis.json`, que contém informações sobre:\n",
    "\n",
    "- O apartamento dos locatários\n",
    "- O dia acordado para o pagamento do aluguel\n",
    "- O dia da efetivação do pagamento de aluguel\n",
    "- O valor do aluguel\n",
    "\n",
    "**Desafio**: Similar ao desafio do projeto 1, abrir a base de dados com Pandas e aplicar o `json_normalize` no"
   ]
  },
  {
   "cell_type": "code",
   "execution_count": 2,
   "id": "f33d7b14",
   "metadata": {},
   "outputs": [],
   "source": [
    "import pandas as pd\n",
    "\n",
    "url = 'https://cdn3.gnarususercontent.com.br/2928-transformacao-manipulacao-dados/dados_vendas_clientes.json'\n",
    "\n",
    "url_2 = 'https://cdn3.gnarususercontent.com.br/2928-transformacao-manipulacao-dados/dados_locacao_imoveis.json'"
   ]
  },
  {
   "cell_type": "markdown",
   "id": "57969627",
   "metadata": {},
   "source": [
    "#### Desafio 1"
   ]
  },
  {
   "cell_type": "code",
   "execution_count": 3,
   "id": "dfeae55d",
   "metadata": {},
   "outputs": [
    {
     "data": {
      "application/vnd.microsoft.datawrangler.viewer.v0+json": {
       "columns": [
        {
         "name": "index",
         "rawType": "int64",
         "type": "integer"
        },
        {
         "name": "dados_vendas",
         "rawType": "object",
         "type": "unknown"
        }
       ],
       "ref": "b4d1d856-1474-4ef2-8a7e-1d8583d7b17d",
       "rows": [
        [
         "0",
         "{'Data de venda': '06/06/2022', 'Cliente': ['@ANA _LUCIA 321', 'DieGO ARMANDIU 210', 'DieGO ARMANDIU 210', 'DieGO ARMANDIU 210'], 'Valor da compra': ['R$ 836,5', 'R$ 573,33', 'R$ 392,8', 'R$ 512,34']}"
        ],
        [
         "1",
         "{'Data de venda': '07/06/2022', 'Cliente': ['Isabely JOanes 738', 'Isabely JOanes 738', 'Isabely JOanes 738', 'Isabely JOanes 738'], 'Valor da compra': ['R$ 825,31', 'R$ 168,07', 'R$ 339,18', 'R$ 314,69']}"
        ],
        [
         "2",
         "{'Data de venda': '08/06/2022', 'Cliente': ['Isabely JOanes 738', 'JOãO Gabriel 671', 'Julya meireles 914', 'Julya meireles 914'], 'Valor da compra': ['R$ 682,05', 'R$ 386,34', 'R$ 622,65', 'R$ 630,79']}"
        ],
        [
         "3",
         "{'Data de venda': '09/06/2022', 'Cliente': ['Julya meireles 914', 'MaRIA Julia 444', 'MaRIA Julia 444', 'MaRIA Julia 444'], 'Valor da compra': ['R$ 390,3', 'R$ 759,16', 'R$ 334,47', 'R$ 678,78']}"
        ],
        [
         "4",
         "{'Data de venda': '10/06/2022', 'Cliente': ['MaRIA Julia 444', 'PEDRO PASCO 812', 'Paulo castro 481', 'Thiago fritzz 883'], 'Valor da compra': ['R$ 314,24', 'R$ 311,15', 'R$ 899,16', 'R$ 885,24']}"
        ]
       ],
       "shape": {
        "columns": 1,
        "rows": 5
       }
      },
      "text/html": [
       "<div>\n",
       "<style scoped>\n",
       "    .dataframe tbody tr th:only-of-type {\n",
       "        vertical-align: middle;\n",
       "    }\n",
       "\n",
       "    .dataframe tbody tr th {\n",
       "        vertical-align: top;\n",
       "    }\n",
       "\n",
       "    .dataframe thead th {\n",
       "        text-align: right;\n",
       "    }\n",
       "</style>\n",
       "<table border=\"1\" class=\"dataframe\">\n",
       "  <thead>\n",
       "    <tr style=\"text-align: right;\">\n",
       "      <th></th>\n",
       "      <th>dados_vendas</th>\n",
       "    </tr>\n",
       "  </thead>\n",
       "  <tbody>\n",
       "    <tr>\n",
       "      <th>0</th>\n",
       "      <td>{'Data de venda': '06/06/2022', 'Cliente': ['@...</td>\n",
       "    </tr>\n",
       "    <tr>\n",
       "      <th>1</th>\n",
       "      <td>{'Data de venda': '07/06/2022', 'Cliente': ['I...</td>\n",
       "    </tr>\n",
       "    <tr>\n",
       "      <th>2</th>\n",
       "      <td>{'Data de venda': '08/06/2022', 'Cliente': ['I...</td>\n",
       "    </tr>\n",
       "    <tr>\n",
       "      <th>3</th>\n",
       "      <td>{'Data de venda': '09/06/2022', 'Cliente': ['J...</td>\n",
       "    </tr>\n",
       "    <tr>\n",
       "      <th>4</th>\n",
       "      <td>{'Data de venda': '10/06/2022', 'Cliente': ['M...</td>\n",
       "    </tr>\n",
       "  </tbody>\n",
       "</table>\n",
       "</div>"
      ],
      "text/plain": [
       "                                        dados_vendas\n",
       "0  {'Data de venda': '06/06/2022', 'Cliente': ['@...\n",
       "1  {'Data de venda': '07/06/2022', 'Cliente': ['I...\n",
       "2  {'Data de venda': '08/06/2022', 'Cliente': ['I...\n",
       "3  {'Data de venda': '09/06/2022', 'Cliente': ['J...\n",
       "4  {'Data de venda': '10/06/2022', 'Cliente': ['M..."
      ]
     },
     "execution_count": 3,
     "metadata": {},
     "output_type": "execute_result"
    }
   ],
   "source": [
    "dados = pd.read_json(url)\n",
    "dados.head()"
   ]
  },
  {
   "cell_type": "code",
   "execution_count": 4,
   "id": "69259908",
   "metadata": {},
   "outputs": [
    {
     "data": {
      "application/vnd.microsoft.datawrangler.viewer.v0+json": {
       "columns": [
        {
         "name": "index",
         "rawType": "int64",
         "type": "integer"
        },
        {
         "name": "Data de venda",
         "rawType": "object",
         "type": "string"
        },
        {
         "name": "Cliente",
         "rawType": "object",
         "type": "unknown"
        },
        {
         "name": "Valor da compra",
         "rawType": "object",
         "type": "unknown"
        }
       ],
       "ref": "c6f3ecb4-c7b9-4b2c-8e96-27bab612c468",
       "rows": [
        [
         "0",
         "06/06/2022",
         "['@ANA _LUCIA 321', 'DieGO ARMANDIU 210', 'DieGO ARMANDIU 210', 'DieGO ARMANDIU 210']",
         "['R$ 836,5', 'R$ 573,33', 'R$ 392,8', 'R$ 512,34']"
        ],
        [
         "1",
         "07/06/2022",
         "['Isabely JOanes 738', 'Isabely JOanes 738', 'Isabely JOanes 738', 'Isabely JOanes 738']",
         "['R$ 825,31', 'R$ 168,07', 'R$ 339,18', 'R$ 314,69']"
        ],
        [
         "2",
         "08/06/2022",
         "['Isabely JOanes 738', 'JOãO Gabriel 671', 'Julya meireles 914', 'Julya meireles 914']",
         "['R$ 682,05', 'R$ 386,34', 'R$ 622,65', 'R$ 630,79']"
        ],
        [
         "3",
         "09/06/2022",
         "['Julya meireles 914', 'MaRIA Julia 444', 'MaRIA Julia 444', 'MaRIA Julia 444']",
         "['R$ 390,3', 'R$ 759,16', 'R$ 334,47', 'R$ 678,78']"
        ],
        [
         "4",
         "10/06/2022",
         "['MaRIA Julia 444', 'PEDRO PASCO 812', 'Paulo castro 481', 'Thiago fritzz 883']",
         "['R$ 314,24', 'R$ 311,15', 'R$ 899,16', 'R$ 885,24']"
        ]
       ],
       "shape": {
        "columns": 3,
        "rows": 5
       }
      },
      "text/html": [
       "<div>\n",
       "<style scoped>\n",
       "    .dataframe tbody tr th:only-of-type {\n",
       "        vertical-align: middle;\n",
       "    }\n",
       "\n",
       "    .dataframe tbody tr th {\n",
       "        vertical-align: top;\n",
       "    }\n",
       "\n",
       "    .dataframe thead th {\n",
       "        text-align: right;\n",
       "    }\n",
       "</style>\n",
       "<table border=\"1\" class=\"dataframe\">\n",
       "  <thead>\n",
       "    <tr style=\"text-align: right;\">\n",
       "      <th></th>\n",
       "      <th>Data de venda</th>\n",
       "      <th>Cliente</th>\n",
       "      <th>Valor da compra</th>\n",
       "    </tr>\n",
       "  </thead>\n",
       "  <tbody>\n",
       "    <tr>\n",
       "      <th>0</th>\n",
       "      <td>06/06/2022</td>\n",
       "      <td>[@ANA _LUCIA 321, DieGO ARMANDIU 210, DieGO AR...</td>\n",
       "      <td>[R$ 836,5, R$ 573,33, R$ 392,8, R$ 512,34]</td>\n",
       "    </tr>\n",
       "    <tr>\n",
       "      <th>1</th>\n",
       "      <td>07/06/2022</td>\n",
       "      <td>[Isabely JOanes 738, Isabely JOanes 738, Isabe...</td>\n",
       "      <td>[R$ 825,31, R$ 168,07, R$ 339,18, R$ 314,69]</td>\n",
       "    </tr>\n",
       "    <tr>\n",
       "      <th>2</th>\n",
       "      <td>08/06/2022</td>\n",
       "      <td>[Isabely JOanes 738, JOãO Gabriel 671, Julya m...</td>\n",
       "      <td>[R$ 682,05, R$ 386,34, R$ 622,65, R$ 630,79]</td>\n",
       "    </tr>\n",
       "    <tr>\n",
       "      <th>3</th>\n",
       "      <td>09/06/2022</td>\n",
       "      <td>[Julya meireles 914, MaRIA Julia 444, MaRIA Ju...</td>\n",
       "      <td>[R$ 390,3, R$ 759,16, R$ 334,47, R$ 678,78]</td>\n",
       "    </tr>\n",
       "    <tr>\n",
       "      <th>4</th>\n",
       "      <td>10/06/2022</td>\n",
       "      <td>[MaRIA Julia 444, PEDRO PASCO 812, Paulo castr...</td>\n",
       "      <td>[R$ 314,24, R$ 311,15, R$ 899,16, R$ 885,24]</td>\n",
       "    </tr>\n",
       "  </tbody>\n",
       "</table>\n",
       "</div>"
      ],
      "text/plain": [
       "  Data de venda                                            Cliente  \\\n",
       "0    06/06/2022  [@ANA _LUCIA 321, DieGO ARMANDIU 210, DieGO AR...   \n",
       "1    07/06/2022  [Isabely JOanes 738, Isabely JOanes 738, Isabe...   \n",
       "2    08/06/2022  [Isabely JOanes 738, JOãO Gabriel 671, Julya m...   \n",
       "3    09/06/2022  [Julya meireles 914, MaRIA Julia 444, MaRIA Ju...   \n",
       "4    10/06/2022  [MaRIA Julia 444, PEDRO PASCO 812, Paulo castr...   \n",
       "\n",
       "                                Valor da compra  \n",
       "0    [R$ 836,5, R$ 573,33, R$ 392,8, R$ 512,34]  \n",
       "1  [R$ 825,31, R$ 168,07, R$ 339,18, R$ 314,69]  \n",
       "2  [R$ 682,05, R$ 386,34, R$ 622,65, R$ 630,79]  \n",
       "3   [R$ 390,3, R$ 759,16, R$ 334,47, R$ 678,78]  \n",
       "4  [R$ 314,24, R$ 311,15, R$ 899,16, R$ 885,24]  "
      ]
     },
     "execution_count": 4,
     "metadata": {},
     "output_type": "execute_result"
    }
   ],
   "source": [
    "dados = pd.json_normalize(dados['dados_vendas'])\n",
    "dados"
   ]
  },
  {
   "cell_type": "markdown",
   "id": "cf5e87f1",
   "metadata": {},
   "source": [
    "#### Desafio 02"
   ]
  },
  {
   "cell_type": "code",
   "execution_count": 5,
   "id": "66c78019",
   "metadata": {},
   "outputs": [
    {
     "data": {
      "application/vnd.microsoft.datawrangler.viewer.v0+json": {
       "columns": [
        {
         "name": "index",
         "rawType": "int64",
         "type": "integer"
        },
        {
         "name": "dados_locacao",
         "rawType": "object",
         "type": "unknown"
        }
       ],
       "ref": "64f17032-fa16-40e6-9443-3e1717b55934",
       "rows": [
        [
         "0",
         "{'apartamento': 'A101 (blocoAP)', 'datas_combinadas_pagamento': ['01/06/2022', '01/07/2022'], 'datas_de_pagamento': ['05/06/2022', '03/07/2022'], 'valor_aluguel': ['$ 1000,0 reais', '$ 2500,0 reais']}"
        ],
        [
         "1",
         "{'apartamento': 'A102 (blocoAP)', 'datas_combinadas_pagamento': ['02/06/2022', '02/07/2022'], 'datas_de_pagamento': ['02/06/2022', '06/07/2022'], 'valor_aluguel': ['$ 1100,0 reais', '$ 2600,0 reais']}"
        ],
        [
         "2",
         "{'apartamento': 'B201 (blocoAP)', 'datas_combinadas_pagamento': ['03/06/2022', '03/07/2022'], 'datas_de_pagamento': ['07/06/2022', '03/07/2022'], 'valor_aluguel': ['$ 1200,0 reais', '$ 2700,0 reais']}"
        ],
        [
         "3",
         "{'apartamento': 'B202 (blocoAP)', 'datas_combinadas_pagamento': ['04/06/2022', '04/07/2022'], 'datas_de_pagamento': ['07/06/2022', '05/07/2022'], 'valor_aluguel': ['$ 1300,0 reais', '$ 2800,0 reais']}"
        ],
        [
         "4",
         "{'apartamento': 'C301 (blocoAP)', 'datas_combinadas_pagamento': ['05/06/2022', '05/07/2022'], 'datas_de_pagamento': ['10/06/2022', '09/07/2022'], 'valor_aluguel': ['$ 1400,0 reais', '$ 2900,0 reais']}"
        ]
       ],
       "shape": {
        "columns": 1,
        "rows": 5
       }
      },
      "text/html": [
       "<div>\n",
       "<style scoped>\n",
       "    .dataframe tbody tr th:only-of-type {\n",
       "        vertical-align: middle;\n",
       "    }\n",
       "\n",
       "    .dataframe tbody tr th {\n",
       "        vertical-align: top;\n",
       "    }\n",
       "\n",
       "    .dataframe thead th {\n",
       "        text-align: right;\n",
       "    }\n",
       "</style>\n",
       "<table border=\"1\" class=\"dataframe\">\n",
       "  <thead>\n",
       "    <tr style=\"text-align: right;\">\n",
       "      <th></th>\n",
       "      <th>dados_locacao</th>\n",
       "    </tr>\n",
       "  </thead>\n",
       "  <tbody>\n",
       "    <tr>\n",
       "      <th>0</th>\n",
       "      <td>{'apartamento': 'A101 (blocoAP)', 'datas_combi...</td>\n",
       "    </tr>\n",
       "    <tr>\n",
       "      <th>1</th>\n",
       "      <td>{'apartamento': 'A102 (blocoAP)', 'datas_combi...</td>\n",
       "    </tr>\n",
       "    <tr>\n",
       "      <th>2</th>\n",
       "      <td>{'apartamento': 'B201 (blocoAP)', 'datas_combi...</td>\n",
       "    </tr>\n",
       "    <tr>\n",
       "      <th>3</th>\n",
       "      <td>{'apartamento': 'B202 (blocoAP)', 'datas_combi...</td>\n",
       "    </tr>\n",
       "    <tr>\n",
       "      <th>4</th>\n",
       "      <td>{'apartamento': 'C301 (blocoAP)', 'datas_combi...</td>\n",
       "    </tr>\n",
       "  </tbody>\n",
       "</table>\n",
       "</div>"
      ],
      "text/plain": [
       "                                       dados_locacao\n",
       "0  {'apartamento': 'A101 (blocoAP)', 'datas_combi...\n",
       "1  {'apartamento': 'A102 (blocoAP)', 'datas_combi...\n",
       "2  {'apartamento': 'B201 (blocoAP)', 'datas_combi...\n",
       "3  {'apartamento': 'B202 (blocoAP)', 'datas_combi...\n",
       "4  {'apartamento': 'C301 (blocoAP)', 'datas_combi..."
      ]
     },
     "execution_count": 5,
     "metadata": {},
     "output_type": "execute_result"
    }
   ],
   "source": [
    "dados_2 = pd.read_json(url_2)\n",
    "dados_2.head()"
   ]
  },
  {
   "cell_type": "code",
   "execution_count": 6,
   "id": "1051765f",
   "metadata": {},
   "outputs": [
    {
     "data": {
      "application/vnd.microsoft.datawrangler.viewer.v0+json": {
       "columns": [
        {
         "name": "index",
         "rawType": "int64",
         "type": "integer"
        },
        {
         "name": "apartamento",
         "rawType": "object",
         "type": "string"
        },
        {
         "name": "datas_combinadas_pagamento",
         "rawType": "object",
         "type": "unknown"
        },
        {
         "name": "datas_de_pagamento",
         "rawType": "object",
         "type": "unknown"
        },
        {
         "name": "valor_aluguel",
         "rawType": "object",
         "type": "unknown"
        }
       ],
       "ref": "f75b58b9-697d-4a12-803f-1827357f9a28",
       "rows": [
        [
         "0",
         "A101 (blocoAP)",
         "['01/06/2022', '01/07/2022']",
         "['05/06/2022', '03/07/2022']",
         "['$ 1000,0 reais', '$ 2500,0 reais']"
        ],
        [
         "1",
         "A102 (blocoAP)",
         "['02/06/2022', '02/07/2022']",
         "['02/06/2022', '06/07/2022']",
         "['$ 1100,0 reais', '$ 2600,0 reais']"
        ],
        [
         "2",
         "B201 (blocoAP)",
         "['03/06/2022', '03/07/2022']",
         "['07/06/2022', '03/07/2022']",
         "['$ 1200,0 reais', '$ 2700,0 reais']"
        ],
        [
         "3",
         "B202 (blocoAP)",
         "['04/06/2022', '04/07/2022']",
         "['07/06/2022', '05/07/2022']",
         "['$ 1300,0 reais', '$ 2800,0 reais']"
        ],
        [
         "4",
         "C301 (blocoAP)",
         "['05/06/2022', '05/07/2022']",
         "['10/06/2022', '09/07/2022']",
         "['$ 1400,0 reais', '$ 2900,0 reais']"
        ],
        [
         "5",
         "C302 (blocoAP)",
         "['06/06/2022', '06/07/2022']",
         "['08/06/2022', '12/07/2022']",
         "['$ 1500,0 reais', '$ 1200,0 reais']"
        ],
        [
         "6",
         "D401 (blocoAP)",
         "['07/06/2022', '07/07/2022']",
         "['07/06/2022', '09/07/2022']",
         "['$ 1600,0 reais', '$ 1300,0 reais']"
        ],
        [
         "7",
         "D402 (blocoAP)",
         "['08/06/2022', '08/07/2022']",
         "['10/06/2022', '14/07/2022']",
         "['$ 1700,0 reais', '$ 1400,0 reais']"
        ],
        [
         "8",
         "E501 (blocoAP)",
         "['09/06/2022', '09/07/2022']",
         "['10/06/2022', '09/07/2022']",
         "['$ 1800,0 reais', '$ 1500,0 reais']"
        ],
        [
         "9",
         "E502 (blocoAP)",
         "['10/06/2022', '10/07/2022']",
         "['16/06/2022', '12/07/2022']",
         "['$ 1900,0 reais', '$ 1600,0 reais']"
        ],
        [
         "10",
         "F601 (blocoAP)",
         "['11/06/2022', '11/07/2022']",
         "['17/06/2022', '13/07/2022']",
         "['$ 2000,0 reais', '$ 1000,0 reais']"
        ],
        [
         "11",
         "F602 (blocoAP)",
         "['12/06/2022', '12/07/2022']",
         "['15/06/2022', '12/07/2022']",
         "['$ 2100,0 reais', '$ 1100,0 reais']"
        ],
        [
         "12",
         "G701 (blocoAP)",
         "['13/06/2022', '13/07/2022']",
         "['19/06/2022', '20/07/2022']",
         "['$ 2200,0 reais', '$ 1200,0 reais']"
        ],
        [
         "13",
         "G702 (blocoAP)",
         "['14/06/2022', '14/07/2022']",
         "['15/06/2022', '17/07/2022']",
         "['$ 2300,0 reais', '$ 2100,0 reais']"
        ],
        [
         "14",
         "H801 (blocoAP)",
         "['15/06/2022', '15/07/2022']",
         "['18/06/2022', '16/07/2022']",
         "['$ 2400,0 reais', '$ 2200,0 reais']"
        ]
       ],
       "shape": {
        "columns": 4,
        "rows": 15
       }
      },
      "text/html": [
       "<div>\n",
       "<style scoped>\n",
       "    .dataframe tbody tr th:only-of-type {\n",
       "        vertical-align: middle;\n",
       "    }\n",
       "\n",
       "    .dataframe tbody tr th {\n",
       "        vertical-align: top;\n",
       "    }\n",
       "\n",
       "    .dataframe thead th {\n",
       "        text-align: right;\n",
       "    }\n",
       "</style>\n",
       "<table border=\"1\" class=\"dataframe\">\n",
       "  <thead>\n",
       "    <tr style=\"text-align: right;\">\n",
       "      <th></th>\n",
       "      <th>apartamento</th>\n",
       "      <th>datas_combinadas_pagamento</th>\n",
       "      <th>datas_de_pagamento</th>\n",
       "      <th>valor_aluguel</th>\n",
       "    </tr>\n",
       "  </thead>\n",
       "  <tbody>\n",
       "    <tr>\n",
       "      <th>0</th>\n",
       "      <td>A101 (blocoAP)</td>\n",
       "      <td>[01/06/2022, 01/07/2022]</td>\n",
       "      <td>[05/06/2022, 03/07/2022]</td>\n",
       "      <td>[$ 1000,0 reais, $ 2500,0 reais]</td>\n",
       "    </tr>\n",
       "    <tr>\n",
       "      <th>1</th>\n",
       "      <td>A102 (blocoAP)</td>\n",
       "      <td>[02/06/2022, 02/07/2022]</td>\n",
       "      <td>[02/06/2022, 06/07/2022]</td>\n",
       "      <td>[$ 1100,0 reais, $ 2600,0 reais]</td>\n",
       "    </tr>\n",
       "    <tr>\n",
       "      <th>2</th>\n",
       "      <td>B201 (blocoAP)</td>\n",
       "      <td>[03/06/2022, 03/07/2022]</td>\n",
       "      <td>[07/06/2022, 03/07/2022]</td>\n",
       "      <td>[$ 1200,0 reais, $ 2700,0 reais]</td>\n",
       "    </tr>\n",
       "    <tr>\n",
       "      <th>3</th>\n",
       "      <td>B202 (blocoAP)</td>\n",
       "      <td>[04/06/2022, 04/07/2022]</td>\n",
       "      <td>[07/06/2022, 05/07/2022]</td>\n",
       "      <td>[$ 1300,0 reais, $ 2800,0 reais]</td>\n",
       "    </tr>\n",
       "    <tr>\n",
       "      <th>4</th>\n",
       "      <td>C301 (blocoAP)</td>\n",
       "      <td>[05/06/2022, 05/07/2022]</td>\n",
       "      <td>[10/06/2022, 09/07/2022]</td>\n",
       "      <td>[$ 1400,0 reais, $ 2900,0 reais]</td>\n",
       "    </tr>\n",
       "    <tr>\n",
       "      <th>5</th>\n",
       "      <td>C302 (blocoAP)</td>\n",
       "      <td>[06/06/2022, 06/07/2022]</td>\n",
       "      <td>[08/06/2022, 12/07/2022]</td>\n",
       "      <td>[$ 1500,0 reais, $ 1200,0 reais]</td>\n",
       "    </tr>\n",
       "    <tr>\n",
       "      <th>6</th>\n",
       "      <td>D401 (blocoAP)</td>\n",
       "      <td>[07/06/2022, 07/07/2022]</td>\n",
       "      <td>[07/06/2022, 09/07/2022]</td>\n",
       "      <td>[$ 1600,0 reais, $ 1300,0 reais]</td>\n",
       "    </tr>\n",
       "    <tr>\n",
       "      <th>7</th>\n",
       "      <td>D402 (blocoAP)</td>\n",
       "      <td>[08/06/2022, 08/07/2022]</td>\n",
       "      <td>[10/06/2022, 14/07/2022]</td>\n",
       "      <td>[$ 1700,0 reais, $ 1400,0 reais]</td>\n",
       "    </tr>\n",
       "    <tr>\n",
       "      <th>8</th>\n",
       "      <td>E501 (blocoAP)</td>\n",
       "      <td>[09/06/2022, 09/07/2022]</td>\n",
       "      <td>[10/06/2022, 09/07/2022]</td>\n",
       "      <td>[$ 1800,0 reais, $ 1500,0 reais]</td>\n",
       "    </tr>\n",
       "    <tr>\n",
       "      <th>9</th>\n",
       "      <td>E502 (blocoAP)</td>\n",
       "      <td>[10/06/2022, 10/07/2022]</td>\n",
       "      <td>[16/06/2022, 12/07/2022]</td>\n",
       "      <td>[$ 1900,0 reais, $ 1600,0 reais]</td>\n",
       "    </tr>\n",
       "    <tr>\n",
       "      <th>10</th>\n",
       "      <td>F601 (blocoAP)</td>\n",
       "      <td>[11/06/2022, 11/07/2022]</td>\n",
       "      <td>[17/06/2022, 13/07/2022]</td>\n",
       "      <td>[$ 2000,0 reais, $ 1000,0 reais]</td>\n",
       "    </tr>\n",
       "    <tr>\n",
       "      <th>11</th>\n",
       "      <td>F602 (blocoAP)</td>\n",
       "      <td>[12/06/2022, 12/07/2022]</td>\n",
       "      <td>[15/06/2022, 12/07/2022]</td>\n",
       "      <td>[$ 2100,0 reais, $ 1100,0 reais]</td>\n",
       "    </tr>\n",
       "    <tr>\n",
       "      <th>12</th>\n",
       "      <td>G701 (blocoAP)</td>\n",
       "      <td>[13/06/2022, 13/07/2022]</td>\n",
       "      <td>[19/06/2022, 20/07/2022]</td>\n",
       "      <td>[$ 2200,0 reais, $ 1200,0 reais]</td>\n",
       "    </tr>\n",
       "    <tr>\n",
       "      <th>13</th>\n",
       "      <td>G702 (blocoAP)</td>\n",
       "      <td>[14/06/2022, 14/07/2022]</td>\n",
       "      <td>[15/06/2022, 17/07/2022]</td>\n",
       "      <td>[$ 2300,0 reais, $ 2100,0 reais]</td>\n",
       "    </tr>\n",
       "    <tr>\n",
       "      <th>14</th>\n",
       "      <td>H801 (blocoAP)</td>\n",
       "      <td>[15/06/2022, 15/07/2022]</td>\n",
       "      <td>[18/06/2022, 16/07/2022]</td>\n",
       "      <td>[$ 2400,0 reais, $ 2200,0 reais]</td>\n",
       "    </tr>\n",
       "  </tbody>\n",
       "</table>\n",
       "</div>"
      ],
      "text/plain": [
       "       apartamento datas_combinadas_pagamento        datas_de_pagamento  \\\n",
       "0   A101 (blocoAP)   [01/06/2022, 01/07/2022]  [05/06/2022, 03/07/2022]   \n",
       "1   A102 (blocoAP)   [02/06/2022, 02/07/2022]  [02/06/2022, 06/07/2022]   \n",
       "2   B201 (blocoAP)   [03/06/2022, 03/07/2022]  [07/06/2022, 03/07/2022]   \n",
       "3   B202 (blocoAP)   [04/06/2022, 04/07/2022]  [07/06/2022, 05/07/2022]   \n",
       "4   C301 (blocoAP)   [05/06/2022, 05/07/2022]  [10/06/2022, 09/07/2022]   \n",
       "5   C302 (blocoAP)   [06/06/2022, 06/07/2022]  [08/06/2022, 12/07/2022]   \n",
       "6   D401 (blocoAP)   [07/06/2022, 07/07/2022]  [07/06/2022, 09/07/2022]   \n",
       "7   D402 (blocoAP)   [08/06/2022, 08/07/2022]  [10/06/2022, 14/07/2022]   \n",
       "8   E501 (blocoAP)   [09/06/2022, 09/07/2022]  [10/06/2022, 09/07/2022]   \n",
       "9   E502 (blocoAP)   [10/06/2022, 10/07/2022]  [16/06/2022, 12/07/2022]   \n",
       "10  F601 (blocoAP)   [11/06/2022, 11/07/2022]  [17/06/2022, 13/07/2022]   \n",
       "11  F602 (blocoAP)   [12/06/2022, 12/07/2022]  [15/06/2022, 12/07/2022]   \n",
       "12  G701 (blocoAP)   [13/06/2022, 13/07/2022]  [19/06/2022, 20/07/2022]   \n",
       "13  G702 (blocoAP)   [14/06/2022, 14/07/2022]  [15/06/2022, 17/07/2022]   \n",
       "14  H801 (blocoAP)   [15/06/2022, 15/07/2022]  [18/06/2022, 16/07/2022]   \n",
       "\n",
       "                       valor_aluguel  \n",
       "0   [$ 1000,0 reais, $ 2500,0 reais]  \n",
       "1   [$ 1100,0 reais, $ 2600,0 reais]  \n",
       "2   [$ 1200,0 reais, $ 2700,0 reais]  \n",
       "3   [$ 1300,0 reais, $ 2800,0 reais]  \n",
       "4   [$ 1400,0 reais, $ 2900,0 reais]  \n",
       "5   [$ 1500,0 reais, $ 1200,0 reais]  \n",
       "6   [$ 1600,0 reais, $ 1300,0 reais]  \n",
       "7   [$ 1700,0 reais, $ 1400,0 reais]  \n",
       "8   [$ 1800,0 reais, $ 1500,0 reais]  \n",
       "9   [$ 1900,0 reais, $ 1600,0 reais]  \n",
       "10  [$ 2000,0 reais, $ 1000,0 reais]  \n",
       "11  [$ 2100,0 reais, $ 1100,0 reais]  \n",
       "12  [$ 2200,0 reais, $ 1200,0 reais]  \n",
       "13  [$ 2300,0 reais, $ 2100,0 reais]  \n",
       "14  [$ 2400,0 reais, $ 2200,0 reais]  "
      ]
     },
     "execution_count": 6,
     "metadata": {},
     "output_type": "execute_result"
    }
   ],
   "source": [
    "dados_2 = pd.json_normalize(dados_2['dados_locacao'])\n",
    "dados_2"
   ]
  },
  {
   "cell_type": "markdown",
   "id": "991ab63e",
   "metadata": {},
   "source": [
    "# Etapa 02"
   ]
  },
  {
   "cell_type": "markdown",
   "id": "97fbab16",
   "metadata": {},
   "source": [
    "\n",
    "### Projeto desafio 1: vendas online\n",
    "\n",
    "Lemos a base de dados no desafio anterior, agora podemos avançar nas transformações desses dados. Então, o novo desafio do projeto 1 será dividido em algumas metas:\n",
    "\n",
    "- Remover os dados em listas dentro do DataFrame;\n",
    "- Verificar os tipos de dados;\n",
    "- Identificar colunas numéricas;\n",
    "- Transformar a coluna numérica para o tipo numérico.\n",
    "\n",
    "### Projeto desafio 2: administração de condomínios\n",
    "\n",
    "Lemos a base de dados no desafio anterior, agora podemos avançar nas transformações desses dados. Então, da mesma forma que o projeto 1, o desafio do projeto 2 está listado em algumas metas:\n",
    "\n",
    "- Remover os dados em listas dentro do DataFrame;\n",
    "- Verificar os tipos de dados;\n",
    "- Identificar colunas numéricas;\n",
    "- Transformar a coluna numérica para o tipo numérico.\n"
   ]
  },
  {
   "cell_type": "code",
   "execution_count": 7,
   "id": "8ea62b27",
   "metadata": {},
   "outputs": [
    {
     "data": {
      "text/plain": [
       "['Data de venda', 'Cliente', 'Valor da compra']"
      ]
     },
     "execution_count": 7,
     "metadata": {},
     "output_type": "execute_result"
    }
   ],
   "source": [
    "# Projeto desafio 01 - Etapa 02\n",
    "colunas = list(dados.columns)\n",
    "colunas"
   ]
  },
  {
   "cell_type": "code",
   "execution_count": null,
   "id": "fc701dee",
   "metadata": {},
   "outputs": [
    {
     "data": {
      "application/vnd.microsoft.datawrangler.viewer.v0+json": {
       "columns": [
        {
         "name": "index",
         "rawType": "int64",
         "type": "integer"
        },
        {
         "name": "Data de venda",
         "rawType": "object",
         "type": "string"
        },
        {
         "name": "Cliente",
         "rawType": "object",
         "type": "string"
        },
        {
         "name": "Valor da compra",
         "rawType": "object",
         "type": "string"
        }
       ],
       "ref": "6ece7e7c-a066-425d-b2e6-84d33704c914",
       "rows": [
        [
         "0",
         "06/06/2022",
         "@ANA _LUCIA 321",
         "R$ 836,5"
        ],
        [
         "1",
         "06/06/2022",
         "DieGO ARMANDIU 210",
         "R$ 573,33"
        ],
        [
         "2",
         "06/06/2022",
         "DieGO ARMANDIU 210",
         "R$ 392,8"
        ],
        [
         "3",
         "06/06/2022",
         "DieGO ARMANDIU 210",
         "R$ 512,34"
        ],
        [
         "4",
         "07/06/2022",
         "Isabely JOanes 738",
         "R$ 825,31"
        ],
        [
         "5",
         "07/06/2022",
         "Isabely JOanes 738",
         "R$ 168,07"
        ],
        [
         "6",
         "07/06/2022",
         "Isabely JOanes 738",
         "R$ 339,18"
        ],
        [
         "7",
         "07/06/2022",
         "Isabely JOanes 738",
         "R$ 314,69"
        ],
        [
         "8",
         "08/06/2022",
         "Isabely JOanes 738",
         "R$ 682,05"
        ],
        [
         "9",
         "08/06/2022",
         "JOãO Gabriel 671",
         "R$ 386,34"
        ],
        [
         "10",
         "08/06/2022",
         "Julya meireles 914",
         "R$ 622,65"
        ],
        [
         "11",
         "08/06/2022",
         "Julya meireles 914",
         "R$ 630,79"
        ],
        [
         "12",
         "09/06/2022",
         "Julya meireles 914",
         "R$ 390,3"
        ],
        [
         "13",
         "09/06/2022",
         "MaRIA Julia 444",
         "R$ 759,16"
        ],
        [
         "14",
         "09/06/2022",
         "MaRIA Julia 444",
         "R$ 334,47"
        ],
        [
         "15",
         "09/06/2022",
         "MaRIA Julia 444",
         "R$ 678,78"
        ],
        [
         "16",
         "10/06/2022",
         "MaRIA Julia 444",
         "R$ 314,24"
        ],
        [
         "17",
         "10/06/2022",
         "PEDRO PASCO 812",
         "R$ 311,15"
        ],
        [
         "18",
         "10/06/2022",
         "Paulo castro 481",
         "R$ 899,16"
        ],
        [
         "19",
         "10/06/2022",
         "Thiago fritzz 883",
         "R$ 885,24"
        ]
       ],
       "shape": {
        "columns": 3,
        "rows": 20
       }
      },
      "text/html": [
       "<div>\n",
       "<style scoped>\n",
       "    .dataframe tbody tr th:only-of-type {\n",
       "        vertical-align: middle;\n",
       "    }\n",
       "\n",
       "    .dataframe tbody tr th {\n",
       "        vertical-align: top;\n",
       "    }\n",
       "\n",
       "    .dataframe thead th {\n",
       "        text-align: right;\n",
       "    }\n",
       "</style>\n",
       "<table border=\"1\" class=\"dataframe\">\n",
       "  <thead>\n",
       "    <tr style=\"text-align: right;\">\n",
       "      <th></th>\n",
       "      <th>Data de venda</th>\n",
       "      <th>Cliente</th>\n",
       "      <th>Valor da compra</th>\n",
       "    </tr>\n",
       "  </thead>\n",
       "  <tbody>\n",
       "    <tr>\n",
       "      <th>0</th>\n",
       "      <td>06/06/2022</td>\n",
       "      <td>@ANA _LUCIA 321</td>\n",
       "      <td>R$ 836,5</td>\n",
       "    </tr>\n",
       "    <tr>\n",
       "      <th>1</th>\n",
       "      <td>06/06/2022</td>\n",
       "      <td>DieGO ARMANDIU 210</td>\n",
       "      <td>R$ 573,33</td>\n",
       "    </tr>\n",
       "    <tr>\n",
       "      <th>2</th>\n",
       "      <td>06/06/2022</td>\n",
       "      <td>DieGO ARMANDIU 210</td>\n",
       "      <td>R$ 392,8</td>\n",
       "    </tr>\n",
       "    <tr>\n",
       "      <th>3</th>\n",
       "      <td>06/06/2022</td>\n",
       "      <td>DieGO ARMANDIU 210</td>\n",
       "      <td>R$ 512,34</td>\n",
       "    </tr>\n",
       "    <tr>\n",
       "      <th>4</th>\n",
       "      <td>07/06/2022</td>\n",
       "      <td>Isabely JOanes 738</td>\n",
       "      <td>R$ 825,31</td>\n",
       "    </tr>\n",
       "    <tr>\n",
       "      <th>5</th>\n",
       "      <td>07/06/2022</td>\n",
       "      <td>Isabely JOanes 738</td>\n",
       "      <td>R$ 168,07</td>\n",
       "    </tr>\n",
       "    <tr>\n",
       "      <th>6</th>\n",
       "      <td>07/06/2022</td>\n",
       "      <td>Isabely JOanes 738</td>\n",
       "      <td>R$ 339,18</td>\n",
       "    </tr>\n",
       "    <tr>\n",
       "      <th>7</th>\n",
       "      <td>07/06/2022</td>\n",
       "      <td>Isabely JOanes 738</td>\n",
       "      <td>R$ 314,69</td>\n",
       "    </tr>\n",
       "    <tr>\n",
       "      <th>8</th>\n",
       "      <td>08/06/2022</td>\n",
       "      <td>Isabely JOanes 738</td>\n",
       "      <td>R$ 682,05</td>\n",
       "    </tr>\n",
       "    <tr>\n",
       "      <th>9</th>\n",
       "      <td>08/06/2022</td>\n",
       "      <td>JOãO Gabriel 671</td>\n",
       "      <td>R$ 386,34</td>\n",
       "    </tr>\n",
       "    <tr>\n",
       "      <th>10</th>\n",
       "      <td>08/06/2022</td>\n",
       "      <td>Julya meireles 914</td>\n",
       "      <td>R$ 622,65</td>\n",
       "    </tr>\n",
       "    <tr>\n",
       "      <th>11</th>\n",
       "      <td>08/06/2022</td>\n",
       "      <td>Julya meireles 914</td>\n",
       "      <td>R$ 630,79</td>\n",
       "    </tr>\n",
       "    <tr>\n",
       "      <th>12</th>\n",
       "      <td>09/06/2022</td>\n",
       "      <td>Julya meireles 914</td>\n",
       "      <td>R$ 390,3</td>\n",
       "    </tr>\n",
       "    <tr>\n",
       "      <th>13</th>\n",
       "      <td>09/06/2022</td>\n",
       "      <td>MaRIA Julia 444</td>\n",
       "      <td>R$ 759,16</td>\n",
       "    </tr>\n",
       "    <tr>\n",
       "      <th>14</th>\n",
       "      <td>09/06/2022</td>\n",
       "      <td>MaRIA Julia 444</td>\n",
       "      <td>R$ 334,47</td>\n",
       "    </tr>\n",
       "    <tr>\n",
       "      <th>15</th>\n",
       "      <td>09/06/2022</td>\n",
       "      <td>MaRIA Julia 444</td>\n",
       "      <td>R$ 678,78</td>\n",
       "    </tr>\n",
       "    <tr>\n",
       "      <th>16</th>\n",
       "      <td>10/06/2022</td>\n",
       "      <td>MaRIA Julia 444</td>\n",
       "      <td>R$ 314,24</td>\n",
       "    </tr>\n",
       "    <tr>\n",
       "      <th>17</th>\n",
       "      <td>10/06/2022</td>\n",
       "      <td>PEDRO PASCO 812</td>\n",
       "      <td>R$ 311,15</td>\n",
       "    </tr>\n",
       "    <tr>\n",
       "      <th>18</th>\n",
       "      <td>10/06/2022</td>\n",
       "      <td>Paulo castro 481</td>\n",
       "      <td>R$ 899,16</td>\n",
       "    </tr>\n",
       "    <tr>\n",
       "      <th>19</th>\n",
       "      <td>10/06/2022</td>\n",
       "      <td>Thiago fritzz 883</td>\n",
       "      <td>R$ 885,24</td>\n",
       "    </tr>\n",
       "  </tbody>\n",
       "</table>\n",
       "</div>"
      ],
      "text/plain": [
       "   Data de venda             Cliente Valor da compra\n",
       "0     06/06/2022     @ANA _LUCIA 321        R$ 836,5\n",
       "1     06/06/2022  DieGO ARMANDIU 210       R$ 573,33\n",
       "2     06/06/2022  DieGO ARMANDIU 210        R$ 392,8\n",
       "3     06/06/2022  DieGO ARMANDIU 210       R$ 512,34\n",
       "4     07/06/2022  Isabely JOanes 738       R$ 825,31\n",
       "5     07/06/2022  Isabely JOanes 738       R$ 168,07\n",
       "6     07/06/2022  Isabely JOanes 738       R$ 339,18\n",
       "7     07/06/2022  Isabely JOanes 738       R$ 314,69\n",
       "8     08/06/2022  Isabely JOanes 738       R$ 682,05\n",
       "9     08/06/2022    JOãO Gabriel 671       R$ 386,34\n",
       "10    08/06/2022  Julya meireles 914       R$ 622,65\n",
       "11    08/06/2022  Julya meireles 914       R$ 630,79\n",
       "12    09/06/2022  Julya meireles 914        R$ 390,3\n",
       "13    09/06/2022     MaRIA Julia 444       R$ 759,16\n",
       "14    09/06/2022     MaRIA Julia 444       R$ 334,47\n",
       "15    09/06/2022     MaRIA Julia 444       R$ 678,78\n",
       "16    10/06/2022     MaRIA Julia 444       R$ 314,24\n",
       "17    10/06/2022     PEDRO PASCO 812       R$ 311,15\n",
       "18    10/06/2022    Paulo castro 481       R$ 899,16\n",
       "19    10/06/2022   Thiago fritzz 883       R$ 885,24"
      ]
     },
     "execution_count": 8,
     "metadata": {},
     "output_type": "execute_result"
    }
   ],
   "source": [
    "# Projeto desafio 01 - Etapa 02\n",
    "dados = dados.explode(colunas[1:])\n",
    "dados.reset_index(drop=True, inplace=True)\n",
    "dados"
   ]
  },
  {
   "cell_type": "code",
   "execution_count": null,
   "id": "ec1fb290",
   "metadata": {},
   "outputs": [
    {
     "name": "stdout",
     "output_type": "stream",
     "text": [
      "<class 'pandas.core.frame.DataFrame'>\n",
      "RangeIndex: 20 entries, 0 to 19\n",
      "Data columns (total 3 columns):\n",
      " #   Column           Non-Null Count  Dtype \n",
      "---  ------           --------------  ----- \n",
      " 0   Data de venda    20 non-null     object\n",
      " 1   Cliente          20 non-null     object\n",
      " 2   Valor da compra  20 non-null     object\n",
      "dtypes: object(3)\n",
      "memory usage: 612.0+ bytes\n"
     ]
    }
   ],
   "source": [
    "# Projeto desafio 01 - Etapa 02\n",
    "dados.info()"
   ]
  },
  {
   "cell_type": "code",
   "execution_count": null,
   "id": "84f6a26e",
   "metadata": {},
   "outputs": [
    {
     "name": "stdout",
     "output_type": "stream",
     "text": [
      "<class 'pandas.core.frame.DataFrame'>\n",
      "RangeIndex: 20 entries, 0 to 19\n",
      "Data columns (total 3 columns):\n",
      " #   Column           Non-Null Count  Dtype  \n",
      "---  ------           --------------  -----  \n",
      " 0   Data de venda    20 non-null     object \n",
      " 1   Cliente          20 non-null     object \n",
      " 2   Valor da compra  20 non-null     float64\n",
      "dtypes: float64(1), object(2)\n",
      "memory usage: 612.0+ bytes\n"
     ]
    }
   ],
   "source": [
    "# Projeto desafio 01 - Etapa 02\n",
    "import numpy as np\n",
    "\n",
    "dados['Valor da compra'] = dados['Valor da compra'].apply(lambda x: x.replace('R$', '').replace(',', '.').strip())\n",
    "dados['Valor da compra'] = dados['Valor da compra'].astype(np.float64)\n",
    "dados.info()"
   ]
  },
  {
   "cell_type": "markdown",
   "id": "eec83380",
   "metadata": {},
   "source": [
    "### Projeto desafio 02 - Etapa 02"
   ]
  },
  {
   "cell_type": "code",
   "execution_count": null,
   "id": "6135784b",
   "metadata": {},
   "outputs": [
    {
     "data": {
      "text/plain": [
       "['apartamento',\n",
       " 'datas_combinadas_pagamento',\n",
       " 'datas_de_pagamento',\n",
       " 'valor_aluguel']"
      ]
     },
     "execution_count": 17,
     "metadata": {},
     "output_type": "execute_result"
    }
   ],
   "source": [
    "# Projeto desafio 02 - Etapa 02\n",
    "colunas_2 = list(dados_2.columns)\n",
    "colunas_2"
   ]
  },
  {
   "cell_type": "code",
   "execution_count": null,
   "id": "3094e666",
   "metadata": {},
   "outputs": [
    {
     "data": {
      "application/vnd.microsoft.datawrangler.viewer.v0+json": {
       "columns": [
        {
         "name": "index",
         "rawType": "int64",
         "type": "integer"
        },
        {
         "name": "apartamento",
         "rawType": "object",
         "type": "string"
        },
        {
         "name": "datas_combinadas_pagamento",
         "rawType": "object",
         "type": "string"
        },
        {
         "name": "datas_de_pagamento",
         "rawType": "object",
         "type": "string"
        },
        {
         "name": "valor_aluguel",
         "rawType": "object",
         "type": "string"
        }
       ],
       "ref": "ae5315b1-a0f4-4bde-b940-4f9a917c6d5e",
       "rows": [
        [
         "0",
         "A101 (blocoAP)",
         "01/06/2022",
         "05/06/2022",
         "$ 1000,0 reais"
        ],
        [
         "1",
         "A101 (blocoAP)",
         "01/07/2022",
         "03/07/2022",
         "$ 2500,0 reais"
        ],
        [
         "2",
         "A102 (blocoAP)",
         "02/06/2022",
         "02/06/2022",
         "$ 1100,0 reais"
        ],
        [
         "3",
         "A102 (blocoAP)",
         "02/07/2022",
         "06/07/2022",
         "$ 2600,0 reais"
        ],
        [
         "4",
         "B201 (blocoAP)",
         "03/06/2022",
         "07/06/2022",
         "$ 1200,0 reais"
        ],
        [
         "5",
         "B201 (blocoAP)",
         "03/07/2022",
         "03/07/2022",
         "$ 2700,0 reais"
        ],
        [
         "6",
         "B202 (blocoAP)",
         "04/06/2022",
         "07/06/2022",
         "$ 1300,0 reais"
        ],
        [
         "7",
         "B202 (blocoAP)",
         "04/07/2022",
         "05/07/2022",
         "$ 2800,0 reais"
        ],
        [
         "8",
         "C301 (blocoAP)",
         "05/06/2022",
         "10/06/2022",
         "$ 1400,0 reais"
        ],
        [
         "9",
         "C301 (blocoAP)",
         "05/07/2022",
         "09/07/2022",
         "$ 2900,0 reais"
        ],
        [
         "10",
         "C302 (blocoAP)",
         "06/06/2022",
         "08/06/2022",
         "$ 1500,0 reais"
        ],
        [
         "11",
         "C302 (blocoAP)",
         "06/07/2022",
         "12/07/2022",
         "$ 1200,0 reais"
        ],
        [
         "12",
         "D401 (blocoAP)",
         "07/06/2022",
         "07/06/2022",
         "$ 1600,0 reais"
        ],
        [
         "13",
         "D401 (blocoAP)",
         "07/07/2022",
         "09/07/2022",
         "$ 1300,0 reais"
        ],
        [
         "14",
         "D402 (blocoAP)",
         "08/06/2022",
         "10/06/2022",
         "$ 1700,0 reais"
        ],
        [
         "15",
         "D402 (blocoAP)",
         "08/07/2022",
         "14/07/2022",
         "$ 1400,0 reais"
        ],
        [
         "16",
         "E501 (blocoAP)",
         "09/06/2022",
         "10/06/2022",
         "$ 1800,0 reais"
        ],
        [
         "17",
         "E501 (blocoAP)",
         "09/07/2022",
         "09/07/2022",
         "$ 1500,0 reais"
        ],
        [
         "18",
         "E502 (blocoAP)",
         "10/06/2022",
         "16/06/2022",
         "$ 1900,0 reais"
        ],
        [
         "19",
         "E502 (blocoAP)",
         "10/07/2022",
         "12/07/2022",
         "$ 1600,0 reais"
        ],
        [
         "20",
         "F601 (blocoAP)",
         "11/06/2022",
         "17/06/2022",
         "$ 2000,0 reais"
        ],
        [
         "21",
         "F601 (blocoAP)",
         "11/07/2022",
         "13/07/2022",
         "$ 1000,0 reais"
        ],
        [
         "22",
         "F602 (blocoAP)",
         "12/06/2022",
         "15/06/2022",
         "$ 2100,0 reais"
        ],
        [
         "23",
         "F602 (blocoAP)",
         "12/07/2022",
         "12/07/2022",
         "$ 1100,0 reais"
        ],
        [
         "24",
         "G701 (blocoAP)",
         "13/06/2022",
         "19/06/2022",
         "$ 2200,0 reais"
        ],
        [
         "25",
         "G701 (blocoAP)",
         "13/07/2022",
         "20/07/2022",
         "$ 1200,0 reais"
        ],
        [
         "26",
         "G702 (blocoAP)",
         "14/06/2022",
         "15/06/2022",
         "$ 2300,0 reais"
        ],
        [
         "27",
         "G702 (blocoAP)",
         "14/07/2022",
         "17/07/2022",
         "$ 2100,0 reais"
        ],
        [
         "28",
         "H801 (blocoAP)",
         "15/06/2022",
         "18/06/2022",
         "$ 2400,0 reais"
        ],
        [
         "29",
         "H801 (blocoAP)",
         "15/07/2022",
         "16/07/2022",
         "$ 2200,0 reais"
        ]
       ],
       "shape": {
        "columns": 4,
        "rows": 30
       }
      },
      "text/html": [
       "<div>\n",
       "<style scoped>\n",
       "    .dataframe tbody tr th:only-of-type {\n",
       "        vertical-align: middle;\n",
       "    }\n",
       "\n",
       "    .dataframe tbody tr th {\n",
       "        vertical-align: top;\n",
       "    }\n",
       "\n",
       "    .dataframe thead th {\n",
       "        text-align: right;\n",
       "    }\n",
       "</style>\n",
       "<table border=\"1\" class=\"dataframe\">\n",
       "  <thead>\n",
       "    <tr style=\"text-align: right;\">\n",
       "      <th></th>\n",
       "      <th>apartamento</th>\n",
       "      <th>datas_combinadas_pagamento</th>\n",
       "      <th>datas_de_pagamento</th>\n",
       "      <th>valor_aluguel</th>\n",
       "    </tr>\n",
       "  </thead>\n",
       "  <tbody>\n",
       "    <tr>\n",
       "      <th>0</th>\n",
       "      <td>A101 (blocoAP)</td>\n",
       "      <td>01/06/2022</td>\n",
       "      <td>05/06/2022</td>\n",
       "      <td>$ 1000,0 reais</td>\n",
       "    </tr>\n",
       "    <tr>\n",
       "      <th>1</th>\n",
       "      <td>A101 (blocoAP)</td>\n",
       "      <td>01/07/2022</td>\n",
       "      <td>03/07/2022</td>\n",
       "      <td>$ 2500,0 reais</td>\n",
       "    </tr>\n",
       "    <tr>\n",
       "      <th>2</th>\n",
       "      <td>A102 (blocoAP)</td>\n",
       "      <td>02/06/2022</td>\n",
       "      <td>02/06/2022</td>\n",
       "      <td>$ 1100,0 reais</td>\n",
       "    </tr>\n",
       "    <tr>\n",
       "      <th>3</th>\n",
       "      <td>A102 (blocoAP)</td>\n",
       "      <td>02/07/2022</td>\n",
       "      <td>06/07/2022</td>\n",
       "      <td>$ 2600,0 reais</td>\n",
       "    </tr>\n",
       "    <tr>\n",
       "      <th>4</th>\n",
       "      <td>B201 (blocoAP)</td>\n",
       "      <td>03/06/2022</td>\n",
       "      <td>07/06/2022</td>\n",
       "      <td>$ 1200,0 reais</td>\n",
       "    </tr>\n",
       "    <tr>\n",
       "      <th>5</th>\n",
       "      <td>B201 (blocoAP)</td>\n",
       "      <td>03/07/2022</td>\n",
       "      <td>03/07/2022</td>\n",
       "      <td>$ 2700,0 reais</td>\n",
       "    </tr>\n",
       "    <tr>\n",
       "      <th>6</th>\n",
       "      <td>B202 (blocoAP)</td>\n",
       "      <td>04/06/2022</td>\n",
       "      <td>07/06/2022</td>\n",
       "      <td>$ 1300,0 reais</td>\n",
       "    </tr>\n",
       "    <tr>\n",
       "      <th>7</th>\n",
       "      <td>B202 (blocoAP)</td>\n",
       "      <td>04/07/2022</td>\n",
       "      <td>05/07/2022</td>\n",
       "      <td>$ 2800,0 reais</td>\n",
       "    </tr>\n",
       "    <tr>\n",
       "      <th>8</th>\n",
       "      <td>C301 (blocoAP)</td>\n",
       "      <td>05/06/2022</td>\n",
       "      <td>10/06/2022</td>\n",
       "      <td>$ 1400,0 reais</td>\n",
       "    </tr>\n",
       "    <tr>\n",
       "      <th>9</th>\n",
       "      <td>C301 (blocoAP)</td>\n",
       "      <td>05/07/2022</td>\n",
       "      <td>09/07/2022</td>\n",
       "      <td>$ 2900,0 reais</td>\n",
       "    </tr>\n",
       "    <tr>\n",
       "      <th>10</th>\n",
       "      <td>C302 (blocoAP)</td>\n",
       "      <td>06/06/2022</td>\n",
       "      <td>08/06/2022</td>\n",
       "      <td>$ 1500,0 reais</td>\n",
       "    </tr>\n",
       "    <tr>\n",
       "      <th>11</th>\n",
       "      <td>C302 (blocoAP)</td>\n",
       "      <td>06/07/2022</td>\n",
       "      <td>12/07/2022</td>\n",
       "      <td>$ 1200,0 reais</td>\n",
       "    </tr>\n",
       "    <tr>\n",
       "      <th>12</th>\n",
       "      <td>D401 (blocoAP)</td>\n",
       "      <td>07/06/2022</td>\n",
       "      <td>07/06/2022</td>\n",
       "      <td>$ 1600,0 reais</td>\n",
       "    </tr>\n",
       "    <tr>\n",
       "      <th>13</th>\n",
       "      <td>D401 (blocoAP)</td>\n",
       "      <td>07/07/2022</td>\n",
       "      <td>09/07/2022</td>\n",
       "      <td>$ 1300,0 reais</td>\n",
       "    </tr>\n",
       "    <tr>\n",
       "      <th>14</th>\n",
       "      <td>D402 (blocoAP)</td>\n",
       "      <td>08/06/2022</td>\n",
       "      <td>10/06/2022</td>\n",
       "      <td>$ 1700,0 reais</td>\n",
       "    </tr>\n",
       "    <tr>\n",
       "      <th>15</th>\n",
       "      <td>D402 (blocoAP)</td>\n",
       "      <td>08/07/2022</td>\n",
       "      <td>14/07/2022</td>\n",
       "      <td>$ 1400,0 reais</td>\n",
       "    </tr>\n",
       "    <tr>\n",
       "      <th>16</th>\n",
       "      <td>E501 (blocoAP)</td>\n",
       "      <td>09/06/2022</td>\n",
       "      <td>10/06/2022</td>\n",
       "      <td>$ 1800,0 reais</td>\n",
       "    </tr>\n",
       "    <tr>\n",
       "      <th>17</th>\n",
       "      <td>E501 (blocoAP)</td>\n",
       "      <td>09/07/2022</td>\n",
       "      <td>09/07/2022</td>\n",
       "      <td>$ 1500,0 reais</td>\n",
       "    </tr>\n",
       "    <tr>\n",
       "      <th>18</th>\n",
       "      <td>E502 (blocoAP)</td>\n",
       "      <td>10/06/2022</td>\n",
       "      <td>16/06/2022</td>\n",
       "      <td>$ 1900,0 reais</td>\n",
       "    </tr>\n",
       "    <tr>\n",
       "      <th>19</th>\n",
       "      <td>E502 (blocoAP)</td>\n",
       "      <td>10/07/2022</td>\n",
       "      <td>12/07/2022</td>\n",
       "      <td>$ 1600,0 reais</td>\n",
       "    </tr>\n",
       "    <tr>\n",
       "      <th>20</th>\n",
       "      <td>F601 (blocoAP)</td>\n",
       "      <td>11/06/2022</td>\n",
       "      <td>17/06/2022</td>\n",
       "      <td>$ 2000,0 reais</td>\n",
       "    </tr>\n",
       "    <tr>\n",
       "      <th>21</th>\n",
       "      <td>F601 (blocoAP)</td>\n",
       "      <td>11/07/2022</td>\n",
       "      <td>13/07/2022</td>\n",
       "      <td>$ 1000,0 reais</td>\n",
       "    </tr>\n",
       "    <tr>\n",
       "      <th>22</th>\n",
       "      <td>F602 (blocoAP)</td>\n",
       "      <td>12/06/2022</td>\n",
       "      <td>15/06/2022</td>\n",
       "      <td>$ 2100,0 reais</td>\n",
       "    </tr>\n",
       "    <tr>\n",
       "      <th>23</th>\n",
       "      <td>F602 (blocoAP)</td>\n",
       "      <td>12/07/2022</td>\n",
       "      <td>12/07/2022</td>\n",
       "      <td>$ 1100,0 reais</td>\n",
       "    </tr>\n",
       "    <tr>\n",
       "      <th>24</th>\n",
       "      <td>G701 (blocoAP)</td>\n",
       "      <td>13/06/2022</td>\n",
       "      <td>19/06/2022</td>\n",
       "      <td>$ 2200,0 reais</td>\n",
       "    </tr>\n",
       "    <tr>\n",
       "      <th>25</th>\n",
       "      <td>G701 (blocoAP)</td>\n",
       "      <td>13/07/2022</td>\n",
       "      <td>20/07/2022</td>\n",
       "      <td>$ 1200,0 reais</td>\n",
       "    </tr>\n",
       "    <tr>\n",
       "      <th>26</th>\n",
       "      <td>G702 (blocoAP)</td>\n",
       "      <td>14/06/2022</td>\n",
       "      <td>15/06/2022</td>\n",
       "      <td>$ 2300,0 reais</td>\n",
       "    </tr>\n",
       "    <tr>\n",
       "      <th>27</th>\n",
       "      <td>G702 (blocoAP)</td>\n",
       "      <td>14/07/2022</td>\n",
       "      <td>17/07/2022</td>\n",
       "      <td>$ 2100,0 reais</td>\n",
       "    </tr>\n",
       "    <tr>\n",
       "      <th>28</th>\n",
       "      <td>H801 (blocoAP)</td>\n",
       "      <td>15/06/2022</td>\n",
       "      <td>18/06/2022</td>\n",
       "      <td>$ 2400,0 reais</td>\n",
       "    </tr>\n",
       "    <tr>\n",
       "      <th>29</th>\n",
       "      <td>H801 (blocoAP)</td>\n",
       "      <td>15/07/2022</td>\n",
       "      <td>16/07/2022</td>\n",
       "      <td>$ 2200,0 reais</td>\n",
       "    </tr>\n",
       "  </tbody>\n",
       "</table>\n",
       "</div>"
      ],
      "text/plain": [
       "       apartamento datas_combinadas_pagamento datas_de_pagamento  \\\n",
       "0   A101 (blocoAP)                 01/06/2022         05/06/2022   \n",
       "1   A101 (blocoAP)                 01/07/2022         03/07/2022   \n",
       "2   A102 (blocoAP)                 02/06/2022         02/06/2022   \n",
       "3   A102 (blocoAP)                 02/07/2022         06/07/2022   \n",
       "4   B201 (blocoAP)                 03/06/2022         07/06/2022   \n",
       "5   B201 (blocoAP)                 03/07/2022         03/07/2022   \n",
       "6   B202 (blocoAP)                 04/06/2022         07/06/2022   \n",
       "7   B202 (blocoAP)                 04/07/2022         05/07/2022   \n",
       "8   C301 (blocoAP)                 05/06/2022         10/06/2022   \n",
       "9   C301 (blocoAP)                 05/07/2022         09/07/2022   \n",
       "10  C302 (blocoAP)                 06/06/2022         08/06/2022   \n",
       "11  C302 (blocoAP)                 06/07/2022         12/07/2022   \n",
       "12  D401 (blocoAP)                 07/06/2022         07/06/2022   \n",
       "13  D401 (blocoAP)                 07/07/2022         09/07/2022   \n",
       "14  D402 (blocoAP)                 08/06/2022         10/06/2022   \n",
       "15  D402 (blocoAP)                 08/07/2022         14/07/2022   \n",
       "16  E501 (blocoAP)                 09/06/2022         10/06/2022   \n",
       "17  E501 (blocoAP)                 09/07/2022         09/07/2022   \n",
       "18  E502 (blocoAP)                 10/06/2022         16/06/2022   \n",
       "19  E502 (blocoAP)                 10/07/2022         12/07/2022   \n",
       "20  F601 (blocoAP)                 11/06/2022         17/06/2022   \n",
       "21  F601 (blocoAP)                 11/07/2022         13/07/2022   \n",
       "22  F602 (blocoAP)                 12/06/2022         15/06/2022   \n",
       "23  F602 (blocoAP)                 12/07/2022         12/07/2022   \n",
       "24  G701 (blocoAP)                 13/06/2022         19/06/2022   \n",
       "25  G701 (blocoAP)                 13/07/2022         20/07/2022   \n",
       "26  G702 (blocoAP)                 14/06/2022         15/06/2022   \n",
       "27  G702 (blocoAP)                 14/07/2022         17/07/2022   \n",
       "28  H801 (blocoAP)                 15/06/2022         18/06/2022   \n",
       "29  H801 (blocoAP)                 15/07/2022         16/07/2022   \n",
       "\n",
       "     valor_aluguel  \n",
       "0   $ 1000,0 reais  \n",
       "1   $ 2500,0 reais  \n",
       "2   $ 1100,0 reais  \n",
       "3   $ 2600,0 reais  \n",
       "4   $ 1200,0 reais  \n",
       "5   $ 2700,0 reais  \n",
       "6   $ 1300,0 reais  \n",
       "7   $ 2800,0 reais  \n",
       "8   $ 1400,0 reais  \n",
       "9   $ 2900,0 reais  \n",
       "10  $ 1500,0 reais  \n",
       "11  $ 1200,0 reais  \n",
       "12  $ 1600,0 reais  \n",
       "13  $ 1300,0 reais  \n",
       "14  $ 1700,0 reais  \n",
       "15  $ 1400,0 reais  \n",
       "16  $ 1800,0 reais  \n",
       "17  $ 1500,0 reais  \n",
       "18  $ 1900,0 reais  \n",
       "19  $ 1600,0 reais  \n",
       "20  $ 2000,0 reais  \n",
       "21  $ 1000,0 reais  \n",
       "22  $ 2100,0 reais  \n",
       "23  $ 1100,0 reais  \n",
       "24  $ 2200,0 reais  \n",
       "25  $ 1200,0 reais  \n",
       "26  $ 2300,0 reais  \n",
       "27  $ 2100,0 reais  \n",
       "28  $ 2400,0 reais  \n",
       "29  $ 2200,0 reais  "
      ]
     },
     "execution_count": 23,
     "metadata": {},
     "output_type": "execute_result"
    }
   ],
   "source": [
    "# Projeto desafio 02 - Etapa 02\n",
    "dados_2 = dados_2.explode(colunas_2[1:])\n",
    "dados_2.reset_index(drop=True, inplace=True)\n",
    "dados_2\n"
   ]
  },
  {
   "cell_type": "code",
   "execution_count": null,
   "id": "fcdf9e25",
   "metadata": {},
   "outputs": [
    {
     "name": "stdout",
     "output_type": "stream",
     "text": [
      "<class 'pandas.core.frame.DataFrame'>\n",
      "RangeIndex: 30 entries, 0 to 29\n",
      "Data columns (total 4 columns):\n",
      " #   Column                      Non-Null Count  Dtype \n",
      "---  ------                      --------------  ----- \n",
      " 0   apartamento                 30 non-null     object\n",
      " 1   datas_combinadas_pagamento  30 non-null     object\n",
      " 2   datas_de_pagamento          30 non-null     object\n",
      " 3   valor_aluguel               30 non-null     object\n",
      "dtypes: object(4)\n",
      "memory usage: 1.1+ KB\n"
     ]
    }
   ],
   "source": [
    "# Projeto desafio 02 - Etapa 02\n",
    "dados_2.info()"
   ]
  },
  {
   "cell_type": "code",
   "execution_count": 26,
   "id": "9237bf9c",
   "metadata": {},
   "outputs": [
    {
     "name": "stdout",
     "output_type": "stream",
     "text": [
      "<class 'pandas.core.frame.DataFrame'>\n",
      "RangeIndex: 20 entries, 0 to 19\n",
      "Data columns (total 3 columns):\n",
      " #   Column           Non-Null Count  Dtype  \n",
      "---  ------           --------------  -----  \n",
      " 0   Data de venda    20 non-null     object \n",
      " 1   Cliente          20 non-null     object \n",
      " 2   Valor da compra  20 non-null     float64\n",
      "dtypes: float64(1), object(2)\n",
      "memory usage: 612.0+ bytes\n"
     ]
    }
   ],
   "source": [
    "dados_2['valor_aluguel'] = dados_2['valor_aluguel'].apply(lambda x: x.replace('$', '').replace(' reais', '').replace(',','.').strip())\n",
    "\n",
    "dados_2['valor_aluguel'] = dados_2['valor_aluguel'].astype(np.float64)\n",
    "\n",
    "dados.info()"
   ]
  }
 ],
 "metadata": {
  "kernelspec": {
   "display_name": ".venv",
   "language": "python",
   "name": "python3"
  },
  "language_info": {
   "codemirror_mode": {
    "name": "ipython",
    "version": 3
   },
   "file_extension": ".py",
   "mimetype": "text/x-python",
   "name": "python",
   "nbconvert_exporter": "python",
   "pygments_lexer": "ipython3",
   "version": "3.13.2"
  }
 },
 "nbformat": 4,
 "nbformat_minor": 5
}
