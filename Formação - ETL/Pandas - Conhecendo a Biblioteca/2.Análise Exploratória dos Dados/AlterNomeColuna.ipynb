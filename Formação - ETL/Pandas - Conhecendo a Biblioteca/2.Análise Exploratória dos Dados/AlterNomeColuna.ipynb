{
 "cells": [
  {
   "cell_type": "markdown",
   "id": "d16fd430",
   "metadata": {},
   "source": [
    "Quando trabalhamos com bases de dados, em alguns momentos, pode ser necessário fazermos alterações nos nomes das colunas. Por exemplo, quando criamos o seguinte DataFrame no nosso projeto:"
   ]
  },
  {
   "cell_type": "code",
   "execution_count": 1,
   "id": "d4f9ca98",
   "metadata": {},
   "outputs": [],
   "source": [
    "import pandas as pd\n",
    "\n",
    "url = 'https://raw.githubusercontent.com/alura-cursos/pandas-conhecendo-a-biblioteca/main/base-de-dados/aluguel.csv'\n",
    "\n",
    "dados = pd.read_csv(url, sep=';')"
   ]
  },
  {
   "cell_type": "code",
   "execution_count": 2,
   "id": "d824084f",
   "metadata": {},
   "outputs": [],
   "source": [
    "imoveis_comerciais = ['Conjunto Comercial/Sala', 'Prédio Inteiro','Loja/Salão','Galpão/Depósito/Armazém', 'Casa Comercial','Terreno Padrão','Loja Shopping/ Ct Comercial','Box/Garagem','Chácara', 'Loteamento/Condomínio','Sítio', 'Pousada/Chalé', 'Studio', 'Hotel', 'Indústria']"
   ]
  },
  {
   "cell_type": "code",
   "execution_count": 8,
   "id": "0807599b",
   "metadata": {},
   "outputs": [],
   "source": [
    "df = dados.query('@imoveis_comerciais not in Tipo')"
   ]
  },
  {
   "cell_type": "code",
   "execution_count": 9,
   "id": "01569cc2",
   "metadata": {},
   "outputs": [],
   "source": [
    "# Salvando o DataFrame em uma variável\n",
    "df_exemplo = df['Tipo'].value_counts(normalize=True).to_frame().sort_values('Tipo')\n"
   ]
  },
  {
   "cell_type": "code",
   "execution_count": 13,
   "id": "495aa6b7",
   "metadata": {},
   "outputs": [
    {
     "data": {
      "application/vnd.microsoft.datawrangler.viewer.v0+json": {
       "columns": [
        {
         "name": "Tipo",
         "rawType": "object",
         "type": "string"
        },
        {
         "name": "proportion",
         "rawType": "float64",
         "type": "float"
        }
       ],
       "ref": "c496a27b-f342-4043-9115-f9b9142d8834",
       "rows": [
        [
         "Apartamento",
         "0.8452849785779201"
        ],
        [
         "Casa",
         "0.04184879040983252"
        ],
        [
         "Casa de Condomínio",
         "0.0431038213528368"
        ],
        [
         "Casa de Vila",
         "0.0107759553382092"
        ],
        [
         "Flat",
         "0.02059981823689791"
        ],
        [
         "Loft",
         "0.0022071233825247762"
        ],
        [
         "Quitinete",
         "0.03617951270177868"
        ]
       ],
       "shape": {
        "columns": 1,
        "rows": 7
       }
      },
      "text/html": [
       "<div>\n",
       "<style scoped>\n",
       "    .dataframe tbody tr th:only-of-type {\n",
       "        vertical-align: middle;\n",
       "    }\n",
       "\n",
       "    .dataframe tbody tr th {\n",
       "        vertical-align: top;\n",
       "    }\n",
       "\n",
       "    .dataframe thead th {\n",
       "        text-align: right;\n",
       "    }\n",
       "</style>\n",
       "<table border=\"1\" class=\"dataframe\">\n",
       "  <thead>\n",
       "    <tr style=\"text-align: right;\">\n",
       "      <th></th>\n",
       "      <th>proportion</th>\n",
       "    </tr>\n",
       "    <tr>\n",
       "      <th>Tipo</th>\n",
       "      <th></th>\n",
       "    </tr>\n",
       "  </thead>\n",
       "  <tbody>\n",
       "    <tr>\n",
       "      <th>Apartamento</th>\n",
       "      <td>0.845285</td>\n",
       "    </tr>\n",
       "    <tr>\n",
       "      <th>Casa</th>\n",
       "      <td>0.041849</td>\n",
       "    </tr>\n",
       "    <tr>\n",
       "      <th>Casa de Condomínio</th>\n",
       "      <td>0.043104</td>\n",
       "    </tr>\n",
       "    <tr>\n",
       "      <th>Casa de Vila</th>\n",
       "      <td>0.010776</td>\n",
       "    </tr>\n",
       "    <tr>\n",
       "      <th>Flat</th>\n",
       "      <td>0.020600</td>\n",
       "    </tr>\n",
       "    <tr>\n",
       "      <th>Loft</th>\n",
       "      <td>0.002207</td>\n",
       "    </tr>\n",
       "    <tr>\n",
       "      <th>Quitinete</th>\n",
       "      <td>0.036180</td>\n",
       "    </tr>\n",
       "  </tbody>\n",
       "</table>\n",
       "</div>"
      ],
      "text/plain": [
       "                    proportion\n",
       "Tipo                          \n",
       "Apartamento           0.845285\n",
       "Casa                  0.041849\n",
       "Casa de Condomínio    0.043104\n",
       "Casa de Vila          0.010776\n",
       "Flat                  0.020600\n",
       "Loft                  0.002207\n",
       "Quitinete             0.036180"
      ]
     },
     "execution_count": 13,
     "metadata": {},
     "output_type": "execute_result"
    }
   ],
   "source": [
    "df_exemplo.rename(columns={'Tipo': 'Percentuais'}, inplace=True)\n",
    "\n",
    "# Visualizando o DataFrame\n",
    "df_exemplo"
   ]
  }
 ],
 "metadata": {
  "kernelspec": {
   "display_name": ".venv",
   "language": "python",
   "name": "python3"
  },
  "language_info": {
   "codemirror_mode": {
    "name": "ipython",
    "version": 3
   },
   "file_extension": ".py",
   "mimetype": "text/x-python",
   "name": "python",
   "nbconvert_exporter": "python",
   "pygments_lexer": "ipython3",
   "version": "3.13.2"
  }
 },
 "nbformat": 4,
 "nbformat_minor": 5
}
