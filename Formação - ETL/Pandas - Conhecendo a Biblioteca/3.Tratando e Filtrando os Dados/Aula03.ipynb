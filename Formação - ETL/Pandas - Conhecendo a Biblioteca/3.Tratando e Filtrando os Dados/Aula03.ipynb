{
 "cells": [
  {
   "cell_type": "markdown",
   "id": "0bc61015",
   "metadata": {},
   "source": [
    "# Tratando e filtrando os dados"
   ]
  },
  {
   "cell_type": "markdown",
   "id": "1aef8e5b",
   "metadata": {},
   "source": [
    "## Lidando com dados nulos"
   ]
  },
  {
   "cell_type": "code",
   "execution_count": 4,
   "id": "b0a5dcde",
   "metadata": {},
   "outputs": [],
   "source": [
    "import pandas as pd\n",
    "\n",
    "url = 'https://raw.githubusercontent.com/alura-cursos/pandas-conhecendo-a-biblioteca/main/base-de-dados/aluguel.csv'\n",
    "\n",
    "dados = pd.read_csv(url, sep=';')"
   ]
  },
  {
   "cell_type": "code",
   "execution_count": 5,
   "id": "4798e450",
   "metadata": {},
   "outputs": [],
   "source": [
    "imoveis_comerciais = ['Conjunto Comercial/Sala', 'Prédio Inteiro','Loja/Salão','Galpão/Depósito/Armazém', 'Casa Comercial','Terreno Padrão','Loja Shopping/ Ct Comercial','Box/Garagem','Chácara', 'Loteamento/Condomínio','Sítio', 'Pousada/Chalé', 'Studio', 'Hotel', 'Indústria']"
   ]
  },
  {
   "cell_type": "code",
   "execution_count": 9,
   "id": "69a9b411",
   "metadata": {},
   "outputs": [],
   "source": [
    "df = dados.query('@imoveis_comerciais not in Tipo')\n",
    "df = df.query('Tipo == \"Apartamento\"')"
   ]
  },
  {
   "cell_type": "code",
   "execution_count": 10,
   "id": "48364de4",
   "metadata": {},
   "outputs": [
    {
     "data": {
      "application/vnd.microsoft.datawrangler.viewer.v0+json": {
       "columns": [
        {
         "name": "index",
         "rawType": "int64",
         "type": "integer"
        },
        {
         "name": "Tipo",
         "rawType": "bool",
         "type": "boolean"
        },
        {
         "name": "Bairro",
         "rawType": "bool",
         "type": "boolean"
        },
        {
         "name": "Quartos",
         "rawType": "bool",
         "type": "boolean"
        },
        {
         "name": "Vagas",
         "rawType": "bool",
         "type": "boolean"
        },
        {
         "name": "Suites",
         "rawType": "bool",
         "type": "boolean"
        },
        {
         "name": "Area",
         "rawType": "bool",
         "type": "boolean"
        },
        {
         "name": "Valor",
         "rawType": "bool",
         "type": "boolean"
        },
        {
         "name": "Condominio",
         "rawType": "bool",
         "type": "boolean"
        },
        {
         "name": "IPTU",
         "rawType": "bool",
         "type": "boolean"
        }
       ],
       "ref": "27c7721c-43ab-44d6-a0e2-fe23d96257b1",
       "rows": [
        [
         "3",
         "False",
         "False",
         "False",
         "False",
         "False",
         "False",
         "False",
         "False",
         "False"
        ],
        [
         "4",
         "False",
         "False",
         "False",
         "False",
         "False",
         "False",
         "False",
         "False",
         "True"
        ],
        [
         "5",
         "False",
         "False",
         "False",
         "False",
         "False",
         "False",
         "False",
         "True",
         "True"
        ],
        [
         "6",
         "False",
         "False",
         "False",
         "False",
         "False",
         "False",
         "False",
         "False",
         "False"
        ],
        [
         "10",
         "False",
         "False",
         "False",
         "False",
         "False",
         "False",
         "False",
         "True",
         "True"
        ],
        [
         "11",
         "False",
         "False",
         "False",
         "False",
         "False",
         "False",
         "False",
         "False",
         "False"
        ],
        [
         "12",
         "False",
         "False",
         "False",
         "False",
         "False",
         "False",
         "False",
         "False",
         "False"
        ],
        [
         "13",
         "False",
         "False",
         "False",
         "False",
         "False",
         "False",
         "False",
         "False",
         "False"
        ],
        [
         "15",
         "False",
         "False",
         "False",
         "False",
         "False",
         "False",
         "False",
         "False",
         "False"
        ],
        [
         "19",
         "False",
         "False",
         "False",
         "False",
         "False",
         "False",
         "False",
         "False",
         "False"
        ],
        [
         "20",
         "False",
         "False",
         "False",
         "False",
         "False",
         "False",
         "False",
         "False",
         "False"
        ],
        [
         "21",
         "False",
         "False",
         "False",
         "False",
         "False",
         "False",
         "False",
         "False",
         "False"
        ],
        [
         "23",
         "False",
         "False",
         "False",
         "False",
         "False",
         "False",
         "False",
         "False",
         "True"
        ],
        [
         "24",
         "False",
         "False",
         "False",
         "False",
         "False",
         "False",
         "False",
         "False",
         "True"
        ],
        [
         "27",
         "False",
         "False",
         "False",
         "False",
         "False",
         "False",
         "False",
         "False",
         "False"
        ],
        [
         "28",
         "False",
         "False",
         "False",
         "False",
         "False",
         "False",
         "False",
         "False",
         "False"
        ],
        [
         "30",
         "False",
         "False",
         "False",
         "False",
         "False",
         "False",
         "False",
         "False",
         "False"
        ],
        [
         "32",
         "False",
         "False",
         "False",
         "False",
         "False",
         "False",
         "False",
         "False",
         "True"
        ],
        [
         "33",
         "False",
         "False",
         "False",
         "False",
         "False",
         "False",
         "False",
         "False",
         "False"
        ],
        [
         "34",
         "False",
         "False",
         "False",
         "False",
         "False",
         "False",
         "False",
         "False",
         "False"
        ],
        [
         "36",
         "False",
         "False",
         "False",
         "False",
         "False",
         "False",
         "False",
         "False",
         "True"
        ],
        [
         "37",
         "False",
         "False",
         "False",
         "False",
         "False",
         "False",
         "False",
         "False",
         "False"
        ],
        [
         "40",
         "False",
         "False",
         "False",
         "False",
         "False",
         "False",
         "False",
         "False",
         "False"
        ],
        [
         "41",
         "False",
         "False",
         "False",
         "False",
         "False",
         "False",
         "False",
         "False",
         "False"
        ],
        [
         "43",
         "False",
         "False",
         "False",
         "False",
         "False",
         "False",
         "False",
         "False",
         "False"
        ],
        [
         "44",
         "False",
         "False",
         "False",
         "False",
         "False",
         "False",
         "False",
         "False",
         "False"
        ],
        [
         "47",
         "False",
         "False",
         "False",
         "False",
         "False",
         "False",
         "False",
         "False",
         "True"
        ],
        [
         "48",
         "False",
         "False",
         "False",
         "False",
         "False",
         "False",
         "False",
         "False",
         "True"
        ],
        [
         "49",
         "False",
         "False",
         "False",
         "False",
         "False",
         "False",
         "False",
         "False",
         "False"
        ],
        [
         "50",
         "False",
         "False",
         "False",
         "False",
         "False",
         "False",
         "False",
         "False",
         "False"
        ],
        [
         "51",
         "False",
         "False",
         "False",
         "False",
         "False",
         "False",
         "False",
         "False",
         "False"
        ],
        [
         "54",
         "False",
         "False",
         "False",
         "False",
         "False",
         "False",
         "False",
         "False",
         "False"
        ],
        [
         "55",
         "False",
         "False",
         "False",
         "False",
         "False",
         "False",
         "False",
         "False",
         "False"
        ],
        [
         "56",
         "False",
         "False",
         "False",
         "False",
         "False",
         "False",
         "False",
         "False",
         "False"
        ],
        [
         "57",
         "False",
         "False",
         "False",
         "False",
         "False",
         "False",
         "False",
         "False",
         "False"
        ],
        [
         "60",
         "False",
         "False",
         "False",
         "False",
         "False",
         "False",
         "False",
         "False",
         "False"
        ],
        [
         "62",
         "False",
         "False",
         "False",
         "False",
         "False",
         "False",
         "False",
         "False",
         "False"
        ],
        [
         "63",
         "False",
         "False",
         "False",
         "False",
         "False",
         "False",
         "False",
         "False",
         "False"
        ],
        [
         "64",
         "False",
         "False",
         "False",
         "False",
         "False",
         "False",
         "False",
         "False",
         "False"
        ],
        [
         "65",
         "False",
         "False",
         "False",
         "False",
         "False",
         "False",
         "False",
         "False",
         "False"
        ],
        [
         "66",
         "False",
         "False",
         "False",
         "False",
         "False",
         "False",
         "False",
         "False",
         "False"
        ],
        [
         "67",
         "False",
         "False",
         "False",
         "False",
         "False",
         "False",
         "False",
         "False",
         "False"
        ],
        [
         "68",
         "False",
         "False",
         "False",
         "False",
         "False",
         "False",
         "False",
         "False",
         "False"
        ],
        [
         "70",
         "False",
         "False",
         "False",
         "False",
         "False",
         "False",
         "False",
         "False",
         "False"
        ],
        [
         "71",
         "False",
         "False",
         "False",
         "False",
         "False",
         "False",
         "False",
         "False",
         "True"
        ],
        [
         "73",
         "False",
         "False",
         "False",
         "False",
         "False",
         "False",
         "False",
         "False",
         "False"
        ],
        [
         "75",
         "False",
         "False",
         "False",
         "False",
         "False",
         "False",
         "False",
         "False",
         "True"
        ],
        [
         "76",
         "False",
         "False",
         "False",
         "False",
         "False",
         "False",
         "True",
         "False",
         "False"
        ],
        [
         "77",
         "False",
         "False",
         "False",
         "False",
         "False",
         "False",
         "False",
         "False",
         "False"
        ],
        [
         "88",
         "False",
         "False",
         "False",
         "False",
         "False",
         "False",
         "False",
         "False",
         "False"
        ]
       ],
       "shape": {
        "columns": 9,
        "rows": 19532
       }
      },
      "text/html": [
       "<div>\n",
       "<style scoped>\n",
       "    .dataframe tbody tr th:only-of-type {\n",
       "        vertical-align: middle;\n",
       "    }\n",
       "\n",
       "    .dataframe tbody tr th {\n",
       "        vertical-align: top;\n",
       "    }\n",
       "\n",
       "    .dataframe thead th {\n",
       "        text-align: right;\n",
       "    }\n",
       "</style>\n",
       "<table border=\"1\" class=\"dataframe\">\n",
       "  <thead>\n",
       "    <tr style=\"text-align: right;\">\n",
       "      <th></th>\n",
       "      <th>Tipo</th>\n",
       "      <th>Bairro</th>\n",
       "      <th>Quartos</th>\n",
       "      <th>Vagas</th>\n",
       "      <th>Suites</th>\n",
       "      <th>Area</th>\n",
       "      <th>Valor</th>\n",
       "      <th>Condominio</th>\n",
       "      <th>IPTU</th>\n",
       "    </tr>\n",
       "  </thead>\n",
       "  <tbody>\n",
       "    <tr>\n",
       "      <th>3</th>\n",
       "      <td>False</td>\n",
       "      <td>False</td>\n",
       "      <td>False</td>\n",
       "      <td>False</td>\n",
       "      <td>False</td>\n",
       "      <td>False</td>\n",
       "      <td>False</td>\n",
       "      <td>False</td>\n",
       "      <td>False</td>\n",
       "    </tr>\n",
       "    <tr>\n",
       "      <th>4</th>\n",
       "      <td>False</td>\n",
       "      <td>False</td>\n",
       "      <td>False</td>\n",
       "      <td>False</td>\n",
       "      <td>False</td>\n",
       "      <td>False</td>\n",
       "      <td>False</td>\n",
       "      <td>False</td>\n",
       "      <td>True</td>\n",
       "    </tr>\n",
       "    <tr>\n",
       "      <th>5</th>\n",
       "      <td>False</td>\n",
       "      <td>False</td>\n",
       "      <td>False</td>\n",
       "      <td>False</td>\n",
       "      <td>False</td>\n",
       "      <td>False</td>\n",
       "      <td>False</td>\n",
       "      <td>True</td>\n",
       "      <td>True</td>\n",
       "    </tr>\n",
       "    <tr>\n",
       "      <th>6</th>\n",
       "      <td>False</td>\n",
       "      <td>False</td>\n",
       "      <td>False</td>\n",
       "      <td>False</td>\n",
       "      <td>False</td>\n",
       "      <td>False</td>\n",
       "      <td>False</td>\n",
       "      <td>False</td>\n",
       "      <td>False</td>\n",
       "    </tr>\n",
       "    <tr>\n",
       "      <th>10</th>\n",
       "      <td>False</td>\n",
       "      <td>False</td>\n",
       "      <td>False</td>\n",
       "      <td>False</td>\n",
       "      <td>False</td>\n",
       "      <td>False</td>\n",
       "      <td>False</td>\n",
       "      <td>True</td>\n",
       "      <td>True</td>\n",
       "    </tr>\n",
       "    <tr>\n",
       "      <th>...</th>\n",
       "      <td>...</td>\n",
       "      <td>...</td>\n",
       "      <td>...</td>\n",
       "      <td>...</td>\n",
       "      <td>...</td>\n",
       "      <td>...</td>\n",
       "      <td>...</td>\n",
       "      <td>...</td>\n",
       "      <td>...</td>\n",
       "    </tr>\n",
       "    <tr>\n",
       "      <th>32951</th>\n",
       "      <td>False</td>\n",
       "      <td>False</td>\n",
       "      <td>False</td>\n",
       "      <td>False</td>\n",
       "      <td>False</td>\n",
       "      <td>False</td>\n",
       "      <td>False</td>\n",
       "      <td>False</td>\n",
       "      <td>True</td>\n",
       "    </tr>\n",
       "    <tr>\n",
       "      <th>32953</th>\n",
       "      <td>False</td>\n",
       "      <td>False</td>\n",
       "      <td>False</td>\n",
       "      <td>False</td>\n",
       "      <td>False</td>\n",
       "      <td>False</td>\n",
       "      <td>False</td>\n",
       "      <td>False</td>\n",
       "      <td>False</td>\n",
       "    </tr>\n",
       "    <tr>\n",
       "      <th>32956</th>\n",
       "      <td>False</td>\n",
       "      <td>False</td>\n",
       "      <td>False</td>\n",
       "      <td>False</td>\n",
       "      <td>False</td>\n",
       "      <td>False</td>\n",
       "      <td>False</td>\n",
       "      <td>False</td>\n",
       "      <td>False</td>\n",
       "    </tr>\n",
       "    <tr>\n",
       "      <th>32957</th>\n",
       "      <td>False</td>\n",
       "      <td>False</td>\n",
       "      <td>False</td>\n",
       "      <td>False</td>\n",
       "      <td>False</td>\n",
       "      <td>False</td>\n",
       "      <td>False</td>\n",
       "      <td>False</td>\n",
       "      <td>False</td>\n",
       "    </tr>\n",
       "    <tr>\n",
       "      <th>32958</th>\n",
       "      <td>False</td>\n",
       "      <td>False</td>\n",
       "      <td>False</td>\n",
       "      <td>False</td>\n",
       "      <td>False</td>\n",
       "      <td>False</td>\n",
       "      <td>False</td>\n",
       "      <td>False</td>\n",
       "      <td>True</td>\n",
       "    </tr>\n",
       "  </tbody>\n",
       "</table>\n",
       "<p>19532 rows × 9 columns</p>\n",
       "</div>"
      ],
      "text/plain": [
       "        Tipo  Bairro  Quartos  Vagas  Suites   Area  Valor  Condominio   IPTU\n",
       "3      False   False    False  False   False  False  False       False  False\n",
       "4      False   False    False  False   False  False  False       False   True\n",
       "5      False   False    False  False   False  False  False        True   True\n",
       "6      False   False    False  False   False  False  False       False  False\n",
       "10     False   False    False  False   False  False  False        True   True\n",
       "...      ...     ...      ...    ...     ...    ...    ...         ...    ...\n",
       "32951  False   False    False  False   False  False  False       False   True\n",
       "32953  False   False    False  False   False  False  False       False  False\n",
       "32956  False   False    False  False   False  False  False       False  False\n",
       "32957  False   False    False  False   False  False  False       False  False\n",
       "32958  False   False    False  False   False  False  False       False   True\n",
       "\n",
       "[19532 rows x 9 columns]"
      ]
     },
     "execution_count": 10,
     "metadata": {},
     "output_type": "execute_result"
    }
   ],
   "source": [
    "df.isnull()"
   ]
  },
  {
   "cell_type": "code",
   "execution_count": 13,
   "id": "12fea1d8",
   "metadata": {},
   "outputs": [
    {
     "data": {
      "application/vnd.microsoft.datawrangler.viewer.v0+json": {
       "columns": [
        {
         "name": "index",
         "rawType": "object",
         "type": "string"
        },
        {
         "name": "0",
         "rawType": "int64",
         "type": "integer"
        }
       ],
       "ref": "76e04802-320b-46bb-987d-68c83c028093",
       "rows": [
        [
         "Tipo",
         "0"
        ],
        [
         "Bairro",
         "0"
        ],
        [
         "Quartos",
         "0"
        ],
        [
         "Vagas",
         "0"
        ],
        [
         "Suites",
         "0"
        ],
        [
         "Area",
         "0"
        ],
        [
         "Valor",
         "7"
        ],
        [
         "Condominio",
         "745"
        ],
        [
         "IPTU",
         "5472"
        ]
       ],
       "shape": {
        "columns": 1,
        "rows": 9
       }
      },
      "text/plain": [
       "Tipo             0\n",
       "Bairro           0\n",
       "Quartos          0\n",
       "Vagas            0\n",
       "Suites           0\n",
       "Area             0\n",
       "Valor            7\n",
       "Condominio     745\n",
       "IPTU          5472\n",
       "dtype: int64"
      ]
     },
     "execution_count": 13,
     "metadata": {},
     "output_type": "execute_result"
    }
   ],
   "source": [
    "df.isnull().sum()"
   ]
  },
  {
   "cell_type": "code",
   "execution_count": 14,
   "id": "591112cf",
   "metadata": {},
   "outputs": [
    {
     "data": {
      "application/vnd.microsoft.datawrangler.viewer.v0+json": {
       "columns": [
        {
         "name": "index",
         "rawType": "int64",
         "type": "integer"
        },
        {
         "name": "Tipo",
         "rawType": "object",
         "type": "string"
        },
        {
         "name": "Bairro",
         "rawType": "object",
         "type": "string"
        },
        {
         "name": "Quartos",
         "rawType": "int64",
         "type": "integer"
        },
        {
         "name": "Vagas",
         "rawType": "int64",
         "type": "integer"
        },
        {
         "name": "Suites",
         "rawType": "int64",
         "type": "integer"
        },
        {
         "name": "Area",
         "rawType": "int64",
         "type": "integer"
        },
        {
         "name": "Valor",
         "rawType": "float64",
         "type": "float"
        },
        {
         "name": "Condominio",
         "rawType": "float64",
         "type": "float"
        },
        {
         "name": "IPTU",
         "rawType": "float64",
         "type": "float"
        }
       ],
       "ref": "b6f9bb3a-12aa-4574-8fe9-cda5c3f49224",
       "rows": [
        [
         "3",
         "Apartamento",
         "Centro",
         "1",
         "0",
         "0",
         "15",
         "800.0",
         "390.0",
         "20.0"
        ],
        [
         "4",
         "Apartamento",
         "Higienópolis",
         "1",
         "0",
         "0",
         "48",
         "800.0",
         "230.0",
         "0.0"
        ],
        [
         "5",
         "Apartamento",
         "Vista Alegre",
         "3",
         "1",
         "0",
         "70",
         "1200.0",
         "0.0",
         "0.0"
        ],
        [
         "6",
         "Apartamento",
         "Cachambi",
         "2",
         "0",
         "0",
         "50",
         "1300.0",
         "301.0",
         "17.0"
        ],
        [
         "10",
         "Apartamento",
         "Centro",
         "1",
         "0",
         "0",
         "36",
         "1200.0",
         "0.0",
         "0.0"
        ],
        [
         "11",
         "Apartamento",
         "Grajaú",
         "2",
         "1",
         "0",
         "70",
         "1500.0",
         "642.0",
         "74.0"
        ],
        [
         "12",
         "Apartamento",
         "Lins de Vasconcelos",
         "3",
         "1",
         "1",
         "90",
         "1500.0",
         "455.0",
         "14.0"
        ],
        [
         "13",
         "Apartamento",
         "Copacabana",
         "1",
         "0",
         "1",
         "40",
         "2000.0",
         "561.0",
         "50.0"
        ],
        [
         "15",
         "Apartamento",
         "Copacabana",
         "4",
         "3",
         "1",
         "243",
         "13000.0",
         "2000.0",
         "803.0"
        ],
        [
         "19",
         "Apartamento",
         "Freguesia (Jacarepaguá)",
         "3",
         "0",
         "0",
         "54",
         "950.0",
         "300.0",
         "28.0"
        ],
        [
         "20",
         "Apartamento",
         "Barra da Tijuca",
         "2",
         "1",
         "1",
         "67",
         "1700.0",
         "589.0",
         "147.0"
        ],
        [
         "21",
         "Apartamento",
         "Tijuca",
         "2",
         "1",
         "0",
         "110",
         "1900.0",
         "700.0",
         "138.0"
        ],
        [
         "23",
         "Apartamento",
         "Olaria",
         "3",
         "1",
         "0",
         "68",
         "1000.0",
         "670.0",
         "0.0"
        ],
        [
         "24",
         "Apartamento",
         "Tijuca",
         "2",
         "1",
         "0",
         "78",
         "2000.0",
         "700.0",
         "0.0"
        ],
        [
         "27",
         "Apartamento",
         "Ipanema",
         "3",
         "1",
         "1",
         "125",
         "7000.0",
         "2100.0",
         "463.0"
        ],
        [
         "28",
         "Apartamento",
         "Tijuca",
         "1",
         "0",
         "0",
         "48",
         "750.0",
         "772.0",
         "25.0"
        ],
        [
         "30",
         "Apartamento",
         "Barra da Tijuca",
         "3",
         "3",
         "1",
         "175",
         "4200.0",
         "1500.0",
         "500.0"
        ],
        [
         "32",
         "Apartamento",
         "Botafogo",
         "2",
         "1",
         "0",
         "76",
         "2500.0",
         "740.0",
         "0.0"
        ],
        [
         "33",
         "Apartamento",
         "Copacabana",
         "3",
         "1",
         "2",
         "378",
         "10000.0",
         "2150.0",
         "700.0"
        ],
        [
         "34",
         "Apartamento",
         "Copacabana",
         "3",
         "0",
         "0",
         "180",
         "5500.0",
         "1780.0",
         "420.0"
        ],
        [
         "36",
         "Apartamento",
         "Recreio dos Bandeirantes",
         "3",
         "1",
         "1",
         "105",
         "2300.0",
         "648.0",
         "0.0"
        ],
        [
         "37",
         "Apartamento",
         "Leblon",
         "3",
         "1",
         "0",
         "110",
         "3900.0",
         "1500.0",
         "120.0"
        ],
        [
         "40",
         "Apartamento",
         "Jardim Oceânico",
         "3",
         "3",
         "1",
         "200",
         "3500.0",
         "1780.0",
         "496.0"
        ],
        [
         "41",
         "Apartamento",
         "Barra da Tijuca",
         "3",
         "1",
         "2",
         "70",
         "1800.0",
         "1095.0",
         "140.0"
        ],
        [
         "43",
         "Apartamento",
         "Copacabana",
         "4",
         "1",
         "0",
         "244",
         "5000.0",
         "2500.0",
         "4100.0"
        ],
        [
         "44",
         "Apartamento",
         "Barra da Tijuca",
         "3",
         "2",
         "1",
         "110",
         "4500.0",
         "2000.0",
         "450.0"
        ],
        [
         "47",
         "Apartamento",
         "Recreio dos Bandeirantes",
         "2",
         "2",
         "2",
         "90",
         "3000.0",
         "1340.0",
         "0.0"
        ],
        [
         "48",
         "Apartamento",
         "Recreio dos Bandeirantes",
         "3",
         "2",
         "2",
         "100",
         "2600.0",
         "380.0",
         "0.0"
        ],
        [
         "49",
         "Apartamento",
         "Barra da Tijuca",
         "3",
         "1",
         "1",
         "72",
         "2350.0",
         "600.0",
         "70.0"
        ],
        [
         "50",
         "Apartamento",
         "Humaitá",
         "2",
         "2",
         "1",
         "180",
         "4000.0",
         "2500.0",
         "300.0"
        ],
        [
         "51",
         "Apartamento",
         "Recreio dos Bandeirantes",
         "3",
         "1",
         "2",
         "92",
         "2300.0",
         "840.0",
         "200.0"
        ],
        [
         "54",
         "Apartamento",
         "Centro",
         "1",
         "0",
         "0",
         "27",
         "750.0",
         "371.0",
         "19.0"
        ],
        [
         "55",
         "Apartamento",
         "Ipanema",
         "1",
         "0",
         "0",
         "35",
         "2000.0",
         "650.0",
         "75.0"
        ],
        [
         "56",
         "Apartamento",
         "Ipanema",
         "1",
         "0",
         "0",
         "38",
         "1400.0",
         "530.0",
         "77.0"
        ],
        [
         "57",
         "Apartamento",
         "Recreio dos Bandeirantes",
         "2",
         "1",
         "2",
         "83",
         "1600.0",
         "1160.0",
         "157.0"
        ],
        [
         "60",
         "Apartamento",
         "Barra da Tijuca",
         "4",
         "3",
         "3",
         "153",
         "6500.0",
         "2300.0",
         "434.0"
        ],
        [
         "62",
         "Apartamento",
         "Península",
         "4",
         "3",
         "4",
         "267",
         "18000.0",
         "3100.0",
         "400.0"
        ],
        [
         "63",
         "Apartamento",
         "Ipanema",
         "3",
         "1",
         "0",
         "87",
         "3200.0",
         "1305.0",
         "217.0"
        ],
        [
         "64",
         "Apartamento",
         "Méier",
         "3",
         "1",
         "0",
         "90",
         "1550.0",
         "844.0",
         "80.0"
        ],
        [
         "65",
         "Apartamento",
         "Vargem Pequena",
         "3",
         "1",
         "0",
         "53",
         "1400.0",
         "385.0",
         "28.0"
        ],
        [
         "66",
         "Apartamento",
         "Botafogo",
         "3",
         "1",
         "1",
         "108",
         "5950.0",
         "1405.0",
         "289.0"
        ],
        [
         "67",
         "Apartamento",
         "Maracanã",
         "2",
         "0",
         "0",
         "86",
         "1800.0",
         "600.0",
         "82.0"
        ],
        [
         "68",
         "Apartamento",
         "Recreio dos Bandeirantes",
         "2",
         "1",
         "1",
         "74",
         "1850.0",
         "675.0",
         "200.0"
        ],
        [
         "70",
         "Apartamento",
         "Jacarepaguá",
         "3",
         "1",
         "1",
         "74",
         "1900.0",
         "556.0",
         "98.0"
        ],
        [
         "71",
         "Apartamento",
         "Ipanema",
         "3",
         "2",
         "1",
         "150",
         "8000.0",
         "2400.0",
         "0.0"
        ],
        [
         "73",
         "Apartamento",
         "Ipanema",
         "3",
         "1",
         "1",
         "140",
         "7900.0",
         "2900.0",
         "500.0"
        ],
        [
         "75",
         "Apartamento",
         "Jardim Botânico",
         "2",
         "2",
         "0",
         "95",
         "4000.0",
         "1170.0",
         "0.0"
        ],
        [
         "76",
         "Apartamento",
         "Barra da Tijuca",
         "2",
         "1",
         "1",
         "70",
         "0.0",
         "970.0",
         "68.0"
        ],
        [
         "77",
         "Apartamento",
         "Cachambi",
         "2",
         "0",
         "0",
         "60",
         "1000.0",
         "380.0",
         "280.0"
        ],
        [
         "88",
         "Apartamento",
         "Leblon",
         "2",
         "1",
         "1",
         "80",
         "3500.0",
         "990.0",
         "245.0"
        ]
       ],
       "shape": {
        "columns": 9,
        "rows": 19532
       }
      },
      "text/html": [
       "<div>\n",
       "<style scoped>\n",
       "    .dataframe tbody tr th:only-of-type {\n",
       "        vertical-align: middle;\n",
       "    }\n",
       "\n",
       "    .dataframe tbody tr th {\n",
       "        vertical-align: top;\n",
       "    }\n",
       "\n",
       "    .dataframe thead th {\n",
       "        text-align: right;\n",
       "    }\n",
       "</style>\n",
       "<table border=\"1\" class=\"dataframe\">\n",
       "  <thead>\n",
       "    <tr style=\"text-align: right;\">\n",
       "      <th></th>\n",
       "      <th>Tipo</th>\n",
       "      <th>Bairro</th>\n",
       "      <th>Quartos</th>\n",
       "      <th>Vagas</th>\n",
       "      <th>Suites</th>\n",
       "      <th>Area</th>\n",
       "      <th>Valor</th>\n",
       "      <th>Condominio</th>\n",
       "      <th>IPTU</th>\n",
       "    </tr>\n",
       "  </thead>\n",
       "  <tbody>\n",
       "    <tr>\n",
       "      <th>3</th>\n",
       "      <td>Apartamento</td>\n",
       "      <td>Centro</td>\n",
       "      <td>1</td>\n",
       "      <td>0</td>\n",
       "      <td>0</td>\n",
       "      <td>15</td>\n",
       "      <td>800.0</td>\n",
       "      <td>390.0</td>\n",
       "      <td>20.0</td>\n",
       "    </tr>\n",
       "    <tr>\n",
       "      <th>4</th>\n",
       "      <td>Apartamento</td>\n",
       "      <td>Higienópolis</td>\n",
       "      <td>1</td>\n",
       "      <td>0</td>\n",
       "      <td>0</td>\n",
       "      <td>48</td>\n",
       "      <td>800.0</td>\n",
       "      <td>230.0</td>\n",
       "      <td>0.0</td>\n",
       "    </tr>\n",
       "    <tr>\n",
       "      <th>5</th>\n",
       "      <td>Apartamento</td>\n",
       "      <td>Vista Alegre</td>\n",
       "      <td>3</td>\n",
       "      <td>1</td>\n",
       "      <td>0</td>\n",
       "      <td>70</td>\n",
       "      <td>1200.0</td>\n",
       "      <td>0.0</td>\n",
       "      <td>0.0</td>\n",
       "    </tr>\n",
       "    <tr>\n",
       "      <th>6</th>\n",
       "      <td>Apartamento</td>\n",
       "      <td>Cachambi</td>\n",
       "      <td>2</td>\n",
       "      <td>0</td>\n",
       "      <td>0</td>\n",
       "      <td>50</td>\n",
       "      <td>1300.0</td>\n",
       "      <td>301.0</td>\n",
       "      <td>17.0</td>\n",
       "    </tr>\n",
       "    <tr>\n",
       "      <th>10</th>\n",
       "      <td>Apartamento</td>\n",
       "      <td>Centro</td>\n",
       "      <td>1</td>\n",
       "      <td>0</td>\n",
       "      <td>0</td>\n",
       "      <td>36</td>\n",
       "      <td>1200.0</td>\n",
       "      <td>0.0</td>\n",
       "      <td>0.0</td>\n",
       "    </tr>\n",
       "    <tr>\n",
       "      <th>...</th>\n",
       "      <td>...</td>\n",
       "      <td>...</td>\n",
       "      <td>...</td>\n",
       "      <td>...</td>\n",
       "      <td>...</td>\n",
       "      <td>...</td>\n",
       "      <td>...</td>\n",
       "      <td>...</td>\n",
       "      <td>...</td>\n",
       "    </tr>\n",
       "    <tr>\n",
       "      <th>32951</th>\n",
       "      <td>Apartamento</td>\n",
       "      <td>Vila Valqueire</td>\n",
       "      <td>2</td>\n",
       "      <td>0</td>\n",
       "      <td>0</td>\n",
       "      <td>52</td>\n",
       "      <td>1000.0</td>\n",
       "      <td>550.0</td>\n",
       "      <td>0.0</td>\n",
       "    </tr>\n",
       "    <tr>\n",
       "      <th>32953</th>\n",
       "      <td>Apartamento</td>\n",
       "      <td>Méier</td>\n",
       "      <td>2</td>\n",
       "      <td>0</td>\n",
       "      <td>0</td>\n",
       "      <td>70</td>\n",
       "      <td>900.0</td>\n",
       "      <td>490.0</td>\n",
       "      <td>48.0</td>\n",
       "    </tr>\n",
       "    <tr>\n",
       "      <th>32956</th>\n",
       "      <td>Apartamento</td>\n",
       "      <td>Jacarepaguá</td>\n",
       "      <td>3</td>\n",
       "      <td>1</td>\n",
       "      <td>2</td>\n",
       "      <td>78</td>\n",
       "      <td>1800.0</td>\n",
       "      <td>800.0</td>\n",
       "      <td>40.0</td>\n",
       "    </tr>\n",
       "    <tr>\n",
       "      <th>32957</th>\n",
       "      <td>Apartamento</td>\n",
       "      <td>São Francisco Xavier</td>\n",
       "      <td>2</td>\n",
       "      <td>1</td>\n",
       "      <td>0</td>\n",
       "      <td>48</td>\n",
       "      <td>1400.0</td>\n",
       "      <td>509.0</td>\n",
       "      <td>37.0</td>\n",
       "    </tr>\n",
       "    <tr>\n",
       "      <th>32958</th>\n",
       "      <td>Apartamento</td>\n",
       "      <td>Leblon</td>\n",
       "      <td>2</td>\n",
       "      <td>0</td>\n",
       "      <td>0</td>\n",
       "      <td>70</td>\n",
       "      <td>3000.0</td>\n",
       "      <td>760.0</td>\n",
       "      <td>0.0</td>\n",
       "    </tr>\n",
       "  </tbody>\n",
       "</table>\n",
       "<p>19532 rows × 9 columns</p>\n",
       "</div>"
      ],
      "text/plain": [
       "              Tipo                Bairro  Quartos  Vagas  Suites  Area  \\\n",
       "3      Apartamento                Centro        1      0       0    15   \n",
       "4      Apartamento          Higienópolis        1      0       0    48   \n",
       "5      Apartamento          Vista Alegre        3      1       0    70   \n",
       "6      Apartamento              Cachambi        2      0       0    50   \n",
       "10     Apartamento                Centro        1      0       0    36   \n",
       "...            ...                   ...      ...    ...     ...   ...   \n",
       "32951  Apartamento        Vila Valqueire        2      0       0    52   \n",
       "32953  Apartamento                 Méier        2      0       0    70   \n",
       "32956  Apartamento           Jacarepaguá        3      1       2    78   \n",
       "32957  Apartamento  São Francisco Xavier        2      1       0    48   \n",
       "32958  Apartamento                Leblon        2      0       0    70   \n",
       "\n",
       "        Valor  Condominio  IPTU  \n",
       "3       800.0       390.0  20.0  \n",
       "4       800.0       230.0   0.0  \n",
       "5      1200.0         0.0   0.0  \n",
       "6      1300.0       301.0  17.0  \n",
       "10     1200.0         0.0   0.0  \n",
       "...       ...         ...   ...  \n",
       "32951  1000.0       550.0   0.0  \n",
       "32953   900.0       490.0  48.0  \n",
       "32956  1800.0       800.0  40.0  \n",
       "32957  1400.0       509.0  37.0  \n",
       "32958  3000.0       760.0   0.0  \n",
       "\n",
       "[19532 rows x 9 columns]"
      ]
     },
     "execution_count": 14,
     "metadata": {},
     "output_type": "execute_result"
    }
   ],
   "source": [
    "df.fillna(0)    # Define nulo como 0"
   ]
  },
  {
   "cell_type": "code",
   "execution_count": 15,
   "id": "54dcdedb",
   "metadata": {},
   "outputs": [],
   "source": [
    "df = df.fillna (0)"
   ]
  },
  {
   "cell_type": "code",
   "execution_count": 16,
   "id": "574ed35c",
   "metadata": {},
   "outputs": [
    {
     "data": {
      "application/vnd.microsoft.datawrangler.viewer.v0+json": {
       "columns": [
        {
         "name": "index",
         "rawType": "object",
         "type": "string"
        },
        {
         "name": "0",
         "rawType": "int64",
         "type": "integer"
        }
       ],
       "ref": "a1e5f28b-37c5-4790-aedb-4784a5e3c0ef",
       "rows": [
        [
         "Tipo",
         "0"
        ],
        [
         "Bairro",
         "0"
        ],
        [
         "Quartos",
         "0"
        ],
        [
         "Vagas",
         "0"
        ],
        [
         "Suites",
         "0"
        ],
        [
         "Area",
         "0"
        ],
        [
         "Valor",
         "0"
        ],
        [
         "Condominio",
         "0"
        ],
        [
         "IPTU",
         "0"
        ]
       ],
       "shape": {
        "columns": 1,
        "rows": 9
       }
      },
      "text/plain": [
       "Tipo          0\n",
       "Bairro        0\n",
       "Quartos       0\n",
       "Vagas         0\n",
       "Suites        0\n",
       "Area          0\n",
       "Valor         0\n",
       "Condominio    0\n",
       "IPTU          0\n",
       "dtype: int64"
      ]
     },
     "execution_count": 16,
     "metadata": {},
     "output_type": "execute_result"
    }
   ],
   "source": [
    "df.isnull().sum()"
   ]
  },
  {
   "cell_type": "markdown",
   "id": "f36d12c3",
   "metadata": {},
   "source": [
    "## Removendo registros"
   ]
  },
  {
   "cell_type": "code",
   "execution_count": 17,
   "id": "8fcbe1bd",
   "metadata": {},
   "outputs": [
    {
     "data": {
      "application/vnd.microsoft.datawrangler.viewer.v0+json": {
       "columns": [
        {
         "name": "index",
         "rawType": "int64",
         "type": "integer"
        },
        {
         "name": "Tipo",
         "rawType": "object",
         "type": "string"
        },
        {
         "name": "Bairro",
         "rawType": "object",
         "type": "string"
        },
        {
         "name": "Quartos",
         "rawType": "int64",
         "type": "integer"
        },
        {
         "name": "Vagas",
         "rawType": "int64",
         "type": "integer"
        },
        {
         "name": "Suites",
         "rawType": "int64",
         "type": "integer"
        },
        {
         "name": "Area",
         "rawType": "int64",
         "type": "integer"
        },
        {
         "name": "Valor",
         "rawType": "float64",
         "type": "float"
        },
        {
         "name": "Condominio",
         "rawType": "float64",
         "type": "float"
        },
        {
         "name": "IPTU",
         "rawType": "float64",
         "type": "float"
        }
       ],
       "ref": "6cc76c86-6e59-4c0e-a3d1-1aa676fdd750",
       "rows": [
        [
         "5",
         "Apartamento",
         "Vista Alegre",
         "3",
         "1",
         "0",
         "70",
         "1200.0",
         "0.0",
         "0.0"
        ],
        [
         "10",
         "Apartamento",
         "Centro",
         "1",
         "0",
         "0",
         "36",
         "1200.0",
         "0.0",
         "0.0"
        ],
        [
         "76",
         "Apartamento",
         "Barra da Tijuca",
         "2",
         "1",
         "1",
         "70",
         "0.0",
         "970.0",
         "68.0"
        ],
        [
         "113",
         "Apartamento",
         "Praça Seca",
         "2",
         "0",
         "0",
         "80",
         "1000.0",
         "0.0",
         "0.0"
        ],
        [
         "166",
         "Apartamento",
         "Rocha Miranda",
         "2",
         "1",
         "0",
         "50",
         "1100.0",
         "0.0",
         "0.0"
        ],
        [
         "194",
         "Apartamento",
         "Barra da Tijuca",
         "1",
         "1",
         "1",
         "65",
         "2350.0",
         "0.0",
         "0.0"
        ],
        [
         "258",
         "Apartamento",
         "Cidade Nova",
         "1",
         "0",
         "0",
         "46",
         "1000.0",
         "0.0",
         "0.0"
        ],
        [
         "265",
         "Apartamento",
         "Olaria",
         "1",
         "0",
         "0",
         "39",
         "800.0",
         "0.0",
         "0.0"
        ],
        [
         "275",
         "Apartamento",
         "Leblon",
         "3",
         "0",
         "1",
         "85",
         "8500.0",
         "0.0",
         "1719.0"
        ],
        [
         "292",
         "Apartamento",
         "Tomás Coelho",
         "2",
         "0",
         "0",
         "70",
         "800.0",
         "0.0",
         "0.0"
        ],
        [
         "402",
         "Apartamento",
         "Campo Grande",
         "2",
         "0",
         "1",
         "58",
         "1000.0",
         "0.0",
         "0.0"
        ],
        [
         "625",
         "Apartamento",
         "Piedade",
         "2",
         "1",
         "0",
         "83",
         "950.0",
         "0.0",
         "13.0"
        ],
        [
         "721",
         "Apartamento",
         "Jardim Guanabara",
         "2",
         "0",
         "0",
         "92",
         "1600.0",
         "0.0",
         "99.0"
        ],
        [
         "732",
         "Apartamento",
         "Vila da Penha",
         "2",
         "0",
         "0",
         "70",
         "1200.0",
         "0.0",
         "27.0"
        ],
        [
         "755",
         "Apartamento",
         "Praça Seca",
         "1",
         "0",
         "1",
         "50",
         "600.0",
         "0.0",
         "0.0"
        ],
        [
         "795",
         "Apartamento",
         "Tijuca",
         "2",
         "0",
         "1",
         "80",
         "1300.0",
         "0.0",
         "82.0"
        ],
        [
         "860",
         "Apartamento",
         "Grajaú",
         "2",
         "0",
         "0",
         "72",
         "2000.0",
         "0.0",
         "758.0"
        ],
        [
         "882",
         "Apartamento",
         "Copacabana",
         "2",
         "0",
         "0",
         "56",
         "3000.0",
         "0.0",
         "0.0"
        ],
        [
         "956",
         "Apartamento",
         "Colégio",
         "1",
         "0",
         "0",
         "58",
         "950.0",
         "0.0",
         "0.0"
        ],
        [
         "966",
         "Apartamento",
         "Rocha Miranda",
         "1",
         "0",
         "0",
         "33",
         "750.0",
         "0.0",
         "0.0"
        ],
        [
         "1007",
         "Apartamento",
         "Guadalupe",
         "1",
         "0",
         "0",
         "60",
         "700.0",
         "0.0",
         "0.0"
        ],
        [
         "1168",
         "Apartamento",
         "Vila da Penha",
         "2",
         "0",
         "0",
         "75",
         "1300.0",
         "0.0",
         "252.0"
        ],
        [
         "1182",
         "Apartamento",
         "Anil",
         "2",
         "0",
         "0",
         "74",
         "1200.0",
         "0.0",
         "0.0"
        ],
        [
         "1186",
         "Apartamento",
         "Benfica",
         "1",
         "0",
         "0",
         "15",
         "350.0",
         "0.0",
         "0.0"
        ],
        [
         "1317",
         "Apartamento",
         "Copacabana",
         "1",
         "0",
         "0",
         "25",
         "2000.0",
         "0.0",
         "0.0"
        ],
        [
         "1440",
         "Apartamento",
         "Guadalupe",
         "1",
         "0",
         "0",
         "30",
         "450.0",
         "0.0",
         "0.0"
        ],
        [
         "1458",
         "Apartamento",
         "Vicente de Carvalho",
         "2",
         "0",
         "0",
         "70",
         "1000.0",
         "0.0",
         "0.0"
        ],
        [
         "1465",
         "Apartamento",
         "Taquara",
         "4",
         "1",
         "1",
         "110",
         "1900.0",
         "0.0",
         "0.0"
        ],
        [
         "1466",
         "Apartamento",
         "Vila da Penha",
         "2",
         "0",
         "0",
         "60",
         "1100.0",
         "0.0",
         "15.0"
        ],
        [
         "1488",
         "Apartamento",
         "Copacabana",
         "3",
         "0",
         "1",
         "110",
         "8000.0",
         "0.0",
         "0.0"
        ],
        [
         "1647",
         "Apartamento",
         "Copacabana",
         "2",
         "0",
         "1",
         "70",
         "4000.0",
         "0.0",
         "0.0"
        ],
        [
         "1699",
         "Apartamento",
         "Recreio dos Bandeirantes",
         "3",
         "2",
         "1",
         "211",
         "2500.0",
         "0.0",
         "0.0"
        ],
        [
         "1734",
         "Apartamento",
         "Bonsucesso",
         "3",
         "0",
         "0",
         "90",
         "950.0",
         "0.0",
         "28.0"
        ],
        [
         "1757",
         "Apartamento",
         "Ricardo de Albuquerque",
         "1",
         "0",
         "0",
         "25",
         "320.0",
         "0.0",
         "0.0"
        ],
        [
         "1794",
         "Apartamento",
         "Campo Grande",
         "2",
         "0",
         "0",
         "74",
         "750.0",
         "0.0",
         "0.0"
        ],
        [
         "1903",
         "Apartamento",
         "Engenho de Dentro",
         "3",
         "1",
         "1",
         "146",
         "2400.0",
         "0.0",
         "128.0"
        ],
        [
         "1924",
         "Apartamento",
         "Campo Grande",
         "1",
         "0",
         "0",
         "70",
         "1000.0",
         "0.0",
         "0.0"
        ],
        [
         "1954",
         "Apartamento",
         "Barra da Tijuca",
         "2",
         "1",
         "1",
         "78",
         "3000.0",
         "0.0",
         "0.0"
        ],
        [
         "2085",
         "Apartamento",
         "Campo Grande",
         "2",
         "1",
         "0",
         "60",
         "800.0",
         "0.0",
         "0.0"
        ],
        [
         "2146",
         "Apartamento",
         "Parque Anchieta",
         "2",
         "1",
         "0",
         "75",
         "1000.0",
         "0.0",
         "0.0"
        ],
        [
         "2186",
         "Apartamento",
         "Leme",
         "2",
         "0",
         "0",
         "75",
         "0.0",
         "878.0",
         "0.0"
        ],
        [
         "2239",
         "Apartamento",
         "Engenho Novo",
         "3",
         "0",
         "0",
         "75",
         "1300.0",
         "0.0",
         "0.0"
        ],
        [
         "2285",
         "Apartamento",
         "Campo Grande",
         "2",
         "0",
         "0",
         "60",
         "700.0",
         "0.0",
         "0.0"
        ],
        [
         "2335",
         "Apartamento",
         "Quintino Bocaiúva",
         "2",
         "1",
         "0",
         "60",
         "1000.0",
         "0.0",
         "0.0"
        ],
        [
         "2406",
         "Apartamento",
         "Cosme Velho",
         "3",
         "1",
         "1",
         "115",
         "3950.0",
         "0.0",
         "0.0"
        ],
        [
         "2426",
         "Apartamento",
         "Copacabana",
         "1",
         "0",
         "0",
         "20",
         "3000.0",
         "0.0",
         "0.0"
        ],
        [
         "2472",
         "Apartamento",
         "Penha",
         "2",
         "0",
         "0",
         "117",
         "1300.0",
         "0.0",
         "110.0"
        ],
        [
         "2489",
         "Apartamento",
         "Pavuna",
         "2",
         "0",
         "0",
         "40",
         "600.0",
         "0.0",
         "0.0"
        ],
        [
         "2512",
         "Apartamento",
         "Copacabana",
         "1",
         "0",
         "0",
         "55",
         "2500.0",
         "0.0",
         "0.0"
        ],
        [
         "2555",
         "Apartamento",
         "Cascadura",
         "2",
         "0",
         "0",
         "96",
         "1250.0",
         "0.0",
         "77.0"
        ]
       ],
       "shape": {
        "columns": 9,
        "rows": 752
       }
      },
      "text/html": [
       "<div>\n",
       "<style scoped>\n",
       "    .dataframe tbody tr th:only-of-type {\n",
       "        vertical-align: middle;\n",
       "    }\n",
       "\n",
       "    .dataframe tbody tr th {\n",
       "        vertical-align: top;\n",
       "    }\n",
       "\n",
       "    .dataframe thead th {\n",
       "        text-align: right;\n",
       "    }\n",
       "</style>\n",
       "<table border=\"1\" class=\"dataframe\">\n",
       "  <thead>\n",
       "    <tr style=\"text-align: right;\">\n",
       "      <th></th>\n",
       "      <th>Tipo</th>\n",
       "      <th>Bairro</th>\n",
       "      <th>Quartos</th>\n",
       "      <th>Vagas</th>\n",
       "      <th>Suites</th>\n",
       "      <th>Area</th>\n",
       "      <th>Valor</th>\n",
       "      <th>Condominio</th>\n",
       "      <th>IPTU</th>\n",
       "    </tr>\n",
       "  </thead>\n",
       "  <tbody>\n",
       "    <tr>\n",
       "      <th>5</th>\n",
       "      <td>Apartamento</td>\n",
       "      <td>Vista Alegre</td>\n",
       "      <td>3</td>\n",
       "      <td>1</td>\n",
       "      <td>0</td>\n",
       "      <td>70</td>\n",
       "      <td>1200.0</td>\n",
       "      <td>0.0</td>\n",
       "      <td>0.0</td>\n",
       "    </tr>\n",
       "    <tr>\n",
       "      <th>10</th>\n",
       "      <td>Apartamento</td>\n",
       "      <td>Centro</td>\n",
       "      <td>1</td>\n",
       "      <td>0</td>\n",
       "      <td>0</td>\n",
       "      <td>36</td>\n",
       "      <td>1200.0</td>\n",
       "      <td>0.0</td>\n",
       "      <td>0.0</td>\n",
       "    </tr>\n",
       "    <tr>\n",
       "      <th>76</th>\n",
       "      <td>Apartamento</td>\n",
       "      <td>Barra da Tijuca</td>\n",
       "      <td>2</td>\n",
       "      <td>1</td>\n",
       "      <td>1</td>\n",
       "      <td>70</td>\n",
       "      <td>0.0</td>\n",
       "      <td>970.0</td>\n",
       "      <td>68.0</td>\n",
       "    </tr>\n",
       "    <tr>\n",
       "      <th>113</th>\n",
       "      <td>Apartamento</td>\n",
       "      <td>Praça Seca</td>\n",
       "      <td>2</td>\n",
       "      <td>0</td>\n",
       "      <td>0</td>\n",
       "      <td>80</td>\n",
       "      <td>1000.0</td>\n",
       "      <td>0.0</td>\n",
       "      <td>0.0</td>\n",
       "    </tr>\n",
       "    <tr>\n",
       "      <th>166</th>\n",
       "      <td>Apartamento</td>\n",
       "      <td>Rocha Miranda</td>\n",
       "      <td>2</td>\n",
       "      <td>1</td>\n",
       "      <td>0</td>\n",
       "      <td>50</td>\n",
       "      <td>1100.0</td>\n",
       "      <td>0.0</td>\n",
       "      <td>0.0</td>\n",
       "    </tr>\n",
       "    <tr>\n",
       "      <th>...</th>\n",
       "      <td>...</td>\n",
       "      <td>...</td>\n",
       "      <td>...</td>\n",
       "      <td>...</td>\n",
       "      <td>...</td>\n",
       "      <td>...</td>\n",
       "      <td>...</td>\n",
       "      <td>...</td>\n",
       "      <td>...</td>\n",
       "    </tr>\n",
       "    <tr>\n",
       "      <th>32609</th>\n",
       "      <td>Apartamento</td>\n",
       "      <td>Copacabana</td>\n",
       "      <td>3</td>\n",
       "      <td>0</td>\n",
       "      <td>0</td>\n",
       "      <td>130</td>\n",
       "      <td>4600.0</td>\n",
       "      <td>0.0</td>\n",
       "      <td>0.0</td>\n",
       "    </tr>\n",
       "    <tr>\n",
       "      <th>32643</th>\n",
       "      <td>Apartamento</td>\n",
       "      <td>Guadalupe</td>\n",
       "      <td>1</td>\n",
       "      <td>0</td>\n",
       "      <td>0</td>\n",
       "      <td>40</td>\n",
       "      <td>550.0</td>\n",
       "      <td>0.0</td>\n",
       "      <td>0.0</td>\n",
       "    </tr>\n",
       "    <tr>\n",
       "      <th>32666</th>\n",
       "      <td>Apartamento</td>\n",
       "      <td>Bonsucesso</td>\n",
       "      <td>1</td>\n",
       "      <td>0</td>\n",
       "      <td>0</td>\n",
       "      <td>60</td>\n",
       "      <td>1000.0</td>\n",
       "      <td>0.0</td>\n",
       "      <td>0.0</td>\n",
       "    </tr>\n",
       "    <tr>\n",
       "      <th>32708</th>\n",
       "      <td>Apartamento</td>\n",
       "      <td>Flamengo</td>\n",
       "      <td>2</td>\n",
       "      <td>0</td>\n",
       "      <td>0</td>\n",
       "      <td>59</td>\n",
       "      <td>3500.0</td>\n",
       "      <td>0.0</td>\n",
       "      <td>0.0</td>\n",
       "    </tr>\n",
       "    <tr>\n",
       "      <th>32809</th>\n",
       "      <td>Apartamento</td>\n",
       "      <td>Cascadura</td>\n",
       "      <td>3</td>\n",
       "      <td>0</td>\n",
       "      <td>1</td>\n",
       "      <td>70</td>\n",
       "      <td>1200.0</td>\n",
       "      <td>0.0</td>\n",
       "      <td>0.0</td>\n",
       "    </tr>\n",
       "  </tbody>\n",
       "</table>\n",
       "<p>752 rows × 9 columns</p>\n",
       "</div>"
      ],
      "text/plain": [
       "              Tipo           Bairro  Quartos  Vagas  Suites  Area   Valor  \\\n",
       "5      Apartamento     Vista Alegre        3      1       0    70  1200.0   \n",
       "10     Apartamento           Centro        1      0       0    36  1200.0   \n",
       "76     Apartamento  Barra da Tijuca        2      1       1    70     0.0   \n",
       "113    Apartamento       Praça Seca        2      0       0    80  1000.0   \n",
       "166    Apartamento    Rocha Miranda        2      1       0    50  1100.0   \n",
       "...            ...              ...      ...    ...     ...   ...     ...   \n",
       "32609  Apartamento       Copacabana        3      0       0   130  4600.0   \n",
       "32643  Apartamento        Guadalupe        1      0       0    40   550.0   \n",
       "32666  Apartamento       Bonsucesso        1      0       0    60  1000.0   \n",
       "32708  Apartamento         Flamengo        2      0       0    59  3500.0   \n",
       "32809  Apartamento        Cascadura        3      0       1    70  1200.0   \n",
       "\n",
       "       Condominio  IPTU  \n",
       "5             0.0   0.0  \n",
       "10            0.0   0.0  \n",
       "76          970.0  68.0  \n",
       "113           0.0   0.0  \n",
       "166           0.0   0.0  \n",
       "...           ...   ...  \n",
       "32609         0.0   0.0  \n",
       "32643         0.0   0.0  \n",
       "32666         0.0   0.0  \n",
       "32708         0.0   0.0  \n",
       "32809         0.0   0.0  \n",
       "\n",
       "[752 rows x 9 columns]"
      ]
     },
     "execution_count": 17,
     "metadata": {},
     "output_type": "execute_result"
    }
   ],
   "source": [
    "df.query('Valor == 0 | Condominio == 0')"
   ]
  },
  {
   "cell_type": "code",
   "execution_count": 18,
   "id": "3a83ac23",
   "metadata": {},
   "outputs": [
    {
     "data": {
      "text/plain": [
       "Index([    5,    10,    76,   113,   166,   194,   258,   265,   275,   292,\n",
       "       ...\n",
       "       32420, 32438, 32480, 32538, 32584, 32609, 32643, 32666, 32708, 32809],\n",
       "      dtype='int64', length=752)"
      ]
     },
     "execution_count": 18,
     "metadata": {},
     "output_type": "execute_result"
    }
   ],
   "source": [
    "df.query('Valor == 0 | Condominio == 0').index"
   ]
  },
  {
   "cell_type": "code",
   "execution_count": 19,
   "id": "61f5cd68",
   "metadata": {},
   "outputs": [],
   "source": [
    "registros_a_remover = df.query('Valor == 0 | Condominio == 0').index"
   ]
  },
  {
   "cell_type": "code",
   "execution_count": null,
   "id": "3ca0f89b",
   "metadata": {},
   "outputs": [],
   "source": [
    "df.drop(registros_a_remover, axis=0, inplace=True)        \n",
    "# inplcace -> Atribrui o resultado automaticamente ao dataframe\n",
    "# axis == 0 -> Remover linhas\n",
    "# axis == 1 -> Remover colunas"
   ]
  },
  {
   "cell_type": "code",
   "execution_count": 23,
   "id": "9aea7fb4",
   "metadata": {},
   "outputs": [
    {
     "data": {
      "application/vnd.microsoft.datawrangler.viewer.v0+json": {
       "columns": [
        {
         "name": "index",
         "rawType": "int64",
         "type": "integer"
        },
        {
         "name": "Tipo",
         "rawType": "object",
         "type": "string"
        },
        {
         "name": "Bairro",
         "rawType": "object",
         "type": "string"
        },
        {
         "name": "Quartos",
         "rawType": "int64",
         "type": "integer"
        },
        {
         "name": "Vagas",
         "rawType": "int64",
         "type": "integer"
        },
        {
         "name": "Suites",
         "rawType": "int64",
         "type": "integer"
        },
        {
         "name": "Area",
         "rawType": "int64",
         "type": "integer"
        },
        {
         "name": "Valor",
         "rawType": "float64",
         "type": "float"
        },
        {
         "name": "Condominio",
         "rawType": "float64",
         "type": "float"
        },
        {
         "name": "IPTU",
         "rawType": "float64",
         "type": "float"
        }
       ],
       "ref": "76a9d500-f6c3-448e-84d5-19734b6239fd",
       "rows": [],
       "shape": {
        "columns": 9,
        "rows": 0
       }
      },
      "text/html": [
       "<div>\n",
       "<style scoped>\n",
       "    .dataframe tbody tr th:only-of-type {\n",
       "        vertical-align: middle;\n",
       "    }\n",
       "\n",
       "    .dataframe tbody tr th {\n",
       "        vertical-align: top;\n",
       "    }\n",
       "\n",
       "    .dataframe thead th {\n",
       "        text-align: right;\n",
       "    }\n",
       "</style>\n",
       "<table border=\"1\" class=\"dataframe\">\n",
       "  <thead>\n",
       "    <tr style=\"text-align: right;\">\n",
       "      <th></th>\n",
       "      <th>Tipo</th>\n",
       "      <th>Bairro</th>\n",
       "      <th>Quartos</th>\n",
       "      <th>Vagas</th>\n",
       "      <th>Suites</th>\n",
       "      <th>Area</th>\n",
       "      <th>Valor</th>\n",
       "      <th>Condominio</th>\n",
       "      <th>IPTU</th>\n",
       "    </tr>\n",
       "  </thead>\n",
       "  <tbody>\n",
       "  </tbody>\n",
       "</table>\n",
       "</div>"
      ],
      "text/plain": [
       "Empty DataFrame\n",
       "Columns: [Tipo, Bairro, Quartos, Vagas, Suites, Area, Valor, Condominio, IPTU]\n",
       "Index: []"
      ]
     },
     "execution_count": 23,
     "metadata": {},
     "output_type": "execute_result"
    }
   ],
   "source": [
    "df.query('Valor == 0 | Condominio == 0')"
   ]
  },
  {
   "cell_type": "code",
   "execution_count": 24,
   "id": "b997992f",
   "metadata": {},
   "outputs": [
    {
     "data": {
      "application/vnd.microsoft.datawrangler.viewer.v0+json": {
       "columns": [
        {
         "name": "index",
         "rawType": "int64",
         "type": "integer"
        },
        {
         "name": "Tipo",
         "rawType": "object",
         "type": "string"
        },
        {
         "name": "Bairro",
         "rawType": "object",
         "type": "string"
        },
        {
         "name": "Quartos",
         "rawType": "int64",
         "type": "integer"
        },
        {
         "name": "Vagas",
         "rawType": "int64",
         "type": "integer"
        },
        {
         "name": "Suites",
         "rawType": "int64",
         "type": "integer"
        },
        {
         "name": "Area",
         "rawType": "int64",
         "type": "integer"
        },
        {
         "name": "Valor",
         "rawType": "float64",
         "type": "float"
        },
        {
         "name": "Condominio",
         "rawType": "float64",
         "type": "float"
        },
        {
         "name": "IPTU",
         "rawType": "float64",
         "type": "float"
        }
       ],
       "ref": "2c8f4cd7-d013-4d61-b848-487536725934",
       "rows": [
        [
         "3",
         "Apartamento",
         "Centro",
         "1",
         "0",
         "0",
         "15",
         "800.0",
         "390.0",
         "20.0"
        ],
        [
         "4",
         "Apartamento",
         "Higienópolis",
         "1",
         "0",
         "0",
         "48",
         "800.0",
         "230.0",
         "0.0"
        ],
        [
         "6",
         "Apartamento",
         "Cachambi",
         "2",
         "0",
         "0",
         "50",
         "1300.0",
         "301.0",
         "17.0"
        ],
        [
         "11",
         "Apartamento",
         "Grajaú",
         "2",
         "1",
         "0",
         "70",
         "1500.0",
         "642.0",
         "74.0"
        ],
        [
         "12",
         "Apartamento",
         "Lins de Vasconcelos",
         "3",
         "1",
         "1",
         "90",
         "1500.0",
         "455.0",
         "14.0"
        ]
       ],
       "shape": {
        "columns": 9,
        "rows": 5
       }
      },
      "text/html": [
       "<div>\n",
       "<style scoped>\n",
       "    .dataframe tbody tr th:only-of-type {\n",
       "        vertical-align: middle;\n",
       "    }\n",
       "\n",
       "    .dataframe tbody tr th {\n",
       "        vertical-align: top;\n",
       "    }\n",
       "\n",
       "    .dataframe thead th {\n",
       "        text-align: right;\n",
       "    }\n",
       "</style>\n",
       "<table border=\"1\" class=\"dataframe\">\n",
       "  <thead>\n",
       "    <tr style=\"text-align: right;\">\n",
       "      <th></th>\n",
       "      <th>Tipo</th>\n",
       "      <th>Bairro</th>\n",
       "      <th>Quartos</th>\n",
       "      <th>Vagas</th>\n",
       "      <th>Suites</th>\n",
       "      <th>Area</th>\n",
       "      <th>Valor</th>\n",
       "      <th>Condominio</th>\n",
       "      <th>IPTU</th>\n",
       "    </tr>\n",
       "  </thead>\n",
       "  <tbody>\n",
       "    <tr>\n",
       "      <th>3</th>\n",
       "      <td>Apartamento</td>\n",
       "      <td>Centro</td>\n",
       "      <td>1</td>\n",
       "      <td>0</td>\n",
       "      <td>0</td>\n",
       "      <td>15</td>\n",
       "      <td>800.0</td>\n",
       "      <td>390.0</td>\n",
       "      <td>20.0</td>\n",
       "    </tr>\n",
       "    <tr>\n",
       "      <th>4</th>\n",
       "      <td>Apartamento</td>\n",
       "      <td>Higienópolis</td>\n",
       "      <td>1</td>\n",
       "      <td>0</td>\n",
       "      <td>0</td>\n",
       "      <td>48</td>\n",
       "      <td>800.0</td>\n",
       "      <td>230.0</td>\n",
       "      <td>0.0</td>\n",
       "    </tr>\n",
       "    <tr>\n",
       "      <th>6</th>\n",
       "      <td>Apartamento</td>\n",
       "      <td>Cachambi</td>\n",
       "      <td>2</td>\n",
       "      <td>0</td>\n",
       "      <td>0</td>\n",
       "      <td>50</td>\n",
       "      <td>1300.0</td>\n",
       "      <td>301.0</td>\n",
       "      <td>17.0</td>\n",
       "    </tr>\n",
       "    <tr>\n",
       "      <th>11</th>\n",
       "      <td>Apartamento</td>\n",
       "      <td>Grajaú</td>\n",
       "      <td>2</td>\n",
       "      <td>1</td>\n",
       "      <td>0</td>\n",
       "      <td>70</td>\n",
       "      <td>1500.0</td>\n",
       "      <td>642.0</td>\n",
       "      <td>74.0</td>\n",
       "    </tr>\n",
       "    <tr>\n",
       "      <th>12</th>\n",
       "      <td>Apartamento</td>\n",
       "      <td>Lins de Vasconcelos</td>\n",
       "      <td>3</td>\n",
       "      <td>1</td>\n",
       "      <td>1</td>\n",
       "      <td>90</td>\n",
       "      <td>1500.0</td>\n",
       "      <td>455.0</td>\n",
       "      <td>14.0</td>\n",
       "    </tr>\n",
       "  </tbody>\n",
       "</table>\n",
       "</div>"
      ],
      "text/plain": [
       "           Tipo               Bairro  Quartos  Vagas  Suites  Area   Valor  \\\n",
       "3   Apartamento               Centro        1      0       0    15   800.0   \n",
       "4   Apartamento         Higienópolis        1      0       0    48   800.0   \n",
       "6   Apartamento             Cachambi        2      0       0    50  1300.0   \n",
       "11  Apartamento               Grajaú        2      1       0    70  1500.0   \n",
       "12  Apartamento  Lins de Vasconcelos        3      1       1    90  1500.0   \n",
       "\n",
       "    Condominio  IPTU  \n",
       "3        390.0  20.0  \n",
       "4        230.0   0.0  \n",
       "6        301.0  17.0  \n",
       "11       642.0  74.0  \n",
       "12       455.0  14.0  "
      ]
     },
     "execution_count": 24,
     "metadata": {},
     "output_type": "execute_result"
    }
   ],
   "source": [
    "df.head()"
   ]
  },
  {
   "cell_type": "code",
   "execution_count": 26,
   "id": "50333d2f",
   "metadata": {},
   "outputs": [
    {
     "data": {
      "text/plain": [
       "array(['Apartamento'], dtype=object)"
      ]
     },
     "execution_count": 26,
     "metadata": {},
     "output_type": "execute_result"
    }
   ],
   "source": [
    "df.Tipo.unique()"
   ]
  },
  {
   "cell_type": "code",
   "execution_count": 27,
   "id": "e8683f96",
   "metadata": {},
   "outputs": [],
   "source": [
    "df.drop('Tipo', axis=1, inplace=True)"
   ]
  },
  {
   "cell_type": "code",
   "execution_count": 28,
   "id": "999c3015",
   "metadata": {},
   "outputs": [
    {
     "data": {
      "application/vnd.microsoft.datawrangler.viewer.v0+json": {
       "columns": [
        {
         "name": "index",
         "rawType": "int64",
         "type": "integer"
        },
        {
         "name": "Bairro",
         "rawType": "object",
         "type": "string"
        },
        {
         "name": "Quartos",
         "rawType": "int64",
         "type": "integer"
        },
        {
         "name": "Vagas",
         "rawType": "int64",
         "type": "integer"
        },
        {
         "name": "Suites",
         "rawType": "int64",
         "type": "integer"
        },
        {
         "name": "Area",
         "rawType": "int64",
         "type": "integer"
        },
        {
         "name": "Valor",
         "rawType": "float64",
         "type": "float"
        },
        {
         "name": "Condominio",
         "rawType": "float64",
         "type": "float"
        },
        {
         "name": "IPTU",
         "rawType": "float64",
         "type": "float"
        }
       ],
       "ref": "934d6fdb-73a9-4110-b27d-f9a7c57e6996",
       "rows": [
        [
         "3",
         "Centro",
         "1",
         "0",
         "0",
         "15",
         "800.0",
         "390.0",
         "20.0"
        ],
        [
         "4",
         "Higienópolis",
         "1",
         "0",
         "0",
         "48",
         "800.0",
         "230.0",
         "0.0"
        ],
        [
         "6",
         "Cachambi",
         "2",
         "0",
         "0",
         "50",
         "1300.0",
         "301.0",
         "17.0"
        ],
        [
         "11",
         "Grajaú",
         "2",
         "1",
         "0",
         "70",
         "1500.0",
         "642.0",
         "74.0"
        ],
        [
         "12",
         "Lins de Vasconcelos",
         "3",
         "1",
         "1",
         "90",
         "1500.0",
         "455.0",
         "14.0"
        ]
       ],
       "shape": {
        "columns": 8,
        "rows": 5
       }
      },
      "text/html": [
       "<div>\n",
       "<style scoped>\n",
       "    .dataframe tbody tr th:only-of-type {\n",
       "        vertical-align: middle;\n",
       "    }\n",
       "\n",
       "    .dataframe tbody tr th {\n",
       "        vertical-align: top;\n",
       "    }\n",
       "\n",
       "    .dataframe thead th {\n",
       "        text-align: right;\n",
       "    }\n",
       "</style>\n",
       "<table border=\"1\" class=\"dataframe\">\n",
       "  <thead>\n",
       "    <tr style=\"text-align: right;\">\n",
       "      <th></th>\n",
       "      <th>Bairro</th>\n",
       "      <th>Quartos</th>\n",
       "      <th>Vagas</th>\n",
       "      <th>Suites</th>\n",
       "      <th>Area</th>\n",
       "      <th>Valor</th>\n",
       "      <th>Condominio</th>\n",
       "      <th>IPTU</th>\n",
       "    </tr>\n",
       "  </thead>\n",
       "  <tbody>\n",
       "    <tr>\n",
       "      <th>3</th>\n",
       "      <td>Centro</td>\n",
       "      <td>1</td>\n",
       "      <td>0</td>\n",
       "      <td>0</td>\n",
       "      <td>15</td>\n",
       "      <td>800.0</td>\n",
       "      <td>390.0</td>\n",
       "      <td>20.0</td>\n",
       "    </tr>\n",
       "    <tr>\n",
       "      <th>4</th>\n",
       "      <td>Higienópolis</td>\n",
       "      <td>1</td>\n",
       "      <td>0</td>\n",
       "      <td>0</td>\n",
       "      <td>48</td>\n",
       "      <td>800.0</td>\n",
       "      <td>230.0</td>\n",
       "      <td>0.0</td>\n",
       "    </tr>\n",
       "    <tr>\n",
       "      <th>6</th>\n",
       "      <td>Cachambi</td>\n",
       "      <td>2</td>\n",
       "      <td>0</td>\n",
       "      <td>0</td>\n",
       "      <td>50</td>\n",
       "      <td>1300.0</td>\n",
       "      <td>301.0</td>\n",
       "      <td>17.0</td>\n",
       "    </tr>\n",
       "    <tr>\n",
       "      <th>11</th>\n",
       "      <td>Grajaú</td>\n",
       "      <td>2</td>\n",
       "      <td>1</td>\n",
       "      <td>0</td>\n",
       "      <td>70</td>\n",
       "      <td>1500.0</td>\n",
       "      <td>642.0</td>\n",
       "      <td>74.0</td>\n",
       "    </tr>\n",
       "    <tr>\n",
       "      <th>12</th>\n",
       "      <td>Lins de Vasconcelos</td>\n",
       "      <td>3</td>\n",
       "      <td>1</td>\n",
       "      <td>1</td>\n",
       "      <td>90</td>\n",
       "      <td>1500.0</td>\n",
       "      <td>455.0</td>\n",
       "      <td>14.0</td>\n",
       "    </tr>\n",
       "  </tbody>\n",
       "</table>\n",
       "</div>"
      ],
      "text/plain": [
       "                 Bairro  Quartos  Vagas  Suites  Area   Valor  Condominio  \\\n",
       "3                Centro        1      0       0    15   800.0       390.0   \n",
       "4          Higienópolis        1      0       0    48   800.0       230.0   \n",
       "6              Cachambi        2      0       0    50  1300.0       301.0   \n",
       "11               Grajaú        2      1       0    70  1500.0       642.0   \n",
       "12  Lins de Vasconcelos        3      1       1    90  1500.0       455.0   \n",
       "\n",
       "    IPTU  \n",
       "3   20.0  \n",
       "4    0.0  \n",
       "6   17.0  \n",
       "11  74.0  \n",
       "12  14.0  "
      ]
     },
     "execution_count": 28,
     "metadata": {},
     "output_type": "execute_result"
    }
   ],
   "source": [
    "df.head()"
   ]
  },
  {
   "cell_type": "markdown",
   "id": "285cf737",
   "metadata": {},
   "source": [
    "## Filtros"
   ]
  },
  {
   "cell_type": "markdown",
   "id": "45bf7ef4",
   "metadata": {},
   "source": [
    "### **1. Apartamentos que possuem `1 quarto` e `aluguel menor que 1200`**\n",
    "\n"
   ]
  },
  {
   "cell_type": "code",
   "execution_count": 32,
   "id": "313cbb6b",
   "metadata": {},
   "outputs": [
    {
     "data": {
      "application/vnd.microsoft.datawrangler.viewer.v0+json": {
       "columns": [
        {
         "name": "index",
         "rawType": "int64",
         "type": "integer"
        },
        {
         "name": "Quartos",
         "rawType": "bool",
         "type": "boolean"
        }
       ],
       "ref": "04a91c6a-5110-43b0-96e6-1380ad75f3c9",
       "rows": [
        [
         "3",
         "True"
        ],
        [
         "4",
         "True"
        ],
        [
         "6",
         "False"
        ],
        [
         "11",
         "False"
        ],
        [
         "12",
         "False"
        ],
        [
         "13",
         "True"
        ],
        [
         "15",
         "False"
        ],
        [
         "19",
         "False"
        ],
        [
         "20",
         "False"
        ],
        [
         "21",
         "False"
        ],
        [
         "23",
         "False"
        ],
        [
         "24",
         "False"
        ],
        [
         "27",
         "False"
        ],
        [
         "28",
         "True"
        ],
        [
         "30",
         "False"
        ],
        [
         "32",
         "False"
        ],
        [
         "33",
         "False"
        ],
        [
         "34",
         "False"
        ],
        [
         "36",
         "False"
        ],
        [
         "37",
         "False"
        ],
        [
         "40",
         "False"
        ],
        [
         "41",
         "False"
        ],
        [
         "43",
         "False"
        ],
        [
         "44",
         "False"
        ],
        [
         "47",
         "False"
        ],
        [
         "48",
         "False"
        ],
        [
         "49",
         "False"
        ],
        [
         "50",
         "False"
        ],
        [
         "51",
         "False"
        ],
        [
         "54",
         "True"
        ],
        [
         "55",
         "True"
        ],
        [
         "56",
         "True"
        ],
        [
         "57",
         "False"
        ],
        [
         "60",
         "False"
        ],
        [
         "62",
         "False"
        ],
        [
         "63",
         "False"
        ],
        [
         "64",
         "False"
        ],
        [
         "65",
         "False"
        ],
        [
         "66",
         "False"
        ],
        [
         "67",
         "False"
        ],
        [
         "68",
         "False"
        ],
        [
         "70",
         "False"
        ],
        [
         "71",
         "False"
        ],
        [
         "73",
         "False"
        ],
        [
         "75",
         "False"
        ],
        [
         "77",
         "False"
        ],
        [
         "88",
         "False"
        ],
        [
         "89",
         "False"
        ],
        [
         "90",
         "False"
        ],
        [
         "91",
         "False"
        ]
       ],
       "shape": {
        "columns": 1,
        "rows": 18780
       }
      },
      "text/plain": [
       "3         True\n",
       "4         True\n",
       "6        False\n",
       "11       False\n",
       "12       False\n",
       "         ...  \n",
       "32951    False\n",
       "32953    False\n",
       "32956    False\n",
       "32957    False\n",
       "32958    False\n",
       "Name: Quartos, Length: 18780, dtype: bool"
      ]
     },
     "execution_count": 32,
     "metadata": {},
     "output_type": "execute_result"
    }
   ],
   "source": [
    "df['Quartos'] == 1"
   ]
  },
  {
   "cell_type": "code",
   "execution_count": 34,
   "id": "eed697dd",
   "metadata": {},
   "outputs": [
    {
     "data": {
      "application/vnd.microsoft.datawrangler.viewer.v0+json": {
       "columns": [
        {
         "name": "index",
         "rawType": "int64",
         "type": "integer"
        },
        {
         "name": "Bairro",
         "rawType": "object",
         "type": "string"
        },
        {
         "name": "Quartos",
         "rawType": "int64",
         "type": "integer"
        },
        {
         "name": "Vagas",
         "rawType": "int64",
         "type": "integer"
        },
        {
         "name": "Suites",
         "rawType": "int64",
         "type": "integer"
        },
        {
         "name": "Area",
         "rawType": "int64",
         "type": "integer"
        },
        {
         "name": "Valor",
         "rawType": "float64",
         "type": "float"
        },
        {
         "name": "Condominio",
         "rawType": "float64",
         "type": "float"
        },
        {
         "name": "IPTU",
         "rawType": "float64",
         "type": "float"
        }
       ],
       "ref": "a6950459-411d-4eb7-a110-117235788ea7",
       "rows": [
        [
         "3",
         "Centro",
         "1",
         "0",
         "0",
         "15",
         "800.0",
         "390.0",
         "20.0"
        ],
        [
         "4",
         "Higienópolis",
         "1",
         "0",
         "0",
         "48",
         "800.0",
         "230.0",
         "0.0"
        ],
        [
         "13",
         "Copacabana",
         "1",
         "0",
         "1",
         "40",
         "2000.0",
         "561.0",
         "50.0"
        ],
        [
         "28",
         "Tijuca",
         "1",
         "0",
         "0",
         "48",
         "750.0",
         "772.0",
         "25.0"
        ],
        [
         "54",
         "Centro",
         "1",
         "0",
         "0",
         "27",
         "750.0",
         "371.0",
         "19.0"
        ],
        [
         "55",
         "Ipanema",
         "1",
         "0",
         "0",
         "35",
         "2000.0",
         "650.0",
         "75.0"
        ],
        [
         "56",
         "Ipanema",
         "1",
         "0",
         "0",
         "38",
         "1400.0",
         "530.0",
         "77.0"
        ],
        [
         "94",
         "Centro",
         "1",
         "1",
         "0",
         "37",
         "1100.0",
         "540.0",
         "900.0"
        ],
        [
         "111",
         "Barra da Tijuca",
         "1",
         "1",
         "1",
         "70",
         "1700.0",
         "870.0",
         "143.0"
        ],
        [
         "148",
         "Vila Isabel",
         "1",
         "0",
         "0",
         "37",
         "1000.0",
         "285.0",
         "24.0"
        ],
        [
         "191",
         "Botafogo",
         "1",
         "0",
         "0",
         "35",
         "1500.0",
         "470.0",
         "50.0"
        ],
        [
         "206",
         "Flamengo",
         "1",
         "0",
         "0",
         "40",
         "1900.0",
         "430.0",
         "54.0"
        ],
        [
         "224",
         "Tijuca",
         "1",
         "0",
         "0",
         "65",
         "1200.0",
         "320.0",
         "0.0"
        ],
        [
         "256",
         "Recreio dos Bandeirantes",
         "1",
         "1",
         "1",
         "102",
         "1900.0",
         "688.0",
         "0.0"
        ],
        [
         "270",
         "Centro",
         "1",
         "0",
         "0",
         "35",
         "1350.0",
         "420.0",
         "24.0"
        ],
        [
         "281",
         "Barra da Tijuca",
         "1",
         "1",
         "1",
         "60",
         "2200.0",
         "1600.0",
         "350.0"
        ],
        [
         "293",
         "Botafogo",
         "1",
         "0",
         "0",
         "35",
         "1000.0",
         "293.0",
         "86.0"
        ],
        [
         "299",
         "Tijuca",
         "1",
         "0",
         "0",
         "36",
         "1300.0",
         "295.0",
         "24.0"
        ],
        [
         "310",
         "Humaitá",
         "1",
         "0",
         "0",
         "57",
         "3990.0",
         "860.0",
         "100.0"
        ],
        [
         "322",
         "Flamengo",
         "1",
         "1",
         "0",
         "48",
         "2100.0",
         "580.0",
         "70.0"
        ],
        [
         "341",
         "Lagoa",
         "1",
         "1",
         "0",
         "75",
         "2800.0",
         "800.0",
         "210.0"
        ],
        [
         "355",
         "Engenho Novo",
         "1",
         "1",
         "0",
         "63",
         "700.0",
         "625.0",
         "36.0"
        ],
        [
         "385",
         "Maracanã",
         "1",
         "1",
         "1",
         "120",
         "1000.0",
         "985.0",
         "150.0"
        ],
        [
         "418",
         "Copacabana",
         "1",
         "0",
         "0",
         "43",
         "1600.0",
         "452.0",
         "242.0"
        ],
        [
         "426",
         "Copacabana",
         "1",
         "0",
         "0",
         "45",
         "2800.0",
         "450.0",
         "30.0"
        ],
        [
         "438",
         "Copacabana",
         "1",
         "0",
         "1",
         "37",
         "2500.0",
         "447.0",
         "20.0"
        ],
        [
         "451",
         "Catete",
         "1",
         "0",
         "0",
         "45",
         "1600.0",
         "500.0",
         "55.0"
        ],
        [
         "472",
         "Centro",
         "1",
         "0",
         "0",
         "42",
         "2200.0",
         "619.0",
         "202.0"
        ],
        [
         "484",
         "Copacabana",
         "1",
         "0",
         "0",
         "43",
         "1800.0",
         "639.0",
         "76.0"
        ],
        [
         "495",
         "Ipanema",
         "1",
         "0",
         "1",
         "50",
         "2400.0",
         "897.0",
         "26.0"
        ],
        [
         "517",
         "Urca",
         "1",
         "0",
         "0",
         "53",
         "2800.0",
         "770.0",
         "0.0"
        ],
        [
         "525",
         "Copacabana",
         "1",
         "0",
         "0",
         "60",
         "2800.0",
         "620.0",
         "128.0"
        ],
        [
         "534",
         "Tijuca",
         "1",
         "1",
         "1",
         "84",
         "2000.0",
         "718.0",
         "120.0"
        ],
        [
         "537",
         "Flamengo",
         "1",
         "0",
         "0",
         "30",
         "1490.0",
         "315.0",
         "55.0"
        ],
        [
         "541",
         "Copacabana",
         "1",
         "1",
         "0",
         "150",
         "3000.0",
         "1200.0",
         "390.0"
        ],
        [
         "547",
         "Flamengo",
         "1",
         "0",
         "1",
         "38",
         "1450.0",
         "690.0",
         "55.0"
        ],
        [
         "576",
         "Freguesia (Jacarepaguá)",
         "1",
         "1",
         "0",
         "49",
         "1050.0",
         "580.0",
         "36.0"
        ],
        [
         "597",
         "Leme",
         "1",
         "0",
         "0",
         "31",
         "1140.0",
         "420.0",
         "24.0"
        ],
        [
         "607",
         "Glória",
         "1",
         "0",
         "0",
         "48",
         "1400.0",
         "480.0",
         "20.0"
        ],
        [
         "616",
         "Grajaú",
         "1",
         "0",
         "0",
         "30",
         "800.0",
         "283.0",
         "187.0"
        ],
        [
         "622",
         "Botafogo",
         "1",
         "0",
         "0",
         "17",
         "1100.0",
         "330.0",
         "15.0"
        ],
        [
         "629",
         "Flamengo",
         "1",
         "0",
         "0",
         "49",
         "1700.0",
         "440.0",
         "68.0"
        ],
        [
         "631",
         "Méier",
         "1",
         "0",
         "0",
         "53",
         "900.0",
         "484.0",
         "37.0"
        ],
        [
         "641",
         "Flamengo",
         "1",
         "0",
         "0",
         "37",
         "2300.0",
         "485.0",
         "56.0"
        ],
        [
         "642",
         "Curicica",
         "1",
         "1",
         "0",
         "45",
         "700.0",
         "356.0",
         "126.0"
        ],
        [
         "645",
         "Barra da Tijuca",
         "1",
         "1",
         "1",
         "80",
         "1700.0",
         "980.0",
         "250.0"
        ],
        [
         "654",
         "Tijuca",
         "1",
         "1",
         "1",
         "87",
         "1400.0",
         "1057.0",
         "162.0"
        ],
        [
         "658",
         "Méier",
         "1",
         "0",
         "0",
         "50",
         "1000.0",
         "390.0",
         "16.0"
        ],
        [
         "672",
         "Andaraí",
         "1",
         "0",
         "1",
         "30",
         "1100.0",
         "580.0",
         "0.0"
        ],
        [
         "697",
         "Moneró",
         "1",
         "1",
         "0",
         "47",
         "1200.0",
         "290.0",
         "49.0"
        ]
       ],
       "shape": {
        "columns": 8,
        "rows": 2462
       }
      },
      "text/html": [
       "<div>\n",
       "<style scoped>\n",
       "    .dataframe tbody tr th:only-of-type {\n",
       "        vertical-align: middle;\n",
       "    }\n",
       "\n",
       "    .dataframe tbody tr th {\n",
       "        vertical-align: top;\n",
       "    }\n",
       "\n",
       "    .dataframe thead th {\n",
       "        text-align: right;\n",
       "    }\n",
       "</style>\n",
       "<table border=\"1\" class=\"dataframe\">\n",
       "  <thead>\n",
       "    <tr style=\"text-align: right;\">\n",
       "      <th></th>\n",
       "      <th>Bairro</th>\n",
       "      <th>Quartos</th>\n",
       "      <th>Vagas</th>\n",
       "      <th>Suites</th>\n",
       "      <th>Area</th>\n",
       "      <th>Valor</th>\n",
       "      <th>Condominio</th>\n",
       "      <th>IPTU</th>\n",
       "    </tr>\n",
       "  </thead>\n",
       "  <tbody>\n",
       "    <tr>\n",
       "      <th>3</th>\n",
       "      <td>Centro</td>\n",
       "      <td>1</td>\n",
       "      <td>0</td>\n",
       "      <td>0</td>\n",
       "      <td>15</td>\n",
       "      <td>800.0</td>\n",
       "      <td>390.0</td>\n",
       "      <td>20.0</td>\n",
       "    </tr>\n",
       "    <tr>\n",
       "      <th>4</th>\n",
       "      <td>Higienópolis</td>\n",
       "      <td>1</td>\n",
       "      <td>0</td>\n",
       "      <td>0</td>\n",
       "      <td>48</td>\n",
       "      <td>800.0</td>\n",
       "      <td>230.0</td>\n",
       "      <td>0.0</td>\n",
       "    </tr>\n",
       "    <tr>\n",
       "      <th>13</th>\n",
       "      <td>Copacabana</td>\n",
       "      <td>1</td>\n",
       "      <td>0</td>\n",
       "      <td>1</td>\n",
       "      <td>40</td>\n",
       "      <td>2000.0</td>\n",
       "      <td>561.0</td>\n",
       "      <td>50.0</td>\n",
       "    </tr>\n",
       "    <tr>\n",
       "      <th>28</th>\n",
       "      <td>Tijuca</td>\n",
       "      <td>1</td>\n",
       "      <td>0</td>\n",
       "      <td>0</td>\n",
       "      <td>48</td>\n",
       "      <td>750.0</td>\n",
       "      <td>772.0</td>\n",
       "      <td>25.0</td>\n",
       "    </tr>\n",
       "    <tr>\n",
       "      <th>54</th>\n",
       "      <td>Centro</td>\n",
       "      <td>1</td>\n",
       "      <td>0</td>\n",
       "      <td>0</td>\n",
       "      <td>27</td>\n",
       "      <td>750.0</td>\n",
       "      <td>371.0</td>\n",
       "      <td>19.0</td>\n",
       "    </tr>\n",
       "    <tr>\n",
       "      <th>...</th>\n",
       "      <td>...</td>\n",
       "      <td>...</td>\n",
       "      <td>...</td>\n",
       "      <td>...</td>\n",
       "      <td>...</td>\n",
       "      <td>...</td>\n",
       "      <td>...</td>\n",
       "      <td>...</td>\n",
       "    </tr>\n",
       "    <tr>\n",
       "      <th>32918</th>\n",
       "      <td>Ipanema</td>\n",
       "      <td>1</td>\n",
       "      <td>0</td>\n",
       "      <td>0</td>\n",
       "      <td>55</td>\n",
       "      <td>2000.0</td>\n",
       "      <td>630.0</td>\n",
       "      <td>19.0</td>\n",
       "    </tr>\n",
       "    <tr>\n",
       "      <th>32922</th>\n",
       "      <td>Barra da Tijuca</td>\n",
       "      <td>1</td>\n",
       "      <td>1</td>\n",
       "      <td>0</td>\n",
       "      <td>62</td>\n",
       "      <td>1700.0</td>\n",
       "      <td>945.0</td>\n",
       "      <td>180.0</td>\n",
       "    </tr>\n",
       "    <tr>\n",
       "      <th>32935</th>\n",
       "      <td>Leblon</td>\n",
       "      <td>1</td>\n",
       "      <td>1</td>\n",
       "      <td>1</td>\n",
       "      <td>50</td>\n",
       "      <td>4300.0</td>\n",
       "      <td>1730.0</td>\n",
       "      <td>259.0</td>\n",
       "    </tr>\n",
       "    <tr>\n",
       "      <th>32938</th>\n",
       "      <td>Copacabana</td>\n",
       "      <td>1</td>\n",
       "      <td>0</td>\n",
       "      <td>0</td>\n",
       "      <td>50</td>\n",
       "      <td>1950.0</td>\n",
       "      <td>450.0</td>\n",
       "      <td>70.0</td>\n",
       "    </tr>\n",
       "    <tr>\n",
       "      <th>32950</th>\n",
       "      <td>Tijuca</td>\n",
       "      <td>1</td>\n",
       "      <td>0</td>\n",
       "      <td>0</td>\n",
       "      <td>28</td>\n",
       "      <td>1000.0</td>\n",
       "      <td>360.0</td>\n",
       "      <td>25.0</td>\n",
       "    </tr>\n",
       "  </tbody>\n",
       "</table>\n",
       "<p>2462 rows × 8 columns</p>\n",
       "</div>"
      ],
      "text/plain": [
       "                Bairro  Quartos  Vagas  Suites  Area   Valor  Condominio  \\\n",
       "3               Centro        1      0       0    15   800.0       390.0   \n",
       "4         Higienópolis        1      0       0    48   800.0       230.0   \n",
       "13          Copacabana        1      0       1    40  2000.0       561.0   \n",
       "28              Tijuca        1      0       0    48   750.0       772.0   \n",
       "54              Centro        1      0       0    27   750.0       371.0   \n",
       "...                ...      ...    ...     ...   ...     ...         ...   \n",
       "32918          Ipanema        1      0       0    55  2000.0       630.0   \n",
       "32922  Barra da Tijuca        1      1       0    62  1700.0       945.0   \n",
       "32935           Leblon        1      1       1    50  4300.0      1730.0   \n",
       "32938       Copacabana        1      0       0    50  1950.0       450.0   \n",
       "32950           Tijuca        1      0       0    28  1000.0       360.0   \n",
       "\n",
       "        IPTU  \n",
       "3       20.0  \n",
       "4        0.0  \n",
       "13      50.0  \n",
       "28      25.0  \n",
       "54      19.0  \n",
       "...      ...  \n",
       "32918   19.0  \n",
       "32922  180.0  \n",
       "32935  259.0  \n",
       "32938   70.0  \n",
       "32950   25.0  \n",
       "\n",
       "[2462 rows x 8 columns]"
      ]
     },
     "execution_count": 34,
     "metadata": {},
     "output_type": "execute_result"
    }
   ],
   "source": [
    "selecao1 = df['Quartos'] == 1\n",
    "df[selecao1]"
   ]
  },
  {
   "cell_type": "code",
   "execution_count": 38,
   "id": "f7f9c433",
   "metadata": {},
   "outputs": [
    {
     "data": {
      "application/vnd.microsoft.datawrangler.viewer.v0+json": {
       "columns": [
        {
         "name": "index",
         "rawType": "int64",
         "type": "integer"
        },
        {
         "name": "Bairro",
         "rawType": "object",
         "type": "string"
        },
        {
         "name": "Quartos",
         "rawType": "int64",
         "type": "integer"
        },
        {
         "name": "Vagas",
         "rawType": "int64",
         "type": "integer"
        },
        {
         "name": "Suites",
         "rawType": "int64",
         "type": "integer"
        },
        {
         "name": "Area",
         "rawType": "int64",
         "type": "integer"
        },
        {
         "name": "Valor",
         "rawType": "float64",
         "type": "float"
        },
        {
         "name": "Condominio",
         "rawType": "float64",
         "type": "float"
        },
        {
         "name": "IPTU",
         "rawType": "float64",
         "type": "float"
        }
       ],
       "ref": "95d5c102-d634-4975-884d-c00236cd6e8f",
       "rows": [
        [
         "3",
         "Centro",
         "1",
         "0",
         "0",
         "15",
         "800.0",
         "390.0",
         "20.0"
        ],
        [
         "4",
         "Higienópolis",
         "1",
         "0",
         "0",
         "48",
         "800.0",
         "230.0",
         "0.0"
        ],
        [
         "19",
         "Freguesia (Jacarepaguá)",
         "3",
         "0",
         "0",
         "54",
         "950.0",
         "300.0",
         "28.0"
        ],
        [
         "23",
         "Olaria",
         "3",
         "1",
         "0",
         "68",
         "1000.0",
         "670.0",
         "0.0"
        ],
        [
         "28",
         "Tijuca",
         "1",
         "0",
         "0",
         "48",
         "750.0",
         "772.0",
         "25.0"
        ],
        [
         "54",
         "Centro",
         "1",
         "0",
         "0",
         "27",
         "750.0",
         "371.0",
         "19.0"
        ],
        [
         "77",
         "Cachambi",
         "2",
         "0",
         "0",
         "60",
         "1000.0",
         "380.0",
         "280.0"
        ],
        [
         "91",
         "Vila Valqueire",
         "2",
         "1",
         "0",
         "45",
         "800.0",
         "280.0",
         "14.0"
        ],
        [
         "94",
         "Centro",
         "1",
         "1",
         "0",
         "37",
         "1100.0",
         "540.0",
         "900.0"
        ],
        [
         "106",
         "Itanhangá",
         "2",
         "1",
         "0",
         "60",
         "1000.0",
         "450.0",
         "150.0"
        ],
        [
         "122",
         "Olaria",
         "2",
         "1",
         "0",
         "53",
         "1100.0",
         "160.0",
         "0.0"
        ],
        [
         "147",
         "Praça Seca",
         "2",
         "0",
         "0",
         "80",
         "900.0",
         "350.0",
         "0.0"
        ],
        [
         "148",
         "Vila Isabel",
         "1",
         "0",
         "0",
         "37",
         "1000.0",
         "285.0",
         "24.0"
        ],
        [
         "167",
         "Recreio dos Bandeirantes",
         "2",
         "1",
         "1",
         "75",
         "1000.0",
         "1040.0",
         "112.0"
        ],
        [
         "185",
         "Méier",
         "2",
         "0",
         "0",
         "56",
         "899.0",
         "402.0",
         "135.0"
        ],
        [
         "198",
         "Engenho Novo",
         "2",
         "2",
         "0",
         "78",
         "800.0",
         "915.0",
         "55.0"
        ],
        [
         "267",
         "Campo Grande",
         "2",
         "0",
         "0",
         "60",
         "800.0",
         "380.0",
         "0.0"
        ],
        [
         "283",
         "Taquara",
         "2",
         "2",
         "0",
         "55",
         "790.0",
         "350.0",
         "0.0"
        ],
        [
         "293",
         "Botafogo",
         "1",
         "0",
         "0",
         "35",
         "1000.0",
         "293.0",
         "86.0"
        ],
        [
         "296",
         "Água Santa",
         "2",
         "1",
         "0",
         "50",
         "850.0",
         "280.0",
         "12.0"
        ],
        [
         "302",
         "São Cristóvão",
         "2",
         "0",
         "0",
         "50",
         "1000.0",
         "600.0",
         "0.0"
        ],
        [
         "309",
         "Olaria",
         "2",
         "0",
         "0",
         "90",
         "1000.0",
         "150.0",
         "0.0"
        ],
        [
         "339",
         "Vila da Penha",
         "2",
         "0",
         "0",
         "60",
         "900.0",
         "160.0",
         "25.0"
        ],
        [
         "355",
         "Engenho Novo",
         "1",
         "1",
         "0",
         "63",
         "700.0",
         "625.0",
         "36.0"
        ],
        [
         "361",
         "Anil",
         "2",
         "1",
         "0",
         "48",
         "1100.0",
         "400.0",
         "0.0"
        ],
        [
         "369",
         "Cachambi",
         "3",
         "0",
         "0",
         "70",
         "900.0",
         "200.0",
         "30.0"
        ],
        [
         "377",
         "Cachambi",
         "2",
         "1",
         "0",
         "70",
         "950.0",
         "530.0",
         "30.0"
        ],
        [
         "385",
         "Maracanã",
         "1",
         "1",
         "1",
         "120",
         "1000.0",
         "985.0",
         "150.0"
        ],
        [
         "391",
         "Vaz Lobo",
         "2",
         "0",
         "0",
         "70",
         "1000.0",
         "32.0",
         "0.0"
        ],
        [
         "396",
         "Madureira",
         "2",
         "0",
         "0",
         "40",
         "600.0",
         "415.0",
         "0.0"
        ],
        [
         "405",
         "Praça Seca",
         "3",
         "0",
         "0",
         "90",
         "900.0",
         "330.0",
         "15.0"
        ],
        [
         "425",
         "Pechincha",
         "2",
         "1",
         "0",
         "64",
         "800.0",
         "248.0",
         "14.0"
        ],
        [
         "435",
         "Jacarepaguá",
         "2",
         "1",
         "0",
         "68",
         "1100.0",
         "540.0",
         "0.0"
        ],
        [
         "443",
         "Irajá",
         "2",
         "1",
         "0",
         "65",
         "1100.0",
         "255.0",
         "0.0"
        ],
        [
         "447",
         "Vila Isabel",
         "2",
         "1",
         "0",
         "70",
         "1100.0",
         "550.0",
         "0.0"
        ],
        [
         "473",
         "Méier",
         "2",
         "1",
         "0",
         "62",
         "1000.0",
         "600.0",
         "38.0"
        ],
        [
         "527",
         "Taquara",
         "2",
         "1",
         "0",
         "53",
         "1100.0",
         "450.0",
         "150.0"
        ],
        [
         "528",
         "Penha",
         "2",
         "0",
         "0",
         "64",
         "950.0",
         "180.0",
         "0.0"
        ],
        [
         "576",
         "Freguesia (Jacarepaguá)",
         "1",
         "1",
         "0",
         "49",
         "1050.0",
         "580.0",
         "36.0"
        ],
        [
         "585",
         "Vargem Pequena",
         "2",
         "1",
         "1",
         "80",
         "1100.0",
         "650.0",
         "0.0"
        ],
        [
         "591",
         "Quintino Bocaiúva",
         "2",
         "0",
         "0",
         "67",
         "900.0",
         "320.0",
         "0.0"
        ],
        [
         "597",
         "Leme",
         "1",
         "0",
         "0",
         "31",
         "1140.0",
         "420.0",
         "24.0"
        ],
        [
         "605",
         "Inhaúma",
         "3",
         "1",
         "0",
         "60",
         "750.0",
         "236.0",
         "0.0"
        ],
        [
         "610",
         "Pechincha",
         "2",
         "1",
         "0",
         "65",
         "950.0",
         "640.0",
         "126.0"
        ],
        [
         "615",
         "Marechal Hermes",
         "2",
         "1",
         "0",
         "70",
         "850.0",
         "200.0",
         "0.0"
        ],
        [
         "616",
         "Grajaú",
         "1",
         "0",
         "0",
         "30",
         "800.0",
         "283.0",
         "187.0"
        ],
        [
         "617",
         "Praça Seca",
         "2",
         "1",
         "1",
         "63",
         "1100.0",
         "361.0",
         "0.0"
        ],
        [
         "622",
         "Botafogo",
         "1",
         "0",
         "0",
         "17",
         "1100.0",
         "330.0",
         "15.0"
        ],
        [
         "631",
         "Méier",
         "1",
         "0",
         "0",
         "53",
         "900.0",
         "484.0",
         "37.0"
        ],
        [
         "642",
         "Curicica",
         "1",
         "1",
         "0",
         "45",
         "700.0",
         "356.0",
         "126.0"
        ]
       ],
       "shape": {
        "columns": 8,
        "rows": 1904
       }
      },
      "text/html": [
       "<div>\n",
       "<style scoped>\n",
       "    .dataframe tbody tr th:only-of-type {\n",
       "        vertical-align: middle;\n",
       "    }\n",
       "\n",
       "    .dataframe tbody tr th {\n",
       "        vertical-align: top;\n",
       "    }\n",
       "\n",
       "    .dataframe thead th {\n",
       "        text-align: right;\n",
       "    }\n",
       "</style>\n",
       "<table border=\"1\" class=\"dataframe\">\n",
       "  <thead>\n",
       "    <tr style=\"text-align: right;\">\n",
       "      <th></th>\n",
       "      <th>Bairro</th>\n",
       "      <th>Quartos</th>\n",
       "      <th>Vagas</th>\n",
       "      <th>Suites</th>\n",
       "      <th>Area</th>\n",
       "      <th>Valor</th>\n",
       "      <th>Condominio</th>\n",
       "      <th>IPTU</th>\n",
       "    </tr>\n",
       "  </thead>\n",
       "  <tbody>\n",
       "    <tr>\n",
       "      <th>3</th>\n",
       "      <td>Centro</td>\n",
       "      <td>1</td>\n",
       "      <td>0</td>\n",
       "      <td>0</td>\n",
       "      <td>15</td>\n",
       "      <td>800.0</td>\n",
       "      <td>390.0</td>\n",
       "      <td>20.0</td>\n",
       "    </tr>\n",
       "    <tr>\n",
       "      <th>4</th>\n",
       "      <td>Higienópolis</td>\n",
       "      <td>1</td>\n",
       "      <td>0</td>\n",
       "      <td>0</td>\n",
       "      <td>48</td>\n",
       "      <td>800.0</td>\n",
       "      <td>230.0</td>\n",
       "      <td>0.0</td>\n",
       "    </tr>\n",
       "    <tr>\n",
       "      <th>19</th>\n",
       "      <td>Freguesia (Jacarepaguá)</td>\n",
       "      <td>3</td>\n",
       "      <td>0</td>\n",
       "      <td>0</td>\n",
       "      <td>54</td>\n",
       "      <td>950.0</td>\n",
       "      <td>300.0</td>\n",
       "      <td>28.0</td>\n",
       "    </tr>\n",
       "    <tr>\n",
       "      <th>23</th>\n",
       "      <td>Olaria</td>\n",
       "      <td>3</td>\n",
       "      <td>1</td>\n",
       "      <td>0</td>\n",
       "      <td>68</td>\n",
       "      <td>1000.0</td>\n",
       "      <td>670.0</td>\n",
       "      <td>0.0</td>\n",
       "    </tr>\n",
       "    <tr>\n",
       "      <th>28</th>\n",
       "      <td>Tijuca</td>\n",
       "      <td>1</td>\n",
       "      <td>0</td>\n",
       "      <td>0</td>\n",
       "      <td>48</td>\n",
       "      <td>750.0</td>\n",
       "      <td>772.0</td>\n",
       "      <td>25.0</td>\n",
       "    </tr>\n",
       "    <tr>\n",
       "      <th>...</th>\n",
       "      <td>...</td>\n",
       "      <td>...</td>\n",
       "      <td>...</td>\n",
       "      <td>...</td>\n",
       "      <td>...</td>\n",
       "      <td>...</td>\n",
       "      <td>...</td>\n",
       "      <td>...</td>\n",
       "    </tr>\n",
       "    <tr>\n",
       "      <th>32925</th>\n",
       "      <td>Campinho</td>\n",
       "      <td>2</td>\n",
       "      <td>0</td>\n",
       "      <td>0</td>\n",
       "      <td>63</td>\n",
       "      <td>800.0</td>\n",
       "      <td>392.0</td>\n",
       "      <td>0.0</td>\n",
       "    </tr>\n",
       "    <tr>\n",
       "      <th>32930</th>\n",
       "      <td>Freguesia (Jacarepaguá)</td>\n",
       "      <td>2</td>\n",
       "      <td>1</td>\n",
       "      <td>0</td>\n",
       "      <td>60</td>\n",
       "      <td>500.0</td>\n",
       "      <td>900.0</td>\n",
       "      <td>148.0</td>\n",
       "    </tr>\n",
       "    <tr>\n",
       "      <th>32950</th>\n",
       "      <td>Tijuca</td>\n",
       "      <td>1</td>\n",
       "      <td>0</td>\n",
       "      <td>0</td>\n",
       "      <td>28</td>\n",
       "      <td>1000.0</td>\n",
       "      <td>360.0</td>\n",
       "      <td>25.0</td>\n",
       "    </tr>\n",
       "    <tr>\n",
       "      <th>32951</th>\n",
       "      <td>Vila Valqueire</td>\n",
       "      <td>2</td>\n",
       "      <td>0</td>\n",
       "      <td>0</td>\n",
       "      <td>52</td>\n",
       "      <td>1000.0</td>\n",
       "      <td>550.0</td>\n",
       "      <td>0.0</td>\n",
       "    </tr>\n",
       "    <tr>\n",
       "      <th>32953</th>\n",
       "      <td>Méier</td>\n",
       "      <td>2</td>\n",
       "      <td>0</td>\n",
       "      <td>0</td>\n",
       "      <td>70</td>\n",
       "      <td>900.0</td>\n",
       "      <td>490.0</td>\n",
       "      <td>48.0</td>\n",
       "    </tr>\n",
       "  </tbody>\n",
       "</table>\n",
       "<p>1904 rows × 8 columns</p>\n",
       "</div>"
      ],
      "text/plain": [
       "                        Bairro  Quartos  Vagas  Suites  Area   Valor  \\\n",
       "3                       Centro        1      0       0    15   800.0   \n",
       "4                 Higienópolis        1      0       0    48   800.0   \n",
       "19     Freguesia (Jacarepaguá)        3      0       0    54   950.0   \n",
       "23                      Olaria        3      1       0    68  1000.0   \n",
       "28                      Tijuca        1      0       0    48   750.0   \n",
       "...                        ...      ...    ...     ...   ...     ...   \n",
       "32925                 Campinho        2      0       0    63   800.0   \n",
       "32930  Freguesia (Jacarepaguá)        2      1       0    60   500.0   \n",
       "32950                   Tijuca        1      0       0    28  1000.0   \n",
       "32951           Vila Valqueire        2      0       0    52  1000.0   \n",
       "32953                    Méier        2      0       0    70   900.0   \n",
       "\n",
       "       Condominio   IPTU  \n",
       "3           390.0   20.0  \n",
       "4           230.0    0.0  \n",
       "19          300.0   28.0  \n",
       "23          670.0    0.0  \n",
       "28          772.0   25.0  \n",
       "...           ...    ...  \n",
       "32925       392.0    0.0  \n",
       "32930       900.0  148.0  \n",
       "32950       360.0   25.0  \n",
       "32951       550.0    0.0  \n",
       "32953       490.0   48.0  \n",
       "\n",
       "[1904 rows x 8 columns]"
      ]
     },
     "execution_count": 38,
     "metadata": {},
     "output_type": "execute_result"
    }
   ],
   "source": [
    "selecao2 = df['Valor'] < 1200\n",
    "df[selecao2]"
   ]
  },
  {
   "cell_type": "code",
   "execution_count": 42,
   "id": "34e61b9c",
   "metadata": {},
   "outputs": [
    {
     "data": {
      "application/vnd.microsoft.datawrangler.viewer.v0+json": {
       "columns": [
        {
         "name": "index",
         "rawType": "int64",
         "type": "integer"
        },
        {
         "name": "Bairro",
         "rawType": "object",
         "type": "string"
        },
        {
         "name": "Quartos",
         "rawType": "int64",
         "type": "integer"
        },
        {
         "name": "Vagas",
         "rawType": "int64",
         "type": "integer"
        },
        {
         "name": "Suites",
         "rawType": "int64",
         "type": "integer"
        },
        {
         "name": "Area",
         "rawType": "int64",
         "type": "integer"
        },
        {
         "name": "Valor",
         "rawType": "float64",
         "type": "float"
        },
        {
         "name": "Condominio",
         "rawType": "float64",
         "type": "float"
        },
        {
         "name": "IPTU",
         "rawType": "float64",
         "type": "float"
        }
       ],
       "ref": "e31bb507-5fd2-4985-95ec-b049597440b0",
       "rows": [
        [
         "3",
         "Centro",
         "1",
         "0",
         "0",
         "15",
         "800.0",
         "390.0",
         "20.0"
        ],
        [
         "4",
         "Higienópolis",
         "1",
         "0",
         "0",
         "48",
         "800.0",
         "230.0",
         "0.0"
        ],
        [
         "28",
         "Tijuca",
         "1",
         "0",
         "0",
         "48",
         "750.0",
         "772.0",
         "25.0"
        ],
        [
         "54",
         "Centro",
         "1",
         "0",
         "0",
         "27",
         "750.0",
         "371.0",
         "19.0"
        ],
        [
         "94",
         "Centro",
         "1",
         "1",
         "0",
         "37",
         "1100.0",
         "540.0",
         "900.0"
        ],
        [
         "148",
         "Vila Isabel",
         "1",
         "0",
         "0",
         "37",
         "1000.0",
         "285.0",
         "24.0"
        ],
        [
         "293",
         "Botafogo",
         "1",
         "0",
         "0",
         "35",
         "1000.0",
         "293.0",
         "86.0"
        ],
        [
         "355",
         "Engenho Novo",
         "1",
         "1",
         "0",
         "63",
         "700.0",
         "625.0",
         "36.0"
        ],
        [
         "385",
         "Maracanã",
         "1",
         "1",
         "1",
         "120",
         "1000.0",
         "985.0",
         "150.0"
        ],
        [
         "576",
         "Freguesia (Jacarepaguá)",
         "1",
         "1",
         "0",
         "49",
         "1050.0",
         "580.0",
         "36.0"
        ],
        [
         "597",
         "Leme",
         "1",
         "0",
         "0",
         "31",
         "1140.0",
         "420.0",
         "24.0"
        ],
        [
         "616",
         "Grajaú",
         "1",
         "0",
         "0",
         "30",
         "800.0",
         "283.0",
         "187.0"
        ],
        [
         "622",
         "Botafogo",
         "1",
         "0",
         "0",
         "17",
         "1100.0",
         "330.0",
         "15.0"
        ],
        [
         "631",
         "Méier",
         "1",
         "0",
         "0",
         "53",
         "900.0",
         "484.0",
         "37.0"
        ],
        [
         "642",
         "Curicica",
         "1",
         "1",
         "0",
         "45",
         "700.0",
         "356.0",
         "126.0"
        ],
        [
         "658",
         "Méier",
         "1",
         "0",
         "0",
         "50",
         "1000.0",
         "390.0",
         "16.0"
        ],
        [
         "672",
         "Andaraí",
         "1",
         "0",
         "1",
         "30",
         "1100.0",
         "580.0",
         "0.0"
        ],
        [
         "796",
         "Freguesia (Jacarepaguá)",
         "1",
         "1",
         "0",
         "49",
         "850.0",
         "590.0",
         "37.0"
        ],
        [
         "880",
         "Centro",
         "1",
         "0",
         "1",
         "38",
         "1150.0",
         "400.0",
         "25.0"
        ],
        [
         "914",
         "Santa Teresa",
         "1",
         "0",
         "0",
         "21",
         "800.0",
         "312.0",
         "15.0"
        ],
        [
         "1006",
         "Centro",
         "1",
         "0",
         "0",
         "35",
         "1000.0",
         "300.0",
         "0.0"
        ],
        [
         "1024",
         "Campo Grande",
         "1",
         "1",
         "0",
         "46",
         "650.0",
         "250.0",
         "0.0"
        ],
        [
         "1104",
         "Vila Isabel",
         "1",
         "1",
         "1",
         "50",
         "1050.0",
         "450.0",
         "0.0"
        ],
        [
         "1132",
         "Fátima",
         "1",
         "0",
         "0",
         "50",
         "1100.0",
         "558.0",
         "20.0"
        ],
        [
         "1136",
         "Higienópolis",
         "1",
         "0",
         "0",
         "55",
         "750.0",
         "120.0",
         "0.0"
        ],
        [
         "1148",
         "Botafogo",
         "1",
         "0",
         "0",
         "35",
         "1000.0",
         "293.0",
         "86.0"
        ],
        [
         "1149",
         "Santa Teresa",
         "1",
         "1",
         "0",
         "49",
         "1150.0",
         "570.0",
         "28.0"
        ],
        [
         "1382",
         "Copacabana",
         "1",
         "0",
         "0",
         "35",
         "1100.0",
         "400.0",
         "55.0"
        ],
        [
         "1390",
         "Tijuca",
         "1",
         "0",
         "0",
         "40",
         "1100.0",
         "350.0",
         "50.0"
        ],
        [
         "1442",
         "Glória",
         "1",
         "0",
         "0",
         "34",
         "1100.0",
         "275.0",
         "14.0"
        ],
        [
         "1445",
         "Higienópolis",
         "1",
         "0",
         "1",
         "45",
         "800.0",
         "120.0",
         "31.0"
        ],
        [
         "1525",
         "Engenho Novo",
         "1",
         "0",
         "0",
         "37",
         "600.0",
         "414.0",
         "16.0"
        ],
        [
         "1616",
         "Encantado",
         "1",
         "1",
         "0",
         "44",
         "500.0",
         "346.0",
         "0.0"
        ],
        [
         "1620",
         "Barra da Tijuca",
         "1",
         "1",
         "1",
         "45",
         "910.0",
         "640.0",
         "12.0"
        ],
        [
         "1652",
         "Centro",
         "1",
         "0",
         "0",
         "30",
         "900.0",
         "320.0",
         "0.0"
        ],
        [
         "1685",
         "Centro",
         "1",
         "0",
         "0",
         "21",
         "900.0",
         "289.0",
         "20.0"
        ],
        [
         "1706",
         "Praça da Bandeira",
         "1",
         "0",
         "0",
         "35",
         "400.0",
         "130.0",
         "0.0"
        ],
        [
         "1744",
         "Rio Comprido",
         "1",
         "0",
         "0",
         "33",
         "800.0",
         "275.0",
         "24.0"
        ],
        [
         "1810",
         "Praça Seca",
         "1",
         "1",
         "1",
         "70",
         "600.0",
         "481.0",
         "17.0"
        ],
        [
         "1829",
         "São Cristóvão",
         "1",
         "0",
         "0",
         "56",
         "850.0",
         "450.0",
         "15.0"
        ],
        [
         "2073",
         "Centro",
         "1",
         "0",
         "0",
         "38",
         "900.0",
         "223.0",
         "15.0"
        ],
        [
         "2097",
         "Méier",
         "1",
         "0",
         "0",
         "47",
         "700.0",
         "435.0",
         "162.0"
        ],
        [
         "2131",
         "Engenho Novo",
         "1",
         "1",
         "1",
         "51",
         "850.0",
         "509.0",
         "17.0"
        ],
        [
         "2228",
         "Méier",
         "1",
         "0",
         "0",
         "55",
         "850.0",
         "340.0",
         "16.0"
        ],
        [
         "2310",
         "Flamengo",
         "1",
         "0",
         "1",
         "26",
         "1100.0",
         "381.0",
         "29.0"
        ],
        [
         "2370",
         "Santa Teresa",
         "1",
         "0",
         "0",
         "45",
         "740.0",
         "180.0",
         "25.0"
        ],
        [
         "2480",
         "Tanque",
         "1",
         "1",
         "1",
         "64",
         "900.0",
         "470.0",
         "15.0"
        ],
        [
         "2524",
         "Glória",
         "1",
         "0",
         "1",
         "48",
         "1100.0",
         "500.0",
         "0.0"
        ],
        [
         "2783",
         "Centro",
         "1",
         "0",
         "0",
         "40",
         "1000.0",
         "510.0",
         "21.0"
        ],
        [
         "2791",
         "Méier",
         "1",
         "1",
         "0",
         "55",
         "900.0",
         "250.0",
         "17.0"
        ]
       ],
       "shape": {
        "columns": 8,
        "rows": 499
       }
      },
      "text/html": [
       "<div>\n",
       "<style scoped>\n",
       "    .dataframe tbody tr th:only-of-type {\n",
       "        vertical-align: middle;\n",
       "    }\n",
       "\n",
       "    .dataframe tbody tr th {\n",
       "        vertical-align: top;\n",
       "    }\n",
       "\n",
       "    .dataframe thead th {\n",
       "        text-align: right;\n",
       "    }\n",
       "</style>\n",
       "<table border=\"1\" class=\"dataframe\">\n",
       "  <thead>\n",
       "    <tr style=\"text-align: right;\">\n",
       "      <th></th>\n",
       "      <th>Bairro</th>\n",
       "      <th>Quartos</th>\n",
       "      <th>Vagas</th>\n",
       "      <th>Suites</th>\n",
       "      <th>Area</th>\n",
       "      <th>Valor</th>\n",
       "      <th>Condominio</th>\n",
       "      <th>IPTU</th>\n",
       "    </tr>\n",
       "  </thead>\n",
       "  <tbody>\n",
       "    <tr>\n",
       "      <th>3</th>\n",
       "      <td>Centro</td>\n",
       "      <td>1</td>\n",
       "      <td>0</td>\n",
       "      <td>0</td>\n",
       "      <td>15</td>\n",
       "      <td>800.0</td>\n",
       "      <td>390.0</td>\n",
       "      <td>20.0</td>\n",
       "    </tr>\n",
       "    <tr>\n",
       "      <th>4</th>\n",
       "      <td>Higienópolis</td>\n",
       "      <td>1</td>\n",
       "      <td>0</td>\n",
       "      <td>0</td>\n",
       "      <td>48</td>\n",
       "      <td>800.0</td>\n",
       "      <td>230.0</td>\n",
       "      <td>0.0</td>\n",
       "    </tr>\n",
       "    <tr>\n",
       "      <th>28</th>\n",
       "      <td>Tijuca</td>\n",
       "      <td>1</td>\n",
       "      <td>0</td>\n",
       "      <td>0</td>\n",
       "      <td>48</td>\n",
       "      <td>750.0</td>\n",
       "      <td>772.0</td>\n",
       "      <td>25.0</td>\n",
       "    </tr>\n",
       "    <tr>\n",
       "      <th>54</th>\n",
       "      <td>Centro</td>\n",
       "      <td>1</td>\n",
       "      <td>0</td>\n",
       "      <td>0</td>\n",
       "      <td>27</td>\n",
       "      <td>750.0</td>\n",
       "      <td>371.0</td>\n",
       "      <td>19.0</td>\n",
       "    </tr>\n",
       "    <tr>\n",
       "      <th>94</th>\n",
       "      <td>Centro</td>\n",
       "      <td>1</td>\n",
       "      <td>1</td>\n",
       "      <td>0</td>\n",
       "      <td>37</td>\n",
       "      <td>1100.0</td>\n",
       "      <td>540.0</td>\n",
       "      <td>900.0</td>\n",
       "    </tr>\n",
       "    <tr>\n",
       "      <th>...</th>\n",
       "      <td>...</td>\n",
       "      <td>...</td>\n",
       "      <td>...</td>\n",
       "      <td>...</td>\n",
       "      <td>...</td>\n",
       "      <td>...</td>\n",
       "      <td>...</td>\n",
       "      <td>...</td>\n",
       "    </tr>\n",
       "    <tr>\n",
       "      <th>32596</th>\n",
       "      <td>Grajaú</td>\n",
       "      <td>1</td>\n",
       "      <td>0</td>\n",
       "      <td>1</td>\n",
       "      <td>37</td>\n",
       "      <td>1000.0</td>\n",
       "      <td>200.0</td>\n",
       "      <td>0.0</td>\n",
       "    </tr>\n",
       "    <tr>\n",
       "      <th>32617</th>\n",
       "      <td>Pechincha</td>\n",
       "      <td>1</td>\n",
       "      <td>0</td>\n",
       "      <td>1</td>\n",
       "      <td>69</td>\n",
       "      <td>900.0</td>\n",
       "      <td>640.0</td>\n",
       "      <td>126.0</td>\n",
       "    </tr>\n",
       "    <tr>\n",
       "      <th>32627</th>\n",
       "      <td>Glória</td>\n",
       "      <td>1</td>\n",
       "      <td>0</td>\n",
       "      <td>0</td>\n",
       "      <td>46</td>\n",
       "      <td>1100.0</td>\n",
       "      <td>453.0</td>\n",
       "      <td>32.0</td>\n",
       "    </tr>\n",
       "    <tr>\n",
       "      <th>32714</th>\n",
       "      <td>Botafogo</td>\n",
       "      <td>1</td>\n",
       "      <td>0</td>\n",
       "      <td>0</td>\n",
       "      <td>21</td>\n",
       "      <td>1000.0</td>\n",
       "      <td>282.0</td>\n",
       "      <td>25.0</td>\n",
       "    </tr>\n",
       "    <tr>\n",
       "      <th>32950</th>\n",
       "      <td>Tijuca</td>\n",
       "      <td>1</td>\n",
       "      <td>0</td>\n",
       "      <td>0</td>\n",
       "      <td>28</td>\n",
       "      <td>1000.0</td>\n",
       "      <td>360.0</td>\n",
       "      <td>25.0</td>\n",
       "    </tr>\n",
       "  </tbody>\n",
       "</table>\n",
       "<p>499 rows × 8 columns</p>\n",
       "</div>"
      ],
      "text/plain": [
       "             Bairro  Quartos  Vagas  Suites  Area   Valor  Condominio   IPTU\n",
       "3            Centro        1      0       0    15   800.0       390.0   20.0\n",
       "4      Higienópolis        1      0       0    48   800.0       230.0    0.0\n",
       "28           Tijuca        1      0       0    48   750.0       772.0   25.0\n",
       "54           Centro        1      0       0    27   750.0       371.0   19.0\n",
       "94           Centro        1      1       0    37  1100.0       540.0  900.0\n",
       "...             ...      ...    ...     ...   ...     ...         ...    ...\n",
       "32596        Grajaú        1      0       1    37  1000.0       200.0    0.0\n",
       "32617     Pechincha        1      0       1    69   900.0       640.0  126.0\n",
       "32627        Glória        1      0       0    46  1100.0       453.0   32.0\n",
       "32714      Botafogo        1      0       0    21  1000.0       282.0   25.0\n",
       "32950        Tijuca        1      0       0    28  1000.0       360.0   25.0\n",
       "\n",
       "[499 rows x 8 columns]"
      ]
     },
     "execution_count": 42,
     "metadata": {},
     "output_type": "execute_result"
    }
   ],
   "source": [
    "selecao_final = (selecao1) & (selecao2)\n",
    "df[selecao_final]"
   ]
  },
  {
   "cell_type": "code",
   "execution_count": 43,
   "id": "fb064cb3",
   "metadata": {},
   "outputs": [],
   "source": [
    "df_1 = df[selecao_final]"
   ]
  },
  {
   "cell_type": "markdown",
   "id": "c74cbb08",
   "metadata": {},
   "source": [
    "### **2. `Apartamentos` que possuem pelo menos `2 quartos`, `aluguel menor que 3000` e `area maior que 70`**"
   ]
  },
  {
   "cell_type": "code",
   "execution_count": 46,
   "id": "e97127bb",
   "metadata": {},
   "outputs": [
    {
     "data": {
      "application/vnd.microsoft.datawrangler.viewer.v0+json": {
       "columns": [
        {
         "name": "index",
         "rawType": "int64",
         "type": "integer"
        },
        {
         "name": "Bairro",
         "rawType": "object",
         "type": "string"
        },
        {
         "name": "Quartos",
         "rawType": "int64",
         "type": "integer"
        },
        {
         "name": "Vagas",
         "rawType": "int64",
         "type": "integer"
        },
        {
         "name": "Suites",
         "rawType": "int64",
         "type": "integer"
        },
        {
         "name": "Area",
         "rawType": "int64",
         "type": "integer"
        },
        {
         "name": "Valor",
         "rawType": "float64",
         "type": "float"
        },
        {
         "name": "Condominio",
         "rawType": "float64",
         "type": "float"
        },
        {
         "name": "IPTU",
         "rawType": "float64",
         "type": "float"
        }
       ],
       "ref": "47ee2fc1-6a38-44b0-b5b5-72450c8cb06f",
       "rows": [
        [
         "12",
         "Lins de Vasconcelos",
         "3",
         "1",
         "1",
         "90",
         "1500.0",
         "455.0",
         "14.0"
        ],
        [
         "21",
         "Tijuca",
         "2",
         "1",
         "0",
         "110",
         "1900.0",
         "700.0",
         "138.0"
        ],
        [
         "24",
         "Tijuca",
         "2",
         "1",
         "0",
         "78",
         "2000.0",
         "700.0",
         "0.0"
        ],
        [
         "32",
         "Botafogo",
         "2",
         "1",
         "0",
         "76",
         "2500.0",
         "740.0",
         "0.0"
        ],
        [
         "36",
         "Recreio dos Bandeirantes",
         "3",
         "1",
         "1",
         "105",
         "2300.0",
         "648.0",
         "0.0"
        ],
        [
         "48",
         "Recreio dos Bandeirantes",
         "3",
         "2",
         "2",
         "100",
         "2600.0",
         "380.0",
         "0.0"
        ],
        [
         "49",
         "Barra da Tijuca",
         "3",
         "1",
         "1",
         "72",
         "2350.0",
         "600.0",
         "70.0"
        ],
        [
         "51",
         "Recreio dos Bandeirantes",
         "3",
         "1",
         "2",
         "92",
         "2300.0",
         "840.0",
         "200.0"
        ],
        [
         "57",
         "Recreio dos Bandeirantes",
         "2",
         "1",
         "2",
         "83",
         "1600.0",
         "1160.0",
         "157.0"
        ],
        [
         "64",
         "Méier",
         "3",
         "1",
         "0",
         "90",
         "1550.0",
         "844.0",
         "80.0"
        ],
        [
         "67",
         "Maracanã",
         "2",
         "0",
         "0",
         "86",
         "1800.0",
         "600.0",
         "82.0"
        ],
        [
         "68",
         "Recreio dos Bandeirantes",
         "2",
         "1",
         "1",
         "74",
         "1850.0",
         "675.0",
         "200.0"
        ],
        [
         "70",
         "Jacarepaguá",
         "3",
         "1",
         "1",
         "74",
         "1900.0",
         "556.0",
         "98.0"
        ],
        [
         "90",
         "Barra da Tijuca",
         "3",
         "2",
         "1",
         "104",
         "2600.0",
         "1364.0",
         "406.0"
        ],
        [
         "93",
         "Barra da Tijuca",
         "2",
         "1",
         "1",
         "88",
         "2700.0",
         "1300.0",
         "2042.0"
        ],
        [
         "96",
         "Bonsucesso",
         "2",
         "1",
         "0",
         "77",
         "1500.0",
         "740.0",
         "0.0"
        ],
        [
         "97",
         "Barra da Tijuca",
         "3",
         "2",
         "2",
         "85",
         "2500.0",
         "1400.0",
         "190.0"
        ],
        [
         "98",
         "Todos os Santos",
         "3",
         "1",
         "1",
         "78",
         "1450.0",
         "630.0",
         "73.0"
        ],
        [
         "104",
         "Barra da Tijuca",
         "2",
         "1",
         "1",
         "78",
         "2750.0",
         "1300.0",
         "138.0"
        ],
        [
         "107",
         "Recreio dos Bandeirantes",
         "2",
         "1",
         "1",
         "90",
         "2400.0",
         "1700.0",
         "135.0"
        ],
        [
         "114",
         "Tijuca",
         "2",
         "1",
         "0",
         "80",
         "1800.0",
         "1100.0",
         "84.0"
        ],
        [
         "118",
         "Tijuca",
         "3",
         "1",
         "0",
         "172",
         "2700.0",
         "780.0",
         "170.0"
        ],
        [
         "119",
         "Freguesia (Jacarepaguá)",
         "4",
         "3",
         "2",
         "261",
         "2800.0",
         "2535.0",
         "3900.0"
        ],
        [
         "124",
         "Botafogo",
         "2",
         "1",
         "1",
         "83",
         "2800.0",
         "560.0",
         "138.0"
        ],
        [
         "135",
         "Catete",
         "2",
         "0",
         "0",
         "77",
         "2400.0",
         "1130.0",
         "140.0"
        ],
        [
         "141",
         "Recreio dos Bandeirantes",
         "3",
         "2",
         "1",
         "90",
         "1200.0",
         "880.0",
         "144.0"
        ],
        [
         "147",
         "Praça Seca",
         "2",
         "0",
         "0",
         "80",
         "900.0",
         "350.0",
         "0.0"
        ],
        [
         "154",
         "Freguesia (Jacarepaguá)",
         "2",
         "1",
         "1",
         "74",
         "1700.0",
         "652.0",
         "104.0"
        ],
        [
         "167",
         "Recreio dos Bandeirantes",
         "2",
         "1",
         "1",
         "75",
         "1000.0",
         "1040.0",
         "112.0"
        ],
        [
         "177",
         "Recreio dos Bandeirantes",
         "3",
         "2",
         "1",
         "104",
         "2200.0",
         "740.0",
         "258.0"
        ],
        [
         "179",
         "Barra da Tijuca",
         "2",
         "1",
         "1",
         "72",
         "2600.0",
         "1700.0",
         "237.0"
        ],
        [
         "180",
         "Taquara",
         "2",
         "1",
         "0",
         "75",
         "1200.0",
         "330.0",
         "75.0"
        ],
        [
         "187",
         "Freguesia (Jacarepaguá)",
         "2",
         "1",
         "1",
         "71",
         "1200.0",
         "600.0",
         "54.0"
        ],
        [
         "190",
         "Tijuca",
         "3",
         "0",
         "0",
         "87",
         "1600.0",
         "650.0",
         "100.0"
        ],
        [
         "197",
         "Barra da Tijuca",
         "3",
         "1",
         "2",
         "93",
         "2500.0",
         "1100.0",
         "0.0"
        ],
        [
         "198",
         "Engenho Novo",
         "2",
         "2",
         "0",
         "78",
         "800.0",
         "915.0",
         "55.0"
        ],
        [
         "199",
         "Barra da Tijuca",
         "2",
         "1",
         "1",
         "85",
         "2500.0",
         "1573.0",
         "197.0"
        ],
        [
         "202",
         "Freguesia (Jacarepaguá)",
         "2",
         "1",
         "1",
         "95",
         "1600.0",
         "650.0",
         "0.0"
        ],
        [
         "218",
         "Tijuca",
         "3",
         "1",
         "1",
         "78",
         "2500.0",
         "730.0",
         "178.0"
        ],
        [
         "223",
         "Recreio dos Bandeirantes",
         "3",
         "2",
         "1",
         "102",
         "1850.0",
         "882.0",
         "0.0"
        ],
        [
         "227",
         "Maracanã",
         "3",
         "2",
         "3",
         "158",
         "2400.0",
         "1265.0",
         "0.0"
        ],
        [
         "228",
         "Barra da Tijuca",
         "2",
         "1",
         "1",
         "83",
         "2000.0",
         "1548.0",
         "260.0"
        ],
        [
         "230",
         "Barra da Tijuca",
         "3",
         "1",
         "1",
         "84",
         "1900.0",
         "1103.0",
         "212.0"
        ],
        [
         "231",
         "Freguesia (Jacarepaguá)",
         "3",
         "1",
         "1",
         "77",
         "1600.0",
         "850.0",
         "165.0"
        ],
        [
         "234",
         "Tijuca",
         "3",
         "0",
         "0",
         "75",
         "1800.0",
         "350.0",
         "0.0"
        ],
        [
         "246",
         "Tijuca",
         "2",
         "1",
         "1",
         "71",
         "1500.0",
         "600.0",
         "0.0"
        ],
        [
         "247",
         "Barra da Tijuca",
         "2",
         "1",
         "1",
         "81",
         "1900.0",
         "1200.0",
         "121.0"
        ],
        [
         "263",
         "Laranjeiras",
         "3",
         "1",
         "1",
         "90",
         "2400.0",
         "1311.0",
         "0.0"
        ],
        [
         "276",
         "Tijuca",
         "3",
         "1",
         "0",
         "129",
         "1800.0",
         "850.0",
         "116.0"
        ],
        [
         "279",
         "Recreio dos Bandeirantes",
         "2",
         "1",
         "1",
         "93",
         "1400.0",
         "1300.0",
         "0.0"
        ]
       ],
       "shape": {
        "columns": 8,
        "rows": 4459
       }
      },
      "text/html": [
       "<div>\n",
       "<style scoped>\n",
       "    .dataframe tbody tr th:only-of-type {\n",
       "        vertical-align: middle;\n",
       "    }\n",
       "\n",
       "    .dataframe tbody tr th {\n",
       "        vertical-align: top;\n",
       "    }\n",
       "\n",
       "    .dataframe thead th {\n",
       "        text-align: right;\n",
       "    }\n",
       "</style>\n",
       "<table border=\"1\" class=\"dataframe\">\n",
       "  <thead>\n",
       "    <tr style=\"text-align: right;\">\n",
       "      <th></th>\n",
       "      <th>Bairro</th>\n",
       "      <th>Quartos</th>\n",
       "      <th>Vagas</th>\n",
       "      <th>Suites</th>\n",
       "      <th>Area</th>\n",
       "      <th>Valor</th>\n",
       "      <th>Condominio</th>\n",
       "      <th>IPTU</th>\n",
       "    </tr>\n",
       "  </thead>\n",
       "  <tbody>\n",
       "    <tr>\n",
       "      <th>12</th>\n",
       "      <td>Lins de Vasconcelos</td>\n",
       "      <td>3</td>\n",
       "      <td>1</td>\n",
       "      <td>1</td>\n",
       "      <td>90</td>\n",
       "      <td>1500.0</td>\n",
       "      <td>455.0</td>\n",
       "      <td>14.0</td>\n",
       "    </tr>\n",
       "    <tr>\n",
       "      <th>21</th>\n",
       "      <td>Tijuca</td>\n",
       "      <td>2</td>\n",
       "      <td>1</td>\n",
       "      <td>0</td>\n",
       "      <td>110</td>\n",
       "      <td>1900.0</td>\n",
       "      <td>700.0</td>\n",
       "      <td>138.0</td>\n",
       "    </tr>\n",
       "    <tr>\n",
       "      <th>24</th>\n",
       "      <td>Tijuca</td>\n",
       "      <td>2</td>\n",
       "      <td>1</td>\n",
       "      <td>0</td>\n",
       "      <td>78</td>\n",
       "      <td>2000.0</td>\n",
       "      <td>700.0</td>\n",
       "      <td>0.0</td>\n",
       "    </tr>\n",
       "    <tr>\n",
       "      <th>32</th>\n",
       "      <td>Botafogo</td>\n",
       "      <td>2</td>\n",
       "      <td>1</td>\n",
       "      <td>0</td>\n",
       "      <td>76</td>\n",
       "      <td>2500.0</td>\n",
       "      <td>740.0</td>\n",
       "      <td>0.0</td>\n",
       "    </tr>\n",
       "    <tr>\n",
       "      <th>36</th>\n",
       "      <td>Recreio dos Bandeirantes</td>\n",
       "      <td>3</td>\n",
       "      <td>1</td>\n",
       "      <td>1</td>\n",
       "      <td>105</td>\n",
       "      <td>2300.0</td>\n",
       "      <td>648.0</td>\n",
       "      <td>0.0</td>\n",
       "    </tr>\n",
       "    <tr>\n",
       "      <th>...</th>\n",
       "      <td>...</td>\n",
       "      <td>...</td>\n",
       "      <td>...</td>\n",
       "      <td>...</td>\n",
       "      <td>...</td>\n",
       "      <td>...</td>\n",
       "      <td>...</td>\n",
       "      <td>...</td>\n",
       "    </tr>\n",
       "    <tr>\n",
       "      <th>32934</th>\n",
       "      <td>Jacarepaguá</td>\n",
       "      <td>2</td>\n",
       "      <td>1</td>\n",
       "      <td>1</td>\n",
       "      <td>78</td>\n",
       "      <td>2200.0</td>\n",
       "      <td>790.0</td>\n",
       "      <td>180.0</td>\n",
       "    </tr>\n",
       "    <tr>\n",
       "      <th>32940</th>\n",
       "      <td>Barra da Tijuca</td>\n",
       "      <td>2</td>\n",
       "      <td>1</td>\n",
       "      <td>1</td>\n",
       "      <td>85</td>\n",
       "      <td>2250.0</td>\n",
       "      <td>1561.0</td>\n",
       "      <td>197.0</td>\n",
       "    </tr>\n",
       "    <tr>\n",
       "      <th>32941</th>\n",
       "      <td>Barra da Tijuca</td>\n",
       "      <td>3</td>\n",
       "      <td>2</td>\n",
       "      <td>0</td>\n",
       "      <td>98</td>\n",
       "      <td>2300.0</td>\n",
       "      <td>887.0</td>\n",
       "      <td>177.0</td>\n",
       "    </tr>\n",
       "    <tr>\n",
       "      <th>32944</th>\n",
       "      <td>Recreio dos Bandeirantes</td>\n",
       "      <td>3</td>\n",
       "      <td>2</td>\n",
       "      <td>1</td>\n",
       "      <td>88</td>\n",
       "      <td>1550.0</td>\n",
       "      <td>790.0</td>\n",
       "      <td>0.0</td>\n",
       "    </tr>\n",
       "    <tr>\n",
       "      <th>32956</th>\n",
       "      <td>Jacarepaguá</td>\n",
       "      <td>3</td>\n",
       "      <td>1</td>\n",
       "      <td>2</td>\n",
       "      <td>78</td>\n",
       "      <td>1800.0</td>\n",
       "      <td>800.0</td>\n",
       "      <td>40.0</td>\n",
       "    </tr>\n",
       "  </tbody>\n",
       "</table>\n",
       "<p>4459 rows × 8 columns</p>\n",
       "</div>"
      ],
      "text/plain": [
       "                         Bairro  Quartos  Vagas  Suites  Area   Valor  \\\n",
       "12          Lins de Vasconcelos        3      1       1    90  1500.0   \n",
       "21                       Tijuca        2      1       0   110  1900.0   \n",
       "24                       Tijuca        2      1       0    78  2000.0   \n",
       "32                     Botafogo        2      1       0    76  2500.0   \n",
       "36     Recreio dos Bandeirantes        3      1       1   105  2300.0   \n",
       "...                         ...      ...    ...     ...   ...     ...   \n",
       "32934               Jacarepaguá        2      1       1    78  2200.0   \n",
       "32940           Barra da Tijuca        2      1       1    85  2250.0   \n",
       "32941           Barra da Tijuca        3      2       0    98  2300.0   \n",
       "32944  Recreio dos Bandeirantes        3      2       1    88  1550.0   \n",
       "32956               Jacarepaguá        3      1       2    78  1800.0   \n",
       "\n",
       "       Condominio   IPTU  \n",
       "12          455.0   14.0  \n",
       "21          700.0  138.0  \n",
       "24          700.0    0.0  \n",
       "32          740.0    0.0  \n",
       "36          648.0    0.0  \n",
       "...           ...    ...  \n",
       "32934       790.0  180.0  \n",
       "32940      1561.0  197.0  \n",
       "32941       887.0  177.0  \n",
       "32944       790.0    0.0  \n",
       "32956       800.0   40.0  \n",
       "\n",
       "[4459 rows x 8 columns]"
      ]
     },
     "execution_count": 46,
     "metadata": {},
     "output_type": "execute_result"
    }
   ],
   "source": [
    "selecao = (df['Quartos'] >= 2) & (df['Valor'] < 3000) & (df['Area'] > 70)\n",
    "df[selecao]"
   ]
  },
  {
   "cell_type": "code",
   "execution_count": 47,
   "id": "216ce5d6",
   "metadata": {},
   "outputs": [],
   "source": [
    "df_2 = df[selecao]"
   ]
  },
  {
   "cell_type": "markdown",
   "id": "9310f822",
   "metadata": {},
   "source": [
    "## Salvando os dados"
   ]
  },
  {
   "cell_type": "code",
   "execution_count": 48,
   "id": "4ced7fe1",
   "metadata": {},
   "outputs": [],
   "source": [
    "df.to_csv('dados_apartamentos.csv')"
   ]
  },
  {
   "cell_type": "code",
   "execution_count": 49,
   "id": "a443d158",
   "metadata": {},
   "outputs": [
    {
     "data": {
      "application/vnd.microsoft.datawrangler.viewer.v0+json": {
       "columns": [
        {
         "name": "index",
         "rawType": "int64",
         "type": "integer"
        },
        {
         "name": "Unnamed: 0",
         "rawType": "int64",
         "type": "integer"
        },
        {
         "name": "Bairro",
         "rawType": "object",
         "type": "string"
        },
        {
         "name": "Quartos",
         "rawType": "int64",
         "type": "integer"
        },
        {
         "name": "Vagas",
         "rawType": "int64",
         "type": "integer"
        },
        {
         "name": "Suites",
         "rawType": "int64",
         "type": "integer"
        },
        {
         "name": "Area",
         "rawType": "int64",
         "type": "integer"
        },
        {
         "name": "Valor",
         "rawType": "float64",
         "type": "float"
        },
        {
         "name": "Condominio",
         "rawType": "float64",
         "type": "float"
        },
        {
         "name": "IPTU",
         "rawType": "float64",
         "type": "float"
        }
       ],
       "ref": "e2702b98-57b8-48d2-9bc1-30b96d479180",
       "rows": [
        [
         "0",
         "3",
         "Centro",
         "1",
         "0",
         "0",
         "15",
         "800.0",
         "390.0",
         "20.0"
        ],
        [
         "1",
         "4",
         "Higienópolis",
         "1",
         "0",
         "0",
         "48",
         "800.0",
         "230.0",
         "0.0"
        ],
        [
         "2",
         "6",
         "Cachambi",
         "2",
         "0",
         "0",
         "50",
         "1300.0",
         "301.0",
         "17.0"
        ],
        [
         "3",
         "11",
         "Grajaú",
         "2",
         "1",
         "0",
         "70",
         "1500.0",
         "642.0",
         "74.0"
        ],
        [
         "4",
         "12",
         "Lins de Vasconcelos",
         "3",
         "1",
         "1",
         "90",
         "1500.0",
         "455.0",
         "14.0"
        ],
        [
         "5",
         "13",
         "Copacabana",
         "1",
         "0",
         "1",
         "40",
         "2000.0",
         "561.0",
         "50.0"
        ],
        [
         "6",
         "15",
         "Copacabana",
         "4",
         "3",
         "1",
         "243",
         "13000.0",
         "2000.0",
         "803.0"
        ],
        [
         "7",
         "19",
         "Freguesia (Jacarepaguá)",
         "3",
         "0",
         "0",
         "54",
         "950.0",
         "300.0",
         "28.0"
        ],
        [
         "8",
         "20",
         "Barra da Tijuca",
         "2",
         "1",
         "1",
         "67",
         "1700.0",
         "589.0",
         "147.0"
        ],
        [
         "9",
         "21",
         "Tijuca",
         "2",
         "1",
         "0",
         "110",
         "1900.0",
         "700.0",
         "138.0"
        ],
        [
         "10",
         "23",
         "Olaria",
         "3",
         "1",
         "0",
         "68",
         "1000.0",
         "670.0",
         "0.0"
        ],
        [
         "11",
         "24",
         "Tijuca",
         "2",
         "1",
         "0",
         "78",
         "2000.0",
         "700.0",
         "0.0"
        ],
        [
         "12",
         "27",
         "Ipanema",
         "3",
         "1",
         "1",
         "125",
         "7000.0",
         "2100.0",
         "463.0"
        ],
        [
         "13",
         "28",
         "Tijuca",
         "1",
         "0",
         "0",
         "48",
         "750.0",
         "772.0",
         "25.0"
        ],
        [
         "14",
         "30",
         "Barra da Tijuca",
         "3",
         "3",
         "1",
         "175",
         "4200.0",
         "1500.0",
         "500.0"
        ],
        [
         "15",
         "32",
         "Botafogo",
         "2",
         "1",
         "0",
         "76",
         "2500.0",
         "740.0",
         "0.0"
        ],
        [
         "16",
         "33",
         "Copacabana",
         "3",
         "1",
         "2",
         "378",
         "10000.0",
         "2150.0",
         "700.0"
        ],
        [
         "17",
         "34",
         "Copacabana",
         "3",
         "0",
         "0",
         "180",
         "5500.0",
         "1780.0",
         "420.0"
        ],
        [
         "18",
         "36",
         "Recreio dos Bandeirantes",
         "3",
         "1",
         "1",
         "105",
         "2300.0",
         "648.0",
         "0.0"
        ],
        [
         "19",
         "37",
         "Leblon",
         "3",
         "1",
         "0",
         "110",
         "3900.0",
         "1500.0",
         "120.0"
        ],
        [
         "20",
         "40",
         "Jardim Oceânico",
         "3",
         "3",
         "1",
         "200",
         "3500.0",
         "1780.0",
         "496.0"
        ],
        [
         "21",
         "41",
         "Barra da Tijuca",
         "3",
         "1",
         "2",
         "70",
         "1800.0",
         "1095.0",
         "140.0"
        ],
        [
         "22",
         "43",
         "Copacabana",
         "4",
         "1",
         "0",
         "244",
         "5000.0",
         "2500.0",
         "4100.0"
        ],
        [
         "23",
         "44",
         "Barra da Tijuca",
         "3",
         "2",
         "1",
         "110",
         "4500.0",
         "2000.0",
         "450.0"
        ],
        [
         "24",
         "47",
         "Recreio dos Bandeirantes",
         "2",
         "2",
         "2",
         "90",
         "3000.0",
         "1340.0",
         "0.0"
        ],
        [
         "25",
         "48",
         "Recreio dos Bandeirantes",
         "3",
         "2",
         "2",
         "100",
         "2600.0",
         "380.0",
         "0.0"
        ],
        [
         "26",
         "49",
         "Barra da Tijuca",
         "3",
         "1",
         "1",
         "72",
         "2350.0",
         "600.0",
         "70.0"
        ],
        [
         "27",
         "50",
         "Humaitá",
         "2",
         "2",
         "1",
         "180",
         "4000.0",
         "2500.0",
         "300.0"
        ],
        [
         "28",
         "51",
         "Recreio dos Bandeirantes",
         "3",
         "1",
         "2",
         "92",
         "2300.0",
         "840.0",
         "200.0"
        ],
        [
         "29",
         "54",
         "Centro",
         "1",
         "0",
         "0",
         "27",
         "750.0",
         "371.0",
         "19.0"
        ],
        [
         "30",
         "55",
         "Ipanema",
         "1",
         "0",
         "0",
         "35",
         "2000.0",
         "650.0",
         "75.0"
        ],
        [
         "31",
         "56",
         "Ipanema",
         "1",
         "0",
         "0",
         "38",
         "1400.0",
         "530.0",
         "77.0"
        ],
        [
         "32",
         "57",
         "Recreio dos Bandeirantes",
         "2",
         "1",
         "2",
         "83",
         "1600.0",
         "1160.0",
         "157.0"
        ],
        [
         "33",
         "60",
         "Barra da Tijuca",
         "4",
         "3",
         "3",
         "153",
         "6500.0",
         "2300.0",
         "434.0"
        ],
        [
         "34",
         "62",
         "Península",
         "4",
         "3",
         "4",
         "267",
         "18000.0",
         "3100.0",
         "400.0"
        ],
        [
         "35",
         "63",
         "Ipanema",
         "3",
         "1",
         "0",
         "87",
         "3200.0",
         "1305.0",
         "217.0"
        ],
        [
         "36",
         "64",
         "Méier",
         "3",
         "1",
         "0",
         "90",
         "1550.0",
         "844.0",
         "80.0"
        ],
        [
         "37",
         "65",
         "Vargem Pequena",
         "3",
         "1",
         "0",
         "53",
         "1400.0",
         "385.0",
         "28.0"
        ],
        [
         "38",
         "66",
         "Botafogo",
         "3",
         "1",
         "1",
         "108",
         "5950.0",
         "1405.0",
         "289.0"
        ],
        [
         "39",
         "67",
         "Maracanã",
         "2",
         "0",
         "0",
         "86",
         "1800.0",
         "600.0",
         "82.0"
        ],
        [
         "40",
         "68",
         "Recreio dos Bandeirantes",
         "2",
         "1",
         "1",
         "74",
         "1850.0",
         "675.0",
         "200.0"
        ],
        [
         "41",
         "70",
         "Jacarepaguá",
         "3",
         "1",
         "1",
         "74",
         "1900.0",
         "556.0",
         "98.0"
        ],
        [
         "42",
         "71",
         "Ipanema",
         "3",
         "2",
         "1",
         "150",
         "8000.0",
         "2400.0",
         "0.0"
        ],
        [
         "43",
         "73",
         "Ipanema",
         "3",
         "1",
         "1",
         "140",
         "7900.0",
         "2900.0",
         "500.0"
        ],
        [
         "44",
         "75",
         "Jardim Botânico",
         "2",
         "2",
         "0",
         "95",
         "4000.0",
         "1170.0",
         "0.0"
        ],
        [
         "45",
         "77",
         "Cachambi",
         "2",
         "0",
         "0",
         "60",
         "1000.0",
         "380.0",
         "280.0"
        ],
        [
         "46",
         "88",
         "Leblon",
         "2",
         "1",
         "1",
         "80",
         "3500.0",
         "990.0",
         "245.0"
        ],
        [
         "47",
         "89",
         "Barra da Tijuca",
         "4",
         "4",
         "4",
         "240",
         "12700.0",
         "4400.0",
         "1440.0"
        ],
        [
         "48",
         "90",
         "Barra da Tijuca",
         "3",
         "2",
         "1",
         "104",
         "2600.0",
         "1364.0",
         "406.0"
        ],
        [
         "49",
         "91",
         "Vila Valqueire",
         "2",
         "1",
         "0",
         "45",
         "800.0",
         "280.0",
         "14.0"
        ]
       ],
       "shape": {
        "columns": 9,
        "rows": 18780
       }
      },
      "text/html": [
       "<div>\n",
       "<style scoped>\n",
       "    .dataframe tbody tr th:only-of-type {\n",
       "        vertical-align: middle;\n",
       "    }\n",
       "\n",
       "    .dataframe tbody tr th {\n",
       "        vertical-align: top;\n",
       "    }\n",
       "\n",
       "    .dataframe thead th {\n",
       "        text-align: right;\n",
       "    }\n",
       "</style>\n",
       "<table border=\"1\" class=\"dataframe\">\n",
       "  <thead>\n",
       "    <tr style=\"text-align: right;\">\n",
       "      <th></th>\n",
       "      <th>Unnamed: 0</th>\n",
       "      <th>Bairro</th>\n",
       "      <th>Quartos</th>\n",
       "      <th>Vagas</th>\n",
       "      <th>Suites</th>\n",
       "      <th>Area</th>\n",
       "      <th>Valor</th>\n",
       "      <th>Condominio</th>\n",
       "      <th>IPTU</th>\n",
       "    </tr>\n",
       "  </thead>\n",
       "  <tbody>\n",
       "    <tr>\n",
       "      <th>0</th>\n",
       "      <td>3</td>\n",
       "      <td>Centro</td>\n",
       "      <td>1</td>\n",
       "      <td>0</td>\n",
       "      <td>0</td>\n",
       "      <td>15</td>\n",
       "      <td>800.0</td>\n",
       "      <td>390.0</td>\n",
       "      <td>20.0</td>\n",
       "    </tr>\n",
       "    <tr>\n",
       "      <th>1</th>\n",
       "      <td>4</td>\n",
       "      <td>Higienópolis</td>\n",
       "      <td>1</td>\n",
       "      <td>0</td>\n",
       "      <td>0</td>\n",
       "      <td>48</td>\n",
       "      <td>800.0</td>\n",
       "      <td>230.0</td>\n",
       "      <td>0.0</td>\n",
       "    </tr>\n",
       "    <tr>\n",
       "      <th>2</th>\n",
       "      <td>6</td>\n",
       "      <td>Cachambi</td>\n",
       "      <td>2</td>\n",
       "      <td>0</td>\n",
       "      <td>0</td>\n",
       "      <td>50</td>\n",
       "      <td>1300.0</td>\n",
       "      <td>301.0</td>\n",
       "      <td>17.0</td>\n",
       "    </tr>\n",
       "    <tr>\n",
       "      <th>3</th>\n",
       "      <td>11</td>\n",
       "      <td>Grajaú</td>\n",
       "      <td>2</td>\n",
       "      <td>1</td>\n",
       "      <td>0</td>\n",
       "      <td>70</td>\n",
       "      <td>1500.0</td>\n",
       "      <td>642.0</td>\n",
       "      <td>74.0</td>\n",
       "    </tr>\n",
       "    <tr>\n",
       "      <th>4</th>\n",
       "      <td>12</td>\n",
       "      <td>Lins de Vasconcelos</td>\n",
       "      <td>3</td>\n",
       "      <td>1</td>\n",
       "      <td>1</td>\n",
       "      <td>90</td>\n",
       "      <td>1500.0</td>\n",
       "      <td>455.0</td>\n",
       "      <td>14.0</td>\n",
       "    </tr>\n",
       "    <tr>\n",
       "      <th>...</th>\n",
       "      <td>...</td>\n",
       "      <td>...</td>\n",
       "      <td>...</td>\n",
       "      <td>...</td>\n",
       "      <td>...</td>\n",
       "      <td>...</td>\n",
       "      <td>...</td>\n",
       "      <td>...</td>\n",
       "      <td>...</td>\n",
       "    </tr>\n",
       "    <tr>\n",
       "      <th>18775</th>\n",
       "      <td>32951</td>\n",
       "      <td>Vila Valqueire</td>\n",
       "      <td>2</td>\n",
       "      <td>0</td>\n",
       "      <td>0</td>\n",
       "      <td>52</td>\n",
       "      <td>1000.0</td>\n",
       "      <td>550.0</td>\n",
       "      <td>0.0</td>\n",
       "    </tr>\n",
       "    <tr>\n",
       "      <th>18776</th>\n",
       "      <td>32953</td>\n",
       "      <td>Méier</td>\n",
       "      <td>2</td>\n",
       "      <td>0</td>\n",
       "      <td>0</td>\n",
       "      <td>70</td>\n",
       "      <td>900.0</td>\n",
       "      <td>490.0</td>\n",
       "      <td>48.0</td>\n",
       "    </tr>\n",
       "    <tr>\n",
       "      <th>18777</th>\n",
       "      <td>32956</td>\n",
       "      <td>Jacarepaguá</td>\n",
       "      <td>3</td>\n",
       "      <td>1</td>\n",
       "      <td>2</td>\n",
       "      <td>78</td>\n",
       "      <td>1800.0</td>\n",
       "      <td>800.0</td>\n",
       "      <td>40.0</td>\n",
       "    </tr>\n",
       "    <tr>\n",
       "      <th>18778</th>\n",
       "      <td>32957</td>\n",
       "      <td>São Francisco Xavier</td>\n",
       "      <td>2</td>\n",
       "      <td>1</td>\n",
       "      <td>0</td>\n",
       "      <td>48</td>\n",
       "      <td>1400.0</td>\n",
       "      <td>509.0</td>\n",
       "      <td>37.0</td>\n",
       "    </tr>\n",
       "    <tr>\n",
       "      <th>18779</th>\n",
       "      <td>32958</td>\n",
       "      <td>Leblon</td>\n",
       "      <td>2</td>\n",
       "      <td>0</td>\n",
       "      <td>0</td>\n",
       "      <td>70</td>\n",
       "      <td>3000.0</td>\n",
       "      <td>760.0</td>\n",
       "      <td>0.0</td>\n",
       "    </tr>\n",
       "  </tbody>\n",
       "</table>\n",
       "<p>18780 rows × 9 columns</p>\n",
       "</div>"
      ],
      "text/plain": [
       "       Unnamed: 0                Bairro  Quartos  Vagas  Suites  Area   Valor  \\\n",
       "0               3                Centro        1      0       0    15   800.0   \n",
       "1               4          Higienópolis        1      0       0    48   800.0   \n",
       "2               6              Cachambi        2      0       0    50  1300.0   \n",
       "3              11                Grajaú        2      1       0    70  1500.0   \n",
       "4              12   Lins de Vasconcelos        3      1       1    90  1500.0   \n",
       "...           ...                   ...      ...    ...     ...   ...     ...   \n",
       "18775       32951        Vila Valqueire        2      0       0    52  1000.0   \n",
       "18776       32953                 Méier        2      0       0    70   900.0   \n",
       "18777       32956           Jacarepaguá        3      1       2    78  1800.0   \n",
       "18778       32957  São Francisco Xavier        2      1       0    48  1400.0   \n",
       "18779       32958                Leblon        2      0       0    70  3000.0   \n",
       "\n",
       "       Condominio  IPTU  \n",
       "0           390.0  20.0  \n",
       "1           230.0   0.0  \n",
       "2           301.0  17.0  \n",
       "3           642.0  74.0  \n",
       "4           455.0  14.0  \n",
       "...           ...   ...  \n",
       "18775       550.0   0.0  \n",
       "18776       490.0  48.0  \n",
       "18777       800.0  40.0  \n",
       "18778       509.0  37.0  \n",
       "18779       760.0   0.0  \n",
       "\n",
       "[18780 rows x 9 columns]"
      ]
     },
     "execution_count": 49,
     "metadata": {},
     "output_type": "execute_result"
    }
   ],
   "source": [
    "pd.read_csv('dados_apartamentos.csv')"
   ]
  },
  {
   "cell_type": "code",
   "execution_count": 50,
   "id": "7ac88311",
   "metadata": {},
   "outputs": [],
   "source": [
    "df.to_csv('dados_apartamentos.csv', index=False)"
   ]
  },
  {
   "cell_type": "code",
   "execution_count": 51,
   "id": "79e8b078",
   "metadata": {},
   "outputs": [
    {
     "data": {
      "application/vnd.microsoft.datawrangler.viewer.v0+json": {
       "columns": [
        {
         "name": "index",
         "rawType": "int64",
         "type": "integer"
        },
        {
         "name": "Bairro",
         "rawType": "object",
         "type": "string"
        },
        {
         "name": "Quartos",
         "rawType": "int64",
         "type": "integer"
        },
        {
         "name": "Vagas",
         "rawType": "int64",
         "type": "integer"
        },
        {
         "name": "Suites",
         "rawType": "int64",
         "type": "integer"
        },
        {
         "name": "Area",
         "rawType": "int64",
         "type": "integer"
        },
        {
         "name": "Valor",
         "rawType": "float64",
         "type": "float"
        },
        {
         "name": "Condominio",
         "rawType": "float64",
         "type": "float"
        },
        {
         "name": "IPTU",
         "rawType": "float64",
         "type": "float"
        }
       ],
       "ref": "93a336b5-1779-43b1-84f8-3c3147c85257",
       "rows": [
        [
         "0",
         "Centro",
         "1",
         "0",
         "0",
         "15",
         "800.0",
         "390.0",
         "20.0"
        ],
        [
         "1",
         "Higienópolis",
         "1",
         "0",
         "0",
         "48",
         "800.0",
         "230.0",
         "0.0"
        ],
        [
         "2",
         "Cachambi",
         "2",
         "0",
         "0",
         "50",
         "1300.0",
         "301.0",
         "17.0"
        ],
        [
         "3",
         "Grajaú",
         "2",
         "1",
         "0",
         "70",
         "1500.0",
         "642.0",
         "74.0"
        ],
        [
         "4",
         "Lins de Vasconcelos",
         "3",
         "1",
         "1",
         "90",
         "1500.0",
         "455.0",
         "14.0"
        ],
        [
         "5",
         "Copacabana",
         "1",
         "0",
         "1",
         "40",
         "2000.0",
         "561.0",
         "50.0"
        ],
        [
         "6",
         "Copacabana",
         "4",
         "3",
         "1",
         "243",
         "13000.0",
         "2000.0",
         "803.0"
        ],
        [
         "7",
         "Freguesia (Jacarepaguá)",
         "3",
         "0",
         "0",
         "54",
         "950.0",
         "300.0",
         "28.0"
        ],
        [
         "8",
         "Barra da Tijuca",
         "2",
         "1",
         "1",
         "67",
         "1700.0",
         "589.0",
         "147.0"
        ],
        [
         "9",
         "Tijuca",
         "2",
         "1",
         "0",
         "110",
         "1900.0",
         "700.0",
         "138.0"
        ],
        [
         "10",
         "Olaria",
         "3",
         "1",
         "0",
         "68",
         "1000.0",
         "670.0",
         "0.0"
        ],
        [
         "11",
         "Tijuca",
         "2",
         "1",
         "0",
         "78",
         "2000.0",
         "700.0",
         "0.0"
        ],
        [
         "12",
         "Ipanema",
         "3",
         "1",
         "1",
         "125",
         "7000.0",
         "2100.0",
         "463.0"
        ],
        [
         "13",
         "Tijuca",
         "1",
         "0",
         "0",
         "48",
         "750.0",
         "772.0",
         "25.0"
        ],
        [
         "14",
         "Barra da Tijuca",
         "3",
         "3",
         "1",
         "175",
         "4200.0",
         "1500.0",
         "500.0"
        ],
        [
         "15",
         "Botafogo",
         "2",
         "1",
         "0",
         "76",
         "2500.0",
         "740.0",
         "0.0"
        ],
        [
         "16",
         "Copacabana",
         "3",
         "1",
         "2",
         "378",
         "10000.0",
         "2150.0",
         "700.0"
        ],
        [
         "17",
         "Copacabana",
         "3",
         "0",
         "0",
         "180",
         "5500.0",
         "1780.0",
         "420.0"
        ],
        [
         "18",
         "Recreio dos Bandeirantes",
         "3",
         "1",
         "1",
         "105",
         "2300.0",
         "648.0",
         "0.0"
        ],
        [
         "19",
         "Leblon",
         "3",
         "1",
         "0",
         "110",
         "3900.0",
         "1500.0",
         "120.0"
        ],
        [
         "20",
         "Jardim Oceânico",
         "3",
         "3",
         "1",
         "200",
         "3500.0",
         "1780.0",
         "496.0"
        ],
        [
         "21",
         "Barra da Tijuca",
         "3",
         "1",
         "2",
         "70",
         "1800.0",
         "1095.0",
         "140.0"
        ],
        [
         "22",
         "Copacabana",
         "4",
         "1",
         "0",
         "244",
         "5000.0",
         "2500.0",
         "4100.0"
        ],
        [
         "23",
         "Barra da Tijuca",
         "3",
         "2",
         "1",
         "110",
         "4500.0",
         "2000.0",
         "450.0"
        ],
        [
         "24",
         "Recreio dos Bandeirantes",
         "2",
         "2",
         "2",
         "90",
         "3000.0",
         "1340.0",
         "0.0"
        ],
        [
         "25",
         "Recreio dos Bandeirantes",
         "3",
         "2",
         "2",
         "100",
         "2600.0",
         "380.0",
         "0.0"
        ],
        [
         "26",
         "Barra da Tijuca",
         "3",
         "1",
         "1",
         "72",
         "2350.0",
         "600.0",
         "70.0"
        ],
        [
         "27",
         "Humaitá",
         "2",
         "2",
         "1",
         "180",
         "4000.0",
         "2500.0",
         "300.0"
        ],
        [
         "28",
         "Recreio dos Bandeirantes",
         "3",
         "1",
         "2",
         "92",
         "2300.0",
         "840.0",
         "200.0"
        ],
        [
         "29",
         "Centro",
         "1",
         "0",
         "0",
         "27",
         "750.0",
         "371.0",
         "19.0"
        ],
        [
         "30",
         "Ipanema",
         "1",
         "0",
         "0",
         "35",
         "2000.0",
         "650.0",
         "75.0"
        ],
        [
         "31",
         "Ipanema",
         "1",
         "0",
         "0",
         "38",
         "1400.0",
         "530.0",
         "77.0"
        ],
        [
         "32",
         "Recreio dos Bandeirantes",
         "2",
         "1",
         "2",
         "83",
         "1600.0",
         "1160.0",
         "157.0"
        ],
        [
         "33",
         "Barra da Tijuca",
         "4",
         "3",
         "3",
         "153",
         "6500.0",
         "2300.0",
         "434.0"
        ],
        [
         "34",
         "Península",
         "4",
         "3",
         "4",
         "267",
         "18000.0",
         "3100.0",
         "400.0"
        ],
        [
         "35",
         "Ipanema",
         "3",
         "1",
         "0",
         "87",
         "3200.0",
         "1305.0",
         "217.0"
        ],
        [
         "36",
         "Méier",
         "3",
         "1",
         "0",
         "90",
         "1550.0",
         "844.0",
         "80.0"
        ],
        [
         "37",
         "Vargem Pequena",
         "3",
         "1",
         "0",
         "53",
         "1400.0",
         "385.0",
         "28.0"
        ],
        [
         "38",
         "Botafogo",
         "3",
         "1",
         "1",
         "108",
         "5950.0",
         "1405.0",
         "289.0"
        ],
        [
         "39",
         "Maracanã",
         "2",
         "0",
         "0",
         "86",
         "1800.0",
         "600.0",
         "82.0"
        ],
        [
         "40",
         "Recreio dos Bandeirantes",
         "2",
         "1",
         "1",
         "74",
         "1850.0",
         "675.0",
         "200.0"
        ],
        [
         "41",
         "Jacarepaguá",
         "3",
         "1",
         "1",
         "74",
         "1900.0",
         "556.0",
         "98.0"
        ],
        [
         "42",
         "Ipanema",
         "3",
         "2",
         "1",
         "150",
         "8000.0",
         "2400.0",
         "0.0"
        ],
        [
         "43",
         "Ipanema",
         "3",
         "1",
         "1",
         "140",
         "7900.0",
         "2900.0",
         "500.0"
        ],
        [
         "44",
         "Jardim Botânico",
         "2",
         "2",
         "0",
         "95",
         "4000.0",
         "1170.0",
         "0.0"
        ],
        [
         "45",
         "Cachambi",
         "2",
         "0",
         "0",
         "60",
         "1000.0",
         "380.0",
         "280.0"
        ],
        [
         "46",
         "Leblon",
         "2",
         "1",
         "1",
         "80",
         "3500.0",
         "990.0",
         "245.0"
        ],
        [
         "47",
         "Barra da Tijuca",
         "4",
         "4",
         "4",
         "240",
         "12700.0",
         "4400.0",
         "1440.0"
        ],
        [
         "48",
         "Barra da Tijuca",
         "3",
         "2",
         "1",
         "104",
         "2600.0",
         "1364.0",
         "406.0"
        ],
        [
         "49",
         "Vila Valqueire",
         "2",
         "1",
         "0",
         "45",
         "800.0",
         "280.0",
         "14.0"
        ]
       ],
       "shape": {
        "columns": 8,
        "rows": 18780
       }
      },
      "text/html": [
       "<div>\n",
       "<style scoped>\n",
       "    .dataframe tbody tr th:only-of-type {\n",
       "        vertical-align: middle;\n",
       "    }\n",
       "\n",
       "    .dataframe tbody tr th {\n",
       "        vertical-align: top;\n",
       "    }\n",
       "\n",
       "    .dataframe thead th {\n",
       "        text-align: right;\n",
       "    }\n",
       "</style>\n",
       "<table border=\"1\" class=\"dataframe\">\n",
       "  <thead>\n",
       "    <tr style=\"text-align: right;\">\n",
       "      <th></th>\n",
       "      <th>Bairro</th>\n",
       "      <th>Quartos</th>\n",
       "      <th>Vagas</th>\n",
       "      <th>Suites</th>\n",
       "      <th>Area</th>\n",
       "      <th>Valor</th>\n",
       "      <th>Condominio</th>\n",
       "      <th>IPTU</th>\n",
       "    </tr>\n",
       "  </thead>\n",
       "  <tbody>\n",
       "    <tr>\n",
       "      <th>0</th>\n",
       "      <td>Centro</td>\n",
       "      <td>1</td>\n",
       "      <td>0</td>\n",
       "      <td>0</td>\n",
       "      <td>15</td>\n",
       "      <td>800.0</td>\n",
       "      <td>390.0</td>\n",
       "      <td>20.0</td>\n",
       "    </tr>\n",
       "    <tr>\n",
       "      <th>1</th>\n",
       "      <td>Higienópolis</td>\n",
       "      <td>1</td>\n",
       "      <td>0</td>\n",
       "      <td>0</td>\n",
       "      <td>48</td>\n",
       "      <td>800.0</td>\n",
       "      <td>230.0</td>\n",
       "      <td>0.0</td>\n",
       "    </tr>\n",
       "    <tr>\n",
       "      <th>2</th>\n",
       "      <td>Cachambi</td>\n",
       "      <td>2</td>\n",
       "      <td>0</td>\n",
       "      <td>0</td>\n",
       "      <td>50</td>\n",
       "      <td>1300.0</td>\n",
       "      <td>301.0</td>\n",
       "      <td>17.0</td>\n",
       "    </tr>\n",
       "    <tr>\n",
       "      <th>3</th>\n",
       "      <td>Grajaú</td>\n",
       "      <td>2</td>\n",
       "      <td>1</td>\n",
       "      <td>0</td>\n",
       "      <td>70</td>\n",
       "      <td>1500.0</td>\n",
       "      <td>642.0</td>\n",
       "      <td>74.0</td>\n",
       "    </tr>\n",
       "    <tr>\n",
       "      <th>4</th>\n",
       "      <td>Lins de Vasconcelos</td>\n",
       "      <td>3</td>\n",
       "      <td>1</td>\n",
       "      <td>1</td>\n",
       "      <td>90</td>\n",
       "      <td>1500.0</td>\n",
       "      <td>455.0</td>\n",
       "      <td>14.0</td>\n",
       "    </tr>\n",
       "    <tr>\n",
       "      <th>...</th>\n",
       "      <td>...</td>\n",
       "      <td>...</td>\n",
       "      <td>...</td>\n",
       "      <td>...</td>\n",
       "      <td>...</td>\n",
       "      <td>...</td>\n",
       "      <td>...</td>\n",
       "      <td>...</td>\n",
       "    </tr>\n",
       "    <tr>\n",
       "      <th>18775</th>\n",
       "      <td>Vila Valqueire</td>\n",
       "      <td>2</td>\n",
       "      <td>0</td>\n",
       "      <td>0</td>\n",
       "      <td>52</td>\n",
       "      <td>1000.0</td>\n",
       "      <td>550.0</td>\n",
       "      <td>0.0</td>\n",
       "    </tr>\n",
       "    <tr>\n",
       "      <th>18776</th>\n",
       "      <td>Méier</td>\n",
       "      <td>2</td>\n",
       "      <td>0</td>\n",
       "      <td>0</td>\n",
       "      <td>70</td>\n",
       "      <td>900.0</td>\n",
       "      <td>490.0</td>\n",
       "      <td>48.0</td>\n",
       "    </tr>\n",
       "    <tr>\n",
       "      <th>18777</th>\n",
       "      <td>Jacarepaguá</td>\n",
       "      <td>3</td>\n",
       "      <td>1</td>\n",
       "      <td>2</td>\n",
       "      <td>78</td>\n",
       "      <td>1800.0</td>\n",
       "      <td>800.0</td>\n",
       "      <td>40.0</td>\n",
       "    </tr>\n",
       "    <tr>\n",
       "      <th>18778</th>\n",
       "      <td>São Francisco Xavier</td>\n",
       "      <td>2</td>\n",
       "      <td>1</td>\n",
       "      <td>0</td>\n",
       "      <td>48</td>\n",
       "      <td>1400.0</td>\n",
       "      <td>509.0</td>\n",
       "      <td>37.0</td>\n",
       "    </tr>\n",
       "    <tr>\n",
       "      <th>18779</th>\n",
       "      <td>Leblon</td>\n",
       "      <td>2</td>\n",
       "      <td>0</td>\n",
       "      <td>0</td>\n",
       "      <td>70</td>\n",
       "      <td>3000.0</td>\n",
       "      <td>760.0</td>\n",
       "      <td>0.0</td>\n",
       "    </tr>\n",
       "  </tbody>\n",
       "</table>\n",
       "<p>18780 rows × 8 columns</p>\n",
       "</div>"
      ],
      "text/plain": [
       "                     Bairro  Quartos  Vagas  Suites  Area   Valor  Condominio  \\\n",
       "0                    Centro        1      0       0    15   800.0       390.0   \n",
       "1              Higienópolis        1      0       0    48   800.0       230.0   \n",
       "2                  Cachambi        2      0       0    50  1300.0       301.0   \n",
       "3                    Grajaú        2      1       0    70  1500.0       642.0   \n",
       "4       Lins de Vasconcelos        3      1       1    90  1500.0       455.0   \n",
       "...                     ...      ...    ...     ...   ...     ...         ...   \n",
       "18775        Vila Valqueire        2      0       0    52  1000.0       550.0   \n",
       "18776                 Méier        2      0       0    70   900.0       490.0   \n",
       "18777           Jacarepaguá        3      1       2    78  1800.0       800.0   \n",
       "18778  São Francisco Xavier        2      1       0    48  1400.0       509.0   \n",
       "18779                Leblon        2      0       0    70  3000.0       760.0   \n",
       "\n",
       "       IPTU  \n",
       "0      20.0  \n",
       "1       0.0  \n",
       "2      17.0  \n",
       "3      74.0  \n",
       "4      14.0  \n",
       "...     ...  \n",
       "18775   0.0  \n",
       "18776  48.0  \n",
       "18777  40.0  \n",
       "18778  37.0  \n",
       "18779   0.0  \n",
       "\n",
       "[18780 rows x 8 columns]"
      ]
     },
     "execution_count": 51,
     "metadata": {},
     "output_type": "execute_result"
    }
   ],
   "source": [
    "pd.read_csv('dados_apartamentos.csv')"
   ]
  },
  {
   "cell_type": "code",
   "execution_count": 52,
   "id": "cd823673",
   "metadata": {},
   "outputs": [],
   "source": [
    "df.to_csv('dados_apartamentos.csv', index=False, sep=';')"
   ]
  },
  {
   "cell_type": "code",
   "execution_count": 53,
   "id": "73329aff",
   "metadata": {},
   "outputs": [
    {
     "data": {
      "application/vnd.microsoft.datawrangler.viewer.v0+json": {
       "columns": [
        {
         "name": "index",
         "rawType": "int64",
         "type": "integer"
        },
        {
         "name": "Bairro;Quartos;Vagas;Suites;Area;Valor;Condominio;IPTU",
         "rawType": "object",
         "type": "string"
        }
       ],
       "ref": "663d2d65-e301-412c-800c-90058b36deaa",
       "rows": [
        [
         "0",
         "Centro;1;0;0;15;800.0;390.0;20.0"
        ],
        [
         "1",
         "Higienópolis;1;0;0;48;800.0;230.0;0.0"
        ],
        [
         "2",
         "Cachambi;2;0;0;50;1300.0;301.0;17.0"
        ],
        [
         "3",
         "Grajaú;2;1;0;70;1500.0;642.0;74.0"
        ],
        [
         "4",
         "Lins de Vasconcelos;3;1;1;90;1500.0;455.0;14.0"
        ],
        [
         "5",
         "Copacabana;1;0;1;40;2000.0;561.0;50.0"
        ],
        [
         "6",
         "Copacabana;4;3;1;243;13000.0;2000.0;803.0"
        ],
        [
         "7",
         "Freguesia (Jacarepaguá);3;0;0;54;950.0;300.0;28.0"
        ],
        [
         "8",
         "Barra da Tijuca;2;1;1;67;1700.0;589.0;147.0"
        ],
        [
         "9",
         "Tijuca;2;1;0;110;1900.0;700.0;138.0"
        ],
        [
         "10",
         "Olaria;3;1;0;68;1000.0;670.0;0.0"
        ],
        [
         "11",
         "Tijuca;2;1;0;78;2000.0;700.0;0.0"
        ],
        [
         "12",
         "Ipanema;3;1;1;125;7000.0;2100.0;463.0"
        ],
        [
         "13",
         "Tijuca;1;0;0;48;750.0;772.0;25.0"
        ],
        [
         "14",
         "Barra da Tijuca;3;3;1;175;4200.0;1500.0;500.0"
        ],
        [
         "15",
         "Botafogo;2;1;0;76;2500.0;740.0;0.0"
        ],
        [
         "16",
         "Copacabana;3;1;2;378;10000.0;2150.0;700.0"
        ],
        [
         "17",
         "Copacabana;3;0;0;180;5500.0;1780.0;420.0"
        ],
        [
         "18",
         "Recreio dos Bandeirantes;3;1;1;105;2300.0;648.0;0.0"
        ],
        [
         "19",
         "Leblon;3;1;0;110;3900.0;1500.0;120.0"
        ],
        [
         "20",
         "Jardim Oceânico;3;3;1;200;3500.0;1780.0;496.0"
        ],
        [
         "21",
         "Barra da Tijuca;3;1;2;70;1800.0;1095.0;140.0"
        ],
        [
         "22",
         "Copacabana;4;1;0;244;5000.0;2500.0;4100.0"
        ],
        [
         "23",
         "Barra da Tijuca;3;2;1;110;4500.0;2000.0;450.0"
        ],
        [
         "24",
         "Recreio dos Bandeirantes;2;2;2;90;3000.0;1340.0;0.0"
        ],
        [
         "25",
         "Recreio dos Bandeirantes;3;2;2;100;2600.0;380.0;0.0"
        ],
        [
         "26",
         "Barra da Tijuca;3;1;1;72;2350.0;600.0;70.0"
        ],
        [
         "27",
         "Humaitá;2;2;1;180;4000.0;2500.0;300.0"
        ],
        [
         "28",
         "Recreio dos Bandeirantes;3;1;2;92;2300.0;840.0;200.0"
        ],
        [
         "29",
         "Centro;1;0;0;27;750.0;371.0;19.0"
        ],
        [
         "30",
         "Ipanema;1;0;0;35;2000.0;650.0;75.0"
        ],
        [
         "31",
         "Ipanema;1;0;0;38;1400.0;530.0;77.0"
        ],
        [
         "32",
         "Recreio dos Bandeirantes;2;1;2;83;1600.0;1160.0;157.0"
        ],
        [
         "33",
         "Barra da Tijuca;4;3;3;153;6500.0;2300.0;434.0"
        ],
        [
         "34",
         "Península;4;3;4;267;18000.0;3100.0;400.0"
        ],
        [
         "35",
         "Ipanema;3;1;0;87;3200.0;1305.0;217.0"
        ],
        [
         "36",
         "Méier;3;1;0;90;1550.0;844.0;80.0"
        ],
        [
         "37",
         "Vargem Pequena;3;1;0;53;1400.0;385.0;28.0"
        ],
        [
         "38",
         "Botafogo;3;1;1;108;5950.0;1405.0;289.0"
        ],
        [
         "39",
         "Maracanã;2;0;0;86;1800.0;600.0;82.0"
        ],
        [
         "40",
         "Recreio dos Bandeirantes;2;1;1;74;1850.0;675.0;200.0"
        ],
        [
         "41",
         "Jacarepaguá;3;1;1;74;1900.0;556.0;98.0"
        ],
        [
         "42",
         "Ipanema;3;2;1;150;8000.0;2400.0;0.0"
        ],
        [
         "43",
         "Ipanema;3;1;1;140;7900.0;2900.0;500.0"
        ],
        [
         "44",
         "Jardim Botânico;2;2;0;95;4000.0;1170.0;0.0"
        ],
        [
         "45",
         "Cachambi;2;0;0;60;1000.0;380.0;280.0"
        ],
        [
         "46",
         "Leblon;2;1;1;80;3500.0;990.0;245.0"
        ],
        [
         "47",
         "Barra da Tijuca;4;4;4;240;12700.0;4400.0;1440.0"
        ],
        [
         "48",
         "Barra da Tijuca;3;2;1;104;2600.0;1364.0;406.0"
        ],
        [
         "49",
         "Vila Valqueire;2;1;0;45;800.0;280.0;14.0"
        ]
       ],
       "shape": {
        "columns": 1,
        "rows": 18780
       }
      },
      "text/html": [
       "<div>\n",
       "<style scoped>\n",
       "    .dataframe tbody tr th:only-of-type {\n",
       "        vertical-align: middle;\n",
       "    }\n",
       "\n",
       "    .dataframe tbody tr th {\n",
       "        vertical-align: top;\n",
       "    }\n",
       "\n",
       "    .dataframe thead th {\n",
       "        text-align: right;\n",
       "    }\n",
       "</style>\n",
       "<table border=\"1\" class=\"dataframe\">\n",
       "  <thead>\n",
       "    <tr style=\"text-align: right;\">\n",
       "      <th></th>\n",
       "      <th>Bairro;Quartos;Vagas;Suites;Area;Valor;Condominio;IPTU</th>\n",
       "    </tr>\n",
       "  </thead>\n",
       "  <tbody>\n",
       "    <tr>\n",
       "      <th>0</th>\n",
       "      <td>Centro;1;0;0;15;800.0;390.0;20.0</td>\n",
       "    </tr>\n",
       "    <tr>\n",
       "      <th>1</th>\n",
       "      <td>Higienópolis;1;0;0;48;800.0;230.0;0.0</td>\n",
       "    </tr>\n",
       "    <tr>\n",
       "      <th>2</th>\n",
       "      <td>Cachambi;2;0;0;50;1300.0;301.0;17.0</td>\n",
       "    </tr>\n",
       "    <tr>\n",
       "      <th>3</th>\n",
       "      <td>Grajaú;2;1;0;70;1500.0;642.0;74.0</td>\n",
       "    </tr>\n",
       "    <tr>\n",
       "      <th>4</th>\n",
       "      <td>Lins de Vasconcelos;3;1;1;90;1500.0;455.0;14.0</td>\n",
       "    </tr>\n",
       "    <tr>\n",
       "      <th>...</th>\n",
       "      <td>...</td>\n",
       "    </tr>\n",
       "    <tr>\n",
       "      <th>18775</th>\n",
       "      <td>Vila Valqueire;2;0;0;52;1000.0;550.0;0.0</td>\n",
       "    </tr>\n",
       "    <tr>\n",
       "      <th>18776</th>\n",
       "      <td>Méier;2;0;0;70;900.0;490.0;48.0</td>\n",
       "    </tr>\n",
       "    <tr>\n",
       "      <th>18777</th>\n",
       "      <td>Jacarepaguá;3;1;2;78;1800.0;800.0;40.0</td>\n",
       "    </tr>\n",
       "    <tr>\n",
       "      <th>18778</th>\n",
       "      <td>São Francisco Xavier;2;1;0;48;1400.0;509.0;37.0</td>\n",
       "    </tr>\n",
       "    <tr>\n",
       "      <th>18779</th>\n",
       "      <td>Leblon;2;0;0;70;3000.0;760.0;0.0</td>\n",
       "    </tr>\n",
       "  </tbody>\n",
       "</table>\n",
       "<p>18780 rows × 1 columns</p>\n",
       "</div>"
      ],
      "text/plain": [
       "      Bairro;Quartos;Vagas;Suites;Area;Valor;Condominio;IPTU\n",
       "0                       Centro;1;0;0;15;800.0;390.0;20.0    \n",
       "1                  Higienópolis;1;0;0;48;800.0;230.0;0.0    \n",
       "2                    Cachambi;2;0;0;50;1300.0;301.0;17.0    \n",
       "3                      Grajaú;2;1;0;70;1500.0;642.0;74.0    \n",
       "4         Lins de Vasconcelos;3;1;1;90;1500.0;455.0;14.0    \n",
       "...                                                  ...    \n",
       "18775           Vila Valqueire;2;0;0;52;1000.0;550.0;0.0    \n",
       "18776                    Méier;2;0;0;70;900.0;490.0;48.0    \n",
       "18777             Jacarepaguá;3;1;2;78;1800.0;800.0;40.0    \n",
       "18778    São Francisco Xavier;2;1;0;48;1400.0;509.0;37.0    \n",
       "18779                   Leblon;2;0;0;70;3000.0;760.0;0.0    \n",
       "\n",
       "[18780 rows x 1 columns]"
      ]
     },
     "execution_count": 53,
     "metadata": {},
     "output_type": "execute_result"
    }
   ],
   "source": [
    "pd.read_csv('dados_apartamentos.csv')"
   ]
  },
  {
   "cell_type": "code",
   "execution_count": 54,
   "id": "46c59ba1",
   "metadata": {},
   "outputs": [
    {
     "data": {
      "application/vnd.microsoft.datawrangler.viewer.v0+json": {
       "columns": [
        {
         "name": "index",
         "rawType": "int64",
         "type": "integer"
        },
        {
         "name": "Bairro",
         "rawType": "object",
         "type": "string"
        },
        {
         "name": "Quartos",
         "rawType": "int64",
         "type": "integer"
        },
        {
         "name": "Vagas",
         "rawType": "int64",
         "type": "integer"
        },
        {
         "name": "Suites",
         "rawType": "int64",
         "type": "integer"
        },
        {
         "name": "Area",
         "rawType": "int64",
         "type": "integer"
        },
        {
         "name": "Valor",
         "rawType": "float64",
         "type": "float"
        },
        {
         "name": "Condominio",
         "rawType": "float64",
         "type": "float"
        },
        {
         "name": "IPTU",
         "rawType": "float64",
         "type": "float"
        }
       ],
       "ref": "65655afe-2464-4cba-a842-2d2a16b5ed27",
       "rows": [
        [
         "0",
         "Centro",
         "1",
         "0",
         "0",
         "15",
         "800.0",
         "390.0",
         "20.0"
        ],
        [
         "1",
         "Higienópolis",
         "1",
         "0",
         "0",
         "48",
         "800.0",
         "230.0",
         "0.0"
        ],
        [
         "2",
         "Cachambi",
         "2",
         "0",
         "0",
         "50",
         "1300.0",
         "301.0",
         "17.0"
        ],
        [
         "3",
         "Grajaú",
         "2",
         "1",
         "0",
         "70",
         "1500.0",
         "642.0",
         "74.0"
        ],
        [
         "4",
         "Lins de Vasconcelos",
         "3",
         "1",
         "1",
         "90",
         "1500.0",
         "455.0",
         "14.0"
        ],
        [
         "5",
         "Copacabana",
         "1",
         "0",
         "1",
         "40",
         "2000.0",
         "561.0",
         "50.0"
        ],
        [
         "6",
         "Copacabana",
         "4",
         "3",
         "1",
         "243",
         "13000.0",
         "2000.0",
         "803.0"
        ],
        [
         "7",
         "Freguesia (Jacarepaguá)",
         "3",
         "0",
         "0",
         "54",
         "950.0",
         "300.0",
         "28.0"
        ],
        [
         "8",
         "Barra da Tijuca",
         "2",
         "1",
         "1",
         "67",
         "1700.0",
         "589.0",
         "147.0"
        ],
        [
         "9",
         "Tijuca",
         "2",
         "1",
         "0",
         "110",
         "1900.0",
         "700.0",
         "138.0"
        ],
        [
         "10",
         "Olaria",
         "3",
         "1",
         "0",
         "68",
         "1000.0",
         "670.0",
         "0.0"
        ],
        [
         "11",
         "Tijuca",
         "2",
         "1",
         "0",
         "78",
         "2000.0",
         "700.0",
         "0.0"
        ],
        [
         "12",
         "Ipanema",
         "3",
         "1",
         "1",
         "125",
         "7000.0",
         "2100.0",
         "463.0"
        ],
        [
         "13",
         "Tijuca",
         "1",
         "0",
         "0",
         "48",
         "750.0",
         "772.0",
         "25.0"
        ],
        [
         "14",
         "Barra da Tijuca",
         "3",
         "3",
         "1",
         "175",
         "4200.0",
         "1500.0",
         "500.0"
        ],
        [
         "15",
         "Botafogo",
         "2",
         "1",
         "0",
         "76",
         "2500.0",
         "740.0",
         "0.0"
        ],
        [
         "16",
         "Copacabana",
         "3",
         "1",
         "2",
         "378",
         "10000.0",
         "2150.0",
         "700.0"
        ],
        [
         "17",
         "Copacabana",
         "3",
         "0",
         "0",
         "180",
         "5500.0",
         "1780.0",
         "420.0"
        ],
        [
         "18",
         "Recreio dos Bandeirantes",
         "3",
         "1",
         "1",
         "105",
         "2300.0",
         "648.0",
         "0.0"
        ],
        [
         "19",
         "Leblon",
         "3",
         "1",
         "0",
         "110",
         "3900.0",
         "1500.0",
         "120.0"
        ],
        [
         "20",
         "Jardim Oceânico",
         "3",
         "3",
         "1",
         "200",
         "3500.0",
         "1780.0",
         "496.0"
        ],
        [
         "21",
         "Barra da Tijuca",
         "3",
         "1",
         "2",
         "70",
         "1800.0",
         "1095.0",
         "140.0"
        ],
        [
         "22",
         "Copacabana",
         "4",
         "1",
         "0",
         "244",
         "5000.0",
         "2500.0",
         "4100.0"
        ],
        [
         "23",
         "Barra da Tijuca",
         "3",
         "2",
         "1",
         "110",
         "4500.0",
         "2000.0",
         "450.0"
        ],
        [
         "24",
         "Recreio dos Bandeirantes",
         "2",
         "2",
         "2",
         "90",
         "3000.0",
         "1340.0",
         "0.0"
        ],
        [
         "25",
         "Recreio dos Bandeirantes",
         "3",
         "2",
         "2",
         "100",
         "2600.0",
         "380.0",
         "0.0"
        ],
        [
         "26",
         "Barra da Tijuca",
         "3",
         "1",
         "1",
         "72",
         "2350.0",
         "600.0",
         "70.0"
        ],
        [
         "27",
         "Humaitá",
         "2",
         "2",
         "1",
         "180",
         "4000.0",
         "2500.0",
         "300.0"
        ],
        [
         "28",
         "Recreio dos Bandeirantes",
         "3",
         "1",
         "2",
         "92",
         "2300.0",
         "840.0",
         "200.0"
        ],
        [
         "29",
         "Centro",
         "1",
         "0",
         "0",
         "27",
         "750.0",
         "371.0",
         "19.0"
        ],
        [
         "30",
         "Ipanema",
         "1",
         "0",
         "0",
         "35",
         "2000.0",
         "650.0",
         "75.0"
        ],
        [
         "31",
         "Ipanema",
         "1",
         "0",
         "0",
         "38",
         "1400.0",
         "530.0",
         "77.0"
        ],
        [
         "32",
         "Recreio dos Bandeirantes",
         "2",
         "1",
         "2",
         "83",
         "1600.0",
         "1160.0",
         "157.0"
        ],
        [
         "33",
         "Barra da Tijuca",
         "4",
         "3",
         "3",
         "153",
         "6500.0",
         "2300.0",
         "434.0"
        ],
        [
         "34",
         "Península",
         "4",
         "3",
         "4",
         "267",
         "18000.0",
         "3100.0",
         "400.0"
        ],
        [
         "35",
         "Ipanema",
         "3",
         "1",
         "0",
         "87",
         "3200.0",
         "1305.0",
         "217.0"
        ],
        [
         "36",
         "Méier",
         "3",
         "1",
         "0",
         "90",
         "1550.0",
         "844.0",
         "80.0"
        ],
        [
         "37",
         "Vargem Pequena",
         "3",
         "1",
         "0",
         "53",
         "1400.0",
         "385.0",
         "28.0"
        ],
        [
         "38",
         "Botafogo",
         "3",
         "1",
         "1",
         "108",
         "5950.0",
         "1405.0",
         "289.0"
        ],
        [
         "39",
         "Maracanã",
         "2",
         "0",
         "0",
         "86",
         "1800.0",
         "600.0",
         "82.0"
        ],
        [
         "40",
         "Recreio dos Bandeirantes",
         "2",
         "1",
         "1",
         "74",
         "1850.0",
         "675.0",
         "200.0"
        ],
        [
         "41",
         "Jacarepaguá",
         "3",
         "1",
         "1",
         "74",
         "1900.0",
         "556.0",
         "98.0"
        ],
        [
         "42",
         "Ipanema",
         "3",
         "2",
         "1",
         "150",
         "8000.0",
         "2400.0",
         "0.0"
        ],
        [
         "43",
         "Ipanema",
         "3",
         "1",
         "1",
         "140",
         "7900.0",
         "2900.0",
         "500.0"
        ],
        [
         "44",
         "Jardim Botânico",
         "2",
         "2",
         "0",
         "95",
         "4000.0",
         "1170.0",
         "0.0"
        ],
        [
         "45",
         "Cachambi",
         "2",
         "0",
         "0",
         "60",
         "1000.0",
         "380.0",
         "280.0"
        ],
        [
         "46",
         "Leblon",
         "2",
         "1",
         "1",
         "80",
         "3500.0",
         "990.0",
         "245.0"
        ],
        [
         "47",
         "Barra da Tijuca",
         "4",
         "4",
         "4",
         "240",
         "12700.0",
         "4400.0",
         "1440.0"
        ],
        [
         "48",
         "Barra da Tijuca",
         "3",
         "2",
         "1",
         "104",
         "2600.0",
         "1364.0",
         "406.0"
        ],
        [
         "49",
         "Vila Valqueire",
         "2",
         "1",
         "0",
         "45",
         "800.0",
         "280.0",
         "14.0"
        ]
       ],
       "shape": {
        "columns": 8,
        "rows": 18780
       }
      },
      "text/html": [
       "<div>\n",
       "<style scoped>\n",
       "    .dataframe tbody tr th:only-of-type {\n",
       "        vertical-align: middle;\n",
       "    }\n",
       "\n",
       "    .dataframe tbody tr th {\n",
       "        vertical-align: top;\n",
       "    }\n",
       "\n",
       "    .dataframe thead th {\n",
       "        text-align: right;\n",
       "    }\n",
       "</style>\n",
       "<table border=\"1\" class=\"dataframe\">\n",
       "  <thead>\n",
       "    <tr style=\"text-align: right;\">\n",
       "      <th></th>\n",
       "      <th>Bairro</th>\n",
       "      <th>Quartos</th>\n",
       "      <th>Vagas</th>\n",
       "      <th>Suites</th>\n",
       "      <th>Area</th>\n",
       "      <th>Valor</th>\n",
       "      <th>Condominio</th>\n",
       "      <th>IPTU</th>\n",
       "    </tr>\n",
       "  </thead>\n",
       "  <tbody>\n",
       "    <tr>\n",
       "      <th>0</th>\n",
       "      <td>Centro</td>\n",
       "      <td>1</td>\n",
       "      <td>0</td>\n",
       "      <td>0</td>\n",
       "      <td>15</td>\n",
       "      <td>800.0</td>\n",
       "      <td>390.0</td>\n",
       "      <td>20.0</td>\n",
       "    </tr>\n",
       "    <tr>\n",
       "      <th>1</th>\n",
       "      <td>Higienópolis</td>\n",
       "      <td>1</td>\n",
       "      <td>0</td>\n",
       "      <td>0</td>\n",
       "      <td>48</td>\n",
       "      <td>800.0</td>\n",
       "      <td>230.0</td>\n",
       "      <td>0.0</td>\n",
       "    </tr>\n",
       "    <tr>\n",
       "      <th>2</th>\n",
       "      <td>Cachambi</td>\n",
       "      <td>2</td>\n",
       "      <td>0</td>\n",
       "      <td>0</td>\n",
       "      <td>50</td>\n",
       "      <td>1300.0</td>\n",
       "      <td>301.0</td>\n",
       "      <td>17.0</td>\n",
       "    </tr>\n",
       "    <tr>\n",
       "      <th>3</th>\n",
       "      <td>Grajaú</td>\n",
       "      <td>2</td>\n",
       "      <td>1</td>\n",
       "      <td>0</td>\n",
       "      <td>70</td>\n",
       "      <td>1500.0</td>\n",
       "      <td>642.0</td>\n",
       "      <td>74.0</td>\n",
       "    </tr>\n",
       "    <tr>\n",
       "      <th>4</th>\n",
       "      <td>Lins de Vasconcelos</td>\n",
       "      <td>3</td>\n",
       "      <td>1</td>\n",
       "      <td>1</td>\n",
       "      <td>90</td>\n",
       "      <td>1500.0</td>\n",
       "      <td>455.0</td>\n",
       "      <td>14.0</td>\n",
       "    </tr>\n",
       "    <tr>\n",
       "      <th>...</th>\n",
       "      <td>...</td>\n",
       "      <td>...</td>\n",
       "      <td>...</td>\n",
       "      <td>...</td>\n",
       "      <td>...</td>\n",
       "      <td>...</td>\n",
       "      <td>...</td>\n",
       "      <td>...</td>\n",
       "    </tr>\n",
       "    <tr>\n",
       "      <th>18775</th>\n",
       "      <td>Vila Valqueire</td>\n",
       "      <td>2</td>\n",
       "      <td>0</td>\n",
       "      <td>0</td>\n",
       "      <td>52</td>\n",
       "      <td>1000.0</td>\n",
       "      <td>550.0</td>\n",
       "      <td>0.0</td>\n",
       "    </tr>\n",
       "    <tr>\n",
       "      <th>18776</th>\n",
       "      <td>Méier</td>\n",
       "      <td>2</td>\n",
       "      <td>0</td>\n",
       "      <td>0</td>\n",
       "      <td>70</td>\n",
       "      <td>900.0</td>\n",
       "      <td>490.0</td>\n",
       "      <td>48.0</td>\n",
       "    </tr>\n",
       "    <tr>\n",
       "      <th>18777</th>\n",
       "      <td>Jacarepaguá</td>\n",
       "      <td>3</td>\n",
       "      <td>1</td>\n",
       "      <td>2</td>\n",
       "      <td>78</td>\n",
       "      <td>1800.0</td>\n",
       "      <td>800.0</td>\n",
       "      <td>40.0</td>\n",
       "    </tr>\n",
       "    <tr>\n",
       "      <th>18778</th>\n",
       "      <td>São Francisco Xavier</td>\n",
       "      <td>2</td>\n",
       "      <td>1</td>\n",
       "      <td>0</td>\n",
       "      <td>48</td>\n",
       "      <td>1400.0</td>\n",
       "      <td>509.0</td>\n",
       "      <td>37.0</td>\n",
       "    </tr>\n",
       "    <tr>\n",
       "      <th>18779</th>\n",
       "      <td>Leblon</td>\n",
       "      <td>2</td>\n",
       "      <td>0</td>\n",
       "      <td>0</td>\n",
       "      <td>70</td>\n",
       "      <td>3000.0</td>\n",
       "      <td>760.0</td>\n",
       "      <td>0.0</td>\n",
       "    </tr>\n",
       "  </tbody>\n",
       "</table>\n",
       "<p>18780 rows × 8 columns</p>\n",
       "</div>"
      ],
      "text/plain": [
       "                     Bairro  Quartos  Vagas  Suites  Area   Valor  Condominio  \\\n",
       "0                    Centro        1      0       0    15   800.0       390.0   \n",
       "1              Higienópolis        1      0       0    48   800.0       230.0   \n",
       "2                  Cachambi        2      0       0    50  1300.0       301.0   \n",
       "3                    Grajaú        2      1       0    70  1500.0       642.0   \n",
       "4       Lins de Vasconcelos        3      1       1    90  1500.0       455.0   \n",
       "...                     ...      ...    ...     ...   ...     ...         ...   \n",
       "18775        Vila Valqueire        2      0       0    52  1000.0       550.0   \n",
       "18776                 Méier        2      0       0    70   900.0       490.0   \n",
       "18777           Jacarepaguá        3      1       2    78  1800.0       800.0   \n",
       "18778  São Francisco Xavier        2      1       0    48  1400.0       509.0   \n",
       "18779                Leblon        2      0       0    70  3000.0       760.0   \n",
       "\n",
       "       IPTU  \n",
       "0      20.0  \n",
       "1       0.0  \n",
       "2      17.0  \n",
       "3      74.0  \n",
       "4      14.0  \n",
       "...     ...  \n",
       "18775   0.0  \n",
       "18776  48.0  \n",
       "18777  40.0  \n",
       "18778  37.0  \n",
       "18779   0.0  \n",
       "\n",
       "[18780 rows x 8 columns]"
      ]
     },
     "execution_count": 54,
     "metadata": {},
     "output_type": "execute_result"
    }
   ],
   "source": [
    "pd.read_csv('dados_apartamentos.csv', sep=';')"
   ]
  },
  {
   "cell_type": "markdown",
   "id": "250b42e3",
   "metadata": {},
   "source": [
    "Durante o desenvolvimento do nosso projeto, nós aplicamos alguns filtros na nossa base de dados e salvamos os DataFrames resultantes em diferentes variáveis, sendo elas: df_1 e df_2.\n",
    "\n",
    "Com base nisso, salve esses DataFrames em 2 arquivos csv distintos para que o time de ML possa ter acesso a esses dados de forma mais prática."
   ]
  },
  {
   "cell_type": "code",
   "execution_count": 55,
   "id": "ff82bcdf",
   "metadata": {},
   "outputs": [],
   "source": [
    "\n",
    "df_1.to_csv('filtro_1.csv', index = False, sep = ';')\n",
    "df_2.to_csv('filtro_2.csv', index = False, sep = ';')"
   ]
  }
 ],
 "metadata": {
  "kernelspec": {
   "display_name": ".venv",
   "language": "python",
   "name": "python3"
  },
  "language_info": {
   "codemirror_mode": {
    "name": "ipython",
    "version": 3
   },
   "file_extension": ".py",
   "mimetype": "text/x-python",
   "name": "python",
   "nbconvert_exporter": "python",
   "pygments_lexer": "ipython3",
   "version": "3.13.2"
  }
 },
 "nbformat": 4,
 "nbformat_minor": 5
}
