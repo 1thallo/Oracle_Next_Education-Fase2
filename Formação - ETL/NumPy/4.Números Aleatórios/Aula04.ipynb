{
 "cells": [
  {
   "cell_type": "markdown",
   "id": "7f522292",
   "metadata": {},
   "source": [
    "## Vídeo 4.1 - Valores em um intervalo"
   ]
  },
  {
   "cell_type": "code",
   "execution_count": null,
   "id": "39405c14",
   "metadata": {},
   "outputs": [
    {
     "data": {
      "text/plain": [
       "array([52, 98, 87, 54, 43, 92, 54, 71, 75, 60, 84, 84, 92, 76, 98, 77, 69,\n",
       "       49, 45, 73, 56, 73, 67, 58, 43, 92, 70, 69, 69, 84, 82, 97, 59, 49,\n",
       "       81, 54, 92, 77, 67, 49, 75, 83, 68, 40, 70, 52, 82, 74, 73, 43, 46,\n",
       "       64, 62, 41, 86, 75, 49, 61, 87, 99, 61, 95, 79, 90, 85, 82, 62, 65,\n",
       "       87, 63, 61, 42, 59, 63, 99, 58, 78, 59, 85, 43, 67, 49, 47, 49, 63,\n",
       "       66, 89, 99, 58, 83, 53, 86, 73, 94, 98, 50, 63, 81, 85, 65],\n",
       "      dtype=int32)"
      ]
     },
     "metadata": {},
     "output_type": "display_data"
    }
   ],
   "source": [
    "np.random.randint(low=40,high=100,size=100)"
   ]
  },
  {
   "cell_type": "code",
   "execution_count": null,
   "id": "8b3cb612",
   "metadata": {},
   "outputs": [],
   "source": [
    "coef_angulares = np.random.uniform(low=0.10,high=0.90,size=100)"
   ]
  },
  {
   "cell_type": "code",
   "execution_count": null,
   "id": "2f5eeb06",
   "metadata": {},
   "outputs": [
    {
     "data": {
      "text/plain": [
       "np.float64(79.64892274792834)"
      ]
     },
     "metadata": {},
     "output_type": "display_data"
    }
   ],
   "source": [
    "b"
   ]
  },
  {
   "cell_type": "code",
   "execution_count": null,
   "id": "17b5dc94",
   "metadata": {},
   "outputs": [],
   "source": [
    "norma = np.array([])\n",
    "\n",
    "for i in range(100):\n",
    "  norma = np.append(norma,np.linalg.norm(Moscow- (coef_angulares[i]*X+b)))"
   ]
  },
  {
   "cell_type": "code",
   "execution_count": null,
   "id": "f50d9f91",
   "metadata": {},
   "outputs": [
    {
     "data": {
      "text/plain": [
       "array([139.25278701, 122.95292155, 138.36240641, 102.69612688,\n",
       "       140.43381872, 163.60836295, 153.97200321, 108.9000316 ,\n",
       "       183.2160768 , 110.54234796, 125.77915386, 114.09307852,\n",
       "       109.01738098, 161.39413204, 114.90663266, 146.28723887,\n",
       "       190.02452953, 130.63887372, 102.39856067, 129.35681717,\n",
       "       142.21073008, 178.73508034, 206.05036213, 185.30759683,\n",
       "       119.32833694, 223.46220596, 145.76278893, 101.80659153,\n",
       "       149.57027175, 150.18524823, 184.07050358, 151.94866943,\n",
       "       108.73989439, 164.02742749, 147.30787977, 167.88274199,\n",
       "       126.98072691, 104.15564602, 222.65309305, 138.96434696,\n",
       "       225.45944539, 143.67862622, 170.13790053, 103.31751704,\n",
       "       111.11300694, 125.08288245, 108.57328337, 168.75672198,\n",
       "       183.74835928, 177.70331249, 174.7169389 , 104.84536307,\n",
       "       101.83276673, 153.50394395, 104.54584933, 113.27965231,\n",
       "       144.09908643, 168.21430798, 207.28313279, 164.92178705,\n",
       "       108.49179241, 102.52346439, 163.58322892, 137.16018021,\n",
       "       188.04089795, 114.65829867, 139.35569205, 118.43681934,\n",
       "       204.29664358, 123.66805554, 102.26164689, 183.77230007,\n",
       "       175.8418183 , 167.41394264, 127.10903578, 210.26231354,\n",
       "       168.60295512, 105.43953551, 126.79142682, 102.17606988,\n",
       "       189.26297265, 137.74957817, 209.46671028, 143.87605937,\n",
       "       132.5285026 , 204.23439926, 106.15794694, 170.82740859,\n",
       "       116.09512   , 176.45531106, 103.66110077, 143.58608688,\n",
       "       123.970903  , 103.08314072, 188.45785956, 199.82409968,\n",
       "       176.16568666, 156.53639735, 136.2361678 , 197.37657637])"
      ]
     },
     "metadata": {},
     "output_type": "display_data"
    }
   ],
   "source": [
    "norma"
   ]
  },
  {
   "cell_type": "code",
   "execution_count": null,
   "id": "dfe9e4b0",
   "metadata": {},
   "outputs": [
    {
     "data": {
      "text/plain": [
       "np.float64(0.4065064396826119)"
      ]
     },
     "metadata": {},
     "output_type": "display_data"
    }
   ],
   "source": [
    "coef_angulares[3]"
   ]
  },
  {
   "cell_type": "markdown",
   "id": "99db98e3",
   "metadata": {},
   "source": [
    "## Vídeo 4.2 - Reprodutibilidade"
   ]
  },
  {
   "cell_type": "markdown",
   "id": "c1efef4f",
   "metadata": {},
   "source": [
    "Números pseudoaleatórios são sequências de números gerados por algoritmos que tentam imitar o comportamento de sequências aleatórias. Eles não são verdadeiramente aleatórios, mas parecem ser aleatórios o suficiente para muitas aplicações práticas.\n",
    "\n",
    "Os algoritmos geradores de números pseudoaleatórios geralmente iniciam com uma semente (seed), que é um número inicial que é fornecido como entrada para o algoritmo. A partir da semente, o algoritmo usa operações matemáticas para gerar uma sequência de números aparentemente aleatórios. No entanto, como o algoritmo é determinístico, a sequência de números gerada sempre será a mesma para a mesma semente."
   ]
  },
  {
   "cell_type": "code",
   "execution_count": null,
   "id": "0cbee279",
   "metadata": {},
   "outputs": [
    {
     "data": {
      "text/plain": [
       "array([0.46408827, 0.32729836, 0.80842901, 0.48452389, 0.25772439,\n",
       "       0.86537924, 0.44878648, 0.74003093, 0.65431483, 0.77543487,\n",
       "       0.58700421, 0.44443076, 0.59994962, 0.82768695, 0.37856694,\n",
       "       0.8316672 , 0.77814441, 0.56055547, 0.37438649, 0.49508735,\n",
       "       0.50131269, 0.89076198, 0.20654888, 0.51271692, 0.65570337,\n",
       "       0.13389944, 0.47480687, 0.19421755, 0.12245348, 0.31641911,\n",
       "       0.14472997, 0.71328788, 0.55124494, 0.12941506, 0.24675763,\n",
       "       0.83219179, 0.40239828, 0.777123  , 0.56011563, 0.84387142,\n",
       "       0.45356798, 0.79851428, 0.39941876, 0.64923376, 0.85221294,\n",
       "       0.39798262, 0.83614656, 0.71978685, 0.15119144, 0.85345157,\n",
       "       0.2555996 , 0.73696574, 0.3753082 , 0.15024016, 0.24787458,\n",
       "       0.55014528, 0.78952438, 0.26003069, 0.41496526, 0.36358086,\n",
       "       0.74860905, 0.86964953, 0.16516554, 0.59955577, 0.76879596,\n",
       "       0.89087716, 0.52258031, 0.81078579, 0.69537533, 0.84359109,\n",
       "       0.6634747 , 0.61326501, 0.21140085, 0.75032519, 0.33342785,\n",
       "       0.66274742, 0.6656049 , 0.33797584, 0.87313203, 0.65255667,\n",
       "       0.38578007, 0.2004003 , 0.16060538, 0.58219546, 0.47796829,\n",
       "       0.23030803, 0.42978831, 0.88685666, 0.87720388, 0.31580304,\n",
       "       0.36405462, 0.49574533, 0.141926  , 0.11675032, 0.6755103 ,\n",
       "       0.13912151, 0.79372042, 0.73518111, 0.19311802, 0.5712279 ])"
      ]
     },
     "metadata": {},
     "output_type": "display_data"
    }
   ],
   "source": [
    "np.random.uniform(low=0.10,high=0.90,size=100)"
   ]
  },
  {
   "cell_type": "code",
   "execution_count": null,
   "id": "fb424cff",
   "metadata": {},
   "outputs": [
    {
     "data": {
      "text/plain": [
       "array([0.27863286, 0.51853067, 0.54056117, 0.13648156, 0.38858307,\n",
       "       0.27846475, 0.65098093, 0.23098514, 0.15625989, 0.85280869,\n",
       "       0.5509451 , 0.16239387, 0.67811241, 0.22676174, 0.30022505,\n",
       "       0.3347898 , 0.65728857, 0.47141127, 0.27204971, 0.45746101,\n",
       "       0.196703  , 0.83414961, 0.55315706, 0.47761545, 0.35165314,\n",
       "       0.13457258, 0.70195593, 0.53461524, 0.71375234, 0.73235901,\n",
       "       0.1577771 , 0.62777267, 0.14263947, 0.64801956, 0.45468077,\n",
       "       0.47439692, 0.62884747, 0.65197331, 0.31066359, 0.10918315,\n",
       "       0.71703556, 0.75291386, 0.21171328, 0.5624054 , 0.37253942,\n",
       "       0.28577239, 0.258915  , 0.31719262, 0.88148221, 0.27234318,\n",
       "       0.38512593, 0.11471996, 0.59343222, 0.28432431, 0.69388139,\n",
       "       0.56740017, 0.43608284, 0.66740227, 0.87763642, 0.74803129,\n",
       "       0.44452414, 0.86618288, 0.13820648, 0.68622544, 0.64053316,\n",
       "       0.52160413, 0.55358996, 0.6783562 , 0.64608268, 0.73625014,\n",
       "       0.19027642, 0.25933011, 0.67705538, 0.41509386, 0.37134832,\n",
       "       0.22275655, 0.18045921, 0.42579769, 0.56633237, 0.69257642,\n",
       "       0.79628867, 0.87322093, 0.46445188, 0.4203384 , 0.3391517 ,\n",
       "       0.76268805, 0.82787294, 0.71290934, 0.15465183, 0.58482122,\n",
       "       0.85137291, 0.18171413, 0.88203161, 0.38535098, 0.62334973,\n",
       "       0.19822857, 0.86908175, 0.62094514, 0.84934225, 0.82706184])"
      ]
     },
     "metadata": {},
     "output_type": "display_data"
    }
   ],
   "source": [
    "np.random.seed(16)\n",
    "np.random.uniform(low=0.10,high=0.90,size=100)"
   ]
  },
  {
   "cell_type": "code",
   "execution_count": null,
   "id": "3f9ba9f5",
   "metadata": {},
   "outputs": [],
   "source": [
    "norma = np.array([])\n",
    "np.random.seed(84)\n",
    "coef_angulares = np.random.uniform(low=0.10,high=0.90,size=100)\n",
    "\n",
    "for i in range(100):\n",
    "  norma = np.append(norma,np.linalg.norm(Moscow- (coef_angulares[i]*X+b)))"
   ]
  },
  {
   "cell_type": "markdown",
   "id": "1d0d491a",
   "metadata": {},
   "source": [
    "## Vídeo 4.3 - Salvando os resultados"
   ]
  },
  {
   "cell_type": "code",
   "execution_count": null,
   "id": "6709c6b1",
   "metadata": {},
   "outputs": [],
   "source": [
    "dados = np.column_stack([norma,coef_angulares])"
   ]
  },
  {
   "cell_type": "code",
   "execution_count": null,
   "id": "45225773",
   "metadata": {},
   "outputs": [
    {
     "data": {
      "text/plain": [
       "(100, 2)"
      ]
     },
     "metadata": {},
     "output_type": "display_data"
    }
   ],
   "source": [
    "dados.shape"
   ]
  },
  {
   "cell_type": "code",
   "execution_count": null,
   "id": "9551e2c0",
   "metadata": {},
   "outputs": [],
   "source": [
    "np.savetxt('dados.csv', dados,delimiter=',')"
   ]
  }
 ],
 "metadata": {
  "kernelspec": {
   "display_name": ".venv",
   "language": "python",
   "name": "python3"
  },
  "language_info": {
   "codemirror_mode": {
    "name": "ipython",
    "version": 3
   },
   "file_extension": ".py",
   "mimetype": "text/x-python",
   "name": "python",
   "nbconvert_exporter": "python",
   "pygments_lexer": "ipython3",
   "version": "3.13.2"
  }
 },
 "nbformat": 4,
 "nbformat_minor": 5
}
