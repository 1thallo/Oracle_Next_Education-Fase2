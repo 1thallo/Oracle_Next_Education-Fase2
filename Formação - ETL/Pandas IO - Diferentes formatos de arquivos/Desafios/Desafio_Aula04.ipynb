{
 "cells": [
  {
   "cell_type": "markdown",
   "id": "5e303ec6",
   "metadata": {},
   "source": [
    "Chegou a hora de testar os conhecimentos desenvolvidos durante a aula.\n",
    "\n",
    "Vanessa é uma cientista de dados que está realizando algumas análises com dados ambientais. Ela está desenvolvendo um projeto para avaliar o impacto ambiental das atividades humanas em diferentes países do mundo, mas para isso precisa das estimativas populacionais desses países. Ao pesquisar na internet, encontrou uma tabela de estimativas populacionais em um artigo da página Wikipédia.\n",
    "\n",
    "Assim como Vanessa, seu desafio é obter um DataFrame da tabela que contém as informações do número de habitantes de cada país."
   ]
  },
  {
   "cell_type": "code",
   "execution_count": 1,
   "id": "8fbef800",
   "metadata": {},
   "outputs": [
    {
     "data": {
      "application/vnd.microsoft.datawrangler.viewer.v0+json": {
       "columns": [
        {
         "name": "index",
         "rawType": "int64",
         "type": "integer"
        },
        {
         "name": "Unnamed: 0",
         "rawType": "float64",
         "type": "float"
        },
        {
         "name": "Posição",
         "rawType": "object",
         "type": "string"
        },
        {
         "name": "País (ou território dependente)",
         "rawType": "object",
         "type": "string"
        },
        {
         "name": "Estimativa da ONU",
         "rawType": "object",
         "type": "string"
        },
        {
         "name": "Crescimento desde a última estimativa",
         "rawType": "object",
         "type": "unknown"
        },
        {
         "name": "Estimativa Oficial",
         "rawType": "object",
         "type": "string"
        }
       ],
       "ref": "0f607e57-2738-4125-9b6f-58466f22109c",
       "rows": [
        [
         "0",
         null,
         "1",
         "Índia",
         "1 417 492 000",
         "-12 692 000",
         "Estimativa oficial"
        ],
        [
         "1",
         null,
         "2",
         "China[nota 1]",
         "1.407.934.000",
         "-1 390 000",
         "Censo oficial"
        ],
        [
         "2",
         null,
         "3",
         "Estados Unidos",
         "342.181.000",
         "-2 084 000",
         "Censo oficial"
        ],
        [
         "3",
         null,
         "4",
         "Indonésia",
         "285.783.000",
         "+3 337 000",
         "Estimativa oficial"
        ],
        [
         "4",
         null,
         "5",
         "Paquistão",
         "256 204 000",
         "+6 567 000",
         "Estimativa oficial"
        ],
        [
         "5",
         null,
         "6",
         "Nigéria",
         "236 213 000",
         "+6 458 000",
         "Estimativa oficial"
        ],
        [
         "6",
         null,
         "7",
         "Brasil",
         "214 244 000",
         "+1 674 000",
         "Estimativa oficial"
        ],
        [
         "7",
         null,
         "8",
         "Bangladesh",
         "177 567 000",
         "+2 618 000",
         "Estimativa oficial"
        ],
        [
         "8",
         null,
         "9",
         "Rússia[nota 2]",
         "146 022 000",
         "-12 000",
         "Estimativa oficial"
        ],
        [
         "9",
         null,
         "10",
         "México",
         "131 013 000",
         "-966 000",
         "Estimativa oficial"
        ],
        [
         "10",
         null,
         "11",
         "Etiópia",
         "125 092 825",
         "+42.268.093",
         "Estimativa oficial"
        ],
        [
         "11",
         null,
         "12",
         "Japão",
         "124 127 899",
         "-3.028.326",
         "Estimativa oficial"
        ],
        [
         "12",
         null,
         "13",
         "Filipinas",
         "109 581 078",
         null,
         "Estimativa oficial"
        ],
        [
         "13",
         null,
         "14",
         "Egito",
         "102 334 404",
         null,
         "Estimativa oficial"
        ],
        [
         "14",
         null,
         "15",
         "Vietname",
         "97 338 579",
         null,
         "Estimativa oficial"
        ],
        [
         "15",
         null,
         "16",
         "República Democrática do Congo",
         "105 823 799",
         null,
         "Estimativa oficial"
        ],
        [
         "16",
         null,
         "17",
         "Turquia",
         "84 339 067",
         null,
         "Estimativa oficial"
        ],
        [
         "17",
         null,
         "18",
         "Irã",
         "83 992 949",
         null,
         "Estimativa oficial"
        ],
        [
         "18",
         null,
         "19",
         "Alemanha",
         "83 783 942",
         null,
         "Estimativa oficial"
        ],
        [
         "19",
         null,
         "20",
         "Tailândia",
         "69 799 978",
         null,
         "Estimativa oficial"
        ],
        [
         "20",
         null,
         "21",
         "Reino Unido",
         "69 505 718",
         null,
         "Estimativa oficial"
        ],
        [
         "21",
         null,
         "22",
         "França",
         "65 273 511",
         null,
         "Estimativa oficial"
        ],
        [
         "22",
         null,
         "23",
         "Itália",
         "60 461 826",
         null,
         "Estimativa oficial"
        ],
        [
         "23",
         null,
         "24",
         "Tanzânia",
         "59 734 218",
         null,
         "Estimativa oficial"
        ],
        [
         "24",
         null,
         "25",
         "África do Sul",
         "59 308 690",
         null,
         "Estimativa oficial"
        ],
        [
         "25",
         null,
         "26",
         "Myanmar",
         "54 409 800",
         null,
         "Estimativa oficial"
        ],
        [
         "26",
         null,
         "27",
         "Quénia",
         "53 771 296",
         null,
         "Estimativa oficial"
        ],
        [
         "27",
         null,
         "28",
         "Coreia do Sul",
         "51 269 185",
         null,
         "Estimativa oficial"
        ],
        [
         "28",
         null,
         "29",
         "Colômbia",
         "50 882 891",
         null,
         "Estimativa oficial"
        ],
        [
         "29",
         null,
         "30",
         "Espanha",
         "46 754 778",
         null,
         "Estimativa oficial"
        ],
        [
         "30",
         null,
         "31",
         "Uganda",
         "45 741 007",
         null,
         "Estimativa oficial"
        ],
        [
         "31",
         null,
         "32",
         "Argentina",
         "45 195 774",
         null,
         "Estimativa oficial"
        ],
        [
         "32",
         null,
         "33",
         "Argélia",
         "43 851 044",
         null,
         "Estimativa oficial"
        ],
        [
         "33",
         null,
         "34",
         "Sudão",
         "43 849 260",
         null,
         "Estimativa oficial"
        ],
        [
         "34",
         null,
         "35",
         "Ucrânia",
         "43 733 762",
         null,
         "Estimativa oficial"
        ],
        [
         "35",
         null,
         "36",
         "Iraque",
         "40 222 493",
         null,
         "Estimativa oficial"
        ],
        [
         "36",
         null,
         "37",
         "Afeganistão",
         "38 928 346",
         null,
         "Estimativa oficial"
        ],
        [
         "37",
         null,
         "38",
         "Polónia",
         "37 846 611",
         null,
         "Estimativa oficial"
        ],
        [
         "38",
         null,
         "39",
         "Canadá",
         "37 742 154",
         null,
         "Estimativa oficial"
        ],
        [
         "39",
         null,
         "40",
         "Angola",
         "36 996 710",
         null,
         "Estimativa oficial"
        ],
        [
         "40",
         null,
         "41",
         "Marrocos",
         "36 910 560",
         null,
         "Estimativa oficial"
        ],
        [
         "41",
         null,
         "42",
         "Arábia Saudita",
         "34 112 871",
         null,
         "Estimativa oficial"
        ],
        [
         "42",
         null,
         "43",
         "Malásia",
         "34 112 440",
         null,
         "Estimativa oficial"
        ],
        [
         "43",
         null,
         "44",
         "Uzbequistão",
         "33 469 203",
         null,
         "Estimativa oficial"
        ],
        [
         "44",
         null,
         "45",
         "Peru",
         "32 971 854",
         null,
         "Estimativa oficial"
        ],
        [
         "45",
         null,
         "46",
         "Moçambique",
         "31 255 435",
         null,
         "Estimativa oficial"
        ],
        [
         "46",
         null,
         "47",
         "Gana",
         "31 072 940",
         null,
         "Estimativa oficial"
        ],
        [
         "47",
         null,
         "48",
         "Iémen",
         "29 825 968",
         null,
         "Estimativa oficial"
        ],
        [
         "48",
         null,
         "49",
         "Nepal",
         "29 136 808",
         null,
         "Estimativa oficial"
        ],
        [
         "49",
         null,
         "50",
         "Venezuela",
         "28 435 940",
         null,
         "Estimativa oficial"
        ]
       ],
       "shape": {
        "columns": 6,
        "rows": 250
       }
      },
      "text/html": [
       "<div>\n",
       "<style scoped>\n",
       "    .dataframe tbody tr th:only-of-type {\n",
       "        vertical-align: middle;\n",
       "    }\n",
       "\n",
       "    .dataframe tbody tr th {\n",
       "        vertical-align: top;\n",
       "    }\n",
       "\n",
       "    .dataframe thead th {\n",
       "        text-align: right;\n",
       "    }\n",
       "</style>\n",
       "<table border=\"1\" class=\"dataframe\">\n",
       "  <thead>\n",
       "    <tr style=\"text-align: right;\">\n",
       "      <th></th>\n",
       "      <th>Unnamed: 0</th>\n",
       "      <th>Posição</th>\n",
       "      <th>País (ou território dependente)</th>\n",
       "      <th>Estimativa da ONU</th>\n",
       "      <th>Crescimento desde a última estimativa</th>\n",
       "      <th>Estimativa Oficial</th>\n",
       "    </tr>\n",
       "  </thead>\n",
       "  <tbody>\n",
       "    <tr>\n",
       "      <th>0</th>\n",
       "      <td>NaN</td>\n",
       "      <td>1</td>\n",
       "      <td>Índia</td>\n",
       "      <td>1 417 492 000</td>\n",
       "      <td>-12 692 000</td>\n",
       "      <td>Estimativa oficial</td>\n",
       "    </tr>\n",
       "    <tr>\n",
       "      <th>1</th>\n",
       "      <td>NaN</td>\n",
       "      <td>2</td>\n",
       "      <td>China[nota 1]</td>\n",
       "      <td>1.407.934.000</td>\n",
       "      <td>-1 390 000</td>\n",
       "      <td>Censo oficial</td>\n",
       "    </tr>\n",
       "    <tr>\n",
       "      <th>2</th>\n",
       "      <td>NaN</td>\n",
       "      <td>3</td>\n",
       "      <td>Estados Unidos</td>\n",
       "      <td>342.181.000</td>\n",
       "      <td>-2 084 000</td>\n",
       "      <td>Censo oficial</td>\n",
       "    </tr>\n",
       "    <tr>\n",
       "      <th>3</th>\n",
       "      <td>NaN</td>\n",
       "      <td>4</td>\n",
       "      <td>Indonésia</td>\n",
       "      <td>285.783.000</td>\n",
       "      <td>+3 337 000</td>\n",
       "      <td>Estimativa oficial</td>\n",
       "    </tr>\n",
       "    <tr>\n",
       "      <th>4</th>\n",
       "      <td>NaN</td>\n",
       "      <td>5</td>\n",
       "      <td>Paquistão</td>\n",
       "      <td>256 204 000</td>\n",
       "      <td>+6 567 000</td>\n",
       "      <td>Estimativa oficial</td>\n",
       "    </tr>\n",
       "    <tr>\n",
       "      <th>...</th>\n",
       "      <td>...</td>\n",
       "      <td>...</td>\n",
       "      <td>...</td>\n",
       "      <td>...</td>\n",
       "      <td>...</td>\n",
       "      <td>...</td>\n",
       "    </tr>\n",
       "    <tr>\n",
       "      <th>245</th>\n",
       "      <td>NaN</td>\n",
       "      <td>–</td>\n",
       "      <td>Ilha de Ascensão (Reino Unido)</td>\n",
       "      <td>1 100</td>\n",
       "      <td>NaN</td>\n",
       "      <td>Estimativa oficial[10]</td>\n",
       "    </tr>\n",
       "    <tr>\n",
       "      <th>246</th>\n",
       "      <td>NaN</td>\n",
       "      <td>195</td>\n",
       "      <td>Vaticano</td>\n",
       "      <td>879</td>\n",
       "      <td>NaN</td>\n",
       "      <td>Estimativa oficial</td>\n",
       "    </tr>\n",
       "    <tr>\n",
       "      <th>247</th>\n",
       "      <td>NaN</td>\n",
       "      <td>–</td>\n",
       "      <td>Ilhas Cocos (Keeling) (Austrália)</td>\n",
       "      <td>605</td>\n",
       "      <td>NaN</td>\n",
       "      <td>Estimativa oficial</td>\n",
       "    </tr>\n",
       "    <tr>\n",
       "      <th>248</th>\n",
       "      <td>NaN</td>\n",
       "      <td>–</td>\n",
       "      <td>Tristão da Cunha (Reino Unido)</td>\n",
       "      <td>264</td>\n",
       "      <td>NaN</td>\n",
       "      <td>Estimativa oficial[11]</td>\n",
       "    </tr>\n",
       "    <tr>\n",
       "      <th>249</th>\n",
       "      <td>NaN</td>\n",
       "      <td>–</td>\n",
       "      <td>Ilhas Pitcairn (Reino Unido)</td>\n",
       "      <td>67</td>\n",
       "      <td>NaN</td>\n",
       "      <td>Estimativa oficial</td>\n",
       "    </tr>\n",
       "  </tbody>\n",
       "</table>\n",
       "<p>250 rows × 6 columns</p>\n",
       "</div>"
      ],
      "text/plain": [
       "     Unnamed: 0 Posição    País (ou território dependente) Estimativa da ONU  \\\n",
       "0           NaN       1                              Índia     1 417 492 000   \n",
       "1           NaN       2                      China[nota 1]     1.407.934.000   \n",
       "2           NaN       3                     Estados Unidos       342.181.000   \n",
       "3           NaN       4                          Indonésia       285.783.000   \n",
       "4           NaN       5                          Paquistão       256 204 000   \n",
       "..          ...     ...                                ...               ...   \n",
       "245         NaN       –     Ilha de Ascensão (Reino Unido)             1 100   \n",
       "246         NaN     195                           Vaticano               879   \n",
       "247         NaN       –  Ilhas Cocos (Keeling) (Austrália)               605   \n",
       "248         NaN       –     Tristão da Cunha (Reino Unido)               264   \n",
       "249         NaN       –       Ilhas Pitcairn (Reino Unido)                67   \n",
       "\n",
       "    Crescimento desde a última estimativa      Estimativa Oficial  \n",
       "0                             -12 692 000      Estimativa oficial  \n",
       "1                              -1 390 000           Censo oficial  \n",
       "2                              -2 084 000           Censo oficial  \n",
       "3                              +3 337 000      Estimativa oficial  \n",
       "4                              +6 567 000      Estimativa oficial  \n",
       "..                                    ...                     ...  \n",
       "245                                   NaN  Estimativa oficial[10]  \n",
       "246                                   NaN      Estimativa oficial  \n",
       "247                                   NaN      Estimativa oficial  \n",
       "248                                   NaN  Estimativa oficial[11]  \n",
       "249                                   NaN      Estimativa oficial  \n",
       "\n",
       "[250 rows x 6 columns]"
      ]
     },
     "execution_count": 1,
     "metadata": {},
     "output_type": "execute_result"
    }
   ],
   "source": [
    "import pandas as pd\n",
    "\n",
    "pd.read_html('https://pt.wikipedia.org/wiki/Lista_de_pa%C3%ADses_por_popula%C3%A7%C3%A3o')[0]"
   ]
  }
 ],
 "metadata": {
  "kernelspec": {
   "display_name": ".venv",
   "language": "python",
   "name": "python3"
  },
  "language_info": {
   "codemirror_mode": {
    "name": "ipython",
    "version": 3
   },
   "file_extension": ".py",
   "mimetype": "text/x-python",
   "name": "python",
   "nbconvert_exporter": "python",
   "pygments_lexer": "ipython3",
   "version": "3.13.2"
  }
 },
 "nbformat": 4,
 "nbformat_minor": 5
}
