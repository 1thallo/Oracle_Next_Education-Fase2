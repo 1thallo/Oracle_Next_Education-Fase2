{
 "cells": [
  {
   "cell_type": "markdown",
   "id": "004f4a6e",
   "metadata": {},
   "source": [
    "# Chegou a hora de testar os conhecimentos desenvolvidos durante a aula.\n",
    "\n",
    "Você é responsável por criar um banco de dados local de clientes para uma instituição financeira. Temos o arquivo CSV com os dados de clientes.\n",
    "\n",
    "## Sua missão é:\n",
    "\n",
    "- Criar o banco de dados local com a biblioteca SQLAlchemy.\n",
    "- Escrever os dados do arquivo CSV neste banco de dados local.\n",
    "- Realizar três atualizações no banco de dados:\n",
    "- Atualizar o registro do cliente de ID 6840104 que teve o rendimento anual alterado para 300000.\n",
    "- Excluir o registro do cliente de ID 5008809, pois essa pessoa não possui mais conta na instituição financeira.\n",
    "- Criar um novo registro de cliente seguindo as especificações abaixo\n",
    "\n",
    "| Campo | Valor |\n",
    "|-------|-------|\n",
    "| **ID_Cliente** | 6850985 |\n",
    "| **Idade** | 33 |\n",
    "| **Grau_escolaridade** | Doutorado |\n",
    "| **Estado_civil** | Solteiro |\n",
    "| **Tamanho_familia** | 1 |\n",
    "| **Categoria_de_renda** | Empregado |\n",
    "| **Ocupacao** | TI |\n",
    "| **Anos_empregado** | 2 |\n",
    "| **Rendimento_anual** | 290000 |\n",
    "| **Tem_carro** | 0 |\n",
    "| **Moradia** | Casa/apartamento próprio |"
   ]
  },
  {
   "cell_type": "code",
   "execution_count": 13,
   "id": "ad8ae9e6",
   "metadata": {},
   "outputs": [
    {
     "data": {
      "application/vnd.microsoft.datawrangler.viewer.v0+json": {
       "columns": [
        {
         "name": "index",
         "rawType": "int64",
         "type": "integer"
        },
        {
         "name": "ID_Cliente",
         "rawType": "int64",
         "type": "integer"
        },
        {
         "name": "Idade",
         "rawType": "int64",
         "type": "integer"
        },
        {
         "name": "Grau_escolaridade",
         "rawType": "object",
         "type": "string"
        },
        {
         "name": "Estado_civil",
         "rawType": "object",
         "type": "string"
        },
        {
         "name": "Tamanho_familia",
         "rawType": "int64",
         "type": "integer"
        },
        {
         "name": "Categoria_de_renda",
         "rawType": "object",
         "type": "string"
        },
        {
         "name": "Ocupacao",
         "rawType": "object",
         "type": "string"
        },
        {
         "name": "Anos_empregado",
         "rawType": "int64",
         "type": "integer"
        },
        {
         "name": "Rendimento_anual",
         "rawType": "float64",
         "type": "float"
        },
        {
         "name": "Tem_carro",
         "rawType": "int64",
         "type": "integer"
        },
        {
         "name": "Moradia",
         "rawType": "object",
         "type": "string"
        }
       ],
       "ref": "0b0edd40-3fab-45d7-87fd-2b313ed3686c",
       "rows": [
        [
         "0",
         "5008804",
         "32",
         "Ensino superior",
         "União-estável",
         "2",
         "Empregado",
         "Outro",
         "12",
         "427500.0",
         "1",
         "Apartamento alugado"
        ],
        [
         "1",
         "5008805",
         "32",
         "Ensino superior",
         "União-estável",
         "2",
         "Empregado",
         "Outro",
         "12",
         "427500.0",
         "1",
         "Apartamento alugado"
        ],
        [
         "2",
         "5008806",
         "58",
         "Ensino médio",
         "Casado",
         "2",
         "Empregado",
         "Segurança",
         "3",
         "112500.0",
         "1",
         "Casa/apartamento próprio"
        ],
        [
         "3",
         "5008808",
         "52",
         "Ensino médio",
         "Solteiro",
         "1",
         "Associado comercial",
         "Vendas",
         "8",
         "270000.0",
         "0",
         "Casa/apartamento próprio"
        ],
        [
         "4",
         "5008809",
         "52",
         "Ensino médio",
         "Solteiro",
         "1",
         "Associado comercial",
         "Vendas",
         "8",
         "270000.0",
         "0",
         "Casa/apartamento próprio"
        ]
       ],
       "shape": {
        "columns": 11,
        "rows": 5
       }
      },
      "text/html": [
       "<div>\n",
       "<style scoped>\n",
       "    .dataframe tbody tr th:only-of-type {\n",
       "        vertical-align: middle;\n",
       "    }\n",
       "\n",
       "    .dataframe tbody tr th {\n",
       "        vertical-align: top;\n",
       "    }\n",
       "\n",
       "    .dataframe thead th {\n",
       "        text-align: right;\n",
       "    }\n",
       "</style>\n",
       "<table border=\"1\" class=\"dataframe\">\n",
       "  <thead>\n",
       "    <tr style=\"text-align: right;\">\n",
       "      <th></th>\n",
       "      <th>ID_Cliente</th>\n",
       "      <th>Idade</th>\n",
       "      <th>Grau_escolaridade</th>\n",
       "      <th>Estado_civil</th>\n",
       "      <th>Tamanho_familia</th>\n",
       "      <th>Categoria_de_renda</th>\n",
       "      <th>Ocupacao</th>\n",
       "      <th>Anos_empregado</th>\n",
       "      <th>Rendimento_anual</th>\n",
       "      <th>Tem_carro</th>\n",
       "      <th>Moradia</th>\n",
       "    </tr>\n",
       "  </thead>\n",
       "  <tbody>\n",
       "    <tr>\n",
       "      <th>0</th>\n",
       "      <td>5008804</td>\n",
       "      <td>32</td>\n",
       "      <td>Ensino superior</td>\n",
       "      <td>União-estável</td>\n",
       "      <td>2</td>\n",
       "      <td>Empregado</td>\n",
       "      <td>Outro</td>\n",
       "      <td>12</td>\n",
       "      <td>427500.0</td>\n",
       "      <td>1</td>\n",
       "      <td>Apartamento alugado</td>\n",
       "    </tr>\n",
       "    <tr>\n",
       "      <th>1</th>\n",
       "      <td>5008805</td>\n",
       "      <td>32</td>\n",
       "      <td>Ensino superior</td>\n",
       "      <td>União-estável</td>\n",
       "      <td>2</td>\n",
       "      <td>Empregado</td>\n",
       "      <td>Outro</td>\n",
       "      <td>12</td>\n",
       "      <td>427500.0</td>\n",
       "      <td>1</td>\n",
       "      <td>Apartamento alugado</td>\n",
       "    </tr>\n",
       "    <tr>\n",
       "      <th>2</th>\n",
       "      <td>5008806</td>\n",
       "      <td>58</td>\n",
       "      <td>Ensino médio</td>\n",
       "      <td>Casado</td>\n",
       "      <td>2</td>\n",
       "      <td>Empregado</td>\n",
       "      <td>Segurança</td>\n",
       "      <td>3</td>\n",
       "      <td>112500.0</td>\n",
       "      <td>1</td>\n",
       "      <td>Casa/apartamento próprio</td>\n",
       "    </tr>\n",
       "    <tr>\n",
       "      <th>3</th>\n",
       "      <td>5008808</td>\n",
       "      <td>52</td>\n",
       "      <td>Ensino médio</td>\n",
       "      <td>Solteiro</td>\n",
       "      <td>1</td>\n",
       "      <td>Associado comercial</td>\n",
       "      <td>Vendas</td>\n",
       "      <td>8</td>\n",
       "      <td>270000.0</td>\n",
       "      <td>0</td>\n",
       "      <td>Casa/apartamento próprio</td>\n",
       "    </tr>\n",
       "    <tr>\n",
       "      <th>4</th>\n",
       "      <td>5008809</td>\n",
       "      <td>52</td>\n",
       "      <td>Ensino médio</td>\n",
       "      <td>Solteiro</td>\n",
       "      <td>1</td>\n",
       "      <td>Associado comercial</td>\n",
       "      <td>Vendas</td>\n",
       "      <td>8</td>\n",
       "      <td>270000.0</td>\n",
       "      <td>0</td>\n",
       "      <td>Casa/apartamento próprio</td>\n",
       "    </tr>\n",
       "  </tbody>\n",
       "</table>\n",
       "</div>"
      ],
      "text/plain": [
       "   ID_Cliente  Idade Grau_escolaridade   Estado_civil  Tamanho_familia  \\\n",
       "0     5008804     32   Ensino superior  União-estável                2   \n",
       "1     5008805     32   Ensino superior  União-estável                2   \n",
       "2     5008806     58      Ensino médio         Casado                2   \n",
       "3     5008808     52      Ensino médio       Solteiro                1   \n",
       "4     5008809     52      Ensino médio       Solteiro                1   \n",
       "\n",
       "    Categoria_de_renda   Ocupacao  Anos_empregado  Rendimento_anual  \\\n",
       "0            Empregado      Outro              12          427500.0   \n",
       "1            Empregado      Outro              12          427500.0   \n",
       "2            Empregado  Segurança               3          112500.0   \n",
       "3  Associado comercial     Vendas               8          270000.0   \n",
       "4  Associado comercial     Vendas               8          270000.0   \n",
       "\n",
       "   Tem_carro                   Moradia  \n",
       "0          1       Apartamento alugado  \n",
       "1          1       Apartamento alugado  \n",
       "2          1  Casa/apartamento próprio  \n",
       "3          0  Casa/apartamento próprio  \n",
       "4          0  Casa/apartamento próprio  "
      ]
     },
     "execution_count": 13,
     "metadata": {},
     "output_type": "execute_result"
    }
   ],
   "source": [
    "from sqlalchemy import create_engine, MetaData, Table, inspect, text\n",
    "import pandas as pd\n",
    "import os\n",
    "\n",
    "caminho = os.path.join('..', 'data', 'clientes_banco.csv')\n",
    "engine = create_engine('sqlite:///:memory:')\n",
    "\n",
    "dados = pd.read_csv(caminho)\n",
    "dados.head()"
   ]
  },
  {
   "cell_type": "code",
   "execution_count": 14,
   "id": "26cba569",
   "metadata": {},
   "outputs": [
    {
     "data": {
      "text/plain": [
       "438463"
      ]
     },
     "execution_count": 14,
     "metadata": {},
     "output_type": "execute_result"
    }
   ],
   "source": [
    "dados.to_sql('clientes', engine, index=False)"
   ]
  },
  {
   "cell_type": "code",
   "execution_count": 15,
   "id": "3c4200dc",
   "metadata": {},
   "outputs": [
    {
     "name": "stdout",
     "output_type": "stream",
     "text": [
      "['clientes']\n"
     ]
    }
   ],
   "source": [
    "inspector = inspect(engine)\n",
    "\n",
    "print(inspector.get_table_names())"
   ]
  },
  {
   "cell_type": "code",
   "execution_count": 16,
   "id": "554094c6",
   "metadata": {},
   "outputs": [],
   "source": [
    "# Atualizar o registro do cliente de ID 6840104 que teve o rendimento anual alterado para 300000.\n",
    "query = 'UPDATE clientes SET Rendimento_anual = 300000 WHERE ID_Cliente = 6840104'\n",
    "\n",
    "with engine.connect() as conn:\n",
    "    result = conn.execute(text(query))\n",
    "    conn.commit()"
   ]
  },
  {
   "cell_type": "code",
   "execution_count": 17,
   "id": "f17c1bd7",
   "metadata": {},
   "outputs": [],
   "source": [
    "# Excluir o registro do cliente de ID 5008809, pois essa pessoa não possui mais conta na instituição financeira.\n",
    "query = 'DELETE FROM clientes WHERE ID_Cliente = 5008809'\n",
    "\n",
    "with engine.connect() as conn:\n",
    "    result = conn.execute(text(query))\n",
    "    conn.commit()"
   ]
  },
  {
   "cell_type": "code",
   "execution_count": 18,
   "id": "7a083baf",
   "metadata": {},
   "outputs": [],
   "source": [
    "# - Criar um novo registro de cliente seguindo as especificações abaixo\n",
    "\"\"\"| Campo | Valor |\n",
    "|-------|-------|\n",
    "| **ID_Cliente** | 6850985 |\n",
    "| **Idade** | 33 |\n",
    "| **Grau_escolaridade** | Doutorado |\n",
    "| **Estado_civil** | Solteiro |\n",
    "| **Tamanho_familia** | 1 |\n",
    "| **Categoria_de_renda** | Empregado |\n",
    "| **Ocupacao** | TI |\n",
    "| **Anos_empregado** | 2 |\n",
    "| **Rendimento_anual** | 290000 |\n",
    "| **Tem_carro** | 0 |\n",
    "| **Moradia** | Casa/apartamento próprio |\"\"\"\n",
    "\n",
    "query = 'INSERT INTO clientes (ID_Cliente, Idade, Grau_escolaridade, Estado_civil, ' \\\n",
    "        'Tamanho_familia, Categoria_de_renda, Ocupacao, Anos_empregado, ' \\\n",
    "        'Rendimento_anual, Tem_carro, Moradia) ' \\\n",
    "        'VALUES (6850985, 33, \"Doutorado\", \"Solteiro\", 1, \"Empregado\", \"TI\", ' \\\n",
    "        '2, 290000, 0, \"Casa/apartamento próprio\")'\n",
    "\n",
    "with engine.connect() as conn:\n",
    "    result = conn.execute(text(query))\n",
    "    conn.commit()"
   ]
  },
  {
   "cell_type": "code",
   "execution_count": 23,
   "id": "b0ec0419",
   "metadata": {},
   "outputs": [
    {
     "data": {
      "application/vnd.microsoft.datawrangler.viewer.v0+json": {
       "columns": [
        {
         "name": "index",
         "rawType": "int64",
         "type": "integer"
        },
        {
         "name": "ID_Cliente",
         "rawType": "int64",
         "type": "integer"
        },
        {
         "name": "Idade",
         "rawType": "int64",
         "type": "integer"
        },
        {
         "name": "Grau_escolaridade",
         "rawType": "object",
         "type": "string"
        },
        {
         "name": "Estado_civil",
         "rawType": "object",
         "type": "string"
        },
        {
         "name": "Tamanho_familia",
         "rawType": "int64",
         "type": "integer"
        },
        {
         "name": "Categoria_de_renda",
         "rawType": "object",
         "type": "string"
        },
        {
         "name": "Ocupacao",
         "rawType": "object",
         "type": "string"
        },
        {
         "name": "Anos_empregado",
         "rawType": "int64",
         "type": "integer"
        },
        {
         "name": "Rendimento_anual",
         "rawType": "float64",
         "type": "float"
        },
        {
         "name": "Tem_carro",
         "rawType": "int64",
         "type": "integer"
        },
        {
         "name": "Moradia",
         "rawType": "object",
         "type": "string"
        }
       ],
       "ref": "96acf3c8-cf9a-4ecd-9e24-c2639dffbaeb",
       "rows": [
        [
         "0",
         "6850985",
         "33",
         "Doutorado",
         "Solteiro",
         "1",
         "Empregado",
         "TI",
         "2",
         "290000.0",
         "0",
         "Casa/apartamento próprio"
        ]
       ],
       "shape": {
        "columns": 11,
        "rows": 1
       }
      },
      "text/html": [
       "<div>\n",
       "<style scoped>\n",
       "    .dataframe tbody tr th:only-of-type {\n",
       "        vertical-align: middle;\n",
       "    }\n",
       "\n",
       "    .dataframe tbody tr th {\n",
       "        vertical-align: top;\n",
       "    }\n",
       "\n",
       "    .dataframe thead th {\n",
       "        text-align: right;\n",
       "    }\n",
       "</style>\n",
       "<table border=\"1\" class=\"dataframe\">\n",
       "  <thead>\n",
       "    <tr style=\"text-align: right;\">\n",
       "      <th></th>\n",
       "      <th>ID_Cliente</th>\n",
       "      <th>Idade</th>\n",
       "      <th>Grau_escolaridade</th>\n",
       "      <th>Estado_civil</th>\n",
       "      <th>Tamanho_familia</th>\n",
       "      <th>Categoria_de_renda</th>\n",
       "      <th>Ocupacao</th>\n",
       "      <th>Anos_empregado</th>\n",
       "      <th>Rendimento_anual</th>\n",
       "      <th>Tem_carro</th>\n",
       "      <th>Moradia</th>\n",
       "    </tr>\n",
       "  </thead>\n",
       "  <tbody>\n",
       "    <tr>\n",
       "      <th>0</th>\n",
       "      <td>6850985</td>\n",
       "      <td>33</td>\n",
       "      <td>Doutorado</td>\n",
       "      <td>Solteiro</td>\n",
       "      <td>1</td>\n",
       "      <td>Empregado</td>\n",
       "      <td>TI</td>\n",
       "      <td>2</td>\n",
       "      <td>290000.0</td>\n",
       "      <td>0</td>\n",
       "      <td>Casa/apartamento próprio</td>\n",
       "    </tr>\n",
       "  </tbody>\n",
       "</table>\n",
       "</div>"
      ],
      "text/plain": [
       "   ID_Cliente  Idade Grau_escolaridade Estado_civil  Tamanho_familia  \\\n",
       "0     6850985     33         Doutorado     Solteiro                1   \n",
       "\n",
       "  Categoria_de_renda Ocupacao  Anos_empregado  Rendimento_anual  Tem_carro  \\\n",
       "0          Empregado       TI               2          290000.0          0   \n",
       "\n",
       "                    Moradia  \n",
       "0  Casa/apartamento próprio  "
      ]
     },
     "execution_count": 23,
     "metadata": {},
     "output_type": "execute_result"
    }
   ],
   "source": [
    "pd.read_sql_query('SELECT * FROM clientes WHERE ID_Cliente = 6850985', engine)"
   ]
  }
 ],
 "metadata": {
  "kernelspec": {
   "display_name": ".venv",
   "language": "python",
   "name": "python3"
  },
  "language_info": {
   "codemirror_mode": {
    "name": "ipython",
    "version": 3
   },
   "file_extension": ".py",
   "mimetype": "text/x-python",
   "name": "python",
   "nbconvert_exporter": "python",
   "pygments_lexer": "ipython3",
   "version": "3.13.2"
  }
 },
 "nbformat": 4,
 "nbformat_minor": 5
}
