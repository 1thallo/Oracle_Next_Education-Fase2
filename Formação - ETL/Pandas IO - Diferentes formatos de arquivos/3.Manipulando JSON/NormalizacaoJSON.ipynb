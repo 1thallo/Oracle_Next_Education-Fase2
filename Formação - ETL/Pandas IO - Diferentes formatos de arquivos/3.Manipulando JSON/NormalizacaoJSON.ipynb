{
 "cells": [
  {
   "cell_type": "markdown",
   "id": "012aa8b8",
   "metadata": {},
   "source": [
    "Normalização de dados é um processo importante em ciência de dados que tem como objetivo organizar e padronizar dados para facilitar a análise e comparação entre eles. Quando se trata de dados no formato JSON (JavaScript Object Notation - Notação de Objetos JavaScript), é comum que eles estejam aninhados, o que pode dificultar sua análise e manipulação.\n",
    "\n",
    "A biblioteca Pandas possui uma função chamada json_normalize() que permite a transformação dos dados em um formato tabular, facilitando a visualização e análise das informações. A seguir vamos aprender como usar essa função para normalizar diferentes tipos de JSON em DataFrames.\n",
    "\n",
    "Normalizando um JSON simples\n",
    "Abaixo temos uma variável chamada dados e dentro dela há um objeto JSON com três chaves e seus respectivos valores:"
   ]
  },
  {
   "cell_type": "code",
   "execution_count": 1,
   "id": "7293aac2",
   "metadata": {},
   "outputs": [],
   "source": [
    "import pandas as pd\n",
    "dados = {'Pesquisa': 'Principais Indicadores de Doenca Cardiaca', 'Ano': 2020, 'Numero_Pacientes':3}"
   ]
  },
  {
   "cell_type": "markdown",
   "id": "622645b3",
   "metadata": {},
   "source": [
    "Para normalizar essa variável, podemos passa-lá dentro da função json_normalize e analisar o DataFrame obtido:"
   ]
  },
  {
   "cell_type": "code",
   "execution_count": 2,
   "id": "09fd1c5e",
   "metadata": {},
   "outputs": [
    {
     "data": {
      "application/vnd.microsoft.datawrangler.viewer.v0+json": {
       "columns": [
        {
         "name": "index",
         "rawType": "int64",
         "type": "integer"
        },
        {
         "name": "Pesquisa",
         "rawType": "object",
         "type": "string"
        },
        {
         "name": "Ano",
         "rawType": "int64",
         "type": "integer"
        },
        {
         "name": "Numero_Pacientes",
         "rawType": "int64",
         "type": "integer"
        }
       ],
       "ref": "84d66633-e6c0-4234-9fd1-e6a5a5160e3c",
       "rows": [
        [
         "0",
         "Principais Indicadores de Doenca Cardiaca",
         "2020",
         "3"
        ]
       ],
       "shape": {
        "columns": 3,
        "rows": 1
       }
      },
      "text/html": [
       "<div>\n",
       "<style scoped>\n",
       "    .dataframe tbody tr th:only-of-type {\n",
       "        vertical-align: middle;\n",
       "    }\n",
       "\n",
       "    .dataframe tbody tr th {\n",
       "        vertical-align: top;\n",
       "    }\n",
       "\n",
       "    .dataframe thead th {\n",
       "        text-align: right;\n",
       "    }\n",
       "</style>\n",
       "<table border=\"1\" class=\"dataframe\">\n",
       "  <thead>\n",
       "    <tr style=\"text-align: right;\">\n",
       "      <th></th>\n",
       "      <th>Pesquisa</th>\n",
       "      <th>Ano</th>\n",
       "      <th>Numero_Pacientes</th>\n",
       "    </tr>\n",
       "  </thead>\n",
       "  <tbody>\n",
       "    <tr>\n",
       "      <th>0</th>\n",
       "      <td>Principais Indicadores de Doenca Cardiaca</td>\n",
       "      <td>2020</td>\n",
       "      <td>3</td>\n",
       "    </tr>\n",
       "  </tbody>\n",
       "</table>\n",
       "</div>"
      ],
      "text/plain": [
       "                                    Pesquisa   Ano  Numero_Pacientes\n",
       "0  Principais Indicadores de Doenca Cardiaca  2020                 3"
      ]
     },
     "execution_count": 2,
     "metadata": {},
     "output_type": "execute_result"
    }
   ],
   "source": [
    "df = pd.json_normalize(dados)\n",
    "df"
   ]
  },
  {
   "cell_type": "markdown",
   "id": "01a48076",
   "metadata": {},
   "source": [
    "\n",
    "| index | Pesquisa | Ano | Numero_Pacientes |\n",
    "|-------|----|--------------| ---------------|\n",
    "| 0 | Principais Indicadores de Doenca Cardiaca | 2020 | 3 |\n",
    "\n",
    "O resultado parece ótimo! Temos 3 colunas que são as nossas chaves e uma linha contendo os valores para cada chave."
   ]
  },
  {
   "cell_type": "markdown",
   "id": "4cb05340",
   "metadata": {},
   "source": [
    "### Normalizando um JSON com vários níveis\n",
    "Existem situações em que o arquivo JSON pode conter mais de um objeto, como é o caso do exemplo abaixo, no qual temos uma lista, armazenada na variável json_lista, contendo dois objetos JSON:"
   ]
  },
  {
   "cell_type": "code",
   "execution_count": 3,
   "id": "80b5d34f",
   "metadata": {},
   "outputs": [],
   "source": [
    "json_lista = [\n",
    "    { 'ID': '01', 'Faixa_etaria': '55-59', 'Sexo_biologico': 'feminino'},\n",
    "    { 'ID': '02', 'Faixa_etaria': '80 ou +', 'Sexo_biologico': 'feminino'}\n",
    "]"
   ]
  },
  {
   "cell_type": "markdown",
   "id": "39dc8672",
   "metadata": {},
   "source": [
    "Para normalizar essa lista podemos aplicar a função json_normalize:"
   ]
  },
  {
   "cell_type": "code",
   "execution_count": 4,
   "id": "860b52da",
   "metadata": {},
   "outputs": [
    {
     "data": {
      "application/vnd.microsoft.datawrangler.viewer.v0+json": {
       "columns": [
        {
         "name": "index",
         "rawType": "int64",
         "type": "integer"
        },
        {
         "name": "ID",
         "rawType": "object",
         "type": "string"
        },
        {
         "name": "Faixa_etaria",
         "rawType": "object",
         "type": "string"
        },
        {
         "name": "Sexo_biologico",
         "rawType": "object",
         "type": "string"
        }
       ],
       "ref": "a83e6c25-f621-4fe3-ba37-7816f73ab491",
       "rows": [
        [
         "0",
         "01",
         "55-59",
         "feminino"
        ],
        [
         "1",
         "02",
         "80 ou +",
         "feminino"
        ]
       ],
       "shape": {
        "columns": 3,
        "rows": 2
       }
      },
      "text/html": [
       "<div>\n",
       "<style scoped>\n",
       "    .dataframe tbody tr th:only-of-type {\n",
       "        vertical-align: middle;\n",
       "    }\n",
       "\n",
       "    .dataframe tbody tr th {\n",
       "        vertical-align: top;\n",
       "    }\n",
       "\n",
       "    .dataframe thead th {\n",
       "        text-align: right;\n",
       "    }\n",
       "</style>\n",
       "<table border=\"1\" class=\"dataframe\">\n",
       "  <thead>\n",
       "    <tr style=\"text-align: right;\">\n",
       "      <th></th>\n",
       "      <th>ID</th>\n",
       "      <th>Faixa_etaria</th>\n",
       "      <th>Sexo_biologico</th>\n",
       "    </tr>\n",
       "  </thead>\n",
       "  <tbody>\n",
       "    <tr>\n",
       "      <th>0</th>\n",
       "      <td>01</td>\n",
       "      <td>55-59</td>\n",
       "      <td>feminino</td>\n",
       "    </tr>\n",
       "    <tr>\n",
       "      <th>1</th>\n",
       "      <td>02</td>\n",
       "      <td>80 ou +</td>\n",
       "      <td>feminino</td>\n",
       "    </tr>\n",
       "  </tbody>\n",
       "</table>\n",
       "</div>"
      ],
      "text/plain": [
       "   ID Faixa_etaria Sexo_biologico\n",
       "0  01        55-59       feminino\n",
       "1  02      80 ou +       feminino"
      ]
     },
     "execution_count": 4,
     "metadata": {},
     "output_type": "execute_result"
    }
   ],
   "source": [
    "pd.json_normalize(json_lista)"
   ]
  },
  {
   "cell_type": "markdown",
   "id": "958bcf54",
   "metadata": {},
   "source": [
    "| index | ID | Faixa_etaria | Sexo_biologico |\n",
    "|-------|----|--------------| ---------------|\n",
    "| 0     | 01 | 55-59        | feminino       |\n",
    "| 1     | 02 | 80 ou        | feminino       |"
   ]
  },
  {
   "cell_type": "markdown",
   "id": "0b2aeb1d",
   "metadata": {},
   "source": [
    "### Normalizando um JSON com uma lista aninhada\n",
    "Bom, notamos que a função json_normalize() funciona muito bem nas situações anteriores, mas e em outras situações?\n",
    "\n",
    "Dados como um dicionário\n",
    "Vamos começar analisando a normalização quando os dados são um dicionário. Temos um dicionário armazenado na variável json_obj. Note que na chave “Saude” temos outro dicionário:"
   ]
  },
  {
   "cell_type": "code",
   "execution_count": 5,
   "id": "6f1b2c05",
   "metadata": {},
   "outputs": [],
   "source": [
    "json_obj = {\n",
    "    'ID': '01',\n",
    "    'Faixa_etaria': '55-59',\n",
    "    'Sexo_biologico': 'Feminino',\n",
    "    'Saude': {'Dificuldade_caminhar': 'Nao',\n",
    "              'Atividade_fisica': 'Sim',\n",
    "              'IMC': 16.6,\n",
    "              'Doenca_cardiaca': 'Nao',\n",
    "          }\n",
    "      }"
   ]
  },
  {
   "cell_type": "markdown",
   "id": "d522e845",
   "metadata": {},
   "source": [
    "Fazendo a normalização:"
   ]
  },
  {
   "cell_type": "code",
   "execution_count": 6,
   "id": "e2168f3c",
   "metadata": {},
   "outputs": [
    {
     "data": {
      "application/vnd.microsoft.datawrangler.viewer.v0+json": {
       "columns": [
        {
         "name": "index",
         "rawType": "int64",
         "type": "integer"
        },
        {
         "name": "ID",
         "rawType": "object",
         "type": "string"
        },
        {
         "name": "Faixa_etaria",
         "rawType": "object",
         "type": "string"
        },
        {
         "name": "Sexo_biologico",
         "rawType": "object",
         "type": "string"
        },
        {
         "name": "Saude.Dificuldade_caminhar",
         "rawType": "object",
         "type": "string"
        },
        {
         "name": "Saude.Atividade_fisica",
         "rawType": "object",
         "type": "string"
        },
        {
         "name": "Saude.IMC",
         "rawType": "float64",
         "type": "float"
        },
        {
         "name": "Saude.Doenca_cardiaca",
         "rawType": "object",
         "type": "string"
        }
       ],
       "ref": "c22743b7-a136-476d-985b-19e12fe4517a",
       "rows": [
        [
         "0",
         "01",
         "55-59",
         "Feminino",
         "Nao",
         "Sim",
         "16.6",
         "Nao"
        ]
       ],
       "shape": {
        "columns": 7,
        "rows": 1
       }
      },
      "text/html": [
       "<div>\n",
       "<style scoped>\n",
       "    .dataframe tbody tr th:only-of-type {\n",
       "        vertical-align: middle;\n",
       "    }\n",
       "\n",
       "    .dataframe tbody tr th {\n",
       "        vertical-align: top;\n",
       "    }\n",
       "\n",
       "    .dataframe thead th {\n",
       "        text-align: right;\n",
       "    }\n",
       "</style>\n",
       "<table border=\"1\" class=\"dataframe\">\n",
       "  <thead>\n",
       "    <tr style=\"text-align: right;\">\n",
       "      <th></th>\n",
       "      <th>ID</th>\n",
       "      <th>Faixa_etaria</th>\n",
       "      <th>Sexo_biologico</th>\n",
       "      <th>Saude.Dificuldade_caminhar</th>\n",
       "      <th>Saude.Atividade_fisica</th>\n",
       "      <th>Saude.IMC</th>\n",
       "      <th>Saude.Doenca_cardiaca</th>\n",
       "    </tr>\n",
       "  </thead>\n",
       "  <tbody>\n",
       "    <tr>\n",
       "      <th>0</th>\n",
       "      <td>01</td>\n",
       "      <td>55-59</td>\n",
       "      <td>Feminino</td>\n",
       "      <td>Nao</td>\n",
       "      <td>Sim</td>\n",
       "      <td>16.6</td>\n",
       "      <td>Nao</td>\n",
       "    </tr>\n",
       "  </tbody>\n",
       "</table>\n",
       "</div>"
      ],
      "text/plain": [
       "   ID Faixa_etaria Sexo_biologico Saude.Dificuldade_caminhar  \\\n",
       "0  01        55-59       Feminino                        Nao   \n",
       "\n",
       "  Saude.Atividade_fisica  Saude.IMC Saude.Doenca_cardiaca  \n",
       "0                    Sim       16.6                   Nao  "
      ]
     },
     "execution_count": 6,
     "metadata": {},
     "output_type": "execute_result"
    }
   ],
   "source": [
    "pd.json_normalize(json_obj)"
   ]
  },
  {
   "cell_type": "markdown",
   "id": "58ce5bbf",
   "metadata": {},
   "source": [
    "| index | ID | Faixa_etaria | Sexo_biologico | Saude.Dificuldade_caminhar | Saude.Atividade_fisica | Saude.IMC | Saude.Doenca_cardiaca |\n",
    "|-------|----|--------------| ---------------|----------------------------|------------------------|-----------|----------------------|\n",
    "| 0     | 01 | 55-59        | Feminino       | Nao                        | Sim                    | 16.6      | Nao                    |"
   ]
  },
  {
   "cell_type": "markdown",
   "id": "d6c6e1cc",
   "metadata": {},
   "source": [
    "O DataFrame gerado possui uma coluna para cada informação contida no dicionário que estava em “Saude”. As colunas criadas possuem o prefixo “Saude.”, pois as informações vieram dessa mesma chave.\n",
    "\n",
    "Dados como uma lista de dicionários\n",
    "Agora nós temos uma lista de dicionários armazenada na variável json_list:"
   ]
  },
  {
   "cell_type": "code",
   "execution_count": 7,
   "id": "5127a672",
   "metadata": {},
   "outputs": [],
   "source": [
    "json_list = [\n",
    "    {\n",
    "    'ID': '01',\n",
    "    'Faixa_etaria': '55-59',\n",
    "    'Sexo_biologico': 'Feminino',\n",
    "    'Saude': {'Dificuldade_caminhar': 'Nao',\n",
    "              'Atividade_fisica': 'Sim',\n",
    "              'IMC': 16.6,\n",
    "              'Doenca_cardiaca': 'Nao',\n",
    "          }\n",
    "      },\n",
    "      {\n",
    "          'ID': '02',\n",
    "          'Faixa_etaria': '80 ou +',\n",
    "          'Sexo_biologico': 'Feminino',\n",
    "          'Saude': {'Dificuldade_caminhar': 'Nao',\n",
    "                    'Atividade_fisica': 'Sim',\n",
    "                    'IMC': 20.34,\n",
    "                    'Doenca_cardiaca': 'Sim'}\n",
    "       }\n",
    "       ]"
   ]
  },
  {
   "cell_type": "markdown",
   "id": "fa264aa1",
   "metadata": {},
   "source": [
    "Fazendo a normalização:"
   ]
  },
  {
   "cell_type": "code",
   "execution_count": 8,
   "id": "6463899a",
   "metadata": {},
   "outputs": [
    {
     "data": {
      "application/vnd.microsoft.datawrangler.viewer.v0+json": {
       "columns": [
        {
         "name": "index",
         "rawType": "int64",
         "type": "integer"
        },
        {
         "name": "ID",
         "rawType": "object",
         "type": "string"
        },
        {
         "name": "Faixa_etaria",
         "rawType": "object",
         "type": "string"
        },
        {
         "name": "Sexo_biologico",
         "rawType": "object",
         "type": "string"
        },
        {
         "name": "Saude.Dificuldade_caminhar",
         "rawType": "object",
         "type": "string"
        },
        {
         "name": "Saude.Atividade_fisica",
         "rawType": "object",
         "type": "string"
        },
        {
         "name": "Saude.IMC",
         "rawType": "float64",
         "type": "float"
        },
        {
         "name": "Saude.Doenca_cardiaca",
         "rawType": "object",
         "type": "string"
        }
       ],
       "ref": "92af4902-3231-4d5b-8663-c31262ec3c1d",
       "rows": [
        [
         "0",
         "01",
         "55-59",
         "Feminino",
         "Nao",
         "Sim",
         "16.6",
         "Nao"
        ],
        [
         "1",
         "02",
         "80 ou +",
         "Feminino",
         "Nao",
         "Sim",
         "20.34",
         "Sim"
        ]
       ],
       "shape": {
        "columns": 7,
        "rows": 2
       }
      },
      "text/html": [
       "<div>\n",
       "<style scoped>\n",
       "    .dataframe tbody tr th:only-of-type {\n",
       "        vertical-align: middle;\n",
       "    }\n",
       "\n",
       "    .dataframe tbody tr th {\n",
       "        vertical-align: top;\n",
       "    }\n",
       "\n",
       "    .dataframe thead th {\n",
       "        text-align: right;\n",
       "    }\n",
       "</style>\n",
       "<table border=\"1\" class=\"dataframe\">\n",
       "  <thead>\n",
       "    <tr style=\"text-align: right;\">\n",
       "      <th></th>\n",
       "      <th>ID</th>\n",
       "      <th>Faixa_etaria</th>\n",
       "      <th>Sexo_biologico</th>\n",
       "      <th>Saude.Dificuldade_caminhar</th>\n",
       "      <th>Saude.Atividade_fisica</th>\n",
       "      <th>Saude.IMC</th>\n",
       "      <th>Saude.Doenca_cardiaca</th>\n",
       "    </tr>\n",
       "  </thead>\n",
       "  <tbody>\n",
       "    <tr>\n",
       "      <th>0</th>\n",
       "      <td>01</td>\n",
       "      <td>55-59</td>\n",
       "      <td>Feminino</td>\n",
       "      <td>Nao</td>\n",
       "      <td>Sim</td>\n",
       "      <td>16.60</td>\n",
       "      <td>Nao</td>\n",
       "    </tr>\n",
       "    <tr>\n",
       "      <th>1</th>\n",
       "      <td>02</td>\n",
       "      <td>80 ou +</td>\n",
       "      <td>Feminino</td>\n",
       "      <td>Nao</td>\n",
       "      <td>Sim</td>\n",
       "      <td>20.34</td>\n",
       "      <td>Sim</td>\n",
       "    </tr>\n",
       "  </tbody>\n",
       "</table>\n",
       "</div>"
      ],
      "text/plain": [
       "   ID Faixa_etaria Sexo_biologico Saude.Dificuldade_caminhar  \\\n",
       "0  01        55-59       Feminino                        Nao   \n",
       "1  02      80 ou +       Feminino                        Nao   \n",
       "\n",
       "  Saude.Atividade_fisica  Saude.IMC Saude.Doenca_cardiaca  \n",
       "0                    Sim      16.60                   Nao  \n",
       "1                    Sim      20.34                   Sim  "
      ]
     },
     "execution_count": 8,
     "metadata": {},
     "output_type": "execute_result"
    }
   ],
   "source": [
    "pd.json_normalize(json_list)"
   ]
  },
  {
   "cell_type": "markdown",
   "id": "fc17bebb",
   "metadata": {},
   "source": [
    "| index | ID | Faixa_etaria | Sexo_biologico | Saude.Dificuldade_caminhar | Saude.Atividade_fisica | Saude.IMC | Saude.Doenca_cardiaca |\n",
    "|-------|----|--------------| ---------------|----------------------------|------------------------|-----------|----------------------|\n",
    "| 0     | 01 | 55-59        | Feminino       | Nao                        | Sim                    | 16.6      | Nao                  |\n",
    "| 1     | 02 | 80 ou +      | Feminino       | Nao                        | Sim |   20.34   | Sim   |"
   ]
  },
  {
   "cell_type": "markdown",
   "id": "305641b7",
   "metadata": {},
   "source": [
    "Podemos analisar que todos os valores aninhados em cada registro da lista foram convertidos em colunas separadas. E os dados que nós normalizamos no vídeo anterior? Lembra que a normalização deles foi feita de um jeito diferente?\n",
    "\n",
    "Recapitulando, vamos copiar os dados do arquivo pacientes_2.json e armazená-los numa variável chamada dados_dict."
   ]
  },
  {
   "cell_type": "code",
   "execution_count": 9,
   "id": "8ed03561",
   "metadata": {},
   "outputs": [],
   "source": [
    "dados_dict = {\n",
    "  \"Pesquisa\": \"Principais Indicadores de Doenca Cardiaca\",\n",
    "  \"Ano\": 2020,\n",
    "  \"Pacientes\": [\n",
    "    {\n",
    "      \"ID\": \"01\",\n",
    "      \"Faixa_etaria\": \"55-59\",\n",
    "      \"Sexo_biologico\": \"Feminino\",\n",
    "      \"Raça\": \"Branca\",\n",
    "      \"IMC\": 16.6,\n",
    "      \"Fumante\": \"Sim\",\n",
    "      \"Consumo_alcool\": \"Nao\",\n",
    "      \"Saude_fisica\": 3,\n",
    "      \"Saude_mental\": 30,\n",
    "      \"Dificuldade_caminhar\": \"Nao\",\n",
    "      \"Atividade_fisica\": \"Sim\",\n",
    "      \"Saude_geral\": \"Muito boa\",\n",
    "      \"Horas_sono\": 5,\n",
    "      \"Problemas_saude\": [\n",
    "        \"Diabetes\",\n",
    "        \"Asma\",\n",
    "        \"Cancer_pele\"\n",
    "      ]\n",
    "    },\n",
    "    {\n",
    "      \"ID\": \"02\",\n",
    "      \"Faixa_etaria\": \"80 ou +\",\n",
    "      \"Sexo_biologico\": \"Feminino\",\n",
    "      \"Raça\": \"Branca\",\n",
    "      \"IMC\": 20.34,\n",
    "      \"Fumante\": \"Nao\",\n",
    "      \"Consumo_alcool\": \"Nao\",\n",
    "      \"Saude_fisica\": 0,\n",
    "      \"Saude_mental\": 0,\n",
    "      \"Dificuldade_caminhar\": \"Nao\",\n",
    "      \"Atividade_fisica\": \"Sim\",\n",
    "      \"Saude_geral\": \"Muito boa\",\n",
    "      \"Horas_sono\": 7,\n",
    "      \"Problemas_saude\": [\n",
    "        \"AVC\"\n",
    "      ]\n",
    "    },\n",
    "    {\n",
    "      \"ID\": \"03\",\n",
    "      \"Faixa_etaria\": \"65-69\",\n",
    "      \"Sexo_biologico\": \"Masculino\",\n",
    "      \"Raça\": \"Branca\",\n",
    "      \"IMC\": 26.58,\n",
    "      \"Fumante\": \"Sim\",\n",
    "      \"Consumo_alcool\": \"Nao\",\n",
    "      \"Saude_fisica\": 20,\n",
    "      \"Saude_mental\": 30,\n",
    "      \"Dificuldade_caminhar\": \"Nao\",\n",
    "      \"Atividade_fisica\": \"Sim\",\n",
    "      \"Saude_geral\": \"Muito boa\",\n",
    "      \"Horas_sono\": 8,\n",
    "      \"Problemas_saude\": [\n",
    "        \"diabetes\",\n",
    "        \"Asma\"\n",
    "      ]\n",
    "    }\n",
    "  ]\n",
    "}"
   ]
  },
  {
   "cell_type": "markdown",
   "id": "543c7d28",
   "metadata": {},
   "source": [
    "Se tentarmos normalizar esses dados:"
   ]
  },
  {
   "cell_type": "code",
   "execution_count": 15,
   "id": "c675d4ab",
   "metadata": {},
   "outputs": [
    {
     "data": {
      "application/vnd.microsoft.datawrangler.viewer.v0+json": {
       "columns": [
        {
         "name": "index",
         "rawType": "int64",
         "type": "integer"
        },
        {
         "name": "Pesquisa",
         "rawType": "object",
         "type": "string"
        },
        {
         "name": "Ano",
         "rawType": "int64",
         "type": "integer"
        },
        {
         "name": "Pacientes",
         "rawType": "object",
         "type": "unknown"
        }
       ],
       "ref": "3da9e184-4673-4ed2-b326-6931e148598d",
       "rows": [
        [
         "0",
         "Principais Indicadores de Doenca Cardiaca",
         "2020",
         "[{'ID': '01', 'Faixa_etaria': '55-59', 'Sexo_biologico': 'Feminino', 'Raça': 'Branca', 'IMC': 16.6, 'Fumante': 'Sim', 'Consumo_alcool': 'Nao', 'Saude_fisica': 3, 'Saude_mental': 30, 'Dificuldade_caminhar': 'Nao', 'Atividade_fisica': 'Sim', 'Saude_geral': 'Muito boa', 'Horas_sono': 5, 'Problemas_saude': ['Diabetes', 'Asma', 'Cancer_pele']}, {'ID': '02', 'Faixa_etaria': '80 ou +', 'Sexo_biologico': 'Feminino', 'Raça': 'Branca', 'IMC': 20.34, 'Fumante': 'Nao', 'Consumo_alcool': 'Nao', 'Saude_fisica': 0, 'Saude_mental': 0, 'Dificuldade_caminhar': 'Nao', 'Atividade_fisica': 'Sim', 'Saude_geral': 'Muito boa', 'Horas_sono': 7, 'Problemas_saude': ['AVC']}, {'ID': '03', 'Faixa_etaria': '65-69', 'Sexo_biologico': 'Masculino', 'Raça': 'Branca', 'IMC': 26.58, 'Fumante': 'Sim', 'Consumo_alcool': 'Nao', 'Saude_fisica': 20, 'Saude_mental': 30, 'Dificuldade_caminhar': 'Nao', 'Atividade_fisica': 'Sim', 'Saude_geral': 'Muito boa', 'Horas_sono': 8, 'Problemas_saude': ['diabetes', 'Asma']}]"
        ]
       ],
       "shape": {
        "columns": 3,
        "rows": 1
       }
      },
      "text/html": [
       "<div>\n",
       "<style scoped>\n",
       "    .dataframe tbody tr th:only-of-type {\n",
       "        vertical-align: middle;\n",
       "    }\n",
       "\n",
       "    .dataframe tbody tr th {\n",
       "        vertical-align: top;\n",
       "    }\n",
       "\n",
       "    .dataframe thead th {\n",
       "        text-align: right;\n",
       "    }\n",
       "</style>\n",
       "<table border=\"1\" class=\"dataframe\">\n",
       "  <thead>\n",
       "    <tr style=\"text-align: right;\">\n",
       "      <th></th>\n",
       "      <th>Pesquisa</th>\n",
       "      <th>Ano</th>\n",
       "      <th>Pacientes</th>\n",
       "    </tr>\n",
       "  </thead>\n",
       "  <tbody>\n",
       "    <tr>\n",
       "      <th>0</th>\n",
       "      <td>Principais Indicadores de Doenca Cardiaca</td>\n",
       "      <td>2020</td>\n",
       "      <td>[{'ID': '01', 'Faixa_etaria': '55-59', 'Sexo_b...</td>\n",
       "    </tr>\n",
       "  </tbody>\n",
       "</table>\n",
       "</div>"
      ],
      "text/plain": [
       "                                    Pesquisa   Ano  \\\n",
       "0  Principais Indicadores de Doenca Cardiaca  2020   \n",
       "\n",
       "                                           Pacientes  \n",
       "0  [{'ID': '01', 'Faixa_etaria': '55-59', 'Sexo_b...  "
      ]
     },
     "execution_count": 15,
     "metadata": {},
     "output_type": "execute_result"
    }
   ],
   "source": [
    "pd.json_normalize(dados_dict)"
   ]
  },
  {
   "cell_type": "markdown",
   "id": "119d6bfb",
   "metadata": {},
   "source": [
    "|index|Pesquisa|Ano|Pacientes|\n",
    "|-------|----|--------------| ---------------|\n",
    "|0|\tPrincipais Indicadores de Doenca Cardiaca|\t2020|\t{'ID': '01', 'Faixa_etaria': '55-59', 'Sexo_b...|"
   ]
  },
  {
   "cell_type": "markdown",
   "id": "282279d4",
   "metadata": {},
   "source": [
    "Podemos observar que nossa lista aninhada é colocada em uma única coluna Pacientes. Então, nós usamos o seguinte código para normalizar os dados, especificando qual coluna está aninhada:"
   ]
  },
  {
   "cell_type": "code",
   "execution_count": 16,
   "id": "d38aff20",
   "metadata": {},
   "outputs": [
    {
     "data": {
      "application/vnd.microsoft.datawrangler.viewer.v0+json": {
       "columns": [
        {
         "name": "index",
         "rawType": "int64",
         "type": "integer"
        },
        {
         "name": "ID",
         "rawType": "object",
         "type": "string"
        },
        {
         "name": "Faixa_etaria",
         "rawType": "object",
         "type": "string"
        },
        {
         "name": "Sexo_biologico",
         "rawType": "object",
         "type": "string"
        },
        {
         "name": "Raça",
         "rawType": "object",
         "type": "string"
        },
        {
         "name": "IMC",
         "rawType": "float64",
         "type": "float"
        },
        {
         "name": "Fumante",
         "rawType": "object",
         "type": "string"
        },
        {
         "name": "Consumo_alcool",
         "rawType": "object",
         "type": "string"
        },
        {
         "name": "Saude_fisica",
         "rawType": "int64",
         "type": "integer"
        },
        {
         "name": "Saude_mental",
         "rawType": "int64",
         "type": "integer"
        },
        {
         "name": "Dificuldade_caminhar",
         "rawType": "object",
         "type": "string"
        },
        {
         "name": "Atividade_fisica",
         "rawType": "object",
         "type": "string"
        },
        {
         "name": "Saude_geral",
         "rawType": "object",
         "type": "string"
        },
        {
         "name": "Horas_sono",
         "rawType": "int64",
         "type": "integer"
        },
        {
         "name": "Problemas_saude",
         "rawType": "object",
         "type": "unknown"
        }
       ],
       "ref": "cef3cfa4-145f-4809-b246-c3b3f477d173",
       "rows": [
        [
         "0",
         "01",
         "55-59",
         "Feminino",
         "Branca",
         "16.6",
         "Sim",
         "Nao",
         "3",
         "30",
         "Nao",
         "Sim",
         "Muito boa",
         "5",
         "['Diabetes', 'Asma', 'Cancer_pele']"
        ],
        [
         "1",
         "02",
         "80 ou +",
         "Feminino",
         "Branca",
         "20.34",
         "Nao",
         "Nao",
         "0",
         "0",
         "Nao",
         "Sim",
         "Muito boa",
         "7",
         "['AVC']"
        ],
        [
         "2",
         "03",
         "65-69",
         "Masculino",
         "Branca",
         "26.58",
         "Sim",
         "Nao",
         "20",
         "30",
         "Nao",
         "Sim",
         "Muito boa",
         "8",
         "['diabetes', 'Asma']"
        ]
       ],
       "shape": {
        "columns": 14,
        "rows": 3
       }
      },
      "text/html": [
       "<div>\n",
       "<style scoped>\n",
       "    .dataframe tbody tr th:only-of-type {\n",
       "        vertical-align: middle;\n",
       "    }\n",
       "\n",
       "    .dataframe tbody tr th {\n",
       "        vertical-align: top;\n",
       "    }\n",
       "\n",
       "    .dataframe thead th {\n",
       "        text-align: right;\n",
       "    }\n",
       "</style>\n",
       "<table border=\"1\" class=\"dataframe\">\n",
       "  <thead>\n",
       "    <tr style=\"text-align: right;\">\n",
       "      <th></th>\n",
       "      <th>ID</th>\n",
       "      <th>Faixa_etaria</th>\n",
       "      <th>Sexo_biologico</th>\n",
       "      <th>Raça</th>\n",
       "      <th>IMC</th>\n",
       "      <th>Fumante</th>\n",
       "      <th>Consumo_alcool</th>\n",
       "      <th>Saude_fisica</th>\n",
       "      <th>Saude_mental</th>\n",
       "      <th>Dificuldade_caminhar</th>\n",
       "      <th>Atividade_fisica</th>\n",
       "      <th>Saude_geral</th>\n",
       "      <th>Horas_sono</th>\n",
       "      <th>Problemas_saude</th>\n",
       "    </tr>\n",
       "  </thead>\n",
       "  <tbody>\n",
       "    <tr>\n",
       "      <th>0</th>\n",
       "      <td>01</td>\n",
       "      <td>55-59</td>\n",
       "      <td>Feminino</td>\n",
       "      <td>Branca</td>\n",
       "      <td>16.60</td>\n",
       "      <td>Sim</td>\n",
       "      <td>Nao</td>\n",
       "      <td>3</td>\n",
       "      <td>30</td>\n",
       "      <td>Nao</td>\n",
       "      <td>Sim</td>\n",
       "      <td>Muito boa</td>\n",
       "      <td>5</td>\n",
       "      <td>[Diabetes, Asma, Cancer_pele]</td>\n",
       "    </tr>\n",
       "    <tr>\n",
       "      <th>1</th>\n",
       "      <td>02</td>\n",
       "      <td>80 ou +</td>\n",
       "      <td>Feminino</td>\n",
       "      <td>Branca</td>\n",
       "      <td>20.34</td>\n",
       "      <td>Nao</td>\n",
       "      <td>Nao</td>\n",
       "      <td>0</td>\n",
       "      <td>0</td>\n",
       "      <td>Nao</td>\n",
       "      <td>Sim</td>\n",
       "      <td>Muito boa</td>\n",
       "      <td>7</td>\n",
       "      <td>[AVC]</td>\n",
       "    </tr>\n",
       "    <tr>\n",
       "      <th>2</th>\n",
       "      <td>03</td>\n",
       "      <td>65-69</td>\n",
       "      <td>Masculino</td>\n",
       "      <td>Branca</td>\n",
       "      <td>26.58</td>\n",
       "      <td>Sim</td>\n",
       "      <td>Nao</td>\n",
       "      <td>20</td>\n",
       "      <td>30</td>\n",
       "      <td>Nao</td>\n",
       "      <td>Sim</td>\n",
       "      <td>Muito boa</td>\n",
       "      <td>8</td>\n",
       "      <td>[diabetes, Asma]</td>\n",
       "    </tr>\n",
       "  </tbody>\n",
       "</table>\n",
       "</div>"
      ],
      "text/plain": [
       "   ID Faixa_etaria Sexo_biologico    Raça    IMC Fumante Consumo_alcool  \\\n",
       "0  01        55-59       Feminino  Branca  16.60     Sim            Nao   \n",
       "1  02      80 ou +       Feminino  Branca  20.34     Nao            Nao   \n",
       "2  03        65-69      Masculino  Branca  26.58     Sim            Nao   \n",
       "\n",
       "   Saude_fisica  Saude_mental Dificuldade_caminhar Atividade_fisica  \\\n",
       "0             3            30                  Nao              Sim   \n",
       "1             0             0                  Nao              Sim   \n",
       "2            20            30                  Nao              Sim   \n",
       "\n",
       "  Saude_geral  Horas_sono                Problemas_saude  \n",
       "0   Muito boa           5  [Diabetes, Asma, Cancer_pele]  \n",
       "1   Muito boa           7                          [AVC]  \n",
       "2   Muito boa           8               [diabetes, Asma]  "
      ]
     },
     "execution_count": 16,
     "metadata": {},
     "output_type": "execute_result"
    }
   ],
   "source": [
    "pd.json_normalize(dados_dict['Pacientes'])"
   ]
  },
  {
   "cell_type": "markdown",
   "id": "81bbd529",
   "metadata": {},
   "source": [
    "Também podemos fazer isso utilizando o parâmetro record_path como ['Pacientes']. Esse parâmetro é usado na função pd.json_normalize() para especificar o caminho para os registros que devem ser normalizados em um DataFrame separado:"
   ]
  },
  {
   "cell_type": "code",
   "execution_count": 12,
   "id": "80f19b1f",
   "metadata": {},
   "outputs": [
    {
     "data": {
      "application/vnd.microsoft.datawrangler.viewer.v0+json": {
       "columns": [
        {
         "name": "index",
         "rawType": "int64",
         "type": "integer"
        },
        {
         "name": "ID",
         "rawType": "object",
         "type": "string"
        },
        {
         "name": "Faixa_etaria",
         "rawType": "object",
         "type": "string"
        },
        {
         "name": "Sexo_biologico",
         "rawType": "object",
         "type": "string"
        },
        {
         "name": "Raça",
         "rawType": "object",
         "type": "string"
        },
        {
         "name": "IMC",
         "rawType": "float64",
         "type": "float"
        },
        {
         "name": "Fumante",
         "rawType": "object",
         "type": "string"
        },
        {
         "name": "Consumo_alcool",
         "rawType": "object",
         "type": "string"
        },
        {
         "name": "Saude_fisica",
         "rawType": "int64",
         "type": "integer"
        },
        {
         "name": "Saude_mental",
         "rawType": "int64",
         "type": "integer"
        },
        {
         "name": "Dificuldade_caminhar",
         "rawType": "object",
         "type": "string"
        },
        {
         "name": "Atividade_fisica",
         "rawType": "object",
         "type": "string"
        },
        {
         "name": "Saude_geral",
         "rawType": "object",
         "type": "string"
        },
        {
         "name": "Horas_sono",
         "rawType": "int64",
         "type": "integer"
        },
        {
         "name": "Problemas_saude",
         "rawType": "object",
         "type": "unknown"
        }
       ],
       "ref": "359f5de9-3992-4d35-a25b-8092dcaa4861",
       "rows": [
        [
         "0",
         "01",
         "55-59",
         "Feminino",
         "Branca",
         "16.6",
         "Sim",
         "Nao",
         "3",
         "30",
         "Nao",
         "Sim",
         "Muito boa",
         "5",
         "['Diabetes', 'Asma', 'Cancer_pele']"
        ],
        [
         "1",
         "02",
         "80 ou +",
         "Feminino",
         "Branca",
         "20.34",
         "Nao",
         "Nao",
         "0",
         "0",
         "Nao",
         "Sim",
         "Muito boa",
         "7",
         "['AVC']"
        ],
        [
         "2",
         "03",
         "65-69",
         "Masculino",
         "Branca",
         "26.58",
         "Sim",
         "Nao",
         "20",
         "30",
         "Nao",
         "Sim",
         "Muito boa",
         "8",
         "['diabetes', 'Asma']"
        ]
       ],
       "shape": {
        "columns": 14,
        "rows": 3
       }
      },
      "text/html": [
       "<div>\n",
       "<style scoped>\n",
       "    .dataframe tbody tr th:only-of-type {\n",
       "        vertical-align: middle;\n",
       "    }\n",
       "\n",
       "    .dataframe tbody tr th {\n",
       "        vertical-align: top;\n",
       "    }\n",
       "\n",
       "    .dataframe thead th {\n",
       "        text-align: right;\n",
       "    }\n",
       "</style>\n",
       "<table border=\"1\" class=\"dataframe\">\n",
       "  <thead>\n",
       "    <tr style=\"text-align: right;\">\n",
       "      <th></th>\n",
       "      <th>ID</th>\n",
       "      <th>Faixa_etaria</th>\n",
       "      <th>Sexo_biologico</th>\n",
       "      <th>Raça</th>\n",
       "      <th>IMC</th>\n",
       "      <th>Fumante</th>\n",
       "      <th>Consumo_alcool</th>\n",
       "      <th>Saude_fisica</th>\n",
       "      <th>Saude_mental</th>\n",
       "      <th>Dificuldade_caminhar</th>\n",
       "      <th>Atividade_fisica</th>\n",
       "      <th>Saude_geral</th>\n",
       "      <th>Horas_sono</th>\n",
       "      <th>Problemas_saude</th>\n",
       "    </tr>\n",
       "  </thead>\n",
       "  <tbody>\n",
       "    <tr>\n",
       "      <th>0</th>\n",
       "      <td>01</td>\n",
       "      <td>55-59</td>\n",
       "      <td>Feminino</td>\n",
       "      <td>Branca</td>\n",
       "      <td>16.60</td>\n",
       "      <td>Sim</td>\n",
       "      <td>Nao</td>\n",
       "      <td>3</td>\n",
       "      <td>30</td>\n",
       "      <td>Nao</td>\n",
       "      <td>Sim</td>\n",
       "      <td>Muito boa</td>\n",
       "      <td>5</td>\n",
       "      <td>[Diabetes, Asma, Cancer_pele]</td>\n",
       "    </tr>\n",
       "    <tr>\n",
       "      <th>1</th>\n",
       "      <td>02</td>\n",
       "      <td>80 ou +</td>\n",
       "      <td>Feminino</td>\n",
       "      <td>Branca</td>\n",
       "      <td>20.34</td>\n",
       "      <td>Nao</td>\n",
       "      <td>Nao</td>\n",
       "      <td>0</td>\n",
       "      <td>0</td>\n",
       "      <td>Nao</td>\n",
       "      <td>Sim</td>\n",
       "      <td>Muito boa</td>\n",
       "      <td>7</td>\n",
       "      <td>[AVC]</td>\n",
       "    </tr>\n",
       "    <tr>\n",
       "      <th>2</th>\n",
       "      <td>03</td>\n",
       "      <td>65-69</td>\n",
       "      <td>Masculino</td>\n",
       "      <td>Branca</td>\n",
       "      <td>26.58</td>\n",
       "      <td>Sim</td>\n",
       "      <td>Nao</td>\n",
       "      <td>20</td>\n",
       "      <td>30</td>\n",
       "      <td>Nao</td>\n",
       "      <td>Sim</td>\n",
       "      <td>Muito boa</td>\n",
       "      <td>8</td>\n",
       "      <td>[diabetes, Asma]</td>\n",
       "    </tr>\n",
       "  </tbody>\n",
       "</table>\n",
       "</div>"
      ],
      "text/plain": [
       "   ID Faixa_etaria Sexo_biologico    Raça    IMC Fumante Consumo_alcool  \\\n",
       "0  01        55-59       Feminino  Branca  16.60     Sim            Nao   \n",
       "1  02      80 ou +       Feminino  Branca  20.34     Nao            Nao   \n",
       "2  03        65-69      Masculino  Branca  26.58     Sim            Nao   \n",
       "\n",
       "   Saude_fisica  Saude_mental Dificuldade_caminhar Atividade_fisica  \\\n",
       "0             3            30                  Nao              Sim   \n",
       "1             0             0                  Nao              Sim   \n",
       "2            20            30                  Nao              Sim   \n",
       "\n",
       "  Saude_geral  Horas_sono                Problemas_saude  \n",
       "0   Muito boa           5  [Diabetes, Asma, Cancer_pele]  \n",
       "1   Muito boa           7                          [AVC]  \n",
       "2   Muito boa           8               [diabetes, Asma]  "
      ]
     },
     "execution_count": 12,
     "metadata": {},
     "output_type": "execute_result"
    }
   ],
   "source": [
    "pd.json_normalize(dados_dict, record_path=['Pacientes'])"
   ]
  },
  {
   "cell_type": "markdown",
   "id": "b457f9fd",
   "metadata": {},
   "source": [
    "Com ambos os códigos o resultado é o mesmo."
   ]
  },
  {
   "cell_type": "markdown",
   "id": "35447cd1",
   "metadata": {},
   "source": [
    "| index | ID | Faixa_etaria | Sexo_biologico | Raça | ... | Atividade_fisica | Saude_geral | Horas_sono | Problemas_saude |\n",
    "|-------|----|--------------| ---------------|------|-----|------------------|-------------|------------|----------------|\n",
    "| 0     | 01 | 55-59        | Feminino       | Branca | ... | Sim              | Muito boa   | 5          | Diabetes,Asma,Cancer_pele |\n",
    "| 1     | 02 | 80 ou +      | Feminino       | Branca | ... | Sim              | Muito boa   | 7          | AVC |\n",
    "| 2     | 03 | 65-69        | Masculino      | Branca | ... | Sim              | Muito boa  |  8 | Diabetes, Asma    |"
   ]
  },
  {
   "cell_type": "markdown",
   "id": "b88a7637",
   "metadata": {},
   "source": [
    "O resultado parece ótimo, mas não inclui as colunas “Pesquisa” e “Ano”. Para incluí-las, podemos usar o parâmetro meta para especificar outras colunas que queremos no DataFrame."
   ]
  },
  {
   "cell_type": "code",
   "execution_count": 13,
   "id": "32e09552",
   "metadata": {},
   "outputs": [
    {
     "data": {
      "application/vnd.microsoft.datawrangler.viewer.v0+json": {
       "columns": [
        {
         "name": "index",
         "rawType": "int64",
         "type": "integer"
        },
        {
         "name": "ID",
         "rawType": "object",
         "type": "string"
        },
        {
         "name": "Faixa_etaria",
         "rawType": "object",
         "type": "string"
        },
        {
         "name": "Sexo_biologico",
         "rawType": "object",
         "type": "string"
        },
        {
         "name": "Raça",
         "rawType": "object",
         "type": "string"
        },
        {
         "name": "IMC",
         "rawType": "float64",
         "type": "float"
        },
        {
         "name": "Fumante",
         "rawType": "object",
         "type": "string"
        },
        {
         "name": "Consumo_alcool",
         "rawType": "object",
         "type": "string"
        },
        {
         "name": "Saude_fisica",
         "rawType": "int64",
         "type": "integer"
        },
        {
         "name": "Saude_mental",
         "rawType": "int64",
         "type": "integer"
        },
        {
         "name": "Dificuldade_caminhar",
         "rawType": "object",
         "type": "string"
        },
        {
         "name": "Atividade_fisica",
         "rawType": "object",
         "type": "string"
        },
        {
         "name": "Saude_geral",
         "rawType": "object",
         "type": "string"
        },
        {
         "name": "Horas_sono",
         "rawType": "int64",
         "type": "integer"
        },
        {
         "name": "Problemas_saude",
         "rawType": "object",
         "type": "unknown"
        },
        {
         "name": "Pesquisa",
         "rawType": "object",
         "type": "string"
        },
        {
         "name": "Ano",
         "rawType": "object",
         "type": "unknown"
        }
       ],
       "ref": "dae67f0b-d5b8-4e07-aa0b-8b1f1d99c6e0",
       "rows": [
        [
         "0",
         "01",
         "55-59",
         "Feminino",
         "Branca",
         "16.6",
         "Sim",
         "Nao",
         "3",
         "30",
         "Nao",
         "Sim",
         "Muito boa",
         "5",
         "['Diabetes', 'Asma', 'Cancer_pele']",
         "Principais Indicadores de Doenca Cardiaca",
         "2020"
        ],
        [
         "1",
         "02",
         "80 ou +",
         "Feminino",
         "Branca",
         "20.34",
         "Nao",
         "Nao",
         "0",
         "0",
         "Nao",
         "Sim",
         "Muito boa",
         "7",
         "['AVC']",
         "Principais Indicadores de Doenca Cardiaca",
         "2020"
        ],
        [
         "2",
         "03",
         "65-69",
         "Masculino",
         "Branca",
         "26.58",
         "Sim",
         "Nao",
         "20",
         "30",
         "Nao",
         "Sim",
         "Muito boa",
         "8",
         "['diabetes', 'Asma']",
         "Principais Indicadores de Doenca Cardiaca",
         "2020"
        ]
       ],
       "shape": {
        "columns": 16,
        "rows": 3
       }
      },
      "text/html": [
       "<div>\n",
       "<style scoped>\n",
       "    .dataframe tbody tr th:only-of-type {\n",
       "        vertical-align: middle;\n",
       "    }\n",
       "\n",
       "    .dataframe tbody tr th {\n",
       "        vertical-align: top;\n",
       "    }\n",
       "\n",
       "    .dataframe thead th {\n",
       "        text-align: right;\n",
       "    }\n",
       "</style>\n",
       "<table border=\"1\" class=\"dataframe\">\n",
       "  <thead>\n",
       "    <tr style=\"text-align: right;\">\n",
       "      <th></th>\n",
       "      <th>ID</th>\n",
       "      <th>Faixa_etaria</th>\n",
       "      <th>Sexo_biologico</th>\n",
       "      <th>Raça</th>\n",
       "      <th>IMC</th>\n",
       "      <th>Fumante</th>\n",
       "      <th>Consumo_alcool</th>\n",
       "      <th>Saude_fisica</th>\n",
       "      <th>Saude_mental</th>\n",
       "      <th>Dificuldade_caminhar</th>\n",
       "      <th>Atividade_fisica</th>\n",
       "      <th>Saude_geral</th>\n",
       "      <th>Horas_sono</th>\n",
       "      <th>Problemas_saude</th>\n",
       "      <th>Pesquisa</th>\n",
       "      <th>Ano</th>\n",
       "    </tr>\n",
       "  </thead>\n",
       "  <tbody>\n",
       "    <tr>\n",
       "      <th>0</th>\n",
       "      <td>01</td>\n",
       "      <td>55-59</td>\n",
       "      <td>Feminino</td>\n",
       "      <td>Branca</td>\n",
       "      <td>16.60</td>\n",
       "      <td>Sim</td>\n",
       "      <td>Nao</td>\n",
       "      <td>3</td>\n",
       "      <td>30</td>\n",
       "      <td>Nao</td>\n",
       "      <td>Sim</td>\n",
       "      <td>Muito boa</td>\n",
       "      <td>5</td>\n",
       "      <td>[Diabetes, Asma, Cancer_pele]</td>\n",
       "      <td>Principais Indicadores de Doenca Cardiaca</td>\n",
       "      <td>2020</td>\n",
       "    </tr>\n",
       "    <tr>\n",
       "      <th>1</th>\n",
       "      <td>02</td>\n",
       "      <td>80 ou +</td>\n",
       "      <td>Feminino</td>\n",
       "      <td>Branca</td>\n",
       "      <td>20.34</td>\n",
       "      <td>Nao</td>\n",
       "      <td>Nao</td>\n",
       "      <td>0</td>\n",
       "      <td>0</td>\n",
       "      <td>Nao</td>\n",
       "      <td>Sim</td>\n",
       "      <td>Muito boa</td>\n",
       "      <td>7</td>\n",
       "      <td>[AVC]</td>\n",
       "      <td>Principais Indicadores de Doenca Cardiaca</td>\n",
       "      <td>2020</td>\n",
       "    </tr>\n",
       "    <tr>\n",
       "      <th>2</th>\n",
       "      <td>03</td>\n",
       "      <td>65-69</td>\n",
       "      <td>Masculino</td>\n",
       "      <td>Branca</td>\n",
       "      <td>26.58</td>\n",
       "      <td>Sim</td>\n",
       "      <td>Nao</td>\n",
       "      <td>20</td>\n",
       "      <td>30</td>\n",
       "      <td>Nao</td>\n",
       "      <td>Sim</td>\n",
       "      <td>Muito boa</td>\n",
       "      <td>8</td>\n",
       "      <td>[diabetes, Asma]</td>\n",
       "      <td>Principais Indicadores de Doenca Cardiaca</td>\n",
       "      <td>2020</td>\n",
       "    </tr>\n",
       "  </tbody>\n",
       "</table>\n",
       "</div>"
      ],
      "text/plain": [
       "   ID Faixa_etaria Sexo_biologico    Raça    IMC Fumante Consumo_alcool  \\\n",
       "0  01        55-59       Feminino  Branca  16.60     Sim            Nao   \n",
       "1  02      80 ou +       Feminino  Branca  20.34     Nao            Nao   \n",
       "2  03        65-69      Masculino  Branca  26.58     Sim            Nao   \n",
       "\n",
       "   Saude_fisica  Saude_mental Dificuldade_caminhar Atividade_fisica  \\\n",
       "0             3            30                  Nao              Sim   \n",
       "1             0             0                  Nao              Sim   \n",
       "2            20            30                  Nao              Sim   \n",
       "\n",
       "  Saude_geral  Horas_sono                Problemas_saude  \\\n",
       "0   Muito boa           5  [Diabetes, Asma, Cancer_pele]   \n",
       "1   Muito boa           7                          [AVC]   \n",
       "2   Muito boa           8               [diabetes, Asma]   \n",
       "\n",
       "                                    Pesquisa   Ano  \n",
       "0  Principais Indicadores de Doenca Cardiaca  2020  \n",
       "1  Principais Indicadores de Doenca Cardiaca  2020  \n",
       "2  Principais Indicadores de Doenca Cardiaca  2020  "
      ]
     },
     "execution_count": 13,
     "metadata": {},
     "output_type": "execute_result"
    }
   ],
   "source": [
    "pd.json_normalize(\n",
    "    dados_dict, \n",
    "    record_path =['Pacientes'], \n",
    "    meta=['Pesquisa', 'Ano']\n",
    ")"
   ]
  },
  {
   "cell_type": "markdown",
   "id": "aa964d73",
   "metadata": {},
   "source": [
    "| index | ID | Faixa_etaria | Sexo_biologico | ... | Problemas_saude | Pesquisa | Ano |\n",
    "|-------|----|--------------| ---------------|-----|----------------|----------|-----|\n",
    "| 0     | 01 | 55-59        | Feminino       | ... | [Diabetes,Asma,Cancer_pele] | Principais Indicadores de Doenca Cardiaca | 2020 |\n",
    "| 1     | 02 | 80 ou +      | Feminino       | ... | AVC | Principais Indicadores de Doenca Cardiaca | 2020 |\n",
    "| 2     | 03 | 65-69        | Masculino      | ... | [diabetes,Asma] | Principais Indicadores de Doenca Cardiaca | 2020 |"
   ]
  },
  {
   "cell_type": "markdown",
   "id": "412e78cc",
   "metadata": {},
   "source": [
    "Dessa forma temos todas as colunas presentes no DataFrame!"
   ]
  },
  {
   "cell_type": "markdown",
   "id": "ef4e9fa1",
   "metadata": {},
   "source": [
    "Importante: Na aula nós realizamos a normalização em um arquivo com o formato JSON. No entanto, a função json_normalize() aceita apenas um dicionário ou uma lista de dicionários. Por isso, no vídeo foi usada a estratégia de usar o código: pd.json_normalize(dados_pacientes_2['Pacientes']). Porém, se tentarmos usar parâmetros da função json_normalize em um arquivo JSON podem surgir erros. Para contornar isso, precisamos importar o módulo json e ler os arquivos conforme o código abaixo:"
   ]
  },
  {
   "cell_type": "code",
   "execution_count": 18,
   "id": "babb9f07",
   "metadata": {},
   "outputs": [
    {
     "data": {
      "application/vnd.microsoft.datawrangler.viewer.v0+json": {
       "columns": [
        {
         "name": "index",
         "rawType": "int64",
         "type": "integer"
        },
        {
         "name": "ID",
         "rawType": "object",
         "type": "string"
        },
        {
         "name": "Faixa_etaria",
         "rawType": "object",
         "type": "string"
        },
        {
         "name": "Sexo_biologico",
         "rawType": "object",
         "type": "string"
        },
        {
         "name": "RaÃ§a",
         "rawType": "object",
         "type": "string"
        },
        {
         "name": "IMC",
         "rawType": "float64",
         "type": "float"
        },
        {
         "name": "Fumante",
         "rawType": "object",
         "type": "string"
        },
        {
         "name": "Consumo_alcool",
         "rawType": "object",
         "type": "string"
        },
        {
         "name": "Saude_fisica",
         "rawType": "int64",
         "type": "integer"
        },
        {
         "name": "Saude_mental",
         "rawType": "int64",
         "type": "integer"
        },
        {
         "name": "Dificuldade_caminhar",
         "rawType": "object",
         "type": "string"
        },
        {
         "name": "Atividade_fisica",
         "rawType": "object",
         "type": "string"
        },
        {
         "name": "Saude_geral",
         "rawType": "object",
         "type": "string"
        },
        {
         "name": "Horas_sono",
         "rawType": "int64",
         "type": "integer"
        },
        {
         "name": "Problemas_saude",
         "rawType": "object",
         "type": "unknown"
        },
        {
         "name": "Pesquisa",
         "rawType": "object",
         "type": "string"
        },
        {
         "name": "Ano",
         "rawType": "object",
         "type": "unknown"
        }
       ],
       "ref": "3a3e54b0-1b19-4e8b-b98e-3eccb3f0a3c0",
       "rows": [
        [
         "0",
         "01",
         "55-59",
         "Feminino",
         "Branca",
         "16.6",
         "Sim",
         "Nao",
         "3",
         "30",
         "Nao",
         "Sim",
         "Muito boa",
         "5",
         "['Diabetes', 'Asma', 'Cancer_pele']",
         "Principais Indicadores de Doenca Cardiaca",
         "2020"
        ],
        [
         "1",
         "02",
         "80 ou +",
         "Feminino",
         "Branca",
         "20.34",
         "Nao",
         "Nao",
         "0",
         "0",
         "Nao",
         "Sim",
         "Muito boa",
         "7",
         "['AVC']",
         "Principais Indicadores de Doenca Cardiaca",
         "2020"
        ],
        [
         "2",
         "03",
         "65-69",
         "Masculino",
         "Branca",
         "26.58",
         "Sim",
         "Nao",
         "20",
         "30",
         "Nao",
         "Sim",
         "Muito boa",
         "8",
         "['diabetes', 'Asma']",
         "Principais Indicadores de Doenca Cardiaca",
         "2020"
        ]
       ],
       "shape": {
        "columns": 16,
        "rows": 3
       }
      },
      "text/html": [
       "<div>\n",
       "<style scoped>\n",
       "    .dataframe tbody tr th:only-of-type {\n",
       "        vertical-align: middle;\n",
       "    }\n",
       "\n",
       "    .dataframe tbody tr th {\n",
       "        vertical-align: top;\n",
       "    }\n",
       "\n",
       "    .dataframe thead th {\n",
       "        text-align: right;\n",
       "    }\n",
       "</style>\n",
       "<table border=\"1\" class=\"dataframe\">\n",
       "  <thead>\n",
       "    <tr style=\"text-align: right;\">\n",
       "      <th></th>\n",
       "      <th>ID</th>\n",
       "      <th>Faixa_etaria</th>\n",
       "      <th>Sexo_biologico</th>\n",
       "      <th>RaÃ§a</th>\n",
       "      <th>IMC</th>\n",
       "      <th>Fumante</th>\n",
       "      <th>Consumo_alcool</th>\n",
       "      <th>Saude_fisica</th>\n",
       "      <th>Saude_mental</th>\n",
       "      <th>Dificuldade_caminhar</th>\n",
       "      <th>Atividade_fisica</th>\n",
       "      <th>Saude_geral</th>\n",
       "      <th>Horas_sono</th>\n",
       "      <th>Problemas_saude</th>\n",
       "      <th>Pesquisa</th>\n",
       "      <th>Ano</th>\n",
       "    </tr>\n",
       "  </thead>\n",
       "  <tbody>\n",
       "    <tr>\n",
       "      <th>0</th>\n",
       "      <td>01</td>\n",
       "      <td>55-59</td>\n",
       "      <td>Feminino</td>\n",
       "      <td>Branca</td>\n",
       "      <td>16.60</td>\n",
       "      <td>Sim</td>\n",
       "      <td>Nao</td>\n",
       "      <td>3</td>\n",
       "      <td>30</td>\n",
       "      <td>Nao</td>\n",
       "      <td>Sim</td>\n",
       "      <td>Muito boa</td>\n",
       "      <td>5</td>\n",
       "      <td>[Diabetes, Asma, Cancer_pele]</td>\n",
       "      <td>Principais Indicadores de Doenca Cardiaca</td>\n",
       "      <td>2020</td>\n",
       "    </tr>\n",
       "    <tr>\n",
       "      <th>1</th>\n",
       "      <td>02</td>\n",
       "      <td>80 ou +</td>\n",
       "      <td>Feminino</td>\n",
       "      <td>Branca</td>\n",
       "      <td>20.34</td>\n",
       "      <td>Nao</td>\n",
       "      <td>Nao</td>\n",
       "      <td>0</td>\n",
       "      <td>0</td>\n",
       "      <td>Nao</td>\n",
       "      <td>Sim</td>\n",
       "      <td>Muito boa</td>\n",
       "      <td>7</td>\n",
       "      <td>[AVC]</td>\n",
       "      <td>Principais Indicadores de Doenca Cardiaca</td>\n",
       "      <td>2020</td>\n",
       "    </tr>\n",
       "    <tr>\n",
       "      <th>2</th>\n",
       "      <td>03</td>\n",
       "      <td>65-69</td>\n",
       "      <td>Masculino</td>\n",
       "      <td>Branca</td>\n",
       "      <td>26.58</td>\n",
       "      <td>Sim</td>\n",
       "      <td>Nao</td>\n",
       "      <td>20</td>\n",
       "      <td>30</td>\n",
       "      <td>Nao</td>\n",
       "      <td>Sim</td>\n",
       "      <td>Muito boa</td>\n",
       "      <td>8</td>\n",
       "      <td>[diabetes, Asma]</td>\n",
       "      <td>Principais Indicadores de Doenca Cardiaca</td>\n",
       "      <td>2020</td>\n",
       "    </tr>\n",
       "  </tbody>\n",
       "</table>\n",
       "</div>"
      ],
      "text/plain": [
       "   ID Faixa_etaria Sexo_biologico   RaÃ§a    IMC Fumante Consumo_alcool  \\\n",
       "0  01        55-59       Feminino  Branca  16.60     Sim            Nao   \n",
       "1  02      80 ou +       Feminino  Branca  20.34     Nao            Nao   \n",
       "2  03        65-69      Masculino  Branca  26.58     Sim            Nao   \n",
       "\n",
       "   Saude_fisica  Saude_mental Dificuldade_caminhar Atividade_fisica  \\\n",
       "0             3            30                  Nao              Sim   \n",
       "1             0             0                  Nao              Sim   \n",
       "2            20            30                  Nao              Sim   \n",
       "\n",
       "  Saude_geral  Horas_sono                Problemas_saude  \\\n",
       "0   Muito boa           5  [Diabetes, Asma, Cancer_pele]   \n",
       "1   Muito boa           7                          [AVC]   \n",
       "2   Muito boa           8               [diabetes, Asma]   \n",
       "\n",
       "                                    Pesquisa   Ano  \n",
       "0  Principais Indicadores de Doenca Cardiaca  2020  \n",
       "1  Principais Indicadores de Doenca Cardiaca  2020  \n",
       "2  Principais Indicadores de Doenca Cardiaca  2020  "
      ]
     },
     "execution_count": 18,
     "metadata": {},
     "output_type": "execute_result"
    }
   ],
   "source": [
    "#Importando a biblioteca Pandas\n",
    "import pandas as pd\n",
    "import os\n",
    "\n",
    "caminho = os.path.join('..', 'data', 'pacientes_2.json')\n",
    "#Importando o módulo JSON\n",
    "import json\n",
    "\n",
    "#Lendo o arquivo json usando o módulo Python JSON\n",
    "with open(caminho,'r') as f:\n",
    "    dados = json.loads(f.read())\n",
    "\n",
    "#Normalizando os dados com os parâmetros record_path e meta\n",
    "pd.json_normalize(dados, record_path='Pacientes', meta=['Pesquisa', 'Ano'])"
   ]
  },
  {
   "cell_type": "markdown",
   "id": "e11dedbf",
   "metadata": {},
   "source": [
    "E, assim, aprendemos como normalizar arquivos JSON simples, com múltiplos níveis e aninhados."
   ]
  }
 ],
 "metadata": {
  "kernelspec": {
   "display_name": ".venv",
   "language": "python",
   "name": "python3"
  },
  "language_info": {
   "codemirror_mode": {
    "name": "ipython",
    "version": 3
   },
   "file_extension": ".py",
   "mimetype": "text/x-python",
   "name": "python",
   "nbconvert_exporter": "python",
   "pygments_lexer": "ipython3",
   "version": "3.13.2"
  }
 },
 "nbformat": 4,
 "nbformat_minor": 5
}
