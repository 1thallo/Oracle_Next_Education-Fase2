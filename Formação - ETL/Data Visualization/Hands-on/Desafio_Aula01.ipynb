{
 "cells": [
  {
   "cell_type": "markdown",
   "id": "649002a2",
   "metadata": {},
   "source": [
    "#### Criar um gráfico de linhas comparando os números de imigrantes do Brasil e Argentina para o Canadá, que são os maiores países da América do Sul."
   ]
  },
  {
   "cell_type": "markdown",
   "id": "a72c9c7f",
   "metadata": {},
   "source": [
    "Essa nova tarefa é mais desafiadora, pois exige uma análise comparativa entre dois países. \n",
    "\n",
    "No entanto, ela também permitirá com que você obtenha uma aprendizagem enriquecedora. Por isso, explore as diversas possibilidades e lembre-se dos elementos essenciais de um gráfico: **título**, **rótulos nos eixos x e y** e os **ticks do eixo x**, que devem ser definidos de 5 em 5 anos."
   ]
  },
  {
   "cell_type": "markdown",
   "id": "41d61e3c",
   "metadata": {},
   "source": [
    "Além disso, você precisará descobrir como adicionar uma legenda para que seja possível identificar a linha de cada país. Ao seguir essas orientações, você terá construído um gráfico robusto que te permitirá uma análise significativa e aprofundada.\n",
    "\n",
    "Após criar o gráfico analise o resultado obtido e reflita nas seguintes questões:\n",
    "\n",
    "- Há alguma tendência ou padrão comum nos dados dos dois países?\n",
    "- Quais são os períodos com maior número de imigrantes nos dois países?"
   ]
  },
  {
   "cell_type": "code",
   "execution_count": 17,
   "id": "54d96f9f",
   "metadata": {},
   "outputs": [
    {
     "data": {
      "application/vnd.microsoft.datawrangler.viewer.v0+json": {
       "columns": [
        {
         "name": "index",
         "rawType": "int64",
         "type": "integer"
        },
        {
         "name": "País",
         "rawType": "object",
         "type": "string"
        },
        {
         "name": "Continente",
         "rawType": "object",
         "type": "string"
        },
        {
         "name": "Região",
         "rawType": "object",
         "type": "string"
        },
        {
         "name": "1980",
         "rawType": "int64",
         "type": "integer"
        },
        {
         "name": "1981",
         "rawType": "int64",
         "type": "integer"
        },
        {
         "name": "1982",
         "rawType": "int64",
         "type": "integer"
        },
        {
         "name": "1983",
         "rawType": "int64",
         "type": "integer"
        },
        {
         "name": "1984",
         "rawType": "int64",
         "type": "integer"
        },
        {
         "name": "1985",
         "rawType": "int64",
         "type": "integer"
        },
        {
         "name": "1986",
         "rawType": "int64",
         "type": "integer"
        },
        {
         "name": "1987",
         "rawType": "int64",
         "type": "integer"
        },
        {
         "name": "1988",
         "rawType": "int64",
         "type": "integer"
        },
        {
         "name": "1989",
         "rawType": "int64",
         "type": "integer"
        },
        {
         "name": "1990",
         "rawType": "int64",
         "type": "integer"
        },
        {
         "name": "1991",
         "rawType": "int64",
         "type": "integer"
        },
        {
         "name": "1992",
         "rawType": "int64",
         "type": "integer"
        },
        {
         "name": "1993",
         "rawType": "int64",
         "type": "integer"
        },
        {
         "name": "1994",
         "rawType": "int64",
         "type": "integer"
        },
        {
         "name": "1995",
         "rawType": "int64",
         "type": "integer"
        },
        {
         "name": "1996",
         "rawType": "int64",
         "type": "integer"
        },
        {
         "name": "1997",
         "rawType": "int64",
         "type": "integer"
        },
        {
         "name": "1998",
         "rawType": "int64",
         "type": "integer"
        },
        {
         "name": "1999",
         "rawType": "int64",
         "type": "integer"
        },
        {
         "name": "2000",
         "rawType": "int64",
         "type": "integer"
        },
        {
         "name": "2001",
         "rawType": "int64",
         "type": "integer"
        },
        {
         "name": "2002",
         "rawType": "int64",
         "type": "integer"
        },
        {
         "name": "2003",
         "rawType": "int64",
         "type": "integer"
        },
        {
         "name": "2004",
         "rawType": "int64",
         "type": "integer"
        },
        {
         "name": "2005",
         "rawType": "int64",
         "type": "integer"
        },
        {
         "name": "2006",
         "rawType": "int64",
         "type": "integer"
        },
        {
         "name": "2007",
         "rawType": "int64",
         "type": "integer"
        },
        {
         "name": "2008",
         "rawType": "int64",
         "type": "integer"
        },
        {
         "name": "2009",
         "rawType": "int64",
         "type": "integer"
        },
        {
         "name": "2010",
         "rawType": "int64",
         "type": "integer"
        },
        {
         "name": "2011",
         "rawType": "int64",
         "type": "integer"
        },
        {
         "name": "2012",
         "rawType": "int64",
         "type": "integer"
        },
        {
         "name": "2013",
         "rawType": "int64",
         "type": "integer"
        },
        {
         "name": "Total",
         "rawType": "int64",
         "type": "integer"
        }
       ],
       "ref": "29398907-18b0-415e-963b-98b7932db790",
       "rows": [
        [
         "0",
         "Afeganistão",
         "Ásia",
         "Sul da Ásia",
         "16",
         "39",
         "39",
         "47",
         "71",
         "340",
         "496",
         "741",
         "828",
         "1076",
         "1028",
         "1378",
         "1170",
         "713",
         "858",
         "1537",
         "2212",
         "2555",
         "1999",
         "2395",
         "3326",
         "4067",
         "3697",
         "3479",
         "2978",
         "3436",
         "3009",
         "2652",
         "2111",
         "1746",
         "1758",
         "2203",
         "2635",
         "2004",
         "58639"
        ],
        [
         "1",
         "Albânia",
         "Europa",
         "Sul da Europa",
         "1",
         "0",
         "0",
         "0",
         "0",
         "0",
         "1",
         "2",
         "2",
         "3",
         "3",
         "21",
         "56",
         "96",
         "71",
         "63",
         "113",
         "307",
         "574",
         "1264",
         "1816",
         "1602",
         "1021",
         "853",
         "1450",
         "1223",
         "856",
         "702",
         "560",
         "716",
         "561",
         "539",
         "620",
         "603",
         "15699"
        ],
        [
         "2",
         "Argélia",
         "África",
         "Norte da África",
         "80",
         "67",
         "71",
         "69",
         "63",
         "44",
         "69",
         "132",
         "242",
         "434",
         "491",
         "872",
         "795",
         "717",
         "595",
         "1106",
         "2054",
         "1842",
         "2292",
         "2389",
         "2867",
         "3418",
         "3406",
         "3072",
         "3616",
         "3626",
         "4807",
         "3623",
         "4005",
         "5393",
         "4752",
         "4325",
         "3774",
         "4331",
         "69439"
        ],
        [
         "3",
         "Samoa Americana",
         "Oceânia",
         "Polinésia",
         "0",
         "1",
         "0",
         "0",
         "0",
         "0",
         "0",
         "1",
         "0",
         "1",
         "2",
         "0",
         "0",
         "0",
         "0",
         "0",
         "0",
         "0",
         "0",
         "0",
         "0",
         "0",
         "0",
         "0",
         "0",
         "0",
         "1",
         "0",
         "0",
         "0",
         "0",
         "0",
         "0",
         "0",
         "6"
        ],
        [
         "4",
         "Andorra",
         "Europa",
         "Sul da Europa",
         "0",
         "0",
         "0",
         "0",
         "0",
         "0",
         "2",
         "0",
         "0",
         "0",
         "3",
         "0",
         "1",
         "0",
         "0",
         "0",
         "0",
         "0",
         "2",
         "0",
         "0",
         "1",
         "0",
         "2",
         "0",
         "0",
         "1",
         "1",
         "0",
         "0",
         "0",
         "0",
         "1",
         "1",
         "15"
        ]
       ],
       "shape": {
        "columns": 38,
        "rows": 5
       }
      },
      "text/html": [
       "<div>\n",
       "<style scoped>\n",
       "    .dataframe tbody tr th:only-of-type {\n",
       "        vertical-align: middle;\n",
       "    }\n",
       "\n",
       "    .dataframe tbody tr th {\n",
       "        vertical-align: top;\n",
       "    }\n",
       "\n",
       "    .dataframe thead th {\n",
       "        text-align: right;\n",
       "    }\n",
       "</style>\n",
       "<table border=\"1\" class=\"dataframe\">\n",
       "  <thead>\n",
       "    <tr style=\"text-align: right;\">\n",
       "      <th></th>\n",
       "      <th>País</th>\n",
       "      <th>Continente</th>\n",
       "      <th>Região</th>\n",
       "      <th>1980</th>\n",
       "      <th>1981</th>\n",
       "      <th>1982</th>\n",
       "      <th>1983</th>\n",
       "      <th>1984</th>\n",
       "      <th>1985</th>\n",
       "      <th>1986</th>\n",
       "      <th>...</th>\n",
       "      <th>2005</th>\n",
       "      <th>2006</th>\n",
       "      <th>2007</th>\n",
       "      <th>2008</th>\n",
       "      <th>2009</th>\n",
       "      <th>2010</th>\n",
       "      <th>2011</th>\n",
       "      <th>2012</th>\n",
       "      <th>2013</th>\n",
       "      <th>Total</th>\n",
       "    </tr>\n",
       "  </thead>\n",
       "  <tbody>\n",
       "    <tr>\n",
       "      <th>0</th>\n",
       "      <td>Afeganistão</td>\n",
       "      <td>Ásia</td>\n",
       "      <td>Sul da Ásia</td>\n",
       "      <td>16</td>\n",
       "      <td>39</td>\n",
       "      <td>39</td>\n",
       "      <td>47</td>\n",
       "      <td>71</td>\n",
       "      <td>340</td>\n",
       "      <td>496</td>\n",
       "      <td>...</td>\n",
       "      <td>3436</td>\n",
       "      <td>3009</td>\n",
       "      <td>2652</td>\n",
       "      <td>2111</td>\n",
       "      <td>1746</td>\n",
       "      <td>1758</td>\n",
       "      <td>2203</td>\n",
       "      <td>2635</td>\n",
       "      <td>2004</td>\n",
       "      <td>58639</td>\n",
       "    </tr>\n",
       "    <tr>\n",
       "      <th>1</th>\n",
       "      <td>Albânia</td>\n",
       "      <td>Europa</td>\n",
       "      <td>Sul da Europa</td>\n",
       "      <td>1</td>\n",
       "      <td>0</td>\n",
       "      <td>0</td>\n",
       "      <td>0</td>\n",
       "      <td>0</td>\n",
       "      <td>0</td>\n",
       "      <td>1</td>\n",
       "      <td>...</td>\n",
       "      <td>1223</td>\n",
       "      <td>856</td>\n",
       "      <td>702</td>\n",
       "      <td>560</td>\n",
       "      <td>716</td>\n",
       "      <td>561</td>\n",
       "      <td>539</td>\n",
       "      <td>620</td>\n",
       "      <td>603</td>\n",
       "      <td>15699</td>\n",
       "    </tr>\n",
       "    <tr>\n",
       "      <th>2</th>\n",
       "      <td>Argélia</td>\n",
       "      <td>África</td>\n",
       "      <td>Norte da África</td>\n",
       "      <td>80</td>\n",
       "      <td>67</td>\n",
       "      <td>71</td>\n",
       "      <td>69</td>\n",
       "      <td>63</td>\n",
       "      <td>44</td>\n",
       "      <td>69</td>\n",
       "      <td>...</td>\n",
       "      <td>3626</td>\n",
       "      <td>4807</td>\n",
       "      <td>3623</td>\n",
       "      <td>4005</td>\n",
       "      <td>5393</td>\n",
       "      <td>4752</td>\n",
       "      <td>4325</td>\n",
       "      <td>3774</td>\n",
       "      <td>4331</td>\n",
       "      <td>69439</td>\n",
       "    </tr>\n",
       "    <tr>\n",
       "      <th>3</th>\n",
       "      <td>Samoa Americana</td>\n",
       "      <td>Oceânia</td>\n",
       "      <td>Polinésia</td>\n",
       "      <td>0</td>\n",
       "      <td>1</td>\n",
       "      <td>0</td>\n",
       "      <td>0</td>\n",
       "      <td>0</td>\n",
       "      <td>0</td>\n",
       "      <td>0</td>\n",
       "      <td>...</td>\n",
       "      <td>0</td>\n",
       "      <td>1</td>\n",
       "      <td>0</td>\n",
       "      <td>0</td>\n",
       "      <td>0</td>\n",
       "      <td>0</td>\n",
       "      <td>0</td>\n",
       "      <td>0</td>\n",
       "      <td>0</td>\n",
       "      <td>6</td>\n",
       "    </tr>\n",
       "    <tr>\n",
       "      <th>4</th>\n",
       "      <td>Andorra</td>\n",
       "      <td>Europa</td>\n",
       "      <td>Sul da Europa</td>\n",
       "      <td>0</td>\n",
       "      <td>0</td>\n",
       "      <td>0</td>\n",
       "      <td>0</td>\n",
       "      <td>0</td>\n",
       "      <td>0</td>\n",
       "      <td>2</td>\n",
       "      <td>...</td>\n",
       "      <td>0</td>\n",
       "      <td>1</td>\n",
       "      <td>1</td>\n",
       "      <td>0</td>\n",
       "      <td>0</td>\n",
       "      <td>0</td>\n",
       "      <td>0</td>\n",
       "      <td>1</td>\n",
       "      <td>1</td>\n",
       "      <td>15</td>\n",
       "    </tr>\n",
       "  </tbody>\n",
       "</table>\n",
       "<p>5 rows × 38 columns</p>\n",
       "</div>"
      ],
      "text/plain": [
       "              País Continente           Região  1980  1981  1982  1983  1984  \\\n",
       "0      Afeganistão       Ásia      Sul da Ásia    16    39    39    47    71   \n",
       "1          Albânia     Europa    Sul da Europa     1     0     0     0     0   \n",
       "2          Argélia     África  Norte da África    80    67    71    69    63   \n",
       "3  Samoa Americana    Oceânia        Polinésia     0     1     0     0     0   \n",
       "4          Andorra     Europa    Sul da Europa     0     0     0     0     0   \n",
       "\n",
       "   1985  1986  ...  2005  2006  2007  2008  2009  2010  2011  2012  2013  \\\n",
       "0   340   496  ...  3436  3009  2652  2111  1746  1758  2203  2635  2004   \n",
       "1     0     1  ...  1223   856   702   560   716   561   539   620   603   \n",
       "2    44    69  ...  3626  4807  3623  4005  5393  4752  4325  3774  4331   \n",
       "3     0     0  ...     0     1     0     0     0     0     0     0     0   \n",
       "4     0     2  ...     0     1     1     0     0     0     0     1     1   \n",
       "\n",
       "   Total  \n",
       "0  58639  \n",
       "1  15699  \n",
       "2  69439  \n",
       "3      6  \n",
       "4     15  \n",
       "\n",
       "[5 rows x 38 columns]"
      ]
     },
     "execution_count": 17,
     "metadata": {},
     "output_type": "execute_result"
    }
   ],
   "source": [
    "import pandas as pd\n",
    "import os\n",
    "\n",
    "path = os.path.join('..', 'data', 'imigrantes_canada.csv')\n",
    "\n",
    "df = pd.read_csv(path, sep=',')\n",
    "df.head()"
   ]
  },
  {
   "cell_type": "code",
   "execution_count": 18,
   "id": "873e41cb",
   "metadata": {},
   "outputs": [],
   "source": [
    "anos = list(map(str, range(1980, 2014)))"
   ]
  },
  {
   "cell_type": "code",
   "execution_count": 19,
   "id": "c6b10068",
   "metadata": {},
   "outputs": [],
   "source": [
    "df.set_index('País', inplace=True)"
   ]
  },
  {
   "cell_type": "code",
   "execution_count": 20,
   "id": "c3e56c6e",
   "metadata": {},
   "outputs": [
    {
     "data": {
      "application/vnd.microsoft.datawrangler.viewer.v0+json": {
       "columns": [
        {
         "name": "País",
         "rawType": "object",
         "type": "string"
        },
        {
         "name": "1980",
         "rawType": "int64",
         "type": "integer"
        },
        {
         "name": "1981",
         "rawType": "int64",
         "type": "integer"
        },
        {
         "name": "1982",
         "rawType": "int64",
         "type": "integer"
        },
        {
         "name": "1983",
         "rawType": "int64",
         "type": "integer"
        },
        {
         "name": "1984",
         "rawType": "int64",
         "type": "integer"
        },
        {
         "name": "1985",
         "rawType": "int64",
         "type": "integer"
        },
        {
         "name": "1986",
         "rawType": "int64",
         "type": "integer"
        },
        {
         "name": "1987",
         "rawType": "int64",
         "type": "integer"
        },
        {
         "name": "1988",
         "rawType": "int64",
         "type": "integer"
        },
        {
         "name": "1989",
         "rawType": "int64",
         "type": "integer"
        },
        {
         "name": "1990",
         "rawType": "int64",
         "type": "integer"
        },
        {
         "name": "1991",
         "rawType": "int64",
         "type": "integer"
        },
        {
         "name": "1992",
         "rawType": "int64",
         "type": "integer"
        },
        {
         "name": "1993",
         "rawType": "int64",
         "type": "integer"
        },
        {
         "name": "1994",
         "rawType": "int64",
         "type": "integer"
        },
        {
         "name": "1995",
         "rawType": "int64",
         "type": "integer"
        },
        {
         "name": "1996",
         "rawType": "int64",
         "type": "integer"
        },
        {
         "name": "1997",
         "rawType": "int64",
         "type": "integer"
        },
        {
         "name": "1998",
         "rawType": "int64",
         "type": "integer"
        },
        {
         "name": "1999",
         "rawType": "int64",
         "type": "integer"
        },
        {
         "name": "2000",
         "rawType": "int64",
         "type": "integer"
        },
        {
         "name": "2001",
         "rawType": "int64",
         "type": "integer"
        },
        {
         "name": "2002",
         "rawType": "int64",
         "type": "integer"
        },
        {
         "name": "2003",
         "rawType": "int64",
         "type": "integer"
        },
        {
         "name": "2004",
         "rawType": "int64",
         "type": "integer"
        },
        {
         "name": "2005",
         "rawType": "int64",
         "type": "integer"
        },
        {
         "name": "2006",
         "rawType": "int64",
         "type": "integer"
        },
        {
         "name": "2007",
         "rawType": "int64",
         "type": "integer"
        },
        {
         "name": "2008",
         "rawType": "int64",
         "type": "integer"
        },
        {
         "name": "2009",
         "rawType": "int64",
         "type": "integer"
        },
        {
         "name": "2010",
         "rawType": "int64",
         "type": "integer"
        },
        {
         "name": "2011",
         "rawType": "int64",
         "type": "integer"
        },
        {
         "name": "2012",
         "rawType": "int64",
         "type": "integer"
        },
        {
         "name": "2013",
         "rawType": "int64",
         "type": "integer"
        }
       ],
       "ref": "d742f80c-8e04-422f-8fce-66e56048aa6e",
       "rows": [
        [
         "Brasil",
         "211",
         "220",
         "192",
         "139",
         "145",
         "130",
         "205",
         "244",
         "394",
         "650",
         "650",
         "877",
         "1066",
         "866",
         "566",
         "572",
         "586",
         "591",
         "531",
         "626",
         "845",
         "847",
         "745",
         "839",
         "917",
         "969",
         "1181",
         "1746",
         "2138",
         "2509",
         "2598",
         "1508",
         "1642",
         "1714"
        ],
        [
         "Argentina",
         "368",
         "426",
         "626",
         "241",
         "237",
         "196",
         "213",
         "519",
         "374",
         "538",
         "678",
         "763",
         "1023",
         "1022",
         "366",
         "380",
         "396",
         "391",
         "349",
         "318",
         "427",
         "635",
         "865",
         "1745",
         "1591",
         "1153",
         "847",
         "620",
         "540",
         "467",
         "459",
         "278",
         "263",
         "282"
        ]
       ],
       "shape": {
        "columns": 34,
        "rows": 2
       }
      },
      "text/html": [
       "<div>\n",
       "<style scoped>\n",
       "    .dataframe tbody tr th:only-of-type {\n",
       "        vertical-align: middle;\n",
       "    }\n",
       "\n",
       "    .dataframe tbody tr th {\n",
       "        vertical-align: top;\n",
       "    }\n",
       "\n",
       "    .dataframe thead th {\n",
       "        text-align: right;\n",
       "    }\n",
       "</style>\n",
       "<table border=\"1\" class=\"dataframe\">\n",
       "  <thead>\n",
       "    <tr style=\"text-align: right;\">\n",
       "      <th></th>\n",
       "      <th>1980</th>\n",
       "      <th>1981</th>\n",
       "      <th>1982</th>\n",
       "      <th>1983</th>\n",
       "      <th>1984</th>\n",
       "      <th>1985</th>\n",
       "      <th>1986</th>\n",
       "      <th>1987</th>\n",
       "      <th>1988</th>\n",
       "      <th>1989</th>\n",
       "      <th>...</th>\n",
       "      <th>2004</th>\n",
       "      <th>2005</th>\n",
       "      <th>2006</th>\n",
       "      <th>2007</th>\n",
       "      <th>2008</th>\n",
       "      <th>2009</th>\n",
       "      <th>2010</th>\n",
       "      <th>2011</th>\n",
       "      <th>2012</th>\n",
       "      <th>2013</th>\n",
       "    </tr>\n",
       "    <tr>\n",
       "      <th>País</th>\n",
       "      <th></th>\n",
       "      <th></th>\n",
       "      <th></th>\n",
       "      <th></th>\n",
       "      <th></th>\n",
       "      <th></th>\n",
       "      <th></th>\n",
       "      <th></th>\n",
       "      <th></th>\n",
       "      <th></th>\n",
       "      <th></th>\n",
       "      <th></th>\n",
       "      <th></th>\n",
       "      <th></th>\n",
       "      <th></th>\n",
       "      <th></th>\n",
       "      <th></th>\n",
       "      <th></th>\n",
       "      <th></th>\n",
       "      <th></th>\n",
       "      <th></th>\n",
       "    </tr>\n",
       "  </thead>\n",
       "  <tbody>\n",
       "    <tr>\n",
       "      <th>Brasil</th>\n",
       "      <td>211</td>\n",
       "      <td>220</td>\n",
       "      <td>192</td>\n",
       "      <td>139</td>\n",
       "      <td>145</td>\n",
       "      <td>130</td>\n",
       "      <td>205</td>\n",
       "      <td>244</td>\n",
       "      <td>394</td>\n",
       "      <td>650</td>\n",
       "      <td>...</td>\n",
       "      <td>917</td>\n",
       "      <td>969</td>\n",
       "      <td>1181</td>\n",
       "      <td>1746</td>\n",
       "      <td>2138</td>\n",
       "      <td>2509</td>\n",
       "      <td>2598</td>\n",
       "      <td>1508</td>\n",
       "      <td>1642</td>\n",
       "      <td>1714</td>\n",
       "    </tr>\n",
       "    <tr>\n",
       "      <th>Argentina</th>\n",
       "      <td>368</td>\n",
       "      <td>426</td>\n",
       "      <td>626</td>\n",
       "      <td>241</td>\n",
       "      <td>237</td>\n",
       "      <td>196</td>\n",
       "      <td>213</td>\n",
       "      <td>519</td>\n",
       "      <td>374</td>\n",
       "      <td>538</td>\n",
       "      <td>...</td>\n",
       "      <td>1591</td>\n",
       "      <td>1153</td>\n",
       "      <td>847</td>\n",
       "      <td>620</td>\n",
       "      <td>540</td>\n",
       "      <td>467</td>\n",
       "      <td>459</td>\n",
       "      <td>278</td>\n",
       "      <td>263</td>\n",
       "      <td>282</td>\n",
       "    </tr>\n",
       "  </tbody>\n",
       "</table>\n",
       "<p>2 rows × 34 columns</p>\n",
       "</div>"
      ],
      "text/plain": [
       "           1980  1981  1982  1983  1984  1985  1986  1987  1988  1989  ...  \\\n",
       "País                                                                   ...   \n",
       "Brasil      211   220   192   139   145   130   205   244   394   650  ...   \n",
       "Argentina   368   426   626   241   237   196   213   519   374   538  ...   \n",
       "\n",
       "           2004  2005  2006  2007  2008  2009  2010  2011  2012  2013  \n",
       "País                                                                   \n",
       "Brasil      917   969  1181  1746  2138  2509  2598  1508  1642  1714  \n",
       "Argentina  1591  1153   847   620   540   467   459   278   263   282  \n",
       "\n",
       "[2 rows x 34 columns]"
      ]
     },
     "execution_count": 20,
     "metadata": {},
     "output_type": "execute_result"
    }
   ],
   "source": [
    "df_comparacao = df.loc[['Brasil', 'Argentina'], anos]\n",
    "df_comparacao\n"
   ]
  },
  {
   "cell_type": "code",
   "execution_count": 26,
   "id": "629de54d",
   "metadata": {},
   "outputs": [
    {
     "data": {
      "image/png": "[encoded data removed]",
      "text/plain": [
       "<Figure size 1200x600 with 1 Axes>"
      ]
     },
     "metadata": {},
     "output_type": "display_data"
    }
   ],
   "source": [
    "import matplotlib.pyplot as plt\n",
    "\n",
    "plt.figure(figsize=(12, 6))\n",
    "plt.plot(anos, df_comparacao.loc['Brasil'], label='Brasil', marker='o')\n",
    "plt.plot(anos, df_comparacao.loc['Argentina'], label='Argentina', marker='s')\n",
    "plt.title('Imigração do Brasil e Argentina para o Canadá')\n",
    "plt.xlabel('Ano')\n",
    "plt.ylabel('Número de imigrantes')\n",
    "plt.grid(True, alpha=1)\n",
    "plt.xticks(['1980', '1985', '1990', '1995', '2000', '2005', '2010', '2013'])\n",
    "plt.legend()\n",
    "plt.show()"
   ]
  }
 ],
 "metadata": {
  "kernelspec": {
   "display_name": ".venv",
   "language": "python",
   "name": "python3"
  },
  "language_info": {
   "codemirror_mode": {
    "name": "ipython",
    "version": 3
   },
   "file_extension": ".py",
   "mimetype": "text/x-python",
   "name": "python",
   "nbconvert_exporter": "python",
   "pygments_lexer": "ipython3",
   "version": "3.13.2"
  }
 },
 "nbformat": 4,
 "nbformat_minor": 5
}
