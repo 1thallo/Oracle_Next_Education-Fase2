{
 "cells": [
  {
   "cell_type": "markdown",
   "id": "73ac9d74",
   "metadata": {},
   "source": [
    "Na atividade anterior foi possível compreender como criar uma animação com a biblioteca Plotly. Agora vem mais um desafio!\n",
    "\n",
    "Lembra que nós criamos uma figura estática contendo os dados de imigração do Brasil e Argentina? Sua tarefa é criar um gráfico animado com o Plotly que mostre esses dados. O gráfico deve ter as seguintes características:\n",
    "\n",
    "- Duas linhas: uma para o Brasil e outra para a Argentina.\n",
    "- Um botão \"Play\" para iniciar a animação, mostrando o aumento ou diminuição do número de imigrantes ao longo dos anos.\n",
    "- As configurações de animação devem fazer com que as duas linhas sejam exibidas e animadas ao mesmo tempo."
   ]
  },
  {
   "cell_type": "code",
   "execution_count": 2,
   "id": "b1df532c",
   "metadata": {},
   "outputs": [],
   "source": [
    "import pandas as pd\n",
    "import os\n",
    "\n",
    "caminho = os.path.join('..', 'data', 'imigrantes_canada.csv')\n",
    "\n",
    "df = pd.read_csv(caminho)"
   ]
  },
  {
   "cell_type": "code",
   "execution_count": null,
   "id": "ea295159",
   "metadata": {},
   "outputs": [
    {
     "data": {
      "application/vnd.microsoft.datawrangler.viewer.v0+json": {
       "columns": [
        {
         "name": "index",
         "rawType": "object",
         "type": "string"
        },
        {
         "name": "Brasil",
         "rawType": "object",
         "type": "unknown"
        }
       ],
       "ref": "8721fbbc-7c4f-47d3-ad59-ab6922d5c0e9",
       "rows": [
        [
         "1980",
         "211"
        ],
        [
         "1981",
         "220"
        ],
        [
         "1982",
         "192"
        ],
        [
         "1983",
         "139"
        ],
        [
         "1984",
         "145"
        ],
        [
         "1985",
         "130"
        ],
        [
         "1986",
         "205"
        ],
        [
         "1987",
         "244"
        ],
        [
         "1988",
         "394"
        ],
        [
         "1989",
         "650"
        ],
        [
         "1990",
         "650"
        ],
        [
         "1991",
         "877"
        ],
        [
         "1992",
         "1066"
        ],
        [
         "1993",
         "866"
        ],
        [
         "1994",
         "566"
        ],
        [
         "1995",
         "572"
        ],
        [
         "1996",
         "586"
        ],
        [
         "1997",
         "591"
        ],
        [
         "1998",
         "531"
        ],
        [
         "1999",
         "626"
        ],
        [
         "2000",
         "845"
        ],
        [
         "2001",
         "847"
        ],
        [
         "2002",
         "745"
        ],
        [
         "2003",
         "839"
        ],
        [
         "2004",
         "917"
        ],
        [
         "2005",
         "969"
        ],
        [
         "2006",
         "1181"
        ],
        [
         "2007",
         "1746"
        ],
        [
         "2008",
         "2138"
        ],
        [
         "2009",
         "2509"
        ],
        [
         "2010",
         "2598"
        ],
        [
         "2011",
         "1508"
        ],
        [
         "2012",
         "1642"
        ],
        [
         "2013",
         "1714"
        ]
       ],
       "shape": {
        "columns": 1,
        "rows": 34
       }
      },
      "text/plain": [
       "1980     211\n",
       "1981     220\n",
       "1982     192\n",
       "1983     139\n",
       "1984     145\n",
       "1985     130\n",
       "1986     205\n",
       "1987     244\n",
       "1988     394\n",
       "1989     650\n",
       "1990     650\n",
       "1991     877\n",
       "1992    1066\n",
       "1993     866\n",
       "1994     566\n",
       "1995     572\n",
       "1996     586\n",
       "1997     591\n",
       "1998     531\n",
       "1999     626\n",
       "2000     845\n",
       "2001     847\n",
       "2002     745\n",
       "2003     839\n",
       "2004     917\n",
       "2005     969\n",
       "2006    1181\n",
       "2007    1746\n",
       "2008    2138\n",
       "2009    2509\n",
       "2010    2598\n",
       "2011    1508\n",
       "2012    1642\n",
       "2013    1714\n",
       "Name: Brasil, dtype: object"
      ]
     },
     "execution_count": 3,
     "metadata": {},
     "output_type": "execute_result"
    }
   ],
   "source": [
    "df.set_index('País', inplace=True)\n",
    "anos = list(map(str, range(1980, 2014)))\n",
    "\n",
    "brasil = df.loc['Brasil', anos]\n",
    "brasil"
   ]
  },
  {
   "cell_type": "code",
   "execution_count": 6,
   "id": "1a57fe0b",
   "metadata": {},
   "outputs": [
    {
     "data": {
      "application/vnd.microsoft.datawrangler.viewer.v0+json": {
       "columns": [
        {
         "name": "index",
         "rawType": "int64",
         "type": "integer"
        },
        {
         "name": "ano",
         "rawType": "object",
         "type": "string"
        },
        {
         "name": "imigrantes",
         "rawType": "int64",
         "type": "integer"
        }
       ],
       "ref": "1ae67ded-4f62-457f-a046-569179dff211",
       "rows": [
        [
         "0",
         "1980",
         "211"
        ],
        [
         "1",
         "1981",
         "220"
        ],
        [
         "2",
         "1982",
         "192"
        ],
        [
         "3",
         "1983",
         "139"
        ],
        [
         "4",
         "1984",
         "145"
        ],
        [
         "5",
         "1985",
         "130"
        ],
        [
         "6",
         "1986",
         "205"
        ],
        [
         "7",
         "1987",
         "244"
        ],
        [
         "8",
         "1988",
         "394"
        ],
        [
         "9",
         "1989",
         "650"
        ],
        [
         "10",
         "1990",
         "650"
        ],
        [
         "11",
         "1991",
         "877"
        ],
        [
         "12",
         "1992",
         "1066"
        ],
        [
         "13",
         "1993",
         "866"
        ],
        [
         "14",
         "1994",
         "566"
        ],
        [
         "15",
         "1995",
         "572"
        ],
        [
         "16",
         "1996",
         "586"
        ],
        [
         "17",
         "1997",
         "591"
        ],
        [
         "18",
         "1998",
         "531"
        ],
        [
         "19",
         "1999",
         "626"
        ],
        [
         "20",
         "2000",
         "845"
        ],
        [
         "21",
         "2001",
         "847"
        ],
        [
         "22",
         "2002",
         "745"
        ],
        [
         "23",
         "2003",
         "839"
        ],
        [
         "24",
         "2004",
         "917"
        ],
        [
         "25",
         "2005",
         "969"
        ],
        [
         "26",
         "2006",
         "1181"
        ],
        [
         "27",
         "2007",
         "1746"
        ],
        [
         "28",
         "2008",
         "2138"
        ],
        [
         "29",
         "2009",
         "2509"
        ],
        [
         "30",
         "2010",
         "2598"
        ],
        [
         "31",
         "2011",
         "1508"
        ],
        [
         "32",
         "2012",
         "1642"
        ],
        [
         "33",
         "2013",
         "1714"
        ]
       ],
       "shape": {
        "columns": 2,
        "rows": 34
       }
      },
      "text/html": [
       "<div>\n",
       "<style scoped>\n",
       "    .dataframe tbody tr th:only-of-type {\n",
       "        vertical-align: middle;\n",
       "    }\n",
       "\n",
       "    .dataframe tbody tr th {\n",
       "        vertical-align: top;\n",
       "    }\n",
       "\n",
       "    .dataframe thead th {\n",
       "        text-align: right;\n",
       "    }\n",
       "</style>\n",
       "<table border=\"1\" class=\"dataframe\">\n",
       "  <thead>\n",
       "    <tr style=\"text-align: right;\">\n",
       "      <th></th>\n",
       "      <th>ano</th>\n",
       "      <th>imigrantes</th>\n",
       "    </tr>\n",
       "  </thead>\n",
       "  <tbody>\n",
       "    <tr>\n",
       "      <th>0</th>\n",
       "      <td>1980</td>\n",
       "      <td>211</td>\n",
       "    </tr>\n",
       "    <tr>\n",
       "      <th>1</th>\n",
       "      <td>1981</td>\n",
       "      <td>220</td>\n",
       "    </tr>\n",
       "    <tr>\n",
       "      <th>2</th>\n",
       "      <td>1982</td>\n",
       "      <td>192</td>\n",
       "    </tr>\n",
       "    <tr>\n",
       "      <th>3</th>\n",
       "      <td>1983</td>\n",
       "      <td>139</td>\n",
       "    </tr>\n",
       "    <tr>\n",
       "      <th>4</th>\n",
       "      <td>1984</td>\n",
       "      <td>145</td>\n",
       "    </tr>\n",
       "    <tr>\n",
       "      <th>5</th>\n",
       "      <td>1985</td>\n",
       "      <td>130</td>\n",
       "    </tr>\n",
       "    <tr>\n",
       "      <th>6</th>\n",
       "      <td>1986</td>\n",
       "      <td>205</td>\n",
       "    </tr>\n",
       "    <tr>\n",
       "      <th>7</th>\n",
       "      <td>1987</td>\n",
       "      <td>244</td>\n",
       "    </tr>\n",
       "    <tr>\n",
       "      <th>8</th>\n",
       "      <td>1988</td>\n",
       "      <td>394</td>\n",
       "    </tr>\n",
       "    <tr>\n",
       "      <th>9</th>\n",
       "      <td>1989</td>\n",
       "      <td>650</td>\n",
       "    </tr>\n",
       "    <tr>\n",
       "      <th>10</th>\n",
       "      <td>1990</td>\n",
       "      <td>650</td>\n",
       "    </tr>\n",
       "    <tr>\n",
       "      <th>11</th>\n",
       "      <td>1991</td>\n",
       "      <td>877</td>\n",
       "    </tr>\n",
       "    <tr>\n",
       "      <th>12</th>\n",
       "      <td>1992</td>\n",
       "      <td>1066</td>\n",
       "    </tr>\n",
       "    <tr>\n",
       "      <th>13</th>\n",
       "      <td>1993</td>\n",
       "      <td>866</td>\n",
       "    </tr>\n",
       "    <tr>\n",
       "      <th>14</th>\n",
       "      <td>1994</td>\n",
       "      <td>566</td>\n",
       "    </tr>\n",
       "    <tr>\n",
       "      <th>15</th>\n",
       "      <td>1995</td>\n",
       "      <td>572</td>\n",
       "    </tr>\n",
       "    <tr>\n",
       "      <th>16</th>\n",
       "      <td>1996</td>\n",
       "      <td>586</td>\n",
       "    </tr>\n",
       "    <tr>\n",
       "      <th>17</th>\n",
       "      <td>1997</td>\n",
       "      <td>591</td>\n",
       "    </tr>\n",
       "    <tr>\n",
       "      <th>18</th>\n",
       "      <td>1998</td>\n",
       "      <td>531</td>\n",
       "    </tr>\n",
       "    <tr>\n",
       "      <th>19</th>\n",
       "      <td>1999</td>\n",
       "      <td>626</td>\n",
       "    </tr>\n",
       "    <tr>\n",
       "      <th>20</th>\n",
       "      <td>2000</td>\n",
       "      <td>845</td>\n",
       "    </tr>\n",
       "    <tr>\n",
       "      <th>21</th>\n",
       "      <td>2001</td>\n",
       "      <td>847</td>\n",
       "    </tr>\n",
       "    <tr>\n",
       "      <th>22</th>\n",
       "      <td>2002</td>\n",
       "      <td>745</td>\n",
       "    </tr>\n",
       "    <tr>\n",
       "      <th>23</th>\n",
       "      <td>2003</td>\n",
       "      <td>839</td>\n",
       "    </tr>\n",
       "    <tr>\n",
       "      <th>24</th>\n",
       "      <td>2004</td>\n",
       "      <td>917</td>\n",
       "    </tr>\n",
       "    <tr>\n",
       "      <th>25</th>\n",
       "      <td>2005</td>\n",
       "      <td>969</td>\n",
       "    </tr>\n",
       "    <tr>\n",
       "      <th>26</th>\n",
       "      <td>2006</td>\n",
       "      <td>1181</td>\n",
       "    </tr>\n",
       "    <tr>\n",
       "      <th>27</th>\n",
       "      <td>2007</td>\n",
       "      <td>1746</td>\n",
       "    </tr>\n",
       "    <tr>\n",
       "      <th>28</th>\n",
       "      <td>2008</td>\n",
       "      <td>2138</td>\n",
       "    </tr>\n",
       "    <tr>\n",
       "      <th>29</th>\n",
       "      <td>2009</td>\n",
       "      <td>2509</td>\n",
       "    </tr>\n",
       "    <tr>\n",
       "      <th>30</th>\n",
       "      <td>2010</td>\n",
       "      <td>2598</td>\n",
       "    </tr>\n",
       "    <tr>\n",
       "      <th>31</th>\n",
       "      <td>2011</td>\n",
       "      <td>1508</td>\n",
       "    </tr>\n",
       "    <tr>\n",
       "      <th>32</th>\n",
       "      <td>2012</td>\n",
       "      <td>1642</td>\n",
       "    </tr>\n",
       "    <tr>\n",
       "      <th>33</th>\n",
       "      <td>2013</td>\n",
       "      <td>1714</td>\n",
       "    </tr>\n",
       "  </tbody>\n",
       "</table>\n",
       "</div>"
      ],
      "text/plain": [
       "     ano  imigrantes\n",
       "0   1980         211\n",
       "1   1981         220\n",
       "2   1982         192\n",
       "3   1983         139\n",
       "4   1984         145\n",
       "5   1985         130\n",
       "6   1986         205\n",
       "7   1987         244\n",
       "8   1988         394\n",
       "9   1989         650\n",
       "10  1990         650\n",
       "11  1991         877\n",
       "12  1992        1066\n",
       "13  1993         866\n",
       "14  1994         566\n",
       "15  1995         572\n",
       "16  1996         586\n",
       "17  1997         591\n",
       "18  1998         531\n",
       "19  1999         626\n",
       "20  2000         845\n",
       "21  2001         847\n",
       "22  2002         745\n",
       "23  2003         839\n",
       "24  2004         917\n",
       "25  2005         969\n",
       "26  2006        1181\n",
       "27  2007        1746\n",
       "28  2008        2138\n",
       "29  2009        2509\n",
       "30  2010        2598\n",
       "31  2011        1508\n",
       "32  2012        1642\n",
       "33  2013        1714"
      ]
     },
     "execution_count": 6,
     "metadata": {},
     "output_type": "execute_result"
    }
   ],
   "source": [
    "brasil_dict = {'ano': brasil.index.tolist(), 'imigrantes': brasil.values.tolist()}\n",
    "dados_brasil = pd.DataFrame(brasil_dict)\n",
    "dados_brasil"
   ]
  },
  {
   "cell_type": "code",
   "execution_count": 8,
   "id": "5d8b5128",
   "metadata": {},
   "outputs": [
    {
     "data": {
      "application/vnd.microsoft.datawrangler.viewer.v0+json": {
       "columns": [
        {
         "name": "index",
         "rawType": "object",
         "type": "string"
        },
        {
         "name": "Argentina",
         "rawType": "object",
         "type": "unknown"
        }
       ],
       "ref": "0e5da4ab-d107-413b-9b16-b16ab9650753",
       "rows": [
        [
         "1980",
         "368"
        ],
        [
         "1981",
         "426"
        ],
        [
         "1982",
         "626"
        ],
        [
         "1983",
         "241"
        ],
        [
         "1984",
         "237"
        ]
       ],
       "shape": {
        "columns": 1,
        "rows": 5
       }
      },
      "text/plain": [
       "1980    368\n",
       "1981    426\n",
       "1982    626\n",
       "1983    241\n",
       "1984    237\n",
       "Name: Argentina, dtype: object"
      ]
     },
     "execution_count": 8,
     "metadata": {},
     "output_type": "execute_result"
    }
   ],
   "source": [
    "argentina = df.loc['Argentina', anos]\n",
    "argentina.head()"
   ]
  },
  {
   "cell_type": "code",
   "execution_count": 9,
   "id": "1b9ddb7a",
   "metadata": {},
   "outputs": [],
   "source": [
    "argentina_dict = {'ano': argentina.index.tolist(), 'imigrantes': argentina.values.tolist()}\n",
    "dados_argentina = pd.DataFrame(argentina_dict)"
   ]
  },
  {
   "cell_type": "code",
   "execution_count": 14,
   "id": "dac1bd72",
   "metadata": {},
   "outputs": [
    {
     "data": {
      "application/vnd.plotly.v1+json": {
       "config": {
        "plotlyServerURL": "https://plot.ly"
       },
       "data": [
        {
         "line": {
          "width": 4
         },
         "mode": "lines",
         "name": "Imigrantes do Brasil",
         "type": "scatter",
         "x": [
          "1980"
         ],
         "y": [
          211
         ]
        },
        {
         "line": {
          "width": 4
         },
         "mode": "lines",
         "name": "Imigrantes da Argentina",
         "type": "scatter",
         "x": [
          "1980"
         ],
         "y": [
          368
         ]
        }
       ],
       "frames": [
        {
         "data": [
          {
           "type": "scatter",
           "x": [
            "1980"
           ],
           "y": {
            "bdata": "0wA=",
            "dtype": "i2"
           }
          },
          {
           "type": "scatter",
           "x": [
            "1980"
           ],
           "y": {
            "bdata": "cAE=",
            "dtype": "i2"
           }
          }
         ]
        },
        {
         "data": [
          {
           "type": "scatter",
           "x": [
            "1980",
            "1981"
           ],
           "y": {
            "bdata": "0wDcAA==",
            "dtype": "i2"
           }
          },
          {
           "type": "scatter",
           "x": [
            "1980",
            "1981"
           ],
           "y": {
            "bdata": "cAGqAQ==",
            "dtype": "i2"
           }
          }
         ]
        },
        {
         "data": [
          {
           "type": "scatter",
           "x": [
            "1980",
            "1981",
            "1982"
           ],
           "y": {
            "bdata": "0wDcAMAA",
            "dtype": "i2"
           }
          },
          {
           "type": "scatter",
           "x": [
            "1980",
            "1981",
            "1982"
           ],
           "y": {
            "bdata": "cAGqAXIC",
            "dtype": "i2"
           }
          }
         ]
        },
        {
         "data": [
          {
           "type": "scatter",
           "x": [
            "1980",
            "1981",
            "1982",
            "1983"
           ],
           "y": {
            "bdata": "0wDcAMAAiwA=",
            "dtype": "i2"
           }
          },
          {
           "type": "scatter",
           "x": [
            "1980",
            "1981",
            "1982",
            "1983"
           ],
           "y": {
            "bdata": "cAGqAXIC8QA=",
            "dtype": "i2"
           }
          }
         ]
        },
        {
         "data": [
          {
           "type": "scatter",
           "x": [
            "1980",
            "1981",
            "1982",
            "1983",
            "1984"
           ],
           "y": {
            "bdata": "0wDcAMAAiwCRAA==",
            "dtype": "i2"
           }
          },
          {
           "type": "scatter",
           "x": [
            "1980",
            "1981",
            "1982",
            "1983",
            "1984"
           ],
           "y": {
            "bdata": "cAGqAXIC8QDtAA==",
            "dtype": "i2"
           }
          }
         ]
        },
        {
         "data": [
          {
           "type": "scatter",
           "x": [
            "1980",
            "1981",
            "1982",
            "1983",
            "1984",
            "1985"
           ],
           "y": {
            "bdata": "0wDcAMAAiwCRAIIA",
            "dtype": "i2"
           }
          },
          {
           "type": "scatter",
           "x": [
            "1980",
            "1981",
            "1982",
            "1983",
            "1984",
            "1985"
           ],
           "y": {
            "bdata": "cAGqAXIC8QDtAMQA",
            "dtype": "i2"
           }
          }
         ]
        },
        {
         "data": [
          {
           "type": "scatter",
           "x": [
            "1980",
            "1981",
            "1982",
            "1983",
            "1984",
            "1985",
            "1986"
           ],
           "y": {
            "bdata": "0wDcAMAAiwCRAIIAzQA=",
            "dtype": "i2"
           }
          },
          {
           "type": "scatter",
           "x": [
            "1980",
            "1981",
            "1982",
            "1983",
            "1984",
            "1985",
            "1986"
           ],
           "y": {
            "bdata": "cAGqAXIC8QDtAMQA1QA=",
            "dtype": "i2"
           }
          }
         ]
        },
        {
         "data": [
          {
           "type": "scatter",
           "x": [
            "1980",
            "1981",
            "1982",
            "1983",
            "1984",
            "1985",
            "1986",
            "1987"
           ],
           "y": {
            "bdata": "0wDcAMAAiwCRAIIAzQD0AA==",
            "dtype": "i2"
           }
          },
          {
           "type": "scatter",
           "x": [
            "1980",
            "1981",
            "1982",
            "1983",
            "1984",
            "1985",
            "1986",
            "1987"
           ],
           "y": {
            "bdata": "cAGqAXIC8QDtAMQA1QAHAg==",
            "dtype": "i2"
           }
          }
         ]
        },
        {
         "data": [
          {
           "type": "scatter",
           "x": [
            "1980",
            "1981",
            "1982",
            "1983",
            "1984",
            "1985",
            "1986",
            "1987",
            "1988"
           ],
           "y": {
            "bdata": "0wDcAMAAiwCRAIIAzQD0AIoB",
            "dtype": "i2"
           }
          },
          {
           "type": "scatter",
           "x": [
            "1980",
            "1981",
            "1982",
            "1983",
            "1984",
            "1985",
            "1986",
            "1987",
            "1988"
           ],
           "y": {
            "bdata": "cAGqAXIC8QDtAMQA1QAHAnYB",
            "dtype": "i2"
           }
          }
         ]
        },
        {
         "data": [
          {
           "type": "scatter",
           "x": [
            "1980",
            "1981",
            "1982",
            "1983",
            "1984",
            "1985",
            "1986",
            "1987",
            "1988",
            "1989"
           ],
           "y": {
            "bdata": "0wDcAMAAiwCRAIIAzQD0AIoBigI=",
            "dtype": "i2"
           }
          },
          {
           "type": "scatter",
           "x": [
            "1980",
            "1981",
            "1982",
            "1983",
            "1984",
            "1985",
            "1986",
            "1987",
            "1988",
            "1989"
           ],
           "y": {
            "bdata": "cAGqAXIC8QDtAMQA1QAHAnYBGgI=",
            "dtype": "i2"
           }
          }
         ]
        },
        {
         "data": [
          {
           "type": "scatter",
           "x": [
            "1980",
            "1981",
            "1982",
            "1983",
            "1984",
            "1985",
            "1986",
            "1987",
            "1988",
            "1989",
            "1990"
           ],
           "y": {
            "bdata": "0wDcAMAAiwCRAIIAzQD0AIoBigKKAg==",
            "dtype": "i2"
           }
          },
          {
           "type": "scatter",
           "x": [
            "1980",
            "1981",
            "1982",
            "1983",
            "1984",
            "1985",
            "1986",
            "1987",
            "1988",
            "1989",
            "1990"
           ],
           "y": {
            "bdata": "cAGqAXIC8QDtAMQA1QAHAnYBGgKmAg==",
            "dtype": "i2"
           }
          }
         ]
        },
        {
         "data": [
          {
           "type": "scatter",
           "x": [
            "1980",
            "1981",
            "1982",
            "1983",
            "1984",
            "1985",
            "1986",
            "1987",
            "1988",
            "1989",
            "1990",
            "1991"
           ],
           "y": {
            "bdata": "0wDcAMAAiwCRAIIAzQD0AIoBigKKAm0D",
            "dtype": "i2"
           }
          },
          {
           "type": "scatter",
           "x": [
            "1980",
            "1981",
            "1982",
            "1983",
            "1984",
            "1985",
            "1986",
            "1987",
            "1988",
            "1989",
            "1990",
            "1991"
           ],
           "y": {
            "bdata": "cAGqAXIC8QDtAMQA1QAHAnYBGgKmAvsC",
            "dtype": "i2"
           }
          }
         ]
        },
        {
         "data": [
          {
           "type": "scatter",
           "x": [
            "1980",
            "1981",
            "1982",
            "1983",
            "1984",
            "1985",
            "1986",
            "1987",
            "1988",
            "1989",
            "1990",
            "1991",
            "1992"
           ],
           "y": {
            "bdata": "0wDcAMAAiwCRAIIAzQD0AIoBigKKAm0DKgQ=",
            "dtype": "i2"
           }
          },
          {
           "type": "scatter",
           "x": [
            "1980",
            "1981",
            "1982",
            "1983",
            "1984",
            "1985",
            "1986",
            "1987",
            "1988",
            "1989",
            "1990",
            "1991",
            "1992"
           ],
           "y": {
            "bdata": "cAGqAXIC8QDtAMQA1QAHAnYBGgKmAvsC/wM=",
            "dtype": "i2"
           }
          }
         ]
        },
        {
         "data": [
          {
           "type": "scatter",
           "x": [
            "1980",
            "1981",
            "1982",
            "1983",
            "1984",
            "1985",
            "1986",
            "1987",
            "1988",
            "1989",
            "1990",
            "1991",
            "1992",
            "1993"
           ],
           "y": {
            "bdata": "0wDcAMAAiwCRAIIAzQD0AIoBigKKAm0DKgRiAw==",
            "dtype": "i2"
           }
          },
          {
           "type": "scatter",
           "x": [
            "1980",
            "1981",
            "1982",
            "1983",
            "1984",
            "1985",
            "1986",
            "1987",
            "1988",
            "1989",
            "1990",
            "1991",
            "1992",
            "1993"
           ],
           "y": {
            "bdata": "cAGqAXIC8QDtAMQA1QAHAnYBGgKmAvsC/wP+Aw==",
            "dtype": "i2"
           }
          }
         ]
        },
        {
         "data": [
          {
           "type": "scatter",
           "x": [
            "1980",
            "1981",
            "1982",
            "1983",
            "1984",
            "1985",
            "1986",
            "1987",
            "1988",
            "1989",
            "1990",
            "1991",
            "1992",
            "1993",
            "1994"
           ],
           "y": {
            "bdata": "0wDcAMAAiwCRAIIAzQD0AIoBigKKAm0DKgRiAzYC",
            "dtype": "i2"
           }
          },
          {
           "type": "scatter",
           "x": [
            "1980",
            "1981",
            "1982",
            "1983",
            "1984",
            "1985",
            "1986",
            "1987",
            "1988",
            "1989",
            "1990",
            "1991",
            "1992",
            "1993",
            "1994"
           ],
           "y": {
            "bdata": "cAGqAXIC8QDtAMQA1QAHAnYBGgKmAvsC/wP+A24B",
            "dtype": "i2"
           }
          }
         ]
        },
        {
         "data": [
          {
           "type": "scatter",
           "x": [
            "1980",
            "1981",
            "1982",
            "1983",
            "1984",
            "1985",
            "1986",
            "1987",
            "1988",
            "1989",
            "1990",
            "1991",
            "1992",
            "1993",
            "1994",
            "1995"
           ],
           "y": {
            "bdata": "0wDcAMAAiwCRAIIAzQD0AIoBigKKAm0DKgRiAzYCPAI=",
            "dtype": "i2"
           }
          },
          {
           "type": "scatter",
           "x": [
            "1980",
            "1981",
            "1982",
            "1983",
            "1984",
            "1985",
            "1986",
            "1987",
            "1988",
            "1989",
            "1990",
            "1991",
            "1992",
            "1993",
            "1994",
            "1995"
           ],
           "y": {
            "bdata": "cAGqAXIC8QDtAMQA1QAHAnYBGgKmAvsC/wP+A24BfAE=",
            "dtype": "i2"
           }
          }
         ]
        },
        {
         "data": [
          {
           "type": "scatter",
           "x": [
            "1980",
            "1981",
            "1982",
            "1983",
            "1984",
            "1985",
            "1986",
            "1987",
            "1988",
            "1989",
            "1990",
            "1991",
            "1992",
            "1993",
            "1994",
            "1995",
            "1996"
           ],
           "y": {
            "bdata": "0wDcAMAAiwCRAIIAzQD0AIoBigKKAm0DKgRiAzYCPAJKAg==",
            "dtype": "i2"
           }
          },
          {
           "type": "scatter",
           "x": [
            "1980",
            "1981",
            "1982",
            "1983",
            "1984",
            "1985",
            "1986",
            "1987",
            "1988",
            "1989",
            "1990",
            "1991",
            "1992",
            "1993",
            "1994",
            "1995",
            "1996"
           ],
           "y": {
            "bdata": "cAGqAXIC8QDtAMQA1QAHAnYBGgKmAvsC/wP+A24BfAGMAQ==",
            "dtype": "i2"
           }
          }
         ]
        },
        {
         "data": [
          {
           "type": "scatter",
           "x": [
            "1980",
            "1981",
            "1982",
            "1983",
            "1984",
            "1985",
            "1986",
            "1987",
            "1988",
            "1989",
            "1990",
            "1991",
            "1992",
            "1993",
            "1994",
            "1995",
            "1996",
            "1997"
           ],
           "y": {
            "bdata": "0wDcAMAAiwCRAIIAzQD0AIoBigKKAm0DKgRiAzYCPAJKAk8C",
            "dtype": "i2"
           }
          },
          {
           "type": "scatter",
           "x": [
            "1980",
            "1981",
            "1982",
            "1983",
            "1984",
            "1985",
            "1986",
            "1987",
            "1988",
            "1989",
            "1990",
            "1991",
            "1992",
            "1993",
            "1994",
            "1995",
            "1996",
            "1997"
           ],
           "y": {
            "bdata": "cAGqAXIC8QDtAMQA1QAHAnYBGgKmAvsC/wP+A24BfAGMAYcB",
            "dtype": "i2"
           }
          }
         ]
        },
        {
         "data": [
          {
           "type": "scatter",
           "x": [
            "1980",
            "1981",
            "1982",
            "1983",
            "1984",
            "1985",
            "1986",
            "1987",
            "1988",
            "1989",
            "1990",
            "1991",
            "1992",
            "1993",
            "1994",
            "1995",
            "1996",
            "1997",
            "1998"
           ],
           "y": {
            "bdata": "0wDcAMAAiwCRAIIAzQD0AIoBigKKAm0DKgRiAzYCPAJKAk8CEwI=",
            "dtype": "i2"
           }
          },
          {
           "type": "scatter",
           "x": [
            "1980",
            "1981",
            "1982",
            "1983",
            "1984",
            "1985",
            "1986",
            "1987",
            "1988",
            "1989",
            "1990",
            "1991",
            "1992",
            "1993",
            "1994",
            "1995",
            "1996",
            "1997",
            "1998"
           ],
           "y": {
            "bdata": "cAGqAXIC8QDtAMQA1QAHAnYBGgKmAvsC/wP+A24BfAGMAYcBXQE=",
            "dtype": "i2"
           }
          }
         ]
        },
        {
         "data": [
          {
           "type": "scatter",
           "x": [
            "1980",
            "1981",
            "1982",
            "1983",
            "1984",
            "1985",
            "1986",
            "1987",
            "1988",
            "1989",
            "1990",
            "1991",
            "1992",
            "1993",
            "1994",
            "1995",
            "1996",
            "1997",
            "1998",
            "1999"
           ],
           "y": {
            "bdata": "0wDcAMAAiwCRAIIAzQD0AIoBigKKAm0DKgRiAzYCPAJKAk8CEwJyAg==",
            "dtype": "i2"
           }
          },
          {
           "type": "scatter",
           "x": [
            "1980",
            "1981",
            "1982",
            "1983",
            "1984",
            "1985",
            "1986",
            "1987",
            "1988",
            "1989",
            "1990",
            "1991",
            "1992",
            "1993",
            "1994",
            "1995",
            "1996",
            "1997",
            "1998",
            "1999"
           ],
           "y": {
            "bdata": "cAGqAXIC8QDtAMQA1QAHAnYBGgKmAvsC/wP+A24BfAGMAYcBXQE+AQ==",
            "dtype": "i2"
           }
          }
         ]
        },
        {
         "data": [
          {
           "type": "scatter",
           "x": [
            "1980",
            "1981",
            "1982",
            "1983",
            "1984",
            "1985",
            "1986",
            "1987",
            "1988",
            "1989",
            "1990",
            "1991",
            "1992",
            "1993",
            "1994",
            "1995",
            "1996",
            "1997",
            "1998",
            "1999",
            "2000"
           ],
           "y": {
            "bdata": "0wDcAMAAiwCRAIIAzQD0AIoBigKKAm0DKgRiAzYCPAJKAk8CEwJyAk0D",
            "dtype": "i2"
           }
          },
          {
           "type": "scatter",
           "x": [
            "1980",
            "1981",
            "1982",
            "1983",
            "1984",
            "1985",
            "1986",
            "1987",
            "1988",
            "1989",
            "1990",
            "1991",
            "1992",
            "1993",
            "1994",
            "1995",
            "1996",
            "1997",
            "1998",
            "1999",
            "2000"
           ],
           "y": {
            "bdata": "cAGqAXIC8QDtAMQA1QAHAnYBGgKmAvsC/wP+A24BfAGMAYcBXQE+AasB",
            "dtype": "i2"
           }
          }
         ]
        },
        {
         "data": [
          {
           "type": "scatter",
           "x": [
            "1980",
            "1981",
            "1982",
            "1983",
            "1984",
            "1985",
            "1986",
            "1987",
            "1988",
            "1989",
            "1990",
            "1991",
            "1992",
            "1993",
            "1994",
            "1995",
            "1996",
            "1997",
            "1998",
            "1999",
            "2000",
            "2001"
           ],
           "y": {
            "bdata": "0wDcAMAAiwCRAIIAzQD0AIoBigKKAm0DKgRiAzYCPAJKAk8CEwJyAk0DTwM=",
            "dtype": "i2"
           }
          },
          {
           "type": "scatter",
           "x": [
            "1980",
            "1981",
            "1982",
            "1983",
            "1984",
            "1985",
            "1986",
            "1987",
            "1988",
            "1989",
            "1990",
            "1991",
            "1992",
            "1993",
            "1994",
            "1995",
            "1996",
            "1997",
            "1998",
            "1999",
            "2000",
            "2001"
           ],
           "y": {
            "bdata": "cAGqAXIC8QDtAMQA1QAHAnYBGgKmAvsC/wP+A24BfAGMAYcBXQE+AasBewI=",
            "dtype": "i2"
           }
          }
         ]
        },
        {
         "data": [
          {
           "type": "scatter",
           "x": [
            "1980",
            "1981",
            "1982",
            "1983",
            "1984",
            "1985",
            "1986",
            "1987",
            "1988",
            "1989",
            "1990",
            "1991",
            "1992",
            "1993",
            "1994",
            "1995",
            "1996",
            "1997",
            "1998",
            "1999",
            "2000",
            "2001",
            "2002"
           ],
           "y": {
            "bdata": "0wDcAMAAiwCRAIIAzQD0AIoBigKKAm0DKgRiAzYCPAJKAk8CEwJyAk0DTwPpAg==",
            "dtype": "i2"
           }
          },
          {
           "type": "scatter",
           "x": [
            "1980",
            "1981",
            "1982",
            "1983",
            "1984",
            "1985",
            "1986",
            "1987",
            "1988",
            "1989",
            "1990",
            "1991",
            "1992",
            "1993",
            "1994",
            "1995",
            "1996",
            "1997",
            "1998",
            "1999",
            "2000",
            "2001",
            "2002"
           ],
           "y": {
            "bdata": "cAGqAXIC8QDtAMQA1QAHAnYBGgKmAvsC/wP+A24BfAGMAYcBXQE+AasBewJhAw==",
            "dtype": "i2"
           }
          }
         ]
        },
        {
         "data": [
          {
           "type": "scatter",
           "x": [
            "1980",
            "1981",
            "1982",
            "1983",
            "1984",
            "1985",
            "1986",
            "1987",
            "1988",
            "1989",
            "1990",
            "1991",
            "1992",
            "1993",
            "1994",
            "1995",
            "1996",
            "1997",
            "1998",
            "1999",
            "2000",
            "2001",
            "2002",
            "2003"
           ],
           "y": {
            "bdata": "0wDcAMAAiwCRAIIAzQD0AIoBigKKAm0DKgRiAzYCPAJKAk8CEwJyAk0DTwPpAkcD",
            "dtype": "i2"
           }
          },
          {
           "type": "scatter",
           "x": [
            "1980",
            "1981",
            "1982",
            "1983",
            "1984",
            "1985",
            "1986",
            "1987",
            "1988",
            "1989",
            "1990",
            "1991",
            "1992",
            "1993",
            "1994",
            "1995",
            "1996",
            "1997",
            "1998",
            "1999",
            "2000",
            "2001",
            "2002",
            "2003"
           ],
           "y": {
            "bdata": "cAGqAXIC8QDtAMQA1QAHAnYBGgKmAvsC/wP+A24BfAGMAYcBXQE+AasBewJhA9EG",
            "dtype": "i2"
           }
          }
         ]
        },
        {
         "data": [
          {
           "type": "scatter",
           "x": [
            "1980",
            "1981",
            "1982",
            "1983",
            "1984",
            "1985",
            "1986",
            "1987",
            "1988",
            "1989",
            "1990",
            "1991",
            "1992",
            "1993",
            "1994",
            "1995",
            "1996",
            "1997",
            "1998",
            "1999",
            "2000",
            "2001",
            "2002",
            "2003",
            "2004"
           ],
           "y": {
            "bdata": "0wDcAMAAiwCRAIIAzQD0AIoBigKKAm0DKgRiAzYCPAJKAk8CEwJyAk0DTwPpAkcDlQM=",
            "dtype": "i2"
           }
          },
          {
           "type": "scatter",
           "x": [
            "1980",
            "1981",
            "1982",
            "1983",
            "1984",
            "1985",
            "1986",
            "1987",
            "1988",
            "1989",
            "1990",
            "1991",
            "1992",
            "1993",
            "1994",
            "1995",
            "1996",
            "1997",
            "1998",
            "1999",
            "2000",
            "2001",
            "2002",
            "2003",
            "2004"
           ],
           "y": {
            "bdata": "cAGqAXIC8QDtAMQA1QAHAnYBGgKmAvsC/wP+A24BfAGMAYcBXQE+AasBewJhA9EGNwY=",
            "dtype": "i2"
           }
          }
         ]
        },
        {
         "data": [
          {
           "type": "scatter",
           "x": [
            "1980",
            "1981",
            "1982",
            "1983",
            "1984",
            "1985",
            "1986",
            "1987",
            "1988",
            "1989",
            "1990",
            "1991",
            "1992",
            "1993",
            "1994",
            "1995",
            "1996",
            "1997",
            "1998",
            "1999",
            "2000",
            "2001",
            "2002",
            "2003",
            "2004",
            "2005"
           ],
           "y": {
            "bdata": "0wDcAMAAiwCRAIIAzQD0AIoBigKKAm0DKgRiAzYCPAJKAk8CEwJyAk0DTwPpAkcDlQPJAw==",
            "dtype": "i2"
           }
          },
          {
           "type": "scatter",
           "x": [
            "1980",
            "1981",
            "1982",
            "1983",
            "1984",
            "1985",
            "1986",
            "1987",
            "1988",
            "1989",
            "1990",
            "1991",
            "1992",
            "1993",
            "1994",
            "1995",
            "1996",
            "1997",
            "1998",
            "1999",
            "2000",
            "2001",
            "2002",
            "2003",
            "2004",
            "2005"
           ],
           "y": {
            "bdata": "cAGqAXIC8QDtAMQA1QAHAnYBGgKmAvsC/wP+A24BfAGMAYcBXQE+AasBewJhA9EGNwaBBA==",
            "dtype": "i2"
           }
          }
         ]
        },
        {
         "data": [
          {
           "type": "scatter",
           "x": [
            "1980",
            "1981",
            "1982",
            "1983",
            "1984",
            "1985",
            "1986",
            "1987",
            "1988",
            "1989",
            "1990",
            "1991",
            "1992",
            "1993",
            "1994",
            "1995",
            "1996",
            "1997",
            "1998",
            "1999",
            "2000",
            "2001",
            "2002",
            "2003",
            "2004",
            "2005",
            "2006"
           ],
           "y": {
            "bdata": "0wDcAMAAiwCRAIIAzQD0AIoBigKKAm0DKgRiAzYCPAJKAk8CEwJyAk0DTwPpAkcDlQPJA50E",
            "dtype": "i2"
           }
          },
          {
           "type": "scatter",
           "x": [
            "1980",
            "1981",
            "1982",
            "1983",
            "1984",
            "1985",
            "1986",
            "1987",
            "1988",
            "1989",
            "1990",
            "1991",
            "1992",
            "1993",
            "1994",
            "1995",
            "1996",
            "1997",
            "1998",
            "1999",
            "2000",
            "2001",
            "2002",
            "2003",
            "2004",
            "2005",
            "2006"
           ],
           "y": {
            "bdata": "cAGqAXIC8QDtAMQA1QAHAnYBGgKmAvsC/wP+A24BfAGMAYcBXQE+AasBewJhA9EGNwaBBE8D",
            "dtype": "i2"
           }
          }
         ]
        },
        {
         "data": [
          {
           "type": "scatter",
           "x": [
            "1980",
            "1981",
            "1982",
            "1983",
            "1984",
            "1985",
            "1986",
            "1987",
            "1988",
            "1989",
            "1990",
            "1991",
            "1992",
            "1993",
            "1994",
            "1995",
            "1996",
            "1997",
            "1998",
            "1999",
            "2000",
            "2001",
            "2002",
            "2003",
            "2004",
            "2005",
            "2006",
            "2007"
           ],
           "y": {
            "bdata": "0wDcAMAAiwCRAIIAzQD0AIoBigKKAm0DKgRiAzYCPAJKAk8CEwJyAk0DTwPpAkcDlQPJA50E0gY=",
            "dtype": "i2"
           }
          },
          {
           "type": "scatter",
           "x": [
            "1980",
            "1981",
            "1982",
            "1983",
            "1984",
            "1985",
            "1986",
            "1987",
            "1988",
            "1989",
            "1990",
            "1991",
            "1992",
            "1993",
            "1994",
            "1995",
            "1996",
            "1997",
            "1998",
            "1999",
            "2000",
            "2001",
            "2002",
            "2003",
            "2004",
            "2005",
            "2006",
            "2007"
           ],
           "y": {
            "bdata": "cAGqAXIC8QDtAMQA1QAHAnYBGgKmAvsC/wP+A24BfAGMAYcBXQE+AasBewJhA9EGNwaBBE8DbAI=",
            "dtype": "i2"
           }
          }
         ]
        },
        {
         "data": [
          {
           "type": "scatter",
           "x": [
            "1980",
            "1981",
            "1982",
            "1983",
            "1984",
            "1985",
            "1986",
            "1987",
            "1988",
            "1989",
            "1990",
            "1991",
            "1992",
            "1993",
            "1994",
            "1995",
            "1996",
            "1997",
            "1998",
            "1999",
            "2000",
            "2001",
            "2002",
            "2003",
            "2004",
            "2005",
            "2006",
            "2007",
            "2008"
           ],
           "y": {
            "bdata": "0wDcAMAAiwCRAIIAzQD0AIoBigKKAm0DKgRiAzYCPAJKAk8CEwJyAk0DTwPpAkcDlQPJA50E0gZaCA==",
            "dtype": "i2"
           }
          },
          {
           "type": "scatter",
           "x": [
            "1980",
            "1981",
            "1982",
            "1983",
            "1984",
            "1985",
            "1986",
            "1987",
            "1988",
            "1989",
            "1990",
            "1991",
            "1992",
            "1993",
            "1994",
            "1995",
            "1996",
            "1997",
            "1998",
            "1999",
            "2000",
            "2001",
            "2002",
            "2003",
            "2004",
            "2005",
            "2006",
            "2007",
            "2008"
           ],
           "y": {
            "bdata": "cAGqAXIC8QDtAMQA1QAHAnYBGgKmAvsC/wP+A24BfAGMAYcBXQE+AasBewJhA9EGNwaBBE8DbAIcAg==",
            "dtype": "i2"
           }
          }
         ]
        },
        {
         "data": [
          {
           "type": "scatter",
           "x": [
            "1980",
            "1981",
            "1982",
            "1983",
            "1984",
            "1985",
            "1986",
            "1987",
            "1988",
            "1989",
            "1990",
            "1991",
            "1992",
            "1993",
            "1994",
            "1995",
            "1996",
            "1997",
            "1998",
            "1999",
            "2000",
            "2001",
            "2002",
            "2003",
            "2004",
            "2005",
            "2006",
            "2007",
            "2008",
            "2009"
           ],
           "y": {
            "bdata": "0wDcAMAAiwCRAIIAzQD0AIoBigKKAm0DKgRiAzYCPAJKAk8CEwJyAk0DTwPpAkcDlQPJA50E0gZaCM0J",
            "dtype": "i2"
           }
          },
          {
           "type": "scatter",
           "x": [
            "1980",
            "1981",
            "1982",
            "1983",
            "1984",
            "1985",
            "1986",
            "1987",
            "1988",
            "1989",
            "1990",
            "1991",
            "1992",
            "1993",
            "1994",
            "1995",
            "1996",
            "1997",
            "1998",
            "1999",
            "2000",
            "2001",
            "2002",
            "2003",
            "2004",
            "2005",
            "2006",
            "2007",
            "2008",
            "2009"
           ],
           "y": {
            "bdata": "cAGqAXIC8QDtAMQA1QAHAnYBGgKmAvsC/wP+A24BfAGMAYcBXQE+AasBewJhA9EGNwaBBE8DbAIcAtMB",
            "dtype": "i2"
           }
          }
         ]
        },
        {
         "data": [
          {
           "type": "scatter",
           "x": [
            "1980",
            "1981",
            "1982",
            "1983",
            "1984",
            "1985",
            "1986",
            "1987",
            "1988",
            "1989",
            "1990",
            "1991",
            "1992",
            "1993",
            "1994",
            "1995",
            "1996",
            "1997",
            "1998",
            "1999",
            "2000",
            "2001",
            "2002",
            "2003",
            "2004",
            "2005",
            "2006",
            "2007",
            "2008",
            "2009",
            "2010"
           ],
           "y": {
            "bdata": "0wDcAMAAiwCRAIIAzQD0AIoBigKKAm0DKgRiAzYCPAJKAk8CEwJyAk0DTwPpAkcDlQPJA50E0gZaCM0JJgo=",
            "dtype": "i2"
           }
          },
          {
           "type": "scatter",
           "x": [
            "1980",
            "1981",
            "1982",
            "1983",
            "1984",
            "1985",
            "1986",
            "1987",
            "1988",
            "1989",
            "1990",
            "1991",
            "1992",
            "1993",
            "1994",
            "1995",
            "1996",
            "1997",
            "1998",
            "1999",
            "2000",
            "2001",
            "2002",
            "2003",
            "2004",
            "2005",
            "2006",
            "2007",
            "2008",
            "2009",
            "2010"
           ],
           "y": {
            "bdata": "cAGqAXIC8QDtAMQA1QAHAnYBGgKmAvsC/wP+A24BfAGMAYcBXQE+AasBewJhA9EGNwaBBE8DbAIcAtMBywE=",
            "dtype": "i2"
           }
          }
         ]
        },
        {
         "data": [
          {
           "type": "scatter",
           "x": [
            "1980",
            "1981",
            "1982",
            "1983",
            "1984",
            "1985",
            "1986",
            "1987",
            "1988",
            "1989",
            "1990",
            "1991",
            "1992",
            "1993",
            "1994",
            "1995",
            "1996",
            "1997",
            "1998",
            "1999",
            "2000",
            "2001",
            "2002",
            "2003",
            "2004",
            "2005",
            "2006",
            "2007",
            "2008",
            "2009",
            "2010",
            "2011"
           ],
           "y": {
            "bdata": "0wDcAMAAiwCRAIIAzQD0AIoBigKKAm0DKgRiAzYCPAJKAk8CEwJyAk0DTwPpAkcDlQPJA50E0gZaCM0JJgrkBQ==",
            "dtype": "i2"
           }
          },
          {
           "type": "scatter",
           "x": [
            "1980",
            "1981",
            "1982",
            "1983",
            "1984",
            "1985",
            "1986",
            "1987",
            "1988",
            "1989",
            "1990",
            "1991",
            "1992",
            "1993",
            "1994",
            "1995",
            "1996",
            "1997",
            "1998",
            "1999",
            "2000",
            "2001",
            "2002",
            "2003",
            "2004",
            "2005",
            "2006",
            "2007",
            "2008",
            "2009",
            "2010",
            "2011"
           ],
           "y": {
            "bdata": "cAGqAXIC8QDtAMQA1QAHAnYBGgKmAvsC/wP+A24BfAGMAYcBXQE+AasBewJhA9EGNwaBBE8DbAIcAtMBywEWAQ==",
            "dtype": "i2"
           }
          }
         ]
        },
        {
         "data": [
          {
           "type": "scatter",
           "x": [
            "1980",
            "1981",
            "1982",
            "1983",
            "1984",
            "1985",
            "1986",
            "1987",
            "1988",
            "1989",
            "1990",
            "1991",
            "1992",
            "1993",
            "1994",
            "1995",
            "1996",
            "1997",
            "1998",
            "1999",
            "2000",
            "2001",
            "2002",
            "2003",
            "2004",
            "2005",
            "2006",
            "2007",
            "2008",
            "2009",
            "2010",
            "2011",
            "2012"
           ],
           "y": {
            "bdata": "0wDcAMAAiwCRAIIAzQD0AIoBigKKAm0DKgRiAzYCPAJKAk8CEwJyAk0DTwPpAkcDlQPJA50E0gZaCM0JJgrkBWoG",
            "dtype": "i2"
           }
          },
          {
           "type": "scatter",
           "x": [
            "1980",
            "1981",
            "1982",
            "1983",
            "1984",
            "1985",
            "1986",
            "1987",
            "1988",
            "1989",
            "1990",
            "1991",
            "1992",
            "1993",
            "1994",
            "1995",
            "1996",
            "1997",
            "1998",
            "1999",
            "2000",
            "2001",
            "2002",
            "2003",
            "2004",
            "2005",
            "2006",
            "2007",
            "2008",
            "2009",
            "2010",
            "2011",
            "2012"
           ],
           "y": {
            "bdata": "cAGqAXIC8QDtAMQA1QAHAnYBGgKmAvsC/wP+A24BfAGMAYcBXQE+AasBewJhA9EGNwaBBE8DbAIcAtMBywEWAQcB",
            "dtype": "i2"
           }
          }
         ]
        },
        {
         "data": [
          {
           "type": "scatter",
           "x": [
            "1980",
            "1981",
            "1982",
            "1983",
            "1984",
            "1985",
            "1986",
            "1987",
            "1988",
            "1989",
            "1990",
            "1991",
            "1992",
            "1993",
            "1994",
            "1995",
            "1996",
            "1997",
            "1998",
            "1999",
            "2000",
            "2001",
            "2002",
            "2003",
            "2004",
            "2005",
            "2006",
            "2007",
            "2008",
            "2009",
            "2010",
            "2011",
            "2012",
            "2013"
           ],
           "y": {
            "bdata": "0wDcAMAAiwCRAIIAzQD0AIoBigKKAm0DKgRiAzYCPAJKAk8CEwJyAk0DTwPpAkcDlQPJA50E0gZaCM0JJgrkBWoGsgY=",
            "dtype": "i2"
           }
          },
          {
           "type": "scatter",
           "x": [
            "1980",
            "1981",
            "1982",
            "1983",
            "1984",
            "1985",
            "1986",
            "1987",
            "1988",
            "1989",
            "1990",
            "1991",
            "1992",
            "1993",
            "1994",
            "1995",
            "1996",
            "1997",
            "1998",
            "1999",
            "2000",
            "2001",
            "2002",
            "2003",
            "2004",
            "2005",
            "2006",
            "2007",
            "2008",
            "2009",
            "2010",
            "2011",
            "2012",
            "2013"
           ],
           "y": {
            "bdata": "cAGqAXIC8QDtAMQA1QAHAnYBGgKmAvsC/wP+A24BfAGMAYcBXQE+AasBewJhA9EGNwaBBE8DbAIcAtMBywEWAQcBGgE=",
            "dtype": "i2"
           }
          }
         ]
        }
       ],
       "layout": {
        "height": 600,
        "template": {
         "data": {
          "bar": [
           {
            "error_x": {
             "color": "#2a3f5f"
            },
            "error_y": {
             "color": "#2a3f5f"
            },
            "marker": {
             "line": {
              "color": "#E5ECF6",
              "width": 0.5
             },
             "pattern": {
              "fillmode": "overlay",
              "size": 10,
              "solidity": 0.2
             }
            },
            "type": "bar"
           }
          ],
          "barpolar": [
           {
            "marker": {
             "line": {
              "color": "#E5ECF6",
              "width": 0.5
             },
             "pattern": {
              "fillmode": "overlay",
              "size": 10,
              "solidity": 0.2
             }
            },
            "type": "barpolar"
           }
          ],
          "carpet": [
           {
            "aaxis": {
             "endlinecolor": "#2a3f5f",
             "gridcolor": "white",
             "linecolor": "white",
             "minorgridcolor": "white",
             "startlinecolor": "#2a3f5f"
            },
            "baxis": {
             "endlinecolor": "#2a3f5f",
             "gridcolor": "white",
             "linecolor": "white",
             "minorgridcolor": "white",
             "startlinecolor": "#2a3f5f"
            },
            "type": "carpet"
           }
          ],
          "choropleth": [
           {
            "colorbar": {
             "outlinewidth": 0,
             "ticks": ""
            },
            "type": "choropleth"
           }
          ],
          "contour": [
           {
            "colorbar": {
             "outlinewidth": 0,
             "ticks": ""
            },
            "colorscale": [
             [
              0,
              "#0d0887"
             ],
             [
              0.1111111111111111,
              "#46039f"
             ],
             [
              0.2222222222222222,
              "#7201a8"
             ],
             [
              0.3333333333333333,
              "#9c179e"
             ],
             [
              0.4444444444444444,
              "#bd3786"
             ],
             [
              0.5555555555555556,
              "#d8576b"
             ],
             [
              0.6666666666666666,
              "#ed7953"
             ],
             [
              0.7777777777777778,
              "#fb9f3a"
             ],
             [
              0.8888888888888888,
              "#fdca26"
             ],
             [
              1,
              "#f0f921"
             ]
            ],
            "type": "contour"
           }
          ],
          "contourcarpet": [
           {
            "colorbar": {
             "outlinewidth": 0,
             "ticks": ""
            },
            "type": "contourcarpet"
           }
          ],
          "heatmap": [
           {
            "colorbar": {
             "outlinewidth": 0,
             "ticks": ""
            },
            "colorscale": [
             [
              0,
              "#0d0887"
             ],
             [
              0.1111111111111111,
              "#46039f"
             ],
             [
              0.2222222222222222,
              "#7201a8"
             ],
             [
              0.3333333333333333,
              "#9c179e"
             ],
             [
              0.4444444444444444,
              "#bd3786"
             ],
             [
              0.5555555555555556,
              "#d8576b"
             ],
             [
              0.6666666666666666,
              "#ed7953"
             ],
             [
              0.7777777777777778,
              "#fb9f3a"
             ],
             [
              0.8888888888888888,
              "#fdca26"
             ],
             [
              1,
              "#f0f921"
             ]
            ],
            "type": "heatmap"
           }
          ],
          "histogram": [
           {
            "marker": {
             "pattern": {
              "fillmode": "overlay",
              "size": 10,
              "solidity": 0.2
             }
            },
            "type": "histogram"
           }
          ],
          "histogram2d": [
           {
            "colorbar": {
             "outlinewidth": 0,
             "ticks": ""
            },
            "colorscale": [
             [
              0,
              "#0d0887"
             ],
             [
              0.1111111111111111,
              "#46039f"
             ],
             [
              0.2222222222222222,
              "#7201a8"
             ],
             [
              0.3333333333333333,
              "#9c179e"
             ],
             [
              0.4444444444444444,
              "#bd3786"
             ],
             [
              0.5555555555555556,
              "#d8576b"
             ],
             [
              0.6666666666666666,
              "#ed7953"
             ],
             [
              0.7777777777777778,
              "#fb9f3a"
             ],
             [
              0.8888888888888888,
              "#fdca26"
             ],
             [
              1,
              "#f0f921"
             ]
            ],
            "type": "histogram2d"
           }
          ],
          "histogram2dcontour": [
           {
            "colorbar": {
             "outlinewidth": 0,
             "ticks": ""
            },
            "colorscale": [
             [
              0,
              "#0d0887"
             ],
             [
              0.1111111111111111,
              "#46039f"
             ],
             [
              0.2222222222222222,
              "#7201a8"
             ],
             [
              0.3333333333333333,
              "#9c179e"
             ],
             [
              0.4444444444444444,
              "#bd3786"
             ],
             [
              0.5555555555555556,
              "#d8576b"
             ],
             [
              0.6666666666666666,
              "#ed7953"
             ],
             [
              0.7777777777777778,
              "#fb9f3a"
             ],
             [
              0.8888888888888888,
              "#fdca26"
             ],
             [
              1,
              "#f0f921"
             ]
            ],
            "type": "histogram2dcontour"
           }
          ],
          "mesh3d": [
           {
            "colorbar": {
             "outlinewidth": 0,
             "ticks": ""
            },
            "type": "mesh3d"
           }
          ],
          "parcoords": [
           {
            "line": {
             "colorbar": {
              "outlinewidth": 0,
              "ticks": ""
             }
            },
            "type": "parcoords"
           }
          ],
          "pie": [
           {
            "automargin": true,
            "type": "pie"
           }
          ],
          "scatter": [
           {
            "fillpattern": {
             "fillmode": "overlay",
             "size": 10,
             "solidity": 0.2
            },
            "type": "scatter"
           }
          ],
          "scatter3d": [
           {
            "line": {
             "colorbar": {
              "outlinewidth": 0,
              "ticks": ""
             }
            },
            "marker": {
             "colorbar": {
              "outlinewidth": 0,
              "ticks": ""
             }
            },
            "type": "scatter3d"
           }
          ],
          "scattercarpet": [
           {
            "marker": {
             "colorbar": {
              "outlinewidth": 0,
              "ticks": ""
             }
            },
            "type": "scattercarpet"
           }
          ],
          "scattergeo": [
           {
            "marker": {
             "colorbar": {
              "outlinewidth": 0,
              "ticks": ""
             }
            },
            "type": "scattergeo"
           }
          ],
          "scattergl": [
           {
            "marker": {
             "colorbar": {
              "outlinewidth": 0,
              "ticks": ""
             }
            },
            "type": "scattergl"
           }
          ],
          "scattermap": [
           {
            "marker": {
             "colorbar": {
              "outlinewidth": 0,
              "ticks": ""
             }
            },
            "type": "scattermap"
           }
          ],
          "scattermapbox": [
           {
            "marker": {
             "colorbar": {
              "outlinewidth": 0,
              "ticks": ""
             }
            },
            "type": "scattermapbox"
           }
          ],
          "scatterpolar": [
           {
            "marker": {
             "colorbar": {
              "outlinewidth": 0,
              "ticks": ""
             }
            },
            "type": "scatterpolar"
           }
          ],
          "scatterpolargl": [
           {
            "marker": {
             "colorbar": {
              "outlinewidth": 0,
              "ticks": ""
             }
            },
            "type": "scatterpolargl"
           }
          ],
          "scatterternary": [
           {
            "marker": {
             "colorbar": {
              "outlinewidth": 0,
              "ticks": ""
             }
            },
            "type": "scatterternary"
           }
          ],
          "surface": [
           {
            "colorbar": {
             "outlinewidth": 0,
             "ticks": ""
            },
            "colorscale": [
             [
              0,
              "#0d0887"
             ],
             [
              0.1111111111111111,
              "#46039f"
             ],
             [
              0.2222222222222222,
              "#7201a8"
             ],
             [
              0.3333333333333333,
              "#9c179e"
             ],
             [
              0.4444444444444444,
              "#bd3786"
             ],
             [
              0.5555555555555556,
              "#d8576b"
             ],
             [
              0.6666666666666666,
              "#ed7953"
             ],
             [
              0.7777777777777778,
              "#fb9f3a"
             ],
             [
              0.8888888888888888,
              "#fdca26"
             ],
             [
              1,
              "#f0f921"
             ]
            ],
            "type": "surface"
           }
          ],
          "table": [
           {
            "cells": {
             "fill": {
              "color": "#EBF0F8"
             },
             "line": {
              "color": "white"
             }
            },
            "header": {
             "fill": {
              "color": "#C8D4E3"
             },
             "line": {
              "color": "white"
             }
            },
            "type": "table"
           }
          ]
         },
         "layout": {
          "annotationdefaults": {
           "arrowcolor": "#2a3f5f",
           "arrowhead": 0,
           "arrowwidth": 1
          },
          "autotypenumbers": "strict",
          "coloraxis": {
           "colorbar": {
            "outlinewidth": 0,
            "ticks": ""
           }
          },
          "colorscale": {
           "diverging": [
            [
             0,
             "#8e0152"
            ],
            [
             0.1,
             "#c51b7d"
            ],
            [
             0.2,
             "#de77ae"
            ],
            [
             0.3,
             "#f1b6da"
            ],
            [
             0.4,
             "#fde0ef"
            ],
            [
             0.5,
             "#f7f7f7"
            ],
            [
             0.6,
             "#e6f5d0"
            ],
            [
             0.7,
             "#b8e186"
            ],
            [
             0.8,
             "#7fbc41"
            ],
            [
             0.9,
             "#4d9221"
            ],
            [
             1,
             "#276419"
            ]
           ],
           "sequential": [
            [
             0,
             "#0d0887"
            ],
            [
             0.1111111111111111,
             "#46039f"
            ],
            [
             0.2222222222222222,
             "#7201a8"
            ],
            [
             0.3333333333333333,
             "#9c179e"
            ],
            [
             0.4444444444444444,
             "#bd3786"
            ],
            [
             0.5555555555555556,
             "#d8576b"
            ],
            [
             0.6666666666666666,
             "#ed7953"
            ],
            [
             0.7777777777777778,
             "#fb9f3a"
            ],
            [
             0.8888888888888888,
             "#fdca26"
            ],
            [
             1,
             "#f0f921"
            ]
           ],
           "sequentialminus": [
            [
             0,
             "#0d0887"
            ],
            [
             0.1111111111111111,
             "#46039f"
            ],
            [
             0.2222222222222222,
             "#7201a8"
            ],
            [
             0.3333333333333333,
             "#9c179e"
            ],
            [
             0.4444444444444444,
             "#bd3786"
            ],
            [
             0.5555555555555556,
             "#d8576b"
            ],
            [
             0.6666666666666666,
             "#ed7953"
            ],
            [
             0.7777777777777778,
             "#fb9f3a"
            ],
            [
             0.8888888888888888,
             "#fdca26"
            ],
            [
             1,
             "#f0f921"
            ]
           ]
          },
          "colorway": [
           "#636efa",
           "#EF553B",
           "#00cc96",
           "#ab63fa",
           "#FFA15A",
           "#19d3f3",
           "#FF6692",
           "#B6E880",
           "#FF97FF",
           "#FECB52"
          ],
          "font": {
           "color": "#2a3f5f"
          },
          "geo": {
           "bgcolor": "white",
           "lakecolor": "white",
           "landcolor": "#E5ECF6",
           "showlakes": true,
           "showland": true,
           "subunitcolor": "white"
          },
          "hoverlabel": {
           "align": "left"
          },
          "hovermode": "closest",
          "mapbox": {
           "style": "light"
          },
          "paper_bgcolor": "white",
          "plot_bgcolor": "#E5ECF6",
          "polar": {
           "angularaxis": {
            "gridcolor": "white",
            "linecolor": "white",
            "ticks": ""
           },
           "bgcolor": "#E5ECF6",
           "radialaxis": {
            "gridcolor": "white",
            "linecolor": "white",
            "ticks": ""
           }
          },
          "scene": {
           "xaxis": {
            "backgroundcolor": "#E5ECF6",
            "gridcolor": "white",
            "gridwidth": 2,
            "linecolor": "white",
            "showbackground": true,
            "ticks": "",
            "zerolinecolor": "white"
           },
           "yaxis": {
            "backgroundcolor": "#E5ECF6",
            "gridcolor": "white",
            "gridwidth": 2,
            "linecolor": "white",
            "showbackground": true,
            "ticks": "",
            "zerolinecolor": "white"
           },
           "zaxis": {
            "backgroundcolor": "#E5ECF6",
            "gridcolor": "white",
            "gridwidth": 2,
            "linecolor": "white",
            "showbackground": true,
            "ticks": "",
            "zerolinecolor": "white"
           }
          },
          "shapedefaults": {
           "line": {
            "color": "#2a3f5f"
           }
          },
          "ternary": {
           "aaxis": {
            "gridcolor": "white",
            "linecolor": "white",
            "ticks": ""
           },
           "baxis": {
            "gridcolor": "white",
            "linecolor": "white",
            "ticks": ""
           },
           "bgcolor": "#E5ECF6",
           "caxis": {
            "gridcolor": "white",
            "linecolor": "white",
            "ticks": ""
           }
          },
          "title": {
           "x": 0.05
          },
          "xaxis": {
           "automargin": true,
           "gridcolor": "white",
           "linecolor": "white",
           "ticks": "",
           "title": {
            "standoff": 15
           },
           "zerolinecolor": "white",
           "zerolinewidth": 2
          },
          "yaxis": {
           "automargin": true,
           "gridcolor": "white",
           "linecolor": "white",
           "ticks": "",
           "title": {
            "standoff": 15
           },
           "zerolinecolor": "white",
           "zerolinewidth": 2
          }
         }
        },
        "title": {
         "font": {
          "size": 18
         },
         "text": "<b>Imigração do Brasil e da Argentina para o Canadá no período de 1980 a 2013",
         "x": 0.1
        },
        "updatemenus": [
         {
          "buttons": [
           {
            "args": [
             null,
             {
              "frame": {
               "duration": 100,
               "redraw": true
              },
              "fromcurrent": true
             }
            ],
            "label": "Play",
            "method": "animate"
           }
          ],
          "showactive": false,
          "type": "buttons"
         }
        ],
        "width": 1200,
        "xaxis": {
         "autorange": false,
         "range": [
          1980,
          2013
         ],
         "title": {
          "text": "<b>Ano</b>"
         }
        },
        "yaxis": {
         "autorange": false,
         "range": [
          0,
          3000
         ],
         "title": {
          "text": "<b>Número de imigrantes</b>"
         }
        }
       }
      }
     },
     "metadata": {},
     "output_type": "display_data"
    }
   ],
   "source": [
    "import plotly.graph_objs as go\n",
    "\n",
    "fig = go.Figure()\n",
    "\n",
    "fig.add_trace(\n",
    "    go.Scatter(x=[dados_brasil['ano'].iloc[0]], y=[dados_brasil['imigrantes'].iloc[0]], mode='lines', name='Imigrantes do Brasil', line=dict(width=4))\n",
    ")\n",
    "\n",
    "fig.add_trace(\n",
    "    go.Scatter(x=[dados_argentina['ano'].iloc[0]], y=[dados_argentina['imigrantes'].iloc[0]], mode='lines', name='Imigrantes da Argentina', line=dict(width=4))\n",
    ")\n",
    "\n",
    "fig.update_layout(\n",
    "    title=dict(\n",
    "        text='<b>Imigração do Brasil e da Argentina para o Canadá no período de 1980 a 2013',\n",
    "        x=0.1,\n",
    "\n",
    "        font=dict(size=18)\n",
    "    ),\n",
    "    xaxis=dict(range=[1980, 2013], autorange=False, title='<b>Ano</b>'),\n",
    "    yaxis=dict(range=[0, 3000], autorange=False, title='<b>Número de imigrantes</b>'),\n",
    "    updatemenus=[dict(\n",
    "        type='buttons',\n",
    "        showactive=False,\n",
    "        buttons=[dict(\n",
    "            label='Play',\n",
    "            method='animate',\n",
    "            args=[None, {'frame': {'duration': 100, 'redraw': True}, 'fromcurrent': True}]\n",
    "        )]\n",
    "    )],\n",
    "    width=1200,\n",
    "    height=600\n",
    ")\n",
    "\n",
    "frames = []\n",
    "for i in range(len(dados_brasil)):\n",
    "    frame_data = [\n",
    "        go.Scatter(x=dados_brasil['ano'].iloc[:i+1], y=dados_brasil['imigrantes'].iloc[:i+1]),\n",
    "        go.Scatter(x=dados_argentina['ano'].iloc[:i+1], y=dados_argentina['imigrantes'].iloc[:i+1])\n",
    "    ]\n",
    "    frame = go.Frame(data=frame_data)\n",
    "    frames.append(frame)\n",
    "fig.frames = frames\n",
    "\n",
    "fig.show()"
   ]
  }
 ],
 "metadata": {
  "kernelspec": {
   "display_name": ".venv",
   "language": "python",
   "name": "python3"
  },
  "language_info": {
   "codemirror_mode": {
    "name": "ipython",
    "version": 3
   },
   "file_extension": ".py",
   "mimetype": "text/x-python",
   "name": "python",
   "nbconvert_exporter": "python",
   "pygments_lexer": "ipython3",
   "version": "3.13.2"
  }
 },
 "nbformat": 4,
 "nbformat_minor": 5
}
